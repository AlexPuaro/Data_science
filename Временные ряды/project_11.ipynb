{
 "cells": [
  {
   "cell_type": "markdown",
   "metadata": {},
   "source": [
    "#  Прогнозирование заказов такси"
   ]
  },
  {
   "cell_type": "markdown",
   "metadata": {},
   "source": [
    "**Описание исследования**\n",
    "\n",
    "Компания «Чётенькое такси» собрала исторические данные о заказах такси в аэропортах. Чтобы привлекать больше водителей в период пиковой нагрузки, нужно спрогнозировать количество заказов такси на следующий час.\n",
    "\n",
    "\n",
    "\n",
    "**Цель исследования**\n",
    "\n",
    "Спрогнозировать количество заказов такси на следующий час.\n",
    "\n",
    "**Задача исследования**\n",
    "\n",
    "Обучить разные модели и выбрать лучшую модель для прогнозирования заказов такси.\n",
    "\n",
    "Построить модель со значением метрики *RMSE* не больше 48.\n",
    "\n",
    "**Описание данных**\n",
    "\n",
    "В CSV-файле столбец `num_orders` содержит количество заказов.\n",
    "\n",
    "**Данную задачу будем решать в четыре этапа:**\n",
    "\n",
    "1. Загрузим данные и выполним их ресемплирование по одному часу.\n",
    "2. Проанализируем данные.\n",
    "3. Обучим разные модели с различными гиперпараметрами. Сделаем тестовую выборку размером 10% от исходных данных.\n",
    "4. Проверим данные на тестовой выборке и сделаем выводы."
   ]
  },
  {
   "cell_type": "code",
   "execution_count": 1,
   "metadata": {},
   "outputs": [],
   "source": [
    "#загрузка библиотек\n",
    "import pandas as pd\n",
    "import numpy as np\n",
    "import matplotlib.pyplot as plt\n",
    "import seaborn as sns\n",
    "from statsmodels.tsa.seasonal import seasonal_decompose\n",
    "import statsmodels.tsa.stattools as sts\n",
    "\n",
    "from sklearn.model_selection import train_test_split, RandomizedSearchCV, TimeSeriesSplit\n",
    "from sklearn.pipeline import Pipeline\n",
    "from sklearn.compose import ColumnTransformer\n",
    "from sklearn.preprocessing import OrdinalEncoder, StandardScaler\n",
    "from sklearn.linear_model import Lasso, Ridge, ElasticNet\n",
    "from sklearn.dummy import DummyRegressor\n",
    "from sklearn.metrics import mean_squared_error\n",
    "\n",
    "RANDOM_STATE = 42\n",
    "TEST_SIZE = 0.25"
   ]
  },
  {
   "cell_type": "markdown",
   "metadata": {},
   "source": [
    "## Подготовка"
   ]
  },
  {
   "cell_type": "markdown",
   "metadata": {},
   "source": [
    "Загрузим данные:"
   ]
  },
  {
   "cell_type": "code",
   "execution_count": 2,
   "metadata": {},
   "outputs": [],
   "source": [
    "try:\n",
    "    taxi = pd.read_csv('/datasets/taxi.csv', index_col=['datetime'], parse_dates=['datetime'])\n",
    "except:\n",
    "    taxi = pd.read_csv('https://code.s3.yandex.net/datasets/taxi.csv', index_col=['datetime'], parse_dates=['datetime'])"
   ]
  },
  {
   "cell_type": "code",
   "execution_count": 3,
   "metadata": {},
   "outputs": [
    {
     "name": "stdout",
     "output_type": "stream",
     "text": [
      "<class 'pandas.core.frame.DataFrame'>\n",
      "DatetimeIndex: 26496 entries, 2018-03-01 00:00:00 to 2018-08-31 23:50:00\n",
      "Data columns (total 1 columns):\n",
      " #   Column      Non-Null Count  Dtype\n",
      "---  ------      --------------  -----\n",
      " 0   num_orders  26496 non-null  int64\n",
      "dtypes: int64(1)\n",
      "memory usage: 414.0 KB\n"
     ]
    },
    {
     "data": {
      "text/html": [
       "<div>\n",
       "<style scoped>\n",
       "    .dataframe tbody tr th:only-of-type {\n",
       "        vertical-align: middle;\n",
       "    }\n",
       "\n",
       "    .dataframe tbody tr th {\n",
       "        vertical-align: top;\n",
       "    }\n",
       "\n",
       "    .dataframe thead th {\n",
       "        text-align: right;\n",
       "    }\n",
       "</style>\n",
       "<table border=\"1\" class=\"dataframe\">\n",
       "  <thead>\n",
       "    <tr style=\"text-align: right;\">\n",
       "      <th></th>\n",
       "      <th>num_orders</th>\n",
       "    </tr>\n",
       "    <tr>\n",
       "      <th>datetime</th>\n",
       "      <th></th>\n",
       "    </tr>\n",
       "  </thead>\n",
       "  <tbody>\n",
       "    <tr>\n",
       "      <th>2018-03-01 00:00:00</th>\n",
       "      <td>9</td>\n",
       "    </tr>\n",
       "    <tr>\n",
       "      <th>2018-03-01 00:10:00</th>\n",
       "      <td>14</td>\n",
       "    </tr>\n",
       "    <tr>\n",
       "      <th>2018-03-01 00:20:00</th>\n",
       "      <td>28</td>\n",
       "    </tr>\n",
       "    <tr>\n",
       "      <th>2018-03-01 00:30:00</th>\n",
       "      <td>20</td>\n",
       "    </tr>\n",
       "    <tr>\n",
       "      <th>2018-03-01 00:40:00</th>\n",
       "      <td>32</td>\n",
       "    </tr>\n",
       "  </tbody>\n",
       "</table>\n",
       "</div>"
      ],
      "text/plain": [
       "                     num_orders\n",
       "datetime                       \n",
       "2018-03-01 00:00:00           9\n",
       "2018-03-01 00:10:00          14\n",
       "2018-03-01 00:20:00          28\n",
       "2018-03-01 00:30:00          20\n",
       "2018-03-01 00:40:00          32"
      ]
     },
     "execution_count": 3,
     "metadata": {},
     "output_type": "execute_result"
    }
   ],
   "source": [
    "taxi.info()\n",
    "taxi.head()"
   ]
  },
  {
   "cell_type": "markdown",
   "metadata": {},
   "source": [
    "Столбец с датами перенесли в индексы, отсортируем даты по возрастанию и выполним ресемплирование по одному часу:"
   ]
  },
  {
   "cell_type": "code",
   "execution_count": 4,
   "metadata": {},
   "outputs": [],
   "source": [
    "taxi.sort_index(inplace=True)\n",
    "taxi = taxi.resample('1H').sum()"
   ]
  },
  {
   "cell_type": "markdown",
   "metadata": {},
   "source": [
    "Проверяем индекс на монотонность"
   ]
  },
  {
   "cell_type": "code",
   "execution_count": 5,
   "metadata": {},
   "outputs": [
    {
     "data": {
      "text/plain": [
       "True"
      ]
     },
     "execution_count": 5,
     "metadata": {},
     "output_type": "execute_result"
    }
   ],
   "source": [
    "taxi.index.is_monotonic"
   ]
  },
  {
   "cell_type": "markdown",
   "metadata": {},
   "source": [
    "## Анализ"
   ]
  },
  {
   "cell_type": "markdown",
   "metadata": {},
   "source": [
    "Рассмотрим тренд и сезонность наших данных:"
   ]
  },
  {
   "cell_type": "code",
   "execution_count": 6,
   "metadata": {},
   "outputs": [
    {
     "data": {
      "image/png": "[encoded data removed]",
      "text/plain": [
       "<Figure size 600x800 with 3 Axes>"
      ]
     },
     "metadata": {},
     "output_type": "display_data"
    }
   ],
   "source": [
    "decomposed = seasonal_decompose(taxi)\n",
    "\n",
    "plt.figure(figsize=(6, 8))\n",
    "plt.subplot(311)\n",
    "decomposed.trend.plot(ax=plt.gca())\n",
    "plt.title('Тренд')\n",
    "plt.subplot(312)\n",
    "decomposed.seasonal.plot(ax=plt.gca())\n",
    "plt.title('Сезонность')\n",
    "plt.subplot(313)\n",
    "decomposed.resid.plot(ax=plt.gca())\n",
    "plt.title('Остатки')\n",
    "plt.tight_layout()"
   ]
  },
  {
   "cell_type": "markdown",
   "metadata": {},
   "source": [
    "С марта по август плавно увеличивалось количество заказов такси. А сезонность с периодом меньше месяца — исследуем её дальше. Остатки необъяснимы."
   ]
  },
  {
   "cell_type": "markdown",
   "metadata": {},
   "source": [
    "Рассмотрим сезонность в период за 2 дня:"
   ]
  },
  {
   "cell_type": "code",
   "execution_count": 7,
   "metadata": {},
   "outputs": [
    {
     "data": {
      "image/png": "[encoded data removed]",
      "text/plain": [
       "<Figure size 640x480 with 1 Axes>"
      ]
     },
     "metadata": {},
     "output_type": "display_data"
    }
   ],
   "source": [
    "decomposed.seasonal['2018-03-01':'2018-03-02'].plot();"
   ]
  },
  {
   "cell_type": "markdown",
   "metadata": {},
   "source": [
    "Наблюдаем три пика когда клиенты много заказывают такси: в 10 часов, в 17 часов и в полночь. Так же в 6 утра практически нет заказов такси."
   ]
  },
  {
   "cell_type": "markdown",
   "metadata": {},
   "source": [
    "Проверяем стационарность ряда (Расширенный тест Дики — Фуллера)\n",
    "\n",
    "Нулевая гипотеза: ряд не стационарен\n",
    "\n",
    "Альтернативная: ряд стационарен"
   ]
  },
  {
   "cell_type": "code",
   "execution_count": 8,
   "metadata": {},
   "outputs": [],
   "source": [
    "test_stat, p_val, _, _, crit_val, _ = sts.adfuller(taxi.num_orders)"
   ]
  },
  {
   "cell_type": "code",
   "execution_count": 9,
   "metadata": {},
   "outputs": [
    {
     "data": {
      "text/plain": [
       "-3.0689242890279536"
      ]
     },
     "execution_count": 9,
     "metadata": {},
     "output_type": "execute_result"
    }
   ],
   "source": [
    "test_stat"
   ]
  },
  {
   "cell_type": "code",
   "execution_count": 10,
   "metadata": {},
   "outputs": [
    {
     "data": {
      "text/plain": [
       "0.028940051402613094"
      ]
     },
     "execution_count": 10,
     "metadata": {},
     "output_type": "execute_result"
    }
   ],
   "source": [
    "p_val"
   ]
  },
  {
   "cell_type": "code",
   "execution_count": 11,
   "metadata": {},
   "outputs": [
    {
     "data": {
      "text/plain": [
       "{'1%': -3.431842162413052,\n",
       " '5%': -2.8621993540813637,\n",
       " '10%': -2.567120978470452}"
      ]
     },
     "execution_count": 11,
     "metadata": {},
     "output_type": "execute_result"
    }
   ],
   "source": [
    "crit_val"
   ]
  },
  {
   "cell_type": "markdown",
   "metadata": {},
   "source": [
    "p-значение меньше 0.05, значение статистики меньше критических на 5% и 10% уровнях значимости: нулевую гипотезу можно отвергнуть и признать ряд стационарным."
   ]
  },
  {
   "cell_type": "markdown",
   "metadata": {},
   "source": [
    "По результатам расширенного теста Дики-Фулера временной ряд будем считать стационарным."
   ]
  },
  {
   "cell_type": "markdown",
   "metadata": {},
   "source": [
    "## Обучение"
   ]
  },
  {
   "cell_type": "markdown",
   "metadata": {},
   "source": [
    "Обучим три линейные модели: Lasso, Ridge, ElasticNet. \n",
    "\n",
    "Для каждой модели подберем разные гиперпараметры. Для оценки качества моделей будем применять метрику RMSE, значение которой не должно превышать 48."
   ]
  },
  {
   "cell_type": "markdown",
   "metadata": {},
   "source": [
    "Для обучения нам необходимо добавить входные признаки, создадим их на основе информации из даты, добавив столбец с днем, часов и днем недели. Так же добавим столбцы с предыдущими значения за прошлые дни и столбец со скользящим средним, усреднять будем значения за каждый день."
   ]
  },
  {
   "cell_type": "code",
   "execution_count": 12,
   "metadata": {},
   "outputs": [],
   "source": [
    "def make_features(data, max_lag, rolling_mean_size):\n",
    "    data_new = data.copy()\n",
    "    data_new['day'] = data_new.index.day\n",
    "    data_new['hour'] = data_new.index.day\n",
    "    data_new['dayofweek'] = data_new.index.dayofweek\n",
    "    \n",
    "    for lag in range(24, (max_lag*24) + 1, 24):\n",
    "        data_new['lag_{}'.format(lag)] = data_new['num_orders'].shift(lag)\n",
    "\n",
    "    data_new['rolling_mean'] = data_new['num_orders'].shift().rolling(rolling_mean_size).mean()\n",
    "    \n",
    "    return data_new\n",
    "\n",
    "taxi_new = make_features(taxi, 6, 24)"
   ]
  },
  {
   "cell_type": "markdown",
   "metadata": {},
   "source": [
    "Размер тестовой выборки сделаем 10% от общего количества данных:"
   ]
  },
  {
   "cell_type": "code",
   "execution_count": 13,
   "metadata": {},
   "outputs": [
    {
     "name": "stdout",
     "output_type": "stream",
     "text": [
      "(3830, 11)\n",
      "(442, 11)\n"
     ]
    }
   ],
   "source": [
    "train, test = train_test_split(taxi_new, shuffle=False, test_size=0.1)\n",
    "train = train.dropna() \n",
    "print(train.shape)\n",
    "print(test.shape)"
   ]
  },
  {
   "cell_type": "code",
   "execution_count": 14,
   "metadata": {},
   "outputs": [],
   "source": [
    "X_train=train.drop(['num_orders'], axis=1)\n",
    "X_test=test.drop(['num_orders'], axis=1)\n",
    "y_train=train['num_orders']\n",
    "y_test=test['num_orders']\n",
    "\n",
    "num_columns = [x for x in taxi_new.columns if x.startswith('lag')] + ['rolling_mean'] #выбираем количественные значения\n",
    "\n",
    "data_preprocessor = ColumnTransformer(\n",
    "    [('num', StandardScaler(), num_columns)],\n",
    "    remainder='passthrough')\n",
    "\n",
    "pipe_final = Pipeline(\n",
    "    [('preprocessor', data_preprocessor),\n",
    "     ('models', Lasso(random_state=RANDOM_STATE))])"
   ]
  },
  {
   "cell_type": "code",
   "execution_count": 15,
   "metadata": {},
   "outputs": [],
   "source": [
    "param_distributions = [\n",
    "    {\n",
    "        'models': [Lasso(random_state=RANDOM_STATE)],\n",
    "        'models__alpha': range(1,6)\n",
    "    },\n",
    "    {\n",
    "        'models': [Ridge(random_state=RANDOM_STATE)],\n",
    "        'models__alpha': range(1,6)\n",
    "    },\n",
    "    {\n",
    "        'models': [ElasticNet(random_state=RANDOM_STATE)],\n",
    "        'models__alpha': range(1,6),\n",
    "        'models__l1_ratio': np.linspace(0, 1, num=10) #10 значений от 0 до 1\n",
    "        \n",
    "    }\n",
    "] \n",
    "randomized_search = RandomizedSearchCV(\n",
    "    pipe_final, \n",
    "    param_distributions=param_distributions, \n",
    "    scoring='neg_root_mean_squared_error', \n",
    "    random_state=RANDOM_STATE,\n",
    "    n_jobs=-1,\n",
    "    cv=TimeSeriesSplit()\n",
    ")\n",
    "randomized_search.fit(X_train, y_train);"
   ]
  },
  {
   "cell_type": "code",
   "execution_count": 16,
   "metadata": {},
   "outputs": [
    {
     "name": "stdout",
     "output_type": "stream",
     "text": [
      "Лучшая модель и её параметры:\n",
      " Pipeline(steps=[('preprocessor',\n",
      "                 ColumnTransformer(remainder='passthrough',\n",
      "                                   transformers=[('num', StandardScaler(),\n",
      "                                                  ['lag_24', 'lag_48', 'lag_72',\n",
      "                                                   'lag_96', 'lag_120',\n",
      "                                                   'lag_144',\n",
      "                                                   'rolling_mean'])])),\n",
      "                ('models', Lasso(alpha=1, random_state=42))])\n",
      "Метрика RMSE для лучшей модели: 24.123542230246095\n"
     ]
    }
   ],
   "source": [
    "print('Лучшая модель и её параметры:\\n', randomized_search.best_estimator_) \n",
    "\n",
    "y_test_pred = randomized_search.predict(X_test)\n",
    "print(f'Метрика RMSE для лучшей модели: {abs(randomized_search.best_score_)}')"
   ]
  },
  {
   "cell_type": "markdown",
   "metadata": {},
   "source": [
    "Лучшей моделью стала Lasso с параметром alpha=1. Метрика имеет хорошее значение."
   ]
  },
  {
   "cell_type": "markdown",
   "metadata": {},
   "source": [
    "## Тестирование"
   ]
  },
  {
   "cell_type": "markdown",
   "metadata": {},
   "source": [
    "Посмотрим на результаты других моделей:"
   ]
  },
  {
   "cell_type": "code",
   "execution_count": 17,
   "metadata": {},
   "outputs": [
    {
     "data": {
      "text/html": [
       "<div>\n",
       "<style scoped>\n",
       "    .dataframe tbody tr th:only-of-type {\n",
       "        vertical-align: middle;\n",
       "    }\n",
       "\n",
       "    .dataframe tbody tr th {\n",
       "        vertical-align: top;\n",
       "    }\n",
       "\n",
       "    .dataframe thead th {\n",
       "        text-align: right;\n",
       "    }\n",
       "</style>\n",
       "<table border=\"1\" class=\"dataframe\">\n",
       "  <thead>\n",
       "    <tr style=\"text-align: right;\">\n",
       "      <th></th>\n",
       "      <th>mean_test_score</th>\n",
       "      <th>mean_fit_time</th>\n",
       "      <th>mean_score_time</th>\n",
       "      <th>param_models</th>\n",
       "      <th>params</th>\n",
       "    </tr>\n",
       "  </thead>\n",
       "  <tbody>\n",
       "    <tr>\n",
       "      <th>0</th>\n",
       "      <td>24.123542</td>\n",
       "      <td>0.011968</td>\n",
       "      <td>0.004987</td>\n",
       "      <td>Lasso(alpha=1, random_state=42)</td>\n",
       "      <td>{'models__alpha': 1, 'models': Lasso(alpha=1, ...</td>\n",
       "    </tr>\n",
       "    <tr>\n",
       "      <th>1</th>\n",
       "      <td>24.232191</td>\n",
       "      <td>0.011968</td>\n",
       "      <td>0.004787</td>\n",
       "      <td>Ridge(random_state=42)</td>\n",
       "      <td>{'models__alpha': 1, 'models': Ridge(random_st...</td>\n",
       "    </tr>\n",
       "    <tr>\n",
       "      <th>4</th>\n",
       "      <td>24.544182</td>\n",
       "      <td>0.010173</td>\n",
       "      <td>0.004587</td>\n",
       "      <td>ElasticNet(random_state=42)</td>\n",
       "      <td>{'models__l1_ratio': 0.3333333333333333, 'mode...</td>\n",
       "    </tr>\n",
       "  </tbody>\n",
       "</table>\n",
       "</div>"
      ],
      "text/plain": [
       "   mean_test_score  mean_fit_time  mean_score_time  \\\n",
       "0        24.123542       0.011968         0.004987   \n",
       "1        24.232191       0.011968         0.004787   \n",
       "4        24.544182       0.010173         0.004587   \n",
       "\n",
       "                      param_models  \\\n",
       "0  Lasso(alpha=1, random_state=42)   \n",
       "1           Ridge(random_state=42)   \n",
       "4      ElasticNet(random_state=42)   \n",
       "\n",
       "                                              params  \n",
       "0  {'models__alpha': 1, 'models': Lasso(alpha=1, ...  \n",
       "1  {'models__alpha': 1, 'models': Ridge(random_st...  \n",
       "4  {'models__l1_ratio': 0.3333333333333333, 'mode...  "
      ]
     },
     "execution_count": 17,
     "metadata": {},
     "output_type": "execute_result"
    }
   ],
   "source": [
    "cv_results = pd.DataFrame(randomized_search.cv_results_)[['mean_test_score', 'mean_fit_time',\n",
    "                                                          'mean_score_time', 'param_models', 'params']]\n",
    "cv_results['mean_test_score'] = cv_results['mean_test_score'] *(-1)\n",
    "cv_results = cv_results.sort_values(by='mean_test_score')\n",
    "cv_results['param_models'] = cv_results['param_models'].astype('category')\n",
    "first = cv_results.groupby('param_models')['mean_test_score'].min()[0]\n",
    "second = cv_results.groupby('param_models')['mean_test_score'].min()[1]\n",
    "third = cv_results.groupby('param_models')['mean_test_score'].min()[2]\n",
    "ff = pd.concat([cv_results.query('mean_test_score == @first'),cv_results.query('mean_test_score == @second')])\n",
    "pd.concat([ff,cv_results.query('mean_test_score == @third')])"
   ]
  },
  {
   "cell_type": "markdown",
   "metadata": {},
   "source": [
    "Теперь проверим результат метрики для лучшей модели на тестовой выборке:"
   ]
  },
  {
   "cell_type": "code",
   "execution_count": 18,
   "metadata": {},
   "outputs": [
    {
     "name": "stdout",
     "output_type": "stream",
     "text": [
      "Метрика RMSE на тестовой выборке: 41.21685471113557\n"
     ]
    }
   ],
   "source": [
    "print(f'Метрика RMSE на тестовой выборке: {mean_squared_error(y_test, y_test_pred, squared=False)}')"
   ]
  },
  {
   "cell_type": "markdown",
   "metadata": {},
   "source": [
    "Модель показала себя хорошо, метрика на тестовой выборке < 48, поэтому по итогу оставляем модель Lasso с параметром alpha=1."
   ]
  },
  {
   "cell_type": "markdown",
   "metadata": {},
   "source": [
    "Сверим результат с метрикой для константной модели:"
   ]
  },
  {
   "cell_type": "code",
   "execution_count": 19,
   "metadata": {},
   "outputs": [
    {
     "name": "stdout",
     "output_type": "stream",
     "text": [
      "Метрика RMSE на тестовой выборке: 84.06620644726425\n"
     ]
    }
   ],
   "source": [
    "pipe_dummy = Pipeline([\n",
    "    ('preprocessor', data_preprocessor),\n",
    "    ('models', DummyRegressor())])\n",
    "pipe_dummy.fit(X_train, y_train) \n",
    "dummy_pred = pipe_dummy.predict(X_test)\n",
    "print(f'Метрика RMSE на тестовой выборке: {mean_squared_error(y_test, dummy_pred, squared=False)}') "
   ]
  },
  {
   "cell_type": "markdown",
   "metadata": {},
   "source": [
    "Результат метрики найденной нами модели гораздо лучше, чем результат константной модели."
   ]
  },
  {
   "cell_type": "code",
   "execution_count": 20,
   "metadata": {},
   "outputs": [],
   "source": [
    "df = pd.DataFrame(y_test_pred, index=y_test.index, columns=['num_orders_pred'])\n",
    "df2 = pd.DataFrame(y_test, index=y_test.index)\n",
    "new = pd.concat([df,df2])"
   ]
  },
  {
   "cell_type": "code",
   "execution_count": 21,
   "metadata": {},
   "outputs": [
    {
     "data": {
      "image/png": "[encoded data removed]",
      "text/plain": [
       "<Figure size 2000x1000 with 1 Axes>"
      ]
     },
     "metadata": {},
     "output_type": "display_data"
    }
   ],
   "source": [
    "plt.figure(figsize=(20, 10))\n",
    "sns.lineplot(data=new)\n",
    "plt.xlabel('Дата')\n",
    "plt.ylabel('Кол-во клиентов')\n",
    "plt.title('Сравнение прогноза с тестовыми данными');"
   ]
  },
  {
   "cell_type": "markdown",
   "metadata": {},
   "source": [
    "Наша модель не учитывает случаи резкого роста клиентов, как например пик в ночь между 19 и 20 августа. В остальном модель показывает довольно точные результаты."
   ]
  },
  {
   "cell_type": "markdown",
   "metadata": {},
   "source": [
    "## Общий вывод"
   ]
  },
  {
   "cell_type": "markdown",
   "metadata": {},
   "source": [
    "Компания «Чётенькое такси» собрала исторические данные о заказах такси в аэропортах. Чтобы привлекать больше водителей в период пиковой нагрузки, нужно было построить модель для предсказания количества заказов такси на следующий час.\n",
    "\n",
    "Данные лежат в файле taxi.csv. Количество заказов находится в столбце num_orders.\n",
    "\n",
    "Столбец с датами перенесли в индексы и выполнили ресемплирование по одному часу.\n",
    "\n",
    "В ходе анализа получили:\n",
    "- С марта по август плавно увеличивалось количество заказов такси. \n",
    "- Клиенты много заказывают такси в 10 часов, в 17 часов и в полночь. Так же в 6 утра практически нет заказов такси.\n",
    "\n",
    "Для прогнозирования мы обучали три линейные модели: Lasso, Ridge, ElasticNet, с разными гиперпараметрами. Для оценки качества моделей применяли метрику RMSE, значение которой не должно было превышать 48. Размер тестовой выборки составлял 10%.\n",
    "\n",
    "Для обучения мы добавили входные признаки с днем, часом и днем недели. Так же добавили столбцы с предыдущими значения за прошлые дни и столбец со скользящим средним, усредненным за каждый день.\n",
    "\n",
    "Лучшей моделью стала Lasso с параметром alpha = 1. Метрика RMSE имела хорошее значение на тренировочных данных = 24.\n",
    "На тестовой выборке метрика RMSE показала хорошее значение = 41, что меньше требуемого значения = 48.\n",
    "\n",
    "Результат метрики константной модели на тестовой выборке имела значение = 84, что подтвердило актуальность выбранной нами модели. \n",
    "\n",
    "Поэтому лучшей моделью для компании выбрали модель Lasso с параметром alpha = 1.\n",
    "\n",
    "Мы построили хорошую модель по прогнозированию часовой загруженности таксистов, которая будет устраивать компанию.\n",
    "Дополнительно можно рассмотреть другие входные признаки, и также другие модели."
   ]
  },
  {
   "cell_type": "code",
   "execution_count": null,
   "metadata": {},
   "outputs": [],
   "source": []
  }
 ],
 "metadata": {
  "ExecuteTimeLog": [
   {
    "duration": 391,
    "start_time": "2024-01-17T18:07:28.718Z"
   },
   {
    "duration": 135,
    "start_time": "2024-01-17T18:07:46.111Z"
   },
   {
    "duration": 12,
    "start_time": "2024-01-17T18:07:56.728Z"
   },
   {
    "duration": 14,
    "start_time": "2024-01-17T18:08:19.006Z"
   },
   {
    "duration": 64,
    "start_time": "2024-01-17T18:08:37.637Z"
   },
   {
    "duration": 45,
    "start_time": "2024-01-17T18:08:51.241Z"
   },
   {
    "duration": 10,
    "start_time": "2024-01-17T18:08:52.578Z"
   },
   {
    "duration": 49,
    "start_time": "2024-01-17T18:09:28.978Z"
   },
   {
    "duration": 6,
    "start_time": "2024-01-17T18:09:34.822Z"
   },
   {
    "duration": 6,
    "start_time": "2024-01-17T18:09:41.205Z"
   },
   {
    "duration": 43,
    "start_time": "2024-01-17T18:09:48.266Z"
   },
   {
    "duration": 10,
    "start_time": "2024-01-17T18:09:48.988Z"
   },
   {
    "duration": 2,
    "start_time": "2024-01-17T18:10:06.088Z"
   },
   {
    "duration": 7,
    "start_time": "2024-01-17T18:10:11.067Z"
   },
   {
    "duration": 45,
    "start_time": "2024-01-17T18:10:47.246Z"
   },
   {
    "duration": 6,
    "start_time": "2024-01-17T18:10:47.701Z"
   },
   {
    "duration": 12,
    "start_time": "2024-01-17T18:10:55.083Z"
   },
   {
    "duration": 9,
    "start_time": "2024-01-17T18:10:57.594Z"
   },
   {
    "duration": 80,
    "start_time": "2024-01-17T18:12:05.259Z"
   },
   {
    "duration": 44,
    "start_time": "2024-01-17T18:12:08.752Z"
   },
   {
    "duration": 9,
    "start_time": "2024-01-17T18:12:11.014Z"
   },
   {
    "duration": 6,
    "start_time": "2024-01-17T18:12:29.036Z"
   },
   {
    "duration": 48,
    "start_time": "2024-01-17T18:13:36.620Z"
   },
   {
    "duration": 4,
    "start_time": "2024-01-17T18:13:39.722Z"
   },
   {
    "duration": 7,
    "start_time": "2024-01-17T18:13:43.582Z"
   },
   {
    "duration": 48,
    "start_time": "2024-01-17T18:13:48.321Z"
   },
   {
    "duration": 7,
    "start_time": "2024-01-17T18:13:49.392Z"
   },
   {
    "duration": 45,
    "start_time": "2024-01-17T18:13:55.772Z"
   },
   {
    "duration": 6,
    "start_time": "2024-01-17T18:13:57.807Z"
   },
   {
    "duration": 48,
    "start_time": "2024-01-17T18:14:28.223Z"
   },
   {
    "duration": 7,
    "start_time": "2024-01-17T18:14:30.075Z"
   },
   {
    "duration": 50,
    "start_time": "2024-01-19T07:12:30.010Z"
   },
   {
    "duration": 448,
    "start_time": "2024-01-19T07:12:34.824Z"
   },
   {
    "duration": 126,
    "start_time": "2024-01-19T07:12:35.274Z"
   },
   {
    "duration": 14,
    "start_time": "2024-01-19T07:12:35.402Z"
   },
   {
    "duration": 697,
    "start_time": "2024-01-19T07:12:35.418Z"
   },
   {
    "duration": 13,
    "start_time": "2024-01-19T07:13:01.755Z"
   },
   {
    "duration": 5,
    "start_time": "2024-01-19T07:13:07.254Z"
   },
   {
    "duration": 254,
    "start_time": "2024-01-19T07:13:11.734Z"
   },
   {
    "duration": 292,
    "start_time": "2024-01-19T07:13:40.105Z"
   },
   {
    "duration": 230,
    "start_time": "2024-01-19T07:15:04.494Z"
   },
   {
    "duration": 227,
    "start_time": "2024-01-19T07:15:07.822Z"
   },
   {
    "duration": 238,
    "start_time": "2024-01-19T07:15:10.521Z"
   },
   {
    "duration": 226,
    "start_time": "2024-01-19T07:15:15.851Z"
   },
   {
    "duration": 514,
    "start_time": "2024-01-19T07:16:05.055Z"
   },
   {
    "duration": 3,
    "start_time": "2024-01-19T07:16:11.934Z"
   },
   {
    "duration": 811,
    "start_time": "2024-01-19T07:16:53.871Z"
   },
   {
    "duration": 119,
    "start_time": "2024-01-19T07:17:05.294Z"
   },
   {
    "duration": 791,
    "start_time": "2024-01-19T07:17:15.425Z"
   },
   {
    "duration": 739,
    "start_time": "2024-01-19T07:17:30.201Z"
   },
   {
    "duration": 725,
    "start_time": "2024-01-19T07:17:43.131Z"
   },
   {
    "duration": 299,
    "start_time": "2024-01-19T07:20:28.546Z"
   },
   {
    "duration": 186,
    "start_time": "2024-01-19T07:20:52.274Z"
   },
   {
    "duration": 151,
    "start_time": "2024-01-19T07:20:58.651Z"
   },
   {
    "duration": 148,
    "start_time": "2024-01-19T07:21:10.331Z"
   },
   {
    "duration": 12,
    "start_time": "2024-01-19T07:22:49.112Z"
   },
   {
    "duration": 256,
    "start_time": "2024-01-19T07:37:03.032Z"
   },
   {
    "duration": 1289,
    "start_time": "2024-01-19T07:37:59.535Z"
   },
   {
    "duration": 15,
    "start_time": "2024-01-19T07:38:32.465Z"
   },
   {
    "duration": 11,
    "start_time": "2024-01-19T07:39:48.816Z"
   },
   {
    "duration": 11,
    "start_time": "2024-01-19T07:40:43.166Z"
   },
   {
    "duration": 10,
    "start_time": "2024-01-19T07:40:48.136Z"
   },
   {
    "duration": 11,
    "start_time": "2024-01-19T07:41:03.778Z"
   },
   {
    "duration": 9,
    "start_time": "2024-01-19T07:41:05.726Z"
   },
   {
    "duration": 1433,
    "start_time": "2024-01-19T07:41:10.317Z"
   },
   {
    "duration": 57,
    "start_time": "2024-01-19T07:41:11.752Z"
   },
   {
    "duration": 12,
    "start_time": "2024-01-19T07:41:11.811Z"
   },
   {
    "duration": 736,
    "start_time": "2024-01-19T07:41:11.825Z"
   },
   {
    "duration": 162,
    "start_time": "2024-01-19T07:41:12.563Z"
   },
   {
    "duration": 14,
    "start_time": "2024-01-19T07:41:12.727Z"
   },
   {
    "duration": 18,
    "start_time": "2024-01-19T07:41:12.742Z"
   },
   {
    "duration": 15,
    "start_time": "2024-01-19T08:02:02.471Z"
   },
   {
    "duration": 5,
    "start_time": "2024-01-19T08:09:22.714Z"
   },
   {
    "duration": 52,
    "start_time": "2024-01-19T11:20:49.229Z"
   },
   {
    "duration": 6,
    "start_time": "2024-01-19T11:20:56.418Z"
   },
   {
    "duration": 1633,
    "start_time": "2024-01-19T11:21:01.529Z"
   },
   {
    "duration": 147,
    "start_time": "2024-01-19T11:21:03.164Z"
   },
   {
    "duration": 195,
    "start_time": "2024-01-19T11:21:03.313Z"
   },
   {
    "duration": 1457,
    "start_time": "2024-01-19T11:21:03.510Z"
   },
   {
    "duration": 170,
    "start_time": "2024-01-19T11:21:04.968Z"
   },
   {
    "duration": 104,
    "start_time": "2024-01-19T11:21:05.140Z"
   },
   {
    "duration": 39,
    "start_time": "2024-01-19T11:21:05.245Z"
   },
   {
    "duration": 15,
    "start_time": "2024-01-19T11:21:05.285Z"
   },
   {
    "duration": 134,
    "start_time": "2024-01-19T11:21:05.301Z"
   },
   {
    "duration": 0,
    "start_time": "2024-01-19T11:21:05.437Z"
   },
   {
    "duration": 10,
    "start_time": "2024-01-19T11:21:34.239Z"
   },
   {
    "duration": 5,
    "start_time": "2024-01-19T11:22:00.848Z"
   },
   {
    "duration": 4,
    "start_time": "2024-01-19T11:22:10.529Z"
   },
   {
    "duration": 4,
    "start_time": "2024-01-19T11:22:13.948Z"
   },
   {
    "duration": 4,
    "start_time": "2024-01-19T11:22:22.079Z"
   },
   {
    "duration": 4,
    "start_time": "2024-01-19T11:22:26.557Z"
   },
   {
    "duration": 5,
    "start_time": "2024-01-19T11:22:31.489Z"
   },
   {
    "duration": 4,
    "start_time": "2024-01-19T11:22:37.637Z"
   },
   {
    "duration": 14,
    "start_time": "2024-01-19T11:23:01.663Z"
   },
   {
    "duration": 15,
    "start_time": "2024-01-19T11:24:16.067Z"
   },
   {
    "duration": 5,
    "start_time": "2024-01-19T11:24:49.458Z"
   },
   {
    "duration": 8,
    "start_time": "2024-01-19T11:26:51.410Z"
   },
   {
    "duration": 5,
    "start_time": "2024-01-19T11:26:55.840Z"
   },
   {
    "duration": 4,
    "start_time": "2024-01-19T11:26:57.370Z"
   },
   {
    "duration": 61,
    "start_time": "2024-01-19T11:27:34.418Z"
   },
   {
    "duration": 1524,
    "start_time": "2024-01-19T11:29:04.784Z"
   },
   {
    "duration": 55,
    "start_time": "2024-01-19T11:29:06.310Z"
   },
   {
    "duration": 20,
    "start_time": "2024-01-19T11:29:06.367Z"
   },
   {
    "duration": 859,
    "start_time": "2024-01-19T11:29:06.388Z"
   },
   {
    "duration": 180,
    "start_time": "2024-01-19T11:29:07.250Z"
   },
   {
    "duration": 93,
    "start_time": "2024-01-19T11:29:07.431Z"
   },
   {
    "duration": 5,
    "start_time": "2024-01-19T11:29:07.526Z"
   },
   {
    "duration": 16,
    "start_time": "2024-01-19T11:29:07.532Z"
   },
   {
    "duration": 135,
    "start_time": "2024-01-19T11:29:07.549Z"
   },
   {
    "duration": 0,
    "start_time": "2024-01-19T11:29:07.685Z"
   },
   {
    "duration": 0,
    "start_time": "2024-01-19T11:29:07.691Z"
   },
   {
    "duration": 0,
    "start_time": "2024-01-19T11:29:07.692Z"
   },
   {
    "duration": 0,
    "start_time": "2024-01-19T11:29:07.693Z"
   },
   {
    "duration": 0,
    "start_time": "2024-01-19T11:29:07.694Z"
   },
   {
    "duration": 0,
    "start_time": "2024-01-19T11:29:07.696Z"
   },
   {
    "duration": 3,
    "start_time": "2024-01-19T11:29:32.358Z"
   },
   {
    "duration": 10,
    "start_time": "2024-01-19T11:29:38.400Z"
   },
   {
    "duration": 4,
    "start_time": "2024-01-19T11:30:39.568Z"
   },
   {
    "duration": 3,
    "start_time": "2024-01-19T11:30:43.872Z"
   },
   {
    "duration": 4,
    "start_time": "2024-01-19T11:30:45.242Z"
   },
   {
    "duration": 3,
    "start_time": "2024-01-19T11:30:46.804Z"
   },
   {
    "duration": 8730,
    "start_time": "2024-01-19T11:30:48.419Z"
   },
   {
    "duration": 1428,
    "start_time": "2024-01-19T11:31:04.739Z"
   },
   {
    "duration": 55,
    "start_time": "2024-01-19T11:31:06.169Z"
   },
   {
    "duration": 11,
    "start_time": "2024-01-19T11:31:06.226Z"
   },
   {
    "duration": 758,
    "start_time": "2024-01-19T11:31:06.239Z"
   },
   {
    "duration": 183,
    "start_time": "2024-01-19T11:31:06.998Z"
   },
   {
    "duration": 88,
    "start_time": "2024-01-19T11:31:07.191Z"
   },
   {
    "duration": 14,
    "start_time": "2024-01-19T11:31:07.281Z"
   },
   {
    "duration": 7,
    "start_time": "2024-01-19T11:31:07.296Z"
   },
   {
    "duration": 9,
    "start_time": "2024-01-19T11:31:07.305Z"
   },
   {
    "duration": 17,
    "start_time": "2024-01-19T11:31:07.316Z"
   },
   {
    "duration": 20,
    "start_time": "2024-01-19T11:31:07.334Z"
   },
   {
    "duration": 8565,
    "start_time": "2024-01-19T11:31:07.356Z"
   },
   {
    "duration": 0,
    "start_time": "2024-01-19T11:31:15.923Z"
   },
   {
    "duration": 0,
    "start_time": "2024-01-19T11:31:15.925Z"
   },
   {
    "duration": 0,
    "start_time": "2024-01-19T11:31:15.926Z"
   },
   {
    "duration": 1464,
    "start_time": "2024-01-19T11:31:49.633Z"
   },
   {
    "duration": 59,
    "start_time": "2024-01-19T11:31:51.099Z"
   },
   {
    "duration": 12,
    "start_time": "2024-01-19T11:31:51.160Z"
   },
   {
    "duration": 744,
    "start_time": "2024-01-19T11:31:51.173Z"
   },
   {
    "duration": 171,
    "start_time": "2024-01-19T11:31:51.920Z"
   },
   {
    "duration": 102,
    "start_time": "2024-01-19T11:31:52.093Z"
   },
   {
    "duration": 6,
    "start_time": "2024-01-19T11:31:52.196Z"
   },
   {
    "duration": 7,
    "start_time": "2024-01-19T11:31:52.204Z"
   },
   {
    "duration": 10,
    "start_time": "2024-01-19T11:31:52.213Z"
   },
   {
    "duration": 9,
    "start_time": "2024-01-19T11:31:52.225Z"
   },
   {
    "duration": 12,
    "start_time": "2024-01-19T11:31:52.236Z"
   },
   {
    "duration": 8940,
    "start_time": "2024-01-19T11:31:52.250Z"
   },
   {
    "duration": 0,
    "start_time": "2024-01-19T11:32:01.192Z"
   },
   {
    "duration": 0,
    "start_time": "2024-01-19T11:32:01.194Z"
   },
   {
    "duration": 0,
    "start_time": "2024-01-19T11:32:01.196Z"
   },
   {
    "duration": 1422,
    "start_time": "2024-01-19T11:32:39.748Z"
   },
   {
    "duration": 62,
    "start_time": "2024-01-19T11:32:41.172Z"
   },
   {
    "duration": 16,
    "start_time": "2024-01-19T11:32:41.236Z"
   },
   {
    "duration": 800,
    "start_time": "2024-01-19T11:32:41.253Z"
   },
   {
    "duration": 178,
    "start_time": "2024-01-19T11:32:42.054Z"
   },
   {
    "duration": 100,
    "start_time": "2024-01-19T11:32:42.233Z"
   },
   {
    "duration": 5,
    "start_time": "2024-01-19T11:32:42.334Z"
   },
   {
    "duration": 7,
    "start_time": "2024-01-19T11:32:42.341Z"
   },
   {
    "duration": 14,
    "start_time": "2024-01-19T11:32:42.350Z"
   },
   {
    "duration": 19,
    "start_time": "2024-01-19T11:32:42.366Z"
   },
   {
    "duration": 25,
    "start_time": "2024-01-19T11:32:42.387Z"
   },
   {
    "duration": 17783,
    "start_time": "2024-01-19T11:32:42.414Z"
   },
   {
    "duration": 94,
    "start_time": "2024-01-19T11:33:00.199Z"
   },
   {
    "duration": 4,
    "start_time": "2024-01-19T11:33:00.295Z"
   },
   {
    "duration": 1196,
    "start_time": "2024-01-19T11:33:00.300Z"
   },
   {
    "duration": 28,
    "start_time": "2024-01-19T11:33:23.327Z"
   },
   {
    "duration": 3,
    "start_time": "2024-01-19T11:34:10.467Z"
   },
   {
    "duration": 413,
    "start_time": "2024-01-19T11:34:11.682Z"
   },
   {
    "duration": 30,
    "start_time": "2024-01-19T11:37:09.983Z"
   },
   {
    "duration": 1230,
    "start_time": "2024-01-19T11:38:32.614Z"
   },
   {
    "duration": 20,
    "start_time": "2024-01-19T11:38:37.444Z"
   },
   {
    "duration": 4,
    "start_time": "2024-01-19T11:38:42.583Z"
   },
   {
    "duration": 6,
    "start_time": "2024-01-19T11:39:22.908Z"
   },
   {
    "duration": 4,
    "start_time": "2024-01-19T11:39:36.501Z"
   },
   {
    "duration": 3,
    "start_time": "2024-01-19T11:39:53.995Z"
   },
   {
    "duration": 20,
    "start_time": "2024-01-19T11:39:54.940Z"
   },
   {
    "duration": 3,
    "start_time": "2024-01-19T11:40:22.435Z"
   },
   {
    "duration": 280,
    "start_time": "2024-01-19T11:40:23.218Z"
   },
   {
    "duration": 1477,
    "start_time": "2024-01-19T11:40:31.222Z"
   },
   {
    "duration": 57,
    "start_time": "2024-01-19T11:40:32.702Z"
   },
   {
    "duration": 12,
    "start_time": "2024-01-19T11:40:32.761Z"
   },
   {
    "duration": 845,
    "start_time": "2024-01-19T11:40:32.776Z"
   },
   {
    "duration": 167,
    "start_time": "2024-01-19T11:40:33.624Z"
   },
   {
    "duration": 103,
    "start_time": "2024-01-19T11:40:33.793Z"
   },
   {
    "duration": 5,
    "start_time": "2024-01-19T11:40:33.899Z"
   },
   {
    "duration": 93,
    "start_time": "2024-01-19T11:40:33.906Z"
   },
   {
    "duration": 92,
    "start_time": "2024-01-19T11:40:34.001Z"
   },
   {
    "duration": 14,
    "start_time": "2024-01-19T11:40:34.094Z"
   },
   {
    "duration": 21,
    "start_time": "2024-01-19T11:40:34.109Z"
   },
   {
    "duration": 16560,
    "start_time": "2024-01-19T11:40:34.132Z"
   },
   {
    "duration": 17,
    "start_time": "2024-01-19T11:40:50.693Z"
   },
   {
    "duration": 32,
    "start_time": "2024-01-19T11:40:50.713Z"
   },
   {
    "duration": 14,
    "start_time": "2024-01-19T11:40:50.747Z"
   },
   {
    "duration": 46,
    "start_time": "2024-01-19T11:40:50.763Z"
   },
   {
    "duration": 394,
    "start_time": "2024-01-19T11:40:50.811Z"
   },
   {
    "duration": 4,
    "start_time": "2024-01-19T11:41:22.714Z"
   },
   {
    "duration": 278,
    "start_time": "2024-01-19T11:41:23.522Z"
   },
   {
    "duration": 4,
    "start_time": "2024-01-19T11:41:41.174Z"
   },
   {
    "duration": 3,
    "start_time": "2024-01-19T11:41:42.060Z"
   },
   {
    "duration": 21149,
    "start_time": "2024-01-19T11:41:42.953Z"
   },
   {
    "duration": 15,
    "start_time": "2024-01-19T11:42:06.728Z"
   },
   {
    "duration": 24,
    "start_time": "2024-01-19T11:42:12.920Z"
   },
   {
    "duration": 3,
    "start_time": "2024-01-19T11:42:22.103Z"
   },
   {
    "duration": 195,
    "start_time": "2024-01-19T11:42:22.802Z"
   },
   {
    "duration": 4,
    "start_time": "2024-01-19T11:42:54.374Z"
   },
   {
    "duration": 3,
    "start_time": "2024-01-19T11:42:55.253Z"
   },
   {
    "duration": 12457,
    "start_time": "2024-01-19T11:42:56.542Z"
   },
   {
    "duration": 16,
    "start_time": "2024-01-19T11:43:10.484Z"
   },
   {
    "duration": 24,
    "start_time": "2024-01-19T11:43:14.593Z"
   },
   {
    "duration": 4,
    "start_time": "2024-01-19T11:43:16.952Z"
   },
   {
    "duration": 4,
    "start_time": "2024-01-19T11:43:19.762Z"
   },
   {
    "duration": 166,
    "start_time": "2024-01-19T11:43:20.432Z"
   },
   {
    "duration": 40,
    "start_time": "2024-01-19T11:44:18.093Z"
   },
   {
    "duration": 24,
    "start_time": "2024-01-19T11:44:54.033Z"
   },
   {
    "duration": 27,
    "start_time": "2024-01-19T11:45:24.398Z"
   },
   {
    "duration": 3,
    "start_time": "2024-01-19T11:46:14.209Z"
   },
   {
    "duration": 12419,
    "start_time": "2024-01-19T11:46:15.474Z"
   },
   {
    "duration": 25,
    "start_time": "2024-01-19T11:46:29.152Z"
   },
   {
    "duration": 15,
    "start_time": "2024-01-19T11:46:40.286Z"
   },
   {
    "duration": 1512,
    "start_time": "2024-01-19T11:47:08.852Z"
   },
   {
    "duration": 56,
    "start_time": "2024-01-19T11:47:10.366Z"
   },
   {
    "duration": 13,
    "start_time": "2024-01-19T11:47:10.423Z"
   },
   {
    "duration": 809,
    "start_time": "2024-01-19T11:47:10.437Z"
   },
   {
    "duration": 188,
    "start_time": "2024-01-19T11:47:11.250Z"
   },
   {
    "duration": 103,
    "start_time": "2024-01-19T11:47:11.440Z"
   },
   {
    "duration": 6,
    "start_time": "2024-01-19T11:47:11.544Z"
   },
   {
    "duration": 10,
    "start_time": "2024-01-19T11:47:11.551Z"
   },
   {
    "duration": 11,
    "start_time": "2024-01-19T11:47:11.563Z"
   },
   {
    "duration": 13,
    "start_time": "2024-01-19T11:47:11.576Z"
   },
   {
    "duration": 9,
    "start_time": "2024-01-19T11:47:11.591Z"
   },
   {
    "duration": 81796,
    "start_time": "2024-01-19T11:47:11.602Z"
   },
   {
    "duration": 94,
    "start_time": "2024-01-19T11:48:33.400Z"
   },
   {
    "duration": 26,
    "start_time": "2024-01-19T11:48:33.496Z"
   },
   {
    "duration": 4,
    "start_time": "2024-01-19T11:48:59.553Z"
   },
   {
    "duration": 4,
    "start_time": "2024-01-19T11:49:00.354Z"
   },
   {
    "duration": 19617,
    "start_time": "2024-01-19T11:49:01.934Z"
   },
   {
    "duration": 4,
    "start_time": "2024-01-19T11:49:22.592Z"
   },
   {
    "duration": 45628,
    "start_time": "2024-01-19T11:49:23.764Z"
   },
   {
    "duration": 21,
    "start_time": "2024-01-19T11:50:11.108Z"
   },
   {
    "duration": 3,
    "start_time": "2024-01-19T11:50:27.177Z"
   },
   {
    "duration": 3,
    "start_time": "2024-01-19T11:50:33.020Z"
   },
   {
    "duration": 18,
    "start_time": "2024-01-19T11:50:36.039Z"
   },
   {
    "duration": 1588,
    "start_time": "2024-01-19T11:50:53.376Z"
   },
   {
    "duration": 55,
    "start_time": "2024-01-19T11:50:54.967Z"
   },
   {
    "duration": 12,
    "start_time": "2024-01-19T11:50:55.024Z"
   },
   {
    "duration": 763,
    "start_time": "2024-01-19T11:50:55.037Z"
   },
   {
    "duration": 158,
    "start_time": "2024-01-19T11:50:55.803Z"
   },
   {
    "duration": 114,
    "start_time": "2024-01-19T11:50:55.962Z"
   },
   {
    "duration": 7,
    "start_time": "2024-01-19T11:50:56.078Z"
   },
   {
    "duration": 21,
    "start_time": "2024-01-19T11:50:56.091Z"
   },
   {
    "duration": 26,
    "start_time": "2024-01-19T11:50:56.114Z"
   },
   {
    "duration": 7,
    "start_time": "2024-01-19T11:50:56.142Z"
   },
   {
    "duration": 17,
    "start_time": "2024-01-19T11:50:56.151Z"
   },
   {
    "duration": 19423,
    "start_time": "2024-01-19T11:50:56.169Z"
   },
   {
    "duration": 20,
    "start_time": "2024-01-19T11:51:15.594Z"
   },
   {
    "duration": 83,
    "start_time": "2024-01-19T11:51:15.617Z"
   },
   {
    "duration": 1447,
    "start_time": "2024-01-19T11:54:40.016Z"
   },
   {
    "duration": 60,
    "start_time": "2024-01-19T11:54:41.465Z"
   },
   {
    "duration": 14,
    "start_time": "2024-01-19T11:54:41.527Z"
   },
   {
    "duration": 760,
    "start_time": "2024-01-19T11:54:41.542Z"
   },
   {
    "duration": 172,
    "start_time": "2024-01-19T11:54:42.304Z"
   },
   {
    "duration": 109,
    "start_time": "2024-01-19T11:54:42.478Z"
   },
   {
    "duration": 7,
    "start_time": "2024-01-19T11:54:42.589Z"
   },
   {
    "duration": 34,
    "start_time": "2024-01-19T11:54:42.598Z"
   },
   {
    "duration": 20,
    "start_time": "2024-01-19T11:54:42.634Z"
   },
   {
    "duration": 14,
    "start_time": "2024-01-19T11:54:42.656Z"
   },
   {
    "duration": 19,
    "start_time": "2024-01-19T11:54:42.672Z"
   },
   {
    "duration": 19299,
    "start_time": "2024-01-19T11:54:42.693Z"
   },
   {
    "duration": 100,
    "start_time": "2024-01-19T11:55:01.994Z"
   },
   {
    "duration": 49,
    "start_time": "2024-01-19T11:55:02.097Z"
   },
   {
    "duration": 1559,
    "start_time": "2024-01-19T12:02:48.856Z"
   },
   {
    "duration": 57,
    "start_time": "2024-01-19T12:02:50.417Z"
   },
   {
    "duration": 12,
    "start_time": "2024-01-19T12:02:50.476Z"
   },
   {
    "duration": 756,
    "start_time": "2024-01-19T12:02:50.490Z"
   },
   {
    "duration": 167,
    "start_time": "2024-01-19T12:02:51.248Z"
   },
   {
    "duration": 105,
    "start_time": "2024-01-19T12:02:51.417Z"
   },
   {
    "duration": 5,
    "start_time": "2024-01-19T12:02:51.524Z"
   },
   {
    "duration": 6,
    "start_time": "2024-01-19T12:02:51.531Z"
   },
   {
    "duration": 26,
    "start_time": "2024-01-19T12:02:51.539Z"
   },
   {
    "duration": 6,
    "start_time": "2024-01-19T12:02:51.567Z"
   },
   {
    "duration": 13,
    "start_time": "2024-01-19T12:02:51.574Z"
   },
   {
    "duration": 18810,
    "start_time": "2024-01-19T12:02:51.589Z"
   },
   {
    "duration": 20,
    "start_time": "2024-01-19T12:03:10.402Z"
   },
   {
    "duration": 90,
    "start_time": "2024-01-19T12:03:10.424Z"
   },
   {
    "duration": 4,
    "start_time": "2024-01-19T12:03:40.205Z"
   },
   {
    "duration": 18033,
    "start_time": "2024-01-19T12:03:41.366Z"
   },
   {
    "duration": 18,
    "start_time": "2024-01-19T12:04:01.337Z"
   },
   {
    "duration": 19,
    "start_time": "2024-01-19T12:04:08.695Z"
   },
   {
    "duration": 5,
    "start_time": "2024-01-19T12:04:25.097Z"
   },
   {
    "duration": 4,
    "start_time": "2024-01-19T12:04:26.105Z"
   },
   {
    "duration": 1545,
    "start_time": "2024-01-19T12:06:20.148Z"
   },
   {
    "duration": 56,
    "start_time": "2024-01-19T12:06:21.695Z"
   },
   {
    "duration": 12,
    "start_time": "2024-01-19T12:06:21.753Z"
   },
   {
    "duration": 772,
    "start_time": "2024-01-19T12:06:21.767Z"
   },
   {
    "duration": 176,
    "start_time": "2024-01-19T12:06:22.542Z"
   },
   {
    "duration": 106,
    "start_time": "2024-01-19T12:06:22.720Z"
   },
   {
    "duration": 5,
    "start_time": "2024-01-19T12:06:22.828Z"
   },
   {
    "duration": 12,
    "start_time": "2024-01-19T12:06:22.835Z"
   },
   {
    "duration": 12,
    "start_time": "2024-01-19T12:06:22.849Z"
   },
   {
    "duration": 5,
    "start_time": "2024-01-19T12:06:22.862Z"
   },
   {
    "duration": 4,
    "start_time": "2024-01-19T12:06:22.868Z"
   },
   {
    "duration": 174877,
    "start_time": "2024-01-19T12:06:22.874Z"
   },
   {
    "duration": 0,
    "start_time": "2024-01-19T12:09:17.753Z"
   },
   {
    "duration": 0,
    "start_time": "2024-01-19T12:09:17.754Z"
   },
   {
    "duration": 4,
    "start_time": "2024-01-19T12:09:31.844Z"
   },
   {
    "duration": 3,
    "start_time": "2024-01-19T12:09:32.905Z"
   },
   {
    "duration": 22892,
    "start_time": "2024-01-19T12:09:33.926Z"
   },
   {
    "duration": 17,
    "start_time": "2024-01-19T12:10:19.784Z"
   },
   {
    "duration": 6,
    "start_time": "2024-01-19T12:10:37.132Z"
   },
   {
    "duration": 5,
    "start_time": "2024-01-19T12:11:21.084Z"
   },
   {
    "duration": 4,
    "start_time": "2024-01-19T12:11:24.653Z"
   },
   {
    "duration": 1472,
    "start_time": "2024-01-19T12:11:53.606Z"
   },
   {
    "duration": 56,
    "start_time": "2024-01-19T12:11:55.080Z"
   },
   {
    "duration": 12,
    "start_time": "2024-01-19T12:11:55.137Z"
   },
   {
    "duration": 768,
    "start_time": "2024-01-19T12:11:55.150Z"
   },
   {
    "duration": 179,
    "start_time": "2024-01-19T12:11:55.920Z"
   },
   {
    "duration": 19,
    "start_time": "2024-01-19T12:11:56.101Z"
   },
   {
    "duration": 10,
    "start_time": "2024-01-19T12:11:56.122Z"
   },
   {
    "duration": 11,
    "start_time": "2024-01-19T12:11:56.134Z"
   },
   {
    "duration": 157,
    "start_time": "2024-01-19T12:11:56.147Z"
   },
   {
    "duration": 0,
    "start_time": "2024-01-19T12:11:56.305Z"
   },
   {
    "duration": 0,
    "start_time": "2024-01-19T12:11:56.306Z"
   },
   {
    "duration": 0,
    "start_time": "2024-01-19T12:11:56.308Z"
   },
   {
    "duration": 0,
    "start_time": "2024-01-19T12:11:56.310Z"
   },
   {
    "duration": 0,
    "start_time": "2024-01-19T12:11:56.312Z"
   },
   {
    "duration": 1501,
    "start_time": "2024-01-19T12:12:05.394Z"
   },
   {
    "duration": 57,
    "start_time": "2024-01-19T12:12:06.897Z"
   },
   {
    "duration": 12,
    "start_time": "2024-01-19T12:12:06.955Z"
   },
   {
    "duration": 750,
    "start_time": "2024-01-19T12:12:06.968Z"
   },
   {
    "duration": 182,
    "start_time": "2024-01-19T12:12:07.720Z"
   },
   {
    "duration": 17,
    "start_time": "2024-01-19T12:12:07.903Z"
   },
   {
    "duration": 6,
    "start_time": "2024-01-19T12:12:07.922Z"
   },
   {
    "duration": 13,
    "start_time": "2024-01-19T12:12:07.930Z"
   },
   {
    "duration": 5,
    "start_time": "2024-01-19T12:12:07.944Z"
   },
   {
    "duration": 7,
    "start_time": "2024-01-19T12:12:07.951Z"
   },
   {
    "duration": 17,
    "start_time": "2024-01-19T12:12:07.960Z"
   },
   {
    "duration": 1005,
    "start_time": "2024-01-19T12:12:07.980Z"
   },
   {
    "duration": 21,
    "start_time": "2024-01-19T12:12:08.987Z"
   },
   {
    "duration": 30,
    "start_time": "2024-01-19T12:12:09.011Z"
   },
   {
    "duration": 3,
    "start_time": "2024-01-19T12:12:28.505Z"
   },
   {
    "duration": 3,
    "start_time": "2024-01-19T12:12:29.274Z"
   },
   {
    "duration": 1261,
    "start_time": "2024-01-19T12:12:30.114Z"
   },
   {
    "duration": 23,
    "start_time": "2024-01-19T12:12:32.264Z"
   },
   {
    "duration": 3,
    "start_time": "2024-01-19T12:12:52.724Z"
   },
   {
    "duration": 3,
    "start_time": "2024-01-19T12:12:53.285Z"
   },
   {
    "duration": 1111,
    "start_time": "2024-01-19T12:12:54.215Z"
   },
   {
    "duration": 16,
    "start_time": "2024-01-19T12:12:56.314Z"
   },
   {
    "duration": 15,
    "start_time": "2024-01-19T12:12:59.494Z"
   },
   {
    "duration": 16,
    "start_time": "2024-01-19T12:13:00.514Z"
   },
   {
    "duration": 13,
    "start_time": "2024-01-19T12:15:52.024Z"
   },
   {
    "duration": 6,
    "start_time": "2024-01-19T12:15:55.072Z"
   },
   {
    "duration": 3,
    "start_time": "2024-01-19T12:15:56.424Z"
   },
   {
    "duration": 3,
    "start_time": "2024-01-19T12:15:57.174Z"
   },
   {
    "duration": 3,
    "start_time": "2024-01-19T12:15:57.894Z"
   },
   {
    "duration": 3,
    "start_time": "2024-01-19T12:15:58.934Z"
   },
   {
    "duration": 1113,
    "start_time": "2024-01-19T12:15:59.633Z"
   },
   {
    "duration": 17,
    "start_time": "2024-01-19T12:16:01.412Z"
   },
   {
    "duration": 12,
    "start_time": "2024-01-19T12:16:07.444Z"
   },
   {
    "duration": 5,
    "start_time": "2024-01-19T12:16:08.706Z"
   },
   {
    "duration": 3,
    "start_time": "2024-01-19T12:16:09.704Z"
   },
   {
    "duration": 3,
    "start_time": "2024-01-19T12:16:10.274Z"
   },
   {
    "duration": 4,
    "start_time": "2024-01-19T12:16:10.914Z"
   },
   {
    "duration": 3,
    "start_time": "2024-01-19T12:16:11.904Z"
   },
   {
    "duration": 1149,
    "start_time": "2024-01-19T12:16:12.723Z"
   },
   {
    "duration": 18,
    "start_time": "2024-01-19T12:16:14.984Z"
   },
   {
    "duration": 1544,
    "start_time": "2024-01-19T12:17:38.051Z"
   },
   {
    "duration": 55,
    "start_time": "2024-01-19T12:17:39.598Z"
   },
   {
    "duration": 14,
    "start_time": "2024-01-19T12:17:39.655Z"
   },
   {
    "duration": 757,
    "start_time": "2024-01-19T12:17:39.671Z"
   },
   {
    "duration": 161,
    "start_time": "2024-01-19T12:17:40.430Z"
   },
   {
    "duration": 105,
    "start_time": "2024-01-19T12:17:40.593Z"
   },
   {
    "duration": 5,
    "start_time": "2024-01-19T12:17:40.700Z"
   },
   {
    "duration": 49,
    "start_time": "2024-01-19T12:17:40.707Z"
   },
   {
    "duration": 47,
    "start_time": "2024-01-19T12:17:40.758Z"
   },
   {
    "duration": 87,
    "start_time": "2024-01-19T12:17:40.807Z"
   },
   {
    "duration": 72,
    "start_time": "2024-01-19T12:17:40.896Z"
   },
   {
    "duration": 1530,
    "start_time": "2024-01-19T12:22:39.774Z"
   },
   {
    "duration": 55,
    "start_time": "2024-01-19T12:22:41.306Z"
   },
   {
    "duration": 13,
    "start_time": "2024-01-19T12:22:41.363Z"
   },
   {
    "duration": 1128,
    "start_time": "2024-01-19T12:22:41.377Z"
   },
   {
    "duration": 385,
    "start_time": "2024-01-19T12:22:42.509Z"
   },
   {
    "duration": 201,
    "start_time": "2024-01-19T12:22:42.896Z"
   },
   {
    "duration": 6,
    "start_time": "2024-01-19T12:22:43.099Z"
   },
   {
    "duration": 9,
    "start_time": "2024-01-19T12:22:43.107Z"
   },
   {
    "duration": 11,
    "start_time": "2024-01-19T12:22:43.118Z"
   },
   {
    "duration": 9,
    "start_time": "2024-01-19T12:22:43.132Z"
   },
   {
    "duration": 248,
    "start_time": "2024-01-19T12:22:43.194Z"
   },
   {
    "duration": 0,
    "start_time": "2024-01-19T12:22:43.444Z"
   },
   {
    "duration": 0,
    "start_time": "2024-01-19T12:22:43.445Z"
   },
   {
    "duration": 0,
    "start_time": "2024-01-19T12:22:43.446Z"
   },
   {
    "duration": 3,
    "start_time": "2024-01-19T12:23:34.164Z"
   },
   {
    "duration": 4624,
    "start_time": "2024-01-19T12:23:35.294Z"
   },
   {
    "duration": 5,
    "start_time": "2024-01-19T12:24:07.633Z"
   },
   {
    "duration": 3,
    "start_time": "2024-01-19T12:24:08.524Z"
   },
   {
    "duration": 1495,
    "start_time": "2024-01-19T12:26:06.721Z"
   },
   {
    "duration": 57,
    "start_time": "2024-01-19T12:26:08.218Z"
   },
   {
    "duration": 12,
    "start_time": "2024-01-19T12:26:08.277Z"
   },
   {
    "duration": 734,
    "start_time": "2024-01-19T12:26:08.291Z"
   },
   {
    "duration": 166,
    "start_time": "2024-01-19T12:26:09.028Z"
   },
   {
    "duration": 112,
    "start_time": "2024-01-19T12:26:09.196Z"
   },
   {
    "duration": 6,
    "start_time": "2024-01-19T12:26:09.309Z"
   },
   {
    "duration": 23,
    "start_time": "2024-01-19T12:26:09.316Z"
   },
   {
    "duration": 19,
    "start_time": "2024-01-19T12:26:09.341Z"
   },
   {
    "duration": 5,
    "start_time": "2024-01-19T12:26:09.362Z"
   },
   {
    "duration": 122,
    "start_time": "2024-01-19T12:26:09.368Z"
   },
   {
    "duration": 0,
    "start_time": "2024-01-19T12:26:09.492Z"
   },
   {
    "duration": 0,
    "start_time": "2024-01-19T12:26:09.493Z"
   },
   {
    "duration": 0,
    "start_time": "2024-01-19T12:26:09.494Z"
   },
   {
    "duration": 1520,
    "start_time": "2024-01-19T12:26:24.154Z"
   },
   {
    "duration": 56,
    "start_time": "2024-01-19T12:26:25.676Z"
   },
   {
    "duration": 13,
    "start_time": "2024-01-19T12:26:25.734Z"
   },
   {
    "duration": 769,
    "start_time": "2024-01-19T12:26:25.748Z"
   },
   {
    "duration": 174,
    "start_time": "2024-01-19T12:26:26.519Z"
   },
   {
    "duration": 107,
    "start_time": "2024-01-19T12:26:26.695Z"
   },
   {
    "duration": 4,
    "start_time": "2024-01-19T12:26:26.804Z"
   },
   {
    "duration": 28,
    "start_time": "2024-01-19T12:26:26.810Z"
   },
   {
    "duration": 23,
    "start_time": "2024-01-19T12:26:26.839Z"
   },
   {
    "duration": 12,
    "start_time": "2024-01-19T12:26:26.864Z"
   },
   {
    "duration": 7,
    "start_time": "2024-01-19T12:26:26.877Z"
   },
   {
    "duration": 226768,
    "start_time": "2024-01-19T12:26:26.886Z"
   },
   {
    "duration": 0,
    "start_time": "2024-01-19T12:30:13.657Z"
   },
   {
    "duration": 0,
    "start_time": "2024-01-19T12:30:13.658Z"
   },
   {
    "duration": 0,
    "start_time": "2024-01-19T12:30:13.660Z"
   },
   {
    "duration": 1500,
    "start_time": "2024-01-19T12:30:26.671Z"
   },
   {
    "duration": 3,
    "start_time": "2024-01-19T12:33:33.757Z"
   },
   {
    "duration": 1436,
    "start_time": "2024-01-19T12:33:38.843Z"
   },
   {
    "duration": 57,
    "start_time": "2024-01-19T12:33:40.281Z"
   },
   {
    "duration": 13,
    "start_time": "2024-01-19T12:33:40.339Z"
   },
   {
    "duration": 776,
    "start_time": "2024-01-19T12:33:40.353Z"
   },
   {
    "duration": 187,
    "start_time": "2024-01-19T12:33:41.132Z"
   },
   {
    "duration": 106,
    "start_time": "2024-01-19T12:33:41.321Z"
   },
   {
    "duration": 6,
    "start_time": "2024-01-19T12:33:41.429Z"
   },
   {
    "duration": 8,
    "start_time": "2024-01-19T12:33:41.436Z"
   },
   {
    "duration": 17,
    "start_time": "2024-01-19T12:33:41.446Z"
   },
   {
    "duration": 10,
    "start_time": "2024-01-19T12:33:41.464Z"
   },
   {
    "duration": 15,
    "start_time": "2024-01-19T12:33:41.476Z"
   },
   {
    "duration": 2410,
    "start_time": "2024-01-19T12:33:41.493Z"
   },
   {
    "duration": 196,
    "start_time": "2024-01-19T12:33:43.905Z"
   },
   {
    "duration": 39,
    "start_time": "2024-01-19T12:33:44.103Z"
   },
   {
    "duration": 4,
    "start_time": "2024-01-19T12:35:23.275Z"
   },
   {
    "duration": 3,
    "start_time": "2024-01-19T12:35:25.644Z"
   },
   {
    "duration": 3180,
    "start_time": "2024-01-19T12:35:26.224Z"
   },
   {
    "duration": 18,
    "start_time": "2024-01-19T12:35:42.051Z"
   },
   {
    "duration": 3228,
    "start_time": "2024-01-19T12:35:51.073Z"
   },
   {
    "duration": 16,
    "start_time": "2024-01-19T12:35:55.034Z"
   },
   {
    "duration": 3098,
    "start_time": "2024-01-19T12:36:02.504Z"
   },
   {
    "duration": 16,
    "start_time": "2024-01-19T12:36:06.444Z"
   },
   {
    "duration": 3015,
    "start_time": "2024-01-19T12:36:19.993Z"
   },
   {
    "duration": 17,
    "start_time": "2024-01-19T12:36:23.736Z"
   },
   {
    "duration": 121,
    "start_time": "2024-01-19T12:36:35.713Z"
   },
   {
    "duration": 1033,
    "start_time": "2024-01-19T12:36:41.103Z"
   },
   {
    "duration": 19,
    "start_time": "2024-01-19T12:36:42.138Z"
   },
   {
    "duration": 983,
    "start_time": "2024-01-19T12:36:44.362Z"
   },
   {
    "duration": 17,
    "start_time": "2024-01-19T12:36:46.574Z"
   },
   {
    "duration": 18,
    "start_time": "2024-01-19T12:36:49.200Z"
   },
   {
    "duration": 3205,
    "start_time": "2024-01-19T12:37:19.293Z"
   },
   {
    "duration": 16,
    "start_time": "2024-01-19T12:37:23.243Z"
   },
   {
    "duration": 983,
    "start_time": "2024-01-19T12:37:51.185Z"
   },
   {
    "duration": 18,
    "start_time": "2024-01-19T12:37:52.985Z"
   },
   {
    "duration": 1043,
    "start_time": "2024-01-19T12:38:01.833Z"
   },
   {
    "duration": 17,
    "start_time": "2024-01-19T12:38:03.723Z"
   },
   {
    "duration": 1018,
    "start_time": "2024-01-19T12:38:15.223Z"
   },
   {
    "duration": 16,
    "start_time": "2024-01-19T12:38:17.323Z"
   },
   {
    "duration": 996,
    "start_time": "2024-01-19T12:38:21.884Z"
   },
   {
    "duration": 16,
    "start_time": "2024-01-19T12:38:23.502Z"
   },
   {
    "duration": 3653,
    "start_time": "2024-01-19T12:38:37.645Z"
   },
   {
    "duration": 18,
    "start_time": "2024-01-19T12:38:42.023Z"
   },
   {
    "duration": 6529,
    "start_time": "2024-01-19T12:38:53.971Z"
   },
   {
    "duration": 17,
    "start_time": "2024-01-19T12:39:01.509Z"
   },
   {
    "duration": 8940,
    "start_time": "2024-01-19T12:39:14.056Z"
   },
   {
    "duration": 15,
    "start_time": "2024-01-19T12:43:32.872Z"
   },
   {
    "duration": 1527,
    "start_time": "2024-01-20T12:20:16.663Z"
   },
   {
    "duration": 1434,
    "start_time": "2024-01-20T12:22:26.824Z"
   },
   {
    "duration": 146,
    "start_time": "2024-01-20T12:22:28.260Z"
   },
   {
    "duration": 10,
    "start_time": "2024-01-20T12:22:28.408Z"
   },
   {
    "duration": 742,
    "start_time": "2024-01-20T12:22:28.420Z"
   },
   {
    "duration": 183,
    "start_time": "2024-01-20T12:22:29.165Z"
   },
   {
    "duration": 84,
    "start_time": "2024-01-20T12:22:29.350Z"
   },
   {
    "duration": 5,
    "start_time": "2024-01-20T12:22:29.435Z"
   },
   {
    "duration": 19,
    "start_time": "2024-01-20T12:22:29.442Z"
   },
   {
    "duration": 7,
    "start_time": "2024-01-20T12:22:29.462Z"
   },
   {
    "duration": 6203,
    "start_time": "2024-01-20T12:22:29.470Z"
   },
   {
    "duration": 101,
    "start_time": "2024-01-20T12:22:35.760Z"
   },
   {
    "duration": 37,
    "start_time": "2024-01-20T12:22:35.863Z"
   },
   {
    "duration": 20,
    "start_time": "2024-01-20T12:23:15.916Z"
   },
   {
    "duration": 6145,
    "start_time": "2024-01-20T12:23:41.219Z"
   },
   {
    "duration": 14,
    "start_time": "2024-01-20T12:23:49.542Z"
   },
   {
    "duration": 98,
    "start_time": "2024-01-20T12:24:19.268Z"
   },
   {
    "duration": 15,
    "start_time": "2024-01-20T12:24:31.908Z"
   },
   {
    "duration": 15,
    "start_time": "2024-01-20T12:24:40.275Z"
   },
   {
    "duration": 73,
    "start_time": "2024-01-20T12:25:22.087Z"
   },
   {
    "duration": 16,
    "start_time": "2024-01-20T12:25:27.675Z"
   },
   {
    "duration": 2762,
    "start_time": "2024-01-20T12:25:35.909Z"
   },
   {
    "duration": 6398,
    "start_time": "2024-01-20T12:25:51.865Z"
   },
   {
    "duration": 15,
    "start_time": "2024-01-20T12:26:03.817Z"
   },
   {
    "duration": 20,
    "start_time": "2024-01-20T12:26:25.403Z"
   },
   {
    "duration": 1433,
    "start_time": "2024-01-20T12:27:05.141Z"
   },
   {
    "duration": 54,
    "start_time": "2024-01-20T12:27:06.576Z"
   },
   {
    "duration": 11,
    "start_time": "2024-01-20T12:27:06.632Z"
   },
   {
    "duration": 690,
    "start_time": "2024-01-20T12:27:06.644Z"
   },
   {
    "duration": 151,
    "start_time": "2024-01-20T12:27:07.336Z"
   },
   {
    "duration": 103,
    "start_time": "2024-01-20T12:27:07.489Z"
   },
   {
    "duration": 6,
    "start_time": "2024-01-20T12:27:07.593Z"
   },
   {
    "duration": 9,
    "start_time": "2024-01-20T12:27:07.600Z"
   },
   {
    "duration": 4,
    "start_time": "2024-01-20T12:27:07.611Z"
   },
   {
    "duration": 6548,
    "start_time": "2024-01-20T12:27:07.616Z"
   },
   {
    "duration": 193,
    "start_time": "2024-01-20T12:27:14.167Z"
   },
   {
    "duration": 23,
    "start_time": "2024-01-20T12:27:14.361Z"
   },
   {
    "duration": 1357,
    "start_time": "2024-01-20T12:27:45.253Z"
   },
   {
    "duration": 52,
    "start_time": "2024-01-20T12:27:46.612Z"
   },
   {
    "duration": 11,
    "start_time": "2024-01-20T12:27:46.666Z"
   },
   {
    "duration": 657,
    "start_time": "2024-01-20T12:27:46.679Z"
   },
   {
    "duration": 156,
    "start_time": "2024-01-20T12:27:47.338Z"
   },
   {
    "duration": 98,
    "start_time": "2024-01-20T12:27:47.496Z"
   },
   {
    "duration": 6,
    "start_time": "2024-01-20T12:27:47.595Z"
   },
   {
    "duration": 42,
    "start_time": "2024-01-20T12:27:47.602Z"
   },
   {
    "duration": 38,
    "start_time": "2024-01-20T12:27:47.646Z"
   },
   {
    "duration": 6979,
    "start_time": "2024-01-20T12:27:47.685Z"
   },
   {
    "duration": 101,
    "start_time": "2024-01-20T12:27:54.666Z"
   },
   {
    "duration": 23,
    "start_time": "2024-01-20T12:27:54.859Z"
   },
   {
    "duration": 1312,
    "start_time": "2024-01-20T12:29:58.496Z"
   },
   {
    "duration": 54,
    "start_time": "2024-01-20T12:29:59.810Z"
   },
   {
    "duration": 10,
    "start_time": "2024-01-20T12:29:59.865Z"
   },
   {
    "duration": 694,
    "start_time": "2024-01-20T12:29:59.876Z"
   },
   {
    "duration": 151,
    "start_time": "2024-01-20T12:30:00.573Z"
   },
   {
    "duration": 15,
    "start_time": "2024-01-20T12:30:00.726Z"
   },
   {
    "duration": 16,
    "start_time": "2024-01-20T12:30:00.743Z"
   },
   {
    "duration": 19,
    "start_time": "2024-01-20T12:30:00.760Z"
   },
   {
    "duration": 46,
    "start_time": "2024-01-20T12:30:00.781Z"
   },
   {
    "duration": 6741,
    "start_time": "2024-01-20T12:30:00.828Z"
   },
   {
    "duration": 191,
    "start_time": "2024-01-20T12:30:07.571Z"
   },
   {
    "duration": 32,
    "start_time": "2024-01-20T12:30:07.764Z"
   },
   {
    "duration": 1396,
    "start_time": "2024-01-20T12:30:34.821Z"
   },
   {
    "duration": 57,
    "start_time": "2024-01-20T12:30:36.219Z"
   },
   {
    "duration": 10,
    "start_time": "2024-01-20T12:30:36.278Z"
   },
   {
    "duration": 722,
    "start_time": "2024-01-20T12:30:36.289Z"
   },
   {
    "duration": 159,
    "start_time": "2024-01-20T12:30:37.013Z"
   },
   {
    "duration": 95,
    "start_time": "2024-01-20T12:30:37.174Z"
   },
   {
    "duration": 7,
    "start_time": "2024-01-20T12:30:37.271Z"
   },
   {
    "duration": 6,
    "start_time": "2024-01-20T12:30:37.280Z"
   },
   {
    "duration": 14,
    "start_time": "2024-01-20T12:30:37.287Z"
   },
   {
    "duration": 5572,
    "start_time": "2024-01-20T12:30:37.303Z"
   },
   {
    "duration": 185,
    "start_time": "2024-01-20T12:30:42.880Z"
   },
   {
    "duration": 24,
    "start_time": "2024-01-20T12:30:43.067Z"
   },
   {
    "duration": 1397,
    "start_time": "2024-01-20T12:30:50.919Z"
   },
   {
    "duration": 58,
    "start_time": "2024-01-20T12:30:52.318Z"
   },
   {
    "duration": 10,
    "start_time": "2024-01-20T12:30:52.378Z"
   },
   {
    "duration": 709,
    "start_time": "2024-01-20T12:30:52.389Z"
   },
   {
    "duration": 153,
    "start_time": "2024-01-20T12:30:53.100Z"
   },
   {
    "duration": 90,
    "start_time": "2024-01-20T12:30:53.258Z"
   },
   {
    "duration": 17,
    "start_time": "2024-01-20T12:30:53.349Z"
   },
   {
    "duration": 5,
    "start_time": "2024-01-20T12:30:53.368Z"
   },
   {
    "duration": 5,
    "start_time": "2024-01-20T12:30:53.375Z"
   },
   {
    "duration": 5597,
    "start_time": "2024-01-20T12:30:53.381Z"
   },
   {
    "duration": 114,
    "start_time": "2024-01-20T12:30:59.060Z"
   },
   {
    "duration": 24,
    "start_time": "2024-01-20T12:30:59.178Z"
   },
   {
    "duration": 1371,
    "start_time": "2024-01-20T12:31:31.218Z"
   },
   {
    "duration": 53,
    "start_time": "2024-01-20T12:31:32.591Z"
   },
   {
    "duration": 10,
    "start_time": "2024-01-20T12:31:32.645Z"
   },
   {
    "duration": 716,
    "start_time": "2024-01-20T12:31:32.656Z"
   },
   {
    "duration": 149,
    "start_time": "2024-01-20T12:31:33.375Z"
   },
   {
    "duration": 118,
    "start_time": "2024-01-20T12:31:33.525Z"
   },
   {
    "duration": 0,
    "start_time": "2024-01-20T12:31:33.644Z"
   },
   {
    "duration": 0,
    "start_time": "2024-01-20T12:31:33.646Z"
   },
   {
    "duration": 0,
    "start_time": "2024-01-20T12:31:33.647Z"
   },
   {
    "duration": 0,
    "start_time": "2024-01-20T12:31:33.648Z"
   },
   {
    "duration": 0,
    "start_time": "2024-01-20T12:31:33.649Z"
   },
   {
    "duration": 0,
    "start_time": "2024-01-20T12:31:33.658Z"
   },
   {
    "duration": 1263,
    "start_time": "2024-01-20T12:31:49.618Z"
   },
   {
    "duration": 53,
    "start_time": "2024-01-20T12:31:50.884Z"
   },
   {
    "duration": 10,
    "start_time": "2024-01-20T12:31:50.938Z"
   },
   {
    "duration": 732,
    "start_time": "2024-01-20T12:31:50.949Z"
   },
   {
    "duration": 145,
    "start_time": "2024-01-20T12:31:51.683Z"
   },
   {
    "duration": 116,
    "start_time": "2024-01-20T12:31:51.829Z"
   },
   {
    "duration": 0,
    "start_time": "2024-01-20T12:31:51.946Z"
   },
   {
    "duration": 0,
    "start_time": "2024-01-20T12:31:51.948Z"
   },
   {
    "duration": 0,
    "start_time": "2024-01-20T12:31:51.949Z"
   },
   {
    "duration": 0,
    "start_time": "2024-01-20T12:31:51.950Z"
   },
   {
    "duration": 0,
    "start_time": "2024-01-20T12:31:51.959Z"
   },
   {
    "duration": 0,
    "start_time": "2024-01-20T12:31:51.961Z"
   },
   {
    "duration": 1384,
    "start_time": "2024-01-20T12:32:08.537Z"
   },
   {
    "duration": 56,
    "start_time": "2024-01-20T12:32:09.923Z"
   },
   {
    "duration": 11,
    "start_time": "2024-01-20T12:32:09.983Z"
   },
   {
    "duration": 710,
    "start_time": "2024-01-20T12:32:09.996Z"
   },
   {
    "duration": 157,
    "start_time": "2024-01-20T12:32:10.707Z"
   },
   {
    "duration": 99,
    "start_time": "2024-01-20T12:32:10.865Z"
   },
   {
    "duration": 6,
    "start_time": "2024-01-20T12:32:10.965Z"
   },
   {
    "duration": 43,
    "start_time": "2024-01-20T12:32:10.972Z"
   },
   {
    "duration": 32,
    "start_time": "2024-01-20T12:32:11.017Z"
   },
   {
    "duration": 6716,
    "start_time": "2024-01-20T12:32:11.050Z"
   },
   {
    "duration": 190,
    "start_time": "2024-01-20T12:32:17.772Z"
   },
   {
    "duration": 23,
    "start_time": "2024-01-20T12:32:17.964Z"
   },
   {
    "duration": 1428,
    "start_time": "2024-01-20T12:33:01.662Z"
   },
   {
    "duration": 54,
    "start_time": "2024-01-20T12:33:03.092Z"
   },
   {
    "duration": 12,
    "start_time": "2024-01-20T12:33:03.148Z"
   },
   {
    "duration": 711,
    "start_time": "2024-01-20T12:33:03.162Z"
   },
   {
    "duration": 147,
    "start_time": "2024-01-20T12:33:03.875Z"
   },
   {
    "duration": 90,
    "start_time": "2024-01-20T12:33:04.024Z"
   },
   {
    "duration": 5,
    "start_time": "2024-01-20T12:33:04.115Z"
   },
   {
    "duration": 28,
    "start_time": "2024-01-20T12:33:04.121Z"
   },
   {
    "duration": 5,
    "start_time": "2024-01-20T12:33:04.151Z"
   },
   {
    "duration": 110,
    "start_time": "2024-01-20T12:33:04.157Z"
   },
   {
    "duration": 0,
    "start_time": "2024-01-20T12:33:04.268Z"
   },
   {
    "duration": 0,
    "start_time": "2024-01-20T12:33:04.269Z"
   },
   {
    "duration": 1847,
    "start_time": "2024-01-20T12:33:17.619Z"
   },
   {
    "duration": 98,
    "start_time": "2024-01-20T12:33:19.468Z"
   },
   {
    "duration": 10,
    "start_time": "2024-01-20T12:33:19.567Z"
   },
   {
    "duration": 864,
    "start_time": "2024-01-20T12:33:19.578Z"
   },
   {
    "duration": 157,
    "start_time": "2024-01-20T12:33:20.445Z"
   },
   {
    "duration": 96,
    "start_time": "2024-01-20T12:33:20.604Z"
   },
   {
    "duration": 6,
    "start_time": "2024-01-20T12:33:20.702Z"
   },
   {
    "duration": 8,
    "start_time": "2024-01-20T12:33:20.709Z"
   },
   {
    "duration": 11,
    "start_time": "2024-01-20T12:33:20.718Z"
   },
   {
    "duration": 6728,
    "start_time": "2024-01-20T12:33:20.731Z"
   },
   {
    "duration": 102,
    "start_time": "2024-01-20T12:33:27.462Z"
   },
   {
    "duration": 24,
    "start_time": "2024-01-20T12:33:27.566Z"
   },
   {
    "duration": 1324,
    "start_time": "2024-01-20T12:34:10.677Z"
   },
   {
    "duration": 61,
    "start_time": "2024-01-20T12:34:12.003Z"
   },
   {
    "duration": 12,
    "start_time": "2024-01-20T12:34:12.066Z"
   },
   {
    "duration": 654,
    "start_time": "2024-01-20T12:34:12.079Z"
   },
   {
    "duration": 165,
    "start_time": "2024-01-20T12:34:12.735Z"
   },
   {
    "duration": 92,
    "start_time": "2024-01-20T12:34:12.902Z"
   },
   {
    "duration": 5,
    "start_time": "2024-01-20T12:34:12.996Z"
   },
   {
    "duration": 3,
    "start_time": "2024-01-20T12:34:13.002Z"
   },
   {
    "duration": 2,
    "start_time": "2024-01-20T12:34:13.007Z"
   },
   {
    "duration": 175,
    "start_time": "2024-01-20T12:34:13.011Z"
   },
   {
    "duration": 88,
    "start_time": "2024-01-20T12:34:13.188Z"
   },
   {
    "duration": 89,
    "start_time": "2024-01-20T12:34:13.278Z"
   },
   {
    "duration": 1625,
    "start_time": "2024-01-20T12:36:01.312Z"
   },
   {
    "duration": 69,
    "start_time": "2024-01-20T12:36:02.938Z"
   },
   {
    "duration": 13,
    "start_time": "2024-01-20T12:36:03.009Z"
   },
   {
    "duration": 763,
    "start_time": "2024-01-20T12:36:03.024Z"
   },
   {
    "duration": 171,
    "start_time": "2024-01-20T12:36:03.790Z"
   },
   {
    "duration": 101,
    "start_time": "2024-01-20T12:36:03.963Z"
   },
   {
    "duration": 6,
    "start_time": "2024-01-20T12:36:04.066Z"
   },
   {
    "duration": 31,
    "start_time": "2024-01-20T12:36:04.073Z"
   },
   {
    "duration": 12,
    "start_time": "2024-01-20T12:36:04.105Z"
   },
   {
    "duration": 7140,
    "start_time": "2024-01-20T12:36:04.119Z"
   },
   {
    "duration": 107,
    "start_time": "2024-01-20T12:36:11.261Z"
   },
   {
    "duration": 21,
    "start_time": "2024-01-20T12:36:11.370Z"
   },
   {
    "duration": 7205,
    "start_time": "2024-01-20T12:37:32.356Z"
   },
   {
    "duration": 14,
    "start_time": "2024-01-20T12:37:40.753Z"
   },
   {
    "duration": 7245,
    "start_time": "2024-01-20T12:38:26.614Z"
   },
   {
    "duration": 15,
    "start_time": "2024-01-20T12:38:35.131Z"
   },
   {
    "duration": 6770,
    "start_time": "2024-01-20T12:38:59.896Z"
   },
   {
    "duration": 14,
    "start_time": "2024-01-20T12:39:08.236Z"
   },
   {
    "duration": 7403,
    "start_time": "2024-01-20T12:39:53.556Z"
   },
   {
    "duration": 14,
    "start_time": "2024-01-20T12:40:02.260Z"
   },
   {
    "duration": 7164,
    "start_time": "2024-01-20T12:40:13.496Z"
   },
   {
    "duration": 14,
    "start_time": "2024-01-20T12:40:21.696Z"
   },
   {
    "duration": 7267,
    "start_time": "2024-01-20T12:41:20.000Z"
   },
   {
    "duration": 14,
    "start_time": "2024-01-20T12:41:28.319Z"
   },
   {
    "duration": 22,
    "start_time": "2024-01-20T12:41:57.513Z"
   },
   {
    "duration": 1297,
    "start_time": "2024-01-20T12:44:25.014Z"
   },
   {
    "duration": 54,
    "start_time": "2024-01-20T12:44:26.313Z"
   },
   {
    "duration": 10,
    "start_time": "2024-01-20T12:44:26.369Z"
   },
   {
    "duration": 672,
    "start_time": "2024-01-20T12:44:26.380Z"
   },
   {
    "duration": 145,
    "start_time": "2024-01-20T12:44:27.053Z"
   },
   {
    "duration": 90,
    "start_time": "2024-01-20T12:44:27.199Z"
   },
   {
    "duration": 4,
    "start_time": "2024-01-20T12:44:27.291Z"
   },
   {
    "duration": 8,
    "start_time": "2024-01-20T12:44:27.296Z"
   },
   {
    "duration": 23,
    "start_time": "2024-01-20T12:44:27.305Z"
   },
   {
    "duration": 4941,
    "start_time": "2024-01-20T12:44:27.330Z"
   },
   {
    "duration": 12,
    "start_time": "2024-01-20T12:44:32.273Z"
   },
   {
    "duration": 94,
    "start_time": "2024-01-20T12:44:32.287Z"
   },
   {
    "duration": 16,
    "start_time": "2024-01-20T12:53:35.316Z"
   },
   {
    "duration": 1261,
    "start_time": "2024-01-20T12:53:52.905Z"
   },
   {
    "duration": 51,
    "start_time": "2024-01-20T12:53:54.168Z"
   },
   {
    "duration": 9,
    "start_time": "2024-01-20T12:53:54.221Z"
   },
   {
    "duration": 669,
    "start_time": "2024-01-20T12:53:54.232Z"
   },
   {
    "duration": 146,
    "start_time": "2024-01-20T12:53:54.903Z"
   },
   {
    "duration": 85,
    "start_time": "2024-01-20T12:53:55.059Z"
   },
   {
    "duration": 15,
    "start_time": "2024-01-20T12:53:55.146Z"
   },
   {
    "duration": 3,
    "start_time": "2024-01-20T12:53:55.162Z"
   },
   {
    "duration": 4,
    "start_time": "2024-01-20T12:53:55.167Z"
   },
   {
    "duration": 8098,
    "start_time": "2024-01-20T12:53:55.173Z"
   },
   {
    "duration": 0,
    "start_time": "2024-01-20T12:54:03.273Z"
   },
   {
    "duration": 0,
    "start_time": "2024-01-20T12:54:03.274Z"
   },
   {
    "duration": 15,
    "start_time": "2024-01-20T12:54:46.812Z"
   },
   {
    "duration": 16,
    "start_time": "2024-01-20T12:54:57.905Z"
   },
   {
    "duration": 12,
    "start_time": "2024-01-20T12:55:21.498Z"
   },
   {
    "duration": 14,
    "start_time": "2024-01-20T12:55:22.672Z"
   },
   {
    "duration": 1457,
    "start_time": "2024-01-20T12:55:27.327Z"
   },
   {
    "duration": 94,
    "start_time": "2024-01-20T12:55:28.786Z"
   },
   {
    "duration": 10,
    "start_time": "2024-01-20T12:55:28.882Z"
   },
   {
    "duration": 1172,
    "start_time": "2024-01-20T12:55:28.894Z"
   },
   {
    "duration": 146,
    "start_time": "2024-01-20T12:55:30.067Z"
   },
   {
    "duration": 108,
    "start_time": "2024-01-20T12:55:30.214Z"
   },
   {
    "duration": 12,
    "start_time": "2024-01-20T12:55:30.324Z"
   },
   {
    "duration": 28,
    "start_time": "2024-01-20T12:55:30.337Z"
   },
   {
    "duration": 12,
    "start_time": "2024-01-20T12:55:30.367Z"
   },
   {
    "duration": 34,
    "start_time": "2024-01-20T12:55:30.381Z"
   },
   {
    "duration": 8160,
    "start_time": "2024-01-20T12:55:30.416Z"
   },
   {
    "duration": 0,
    "start_time": "2024-01-20T12:55:38.577Z"
   },
   {
    "duration": 0,
    "start_time": "2024-01-20T12:55:38.579Z"
   },
   {
    "duration": 1300,
    "start_time": "2024-01-20T12:56:15.968Z"
   },
   {
    "duration": 61,
    "start_time": "2024-01-20T12:56:17.270Z"
   },
   {
    "duration": 11,
    "start_time": "2024-01-20T12:56:17.332Z"
   },
   {
    "duration": 678,
    "start_time": "2024-01-20T12:56:17.344Z"
   },
   {
    "duration": 138,
    "start_time": "2024-01-20T12:56:18.024Z"
   },
   {
    "duration": 79,
    "start_time": "2024-01-20T12:56:18.163Z"
   },
   {
    "duration": 18,
    "start_time": "2024-01-20T12:56:18.243Z"
   },
   {
    "duration": 8,
    "start_time": "2024-01-20T12:56:18.262Z"
   },
   {
    "duration": 7,
    "start_time": "2024-01-20T12:56:18.271Z"
   },
   {
    "duration": 5592,
    "start_time": "2024-01-20T12:56:18.279Z"
   },
   {
    "duration": 86,
    "start_time": "2024-01-20T12:56:23.874Z"
   },
   {
    "duration": 25,
    "start_time": "2024-01-20T12:56:23.961Z"
   },
   {
    "duration": 1365,
    "start_time": "2024-01-20T12:57:33.925Z"
   },
   {
    "duration": 54,
    "start_time": "2024-01-20T12:57:35.291Z"
   },
   {
    "duration": 11,
    "start_time": "2024-01-20T12:57:35.346Z"
   },
   {
    "duration": 677,
    "start_time": "2024-01-20T12:57:35.359Z"
   },
   {
    "duration": 133,
    "start_time": "2024-01-20T12:57:36.039Z"
   },
   {
    "duration": 86,
    "start_time": "2024-01-20T12:57:36.174Z"
   },
   {
    "duration": 5,
    "start_time": "2024-01-20T12:57:36.261Z"
   },
   {
    "duration": 7,
    "start_time": "2024-01-20T12:57:36.267Z"
   },
   {
    "duration": 9,
    "start_time": "2024-01-20T12:57:36.276Z"
   },
   {
    "duration": 7278,
    "start_time": "2024-01-20T12:57:36.286Z"
   },
   {
    "duration": 192,
    "start_time": "2024-01-20T12:57:43.566Z"
   },
   {
    "duration": 30,
    "start_time": "2024-01-20T12:57:43.760Z"
   },
   {
    "duration": 1344,
    "start_time": "2024-01-20T12:58:35.438Z"
   },
   {
    "duration": 52,
    "start_time": "2024-01-20T12:58:36.784Z"
   },
   {
    "duration": 9,
    "start_time": "2024-01-20T12:58:36.838Z"
   },
   {
    "duration": 687,
    "start_time": "2024-01-20T12:58:36.849Z"
   },
   {
    "duration": 150,
    "start_time": "2024-01-20T12:58:37.539Z"
   },
   {
    "duration": 106,
    "start_time": "2024-01-20T12:58:37.690Z"
   },
   {
    "duration": 5,
    "start_time": "2024-01-20T12:58:37.798Z"
   },
   {
    "duration": 12,
    "start_time": "2024-01-20T12:58:37.804Z"
   },
   {
    "duration": 21,
    "start_time": "2024-01-20T12:58:37.818Z"
   },
   {
    "duration": 5324,
    "start_time": "2024-01-20T12:58:37.840Z"
   },
   {
    "duration": 12,
    "start_time": "2024-01-20T12:58:43.166Z"
   },
   {
    "duration": 100,
    "start_time": "2024-01-20T12:58:43.180Z"
   },
   {
    "duration": 27,
    "start_time": "2024-01-20T13:00:03.539Z"
   },
   {
    "duration": 7,
    "start_time": "2024-01-20T14:52:52.805Z"
   },
   {
    "duration": 3,
    "start_time": "2024-01-20T14:52:56.081Z"
   },
   {
    "duration": 3,
    "start_time": "2024-01-20T14:53:12.517Z"
   },
   {
    "duration": 69,
    "start_time": "2024-01-20T14:54:01.535Z"
   },
   {
    "duration": 6,
    "start_time": "2024-01-20T14:54:10.501Z"
   },
   {
    "duration": 4,
    "start_time": "2024-01-20T14:54:14.471Z"
   },
   {
    "duration": 5,
    "start_time": "2024-01-20T14:54:24.927Z"
   },
   {
    "duration": 3,
    "start_time": "2024-01-20T14:54:25.543Z"
   },
   {
    "duration": 7,
    "start_time": "2024-01-20T14:54:49.019Z"
   },
   {
    "duration": 4,
    "start_time": "2024-01-20T14:54:49.667Z"
   },
   {
    "duration": 74,
    "start_time": "2024-01-20T14:55:15.250Z"
   },
   {
    "duration": 80,
    "start_time": "2024-01-20T14:58:55.932Z"
   },
   {
    "duration": 6,
    "start_time": "2024-01-20T14:59:08.528Z"
   },
   {
    "duration": 1440,
    "start_time": "2024-01-20T14:59:20.763Z"
   },
   {
    "duration": 92,
    "start_time": "2024-01-20T14:59:22.204Z"
   },
   {
    "duration": 63,
    "start_time": "2024-01-20T14:59:22.298Z"
   },
   {
    "duration": 1123,
    "start_time": "2024-01-20T14:59:22.363Z"
   },
   {
    "duration": 146,
    "start_time": "2024-01-20T14:59:23.488Z"
   },
   {
    "duration": 87,
    "start_time": "2024-01-20T14:59:23.635Z"
   },
   {
    "duration": 5,
    "start_time": "2024-01-20T14:59:23.723Z"
   },
   {
    "duration": 11,
    "start_time": "2024-01-20T14:59:23.729Z"
   },
   {
    "duration": 107,
    "start_time": "2024-01-20T14:59:23.741Z"
   },
   {
    "duration": 0,
    "start_time": "2024-01-20T14:59:23.849Z"
   },
   {
    "duration": 0,
    "start_time": "2024-01-20T14:59:23.859Z"
   },
   {
    "duration": 0,
    "start_time": "2024-01-20T14:59:23.860Z"
   },
   {
    "duration": 1292,
    "start_time": "2024-01-20T14:59:44.778Z"
   },
   {
    "duration": 55,
    "start_time": "2024-01-20T14:59:46.072Z"
   },
   {
    "duration": 10,
    "start_time": "2024-01-20T14:59:46.128Z"
   },
   {
    "duration": 932,
    "start_time": "2024-01-20T14:59:46.139Z"
   },
   {
    "duration": 287,
    "start_time": "2024-01-20T14:59:47.073Z"
   },
   {
    "duration": 140,
    "start_time": "2024-01-20T14:59:47.362Z"
   },
   {
    "duration": 6,
    "start_time": "2024-01-20T14:59:47.558Z"
   },
   {
    "duration": 19,
    "start_time": "2024-01-20T14:59:47.565Z"
   },
   {
    "duration": 12,
    "start_time": "2024-01-20T14:59:47.586Z"
   },
   {
    "duration": 367,
    "start_time": "2024-01-20T14:59:47.599Z"
   },
   {
    "duration": 0,
    "start_time": "2024-01-20T14:59:47.967Z"
   },
   {
    "duration": 0,
    "start_time": "2024-01-20T14:59:47.968Z"
   },
   {
    "duration": 5,
    "start_time": "2024-01-20T15:00:24.095Z"
   },
   {
    "duration": 4,
    "start_time": "2024-01-20T15:00:27.940Z"
   },
   {
    "duration": 1346,
    "start_time": "2024-01-20T15:00:46.047Z"
   },
   {
    "duration": 54,
    "start_time": "2024-01-20T15:00:47.395Z"
   },
   {
    "duration": 12,
    "start_time": "2024-01-20T15:00:47.451Z"
   },
   {
    "duration": 672,
    "start_time": "2024-01-20T15:00:47.464Z"
   },
   {
    "duration": 148,
    "start_time": "2024-01-20T15:00:48.138Z"
   },
   {
    "duration": 95,
    "start_time": "2024-01-20T15:00:48.287Z"
   },
   {
    "duration": 5,
    "start_time": "2024-01-20T15:00:48.384Z"
   },
   {
    "duration": 5,
    "start_time": "2024-01-20T15:00:48.390Z"
   },
   {
    "duration": 5,
    "start_time": "2024-01-20T15:00:48.396Z"
   },
   {
    "duration": 5465,
    "start_time": "2024-01-20T15:00:48.403Z"
   },
   {
    "duration": 17,
    "start_time": "2024-01-20T15:00:53.869Z"
   },
   {
    "duration": 107,
    "start_time": "2024-01-20T15:00:53.959Z"
   },
   {
    "duration": 26,
    "start_time": "2024-01-20T15:03:09.580Z"
   },
   {
    "duration": 1543,
    "start_time": "2024-01-22T05:07:35.605Z"
   },
   {
    "duration": 124,
    "start_time": "2024-01-22T05:07:37.150Z"
   },
   {
    "duration": 10,
    "start_time": "2024-01-22T05:07:37.275Z"
   },
   {
    "duration": 724,
    "start_time": "2024-01-22T05:07:37.287Z"
   },
   {
    "duration": 147,
    "start_time": "2024-01-22T05:07:38.012Z"
   },
   {
    "duration": 89,
    "start_time": "2024-01-22T05:07:38.161Z"
   },
   {
    "duration": 5,
    "start_time": "2024-01-22T05:07:38.251Z"
   },
   {
    "duration": 9,
    "start_time": "2024-01-22T05:07:38.258Z"
   },
   {
    "duration": 14,
    "start_time": "2024-01-22T05:07:38.268Z"
   },
   {
    "duration": 5200,
    "start_time": "2024-01-22T05:07:38.284Z"
   },
   {
    "duration": 12,
    "start_time": "2024-01-22T05:07:43.485Z"
   },
   {
    "duration": 119,
    "start_time": "2024-01-22T05:07:43.499Z"
   },
   {
    "duration": 13,
    "start_time": "2024-01-22T05:09:57.135Z"
   },
   {
    "duration": 4,
    "start_time": "2024-01-22T05:10:29.226Z"
   },
   {
    "duration": 43,
    "start_time": "2024-01-22T05:12:11.385Z"
   },
   {
    "duration": 8,
    "start_time": "2024-01-22T05:12:12.575Z"
   },
   {
    "duration": 9,
    "start_time": "2024-01-22T05:12:14.195Z"
   },
   {
    "duration": 14,
    "start_time": "2024-01-22T05:14:38.553Z"
   },
   {
    "duration": 1292,
    "start_time": "2024-01-22T05:15:19.221Z"
   },
   {
    "duration": 49,
    "start_time": "2024-01-22T05:15:20.515Z"
   },
   {
    "duration": 16,
    "start_time": "2024-01-22T05:15:20.565Z"
   },
   {
    "duration": 11,
    "start_time": "2024-01-22T05:15:20.582Z"
   },
   {
    "duration": 684,
    "start_time": "2024-01-22T05:15:20.595Z"
   },
   {
    "duration": 156,
    "start_time": "2024-01-22T05:15:21.280Z"
   },
   {
    "duration": 93,
    "start_time": "2024-01-22T05:15:21.438Z"
   },
   {
    "duration": 5,
    "start_time": "2024-01-22T05:15:21.532Z"
   },
   {
    "duration": 11,
    "start_time": "2024-01-22T05:15:21.539Z"
   },
   {
    "duration": 28,
    "start_time": "2024-01-22T05:15:21.551Z"
   },
   {
    "duration": 4903,
    "start_time": "2024-01-22T05:15:21.581Z"
   },
   {
    "duration": 12,
    "start_time": "2024-01-22T05:15:26.486Z"
   },
   {
    "duration": 185,
    "start_time": "2024-01-22T05:15:26.500Z"
   },
   {
    "duration": 16,
    "start_time": "2024-01-22T05:15:26.687Z"
   },
   {
    "duration": 76,
    "start_time": "2024-01-22T05:17:39.308Z"
   },
   {
    "duration": 9,
    "start_time": "2024-01-22T05:30:08.635Z"
   },
   {
    "duration": 8,
    "start_time": "2024-01-22T05:30:17.045Z"
   },
   {
    "duration": 4852,
    "start_time": "2024-01-22T05:34:31.634Z"
   },
   {
    "duration": 13,
    "start_time": "2024-01-22T05:34:37.392Z"
   },
   {
    "duration": 28,
    "start_time": "2024-01-22T05:34:50.291Z"
   },
   {
    "duration": 4,
    "start_time": "2024-01-22T05:37:03.745Z"
   },
   {
    "duration": 12,
    "start_time": "2024-01-22T05:37:14.815Z"
   },
   {
    "duration": 7,
    "start_time": "2024-01-22T07:00:15.261Z"
   },
   {
    "duration": 1441,
    "start_time": "2024-01-22T07:04:21.225Z"
   },
   {
    "duration": 49,
    "start_time": "2024-01-22T07:04:22.669Z"
   },
   {
    "duration": 18,
    "start_time": "2024-01-22T07:04:22.719Z"
   },
   {
    "duration": 9,
    "start_time": "2024-01-22T07:04:22.738Z"
   },
   {
    "duration": 736,
    "start_time": "2024-01-22T07:04:22.749Z"
   },
   {
    "duration": 164,
    "start_time": "2024-01-22T07:04:23.487Z"
   },
   {
    "duration": 12,
    "start_time": "2024-01-22T07:04:23.654Z"
   },
   {
    "duration": 18,
    "start_time": "2024-01-22T07:04:23.668Z"
   },
   {
    "duration": 87,
    "start_time": "2024-01-22T07:04:23.688Z"
   },
   {
    "duration": 5007,
    "start_time": "2024-01-22T07:04:23.777Z"
   },
   {
    "duration": 99,
    "start_time": "2024-01-22T07:04:28.786Z"
   },
   {
    "duration": 120,
    "start_time": "2024-01-22T07:04:28.888Z"
   },
   {
    "duration": 4,
    "start_time": "2024-01-22T07:04:29.010Z"
   },
   {
    "duration": 66,
    "start_time": "2024-01-22T07:04:29.017Z"
   },
   {
    "duration": 6014,
    "start_time": "2024-01-22T08:47:56.372Z"
   },
   {
    "duration": 16,
    "start_time": "2024-01-22T08:48:05.313Z"
   },
   {
    "duration": 28,
    "start_time": "2024-01-22T08:48:12.526Z"
   },
   {
    "duration": 1385,
    "start_time": "2024-01-22T10:14:27.707Z"
   },
   {
    "duration": 48,
    "start_time": "2024-01-22T10:14:29.095Z"
   },
   {
    "duration": 17,
    "start_time": "2024-01-22T10:14:29.145Z"
   },
   {
    "duration": 7,
    "start_time": "2024-01-22T10:14:29.164Z"
   },
   {
    "duration": 720,
    "start_time": "2024-01-22T10:14:29.173Z"
   },
   {
    "duration": 159,
    "start_time": "2024-01-22T10:14:29.894Z"
   },
   {
    "duration": 13,
    "start_time": "2024-01-22T10:14:30.055Z"
   },
   {
    "duration": 28,
    "start_time": "2024-01-22T10:14:30.069Z"
   },
   {
    "duration": 94,
    "start_time": "2024-01-22T10:14:30.099Z"
   },
   {
    "duration": 5508,
    "start_time": "2024-01-22T10:14:30.195Z"
   },
   {
    "duration": 13,
    "start_time": "2024-01-22T10:14:35.783Z"
   },
   {
    "duration": 107,
    "start_time": "2024-01-22T10:14:35.800Z"
   },
   {
    "duration": 4,
    "start_time": "2024-01-22T10:14:35.908Z"
   },
   {
    "duration": 69,
    "start_time": "2024-01-22T10:14:35.913Z"
   },
   {
    "duration": 10,
    "start_time": "2024-01-22T10:18:04.657Z"
   },
   {
    "duration": 19,
    "start_time": "2024-01-22T10:18:09.265Z"
   },
   {
    "duration": 1346,
    "start_time": "2024-01-22T10:25:56.290Z"
   },
   {
    "duration": 48,
    "start_time": "2024-01-22T10:25:57.638Z"
   },
   {
    "duration": 42,
    "start_time": "2024-01-22T10:25:57.687Z"
   },
   {
    "duration": 60,
    "start_time": "2024-01-22T10:25:57.730Z"
   },
   {
    "duration": 739,
    "start_time": "2024-01-22T10:25:57.792Z"
   },
   {
    "duration": 161,
    "start_time": "2024-01-22T10:25:58.533Z"
   },
   {
    "duration": 12,
    "start_time": "2024-01-22T10:25:58.695Z"
   },
   {
    "duration": 16,
    "start_time": "2024-01-22T10:25:58.708Z"
   },
   {
    "duration": 81,
    "start_time": "2024-01-22T10:25:58.725Z"
   },
   {
    "duration": 10692,
    "start_time": "2024-01-22T10:25:58.807Z"
   },
   {
    "duration": 0,
    "start_time": "2024-01-22T10:26:09.500Z"
   },
   {
    "duration": 0,
    "start_time": "2024-01-22T10:26:09.502Z"
   },
   {
    "duration": 0,
    "start_time": "2024-01-22T10:26:09.503Z"
   },
   {
    "duration": 0,
    "start_time": "2024-01-22T10:26:09.504Z"
   },
   {
    "duration": 1361,
    "start_time": "2024-01-22T10:26:50.159Z"
   },
   {
    "duration": 83,
    "start_time": "2024-01-22T10:26:51.521Z"
   },
   {
    "duration": 16,
    "start_time": "2024-01-22T10:26:51.605Z"
   },
   {
    "duration": 63,
    "start_time": "2024-01-22T10:26:51.623Z"
   },
   {
    "duration": 1301,
    "start_time": "2024-01-22T10:26:51.687Z"
   },
   {
    "duration": 176,
    "start_time": "2024-01-22T10:26:52.989Z"
   },
   {
    "duration": 21,
    "start_time": "2024-01-22T10:26:53.167Z"
   },
   {
    "duration": 7,
    "start_time": "2024-01-22T10:26:53.190Z"
   },
   {
    "duration": 86,
    "start_time": "2024-01-22T10:26:53.198Z"
   },
   {
    "duration": 9137,
    "start_time": "2024-01-22T10:26:53.286Z"
   },
   {
    "duration": 0,
    "start_time": "2024-01-22T10:27:02.425Z"
   },
   {
    "duration": 0,
    "start_time": "2024-01-22T10:27:02.426Z"
   },
   {
    "duration": 0,
    "start_time": "2024-01-22T10:27:02.427Z"
   },
   {
    "duration": 0,
    "start_time": "2024-01-22T10:27:02.428Z"
   },
   {
    "duration": 1402,
    "start_time": "2024-01-22T10:28:22.319Z"
   },
   {
    "duration": 53,
    "start_time": "2024-01-22T10:28:23.723Z"
   },
   {
    "duration": 20,
    "start_time": "2024-01-22T10:28:23.777Z"
   },
   {
    "duration": 11,
    "start_time": "2024-01-22T10:28:23.799Z"
   },
   {
    "duration": 760,
    "start_time": "2024-01-22T10:28:23.812Z"
   },
   {
    "duration": 160,
    "start_time": "2024-01-22T10:28:24.573Z"
   },
   {
    "duration": 12,
    "start_time": "2024-01-22T10:28:24.735Z"
   },
   {
    "duration": 8,
    "start_time": "2024-01-22T10:28:24.748Z"
   },
   {
    "duration": 85,
    "start_time": "2024-01-22T10:28:24.757Z"
   },
   {
    "duration": 6240,
    "start_time": "2024-01-22T10:28:24.844Z"
   },
   {
    "duration": 16,
    "start_time": "2024-01-22T10:28:31.086Z"
   },
   {
    "duration": 43,
    "start_time": "2024-01-22T10:28:31.181Z"
   },
   {
    "duration": 58,
    "start_time": "2024-01-22T10:28:31.225Z"
   },
   {
    "duration": 36,
    "start_time": "2024-01-22T10:28:31.286Z"
   },
   {
    "duration": 5,
    "start_time": "2024-01-22T10:30:17.567Z"
   },
   {
    "duration": 1364,
    "start_time": "2024-01-22T10:33:57.721Z"
   },
   {
    "duration": 49,
    "start_time": "2024-01-22T10:33:59.087Z"
   },
   {
    "duration": 17,
    "start_time": "2024-01-22T10:33:59.137Z"
   },
   {
    "duration": 8,
    "start_time": "2024-01-22T10:33:59.155Z"
   },
   {
    "duration": 731,
    "start_time": "2024-01-22T10:33:59.165Z"
   },
   {
    "duration": 169,
    "start_time": "2024-01-22T10:33:59.898Z"
   },
   {
    "duration": 20,
    "start_time": "2024-01-22T10:34:00.069Z"
   },
   {
    "duration": 55,
    "start_time": "2024-01-22T10:34:00.091Z"
   },
   {
    "duration": 104,
    "start_time": "2024-01-22T10:34:00.148Z"
   },
   {
    "duration": 5128,
    "start_time": "2024-01-22T10:34:00.254Z"
   },
   {
    "duration": 97,
    "start_time": "2024-01-22T10:34:05.385Z"
   },
   {
    "duration": 29,
    "start_time": "2024-01-22T10:34:05.484Z"
   },
   {
    "duration": 19,
    "start_time": "2024-01-22T10:34:05.515Z"
   },
   {
    "duration": 13,
    "start_time": "2024-01-22T10:34:05.537Z"
   },
   {
    "duration": 18,
    "start_time": "2024-01-22T10:34:24.629Z"
   },
   {
    "duration": 113,
    "start_time": "2024-01-22T10:39:36.549Z"
   },
   {
    "duration": 8,
    "start_time": "2024-01-22T10:39:39.683Z"
   },
   {
    "duration": 6,
    "start_time": "2024-01-22T10:40:03.953Z"
   },
   {
    "duration": 8,
    "start_time": "2024-01-22T10:40:33.841Z"
   },
   {
    "duration": 5,
    "start_time": "2024-01-22T10:40:37.660Z"
   },
   {
    "duration": 25,
    "start_time": "2024-01-22T10:41:58.107Z"
   },
   {
    "duration": 1417,
    "start_time": "2024-01-22T10:42:11.948Z"
   },
   {
    "duration": 49,
    "start_time": "2024-01-22T10:42:13.367Z"
   },
   {
    "duration": 19,
    "start_time": "2024-01-22T10:42:13.417Z"
   },
   {
    "duration": 22,
    "start_time": "2024-01-22T10:42:13.437Z"
   },
   {
    "duration": 713,
    "start_time": "2024-01-22T10:42:13.461Z"
   },
   {
    "duration": 148,
    "start_time": "2024-01-22T10:42:14.181Z"
   },
   {
    "duration": 12,
    "start_time": "2024-01-22T10:42:14.330Z"
   },
   {
    "duration": 7,
    "start_time": "2024-01-22T10:42:14.344Z"
   },
   {
    "duration": 102,
    "start_time": "2024-01-22T10:42:14.352Z"
   },
   {
    "duration": 5232,
    "start_time": "2024-01-22T10:42:14.455Z"
   },
   {
    "duration": 94,
    "start_time": "2024-01-22T10:42:19.689Z"
   },
   {
    "duration": 123,
    "start_time": "2024-01-22T10:42:19.786Z"
   },
   {
    "duration": 4,
    "start_time": "2024-01-22T10:42:19.911Z"
   },
   {
    "duration": 31,
    "start_time": "2024-01-22T10:42:19.917Z"
   },
   {
    "duration": 166,
    "start_time": "2024-01-22T10:42:19.950Z"
   },
   {
    "duration": 11,
    "start_time": "2024-01-22T10:42:38.464Z"
   },
   {
    "duration": 13,
    "start_time": "2024-01-22T10:42:44.438Z"
   },
   {
    "duration": 3,
    "start_time": "2024-01-22T10:45:35.087Z"
   },
   {
    "duration": 10,
    "start_time": "2024-01-22T10:45:39.595Z"
   },
   {
    "duration": 6,
    "start_time": "2024-01-22T10:46:00.680Z"
   },
   {
    "duration": 11,
    "start_time": "2024-01-22T10:46:17.126Z"
   },
   {
    "duration": 3,
    "start_time": "2024-01-22T10:46:28.718Z"
   },
   {
    "duration": 3,
    "start_time": "2024-01-22T10:46:33.990Z"
   },
   {
    "duration": 3,
    "start_time": "2024-01-22T10:46:34.649Z"
   },
   {
    "duration": 9,
    "start_time": "2024-01-22T10:46:37.129Z"
   },
   {
    "duration": 8,
    "start_time": "2024-01-22T10:46:43.531Z"
   },
   {
    "duration": 10,
    "start_time": "2024-01-22T10:46:46.140Z"
   },
   {
    "duration": 4,
    "start_time": "2024-01-22T10:47:29.855Z"
   },
   {
    "duration": 10,
    "start_time": "2024-01-22T10:47:31.968Z"
   },
   {
    "duration": 9,
    "start_time": "2024-01-22T10:47:33.890Z"
   },
   {
    "duration": 4,
    "start_time": "2024-01-22T10:47:38.905Z"
   },
   {
    "duration": 4,
    "start_time": "2024-01-22T10:47:39.898Z"
   },
   {
    "duration": 9,
    "start_time": "2024-01-22T10:47:40.489Z"
   },
   {
    "duration": 9,
    "start_time": "2024-01-22T10:47:41.789Z"
   },
   {
    "duration": 202,
    "start_time": "2024-01-22T10:47:56.466Z"
   },
   {
    "duration": 428,
    "start_time": "2024-01-22T10:48:12.128Z"
   },
   {
    "duration": 416,
    "start_time": "2024-01-22T10:48:17.661Z"
   },
   {
    "duration": 5,
    "start_time": "2024-01-22T10:50:25.339Z"
   },
   {
    "duration": 301,
    "start_time": "2024-01-22T10:50:30.129Z"
   },
   {
    "duration": 61,
    "start_time": "2024-01-22T10:51:04.349Z"
   },
   {
    "duration": 271,
    "start_time": "2024-01-22T10:51:19.769Z"
   },
   {
    "duration": 8,
    "start_time": "2024-01-22T10:52:10.439Z"
   },
   {
    "duration": 514,
    "start_time": "2024-01-22T10:52:13.882Z"
   },
   {
    "duration": 5,
    "start_time": "2024-01-22T10:52:31.704Z"
   },
   {
    "duration": 480,
    "start_time": "2024-01-22T10:52:35.150Z"
   },
   {
    "duration": 30,
    "start_time": "2024-01-22T10:53:44.079Z"
   },
   {
    "duration": 285,
    "start_time": "2024-01-22T10:54:29.438Z"
   },
   {
    "duration": 448,
    "start_time": "2024-01-22T10:55:13.428Z"
   },
   {
    "duration": 437,
    "start_time": "2024-01-22T10:55:27.388Z"
   },
   {
    "duration": 434,
    "start_time": "2024-01-22T10:55:53.655Z"
   },
   {
    "duration": 454,
    "start_time": "2024-01-22T10:56:24.860Z"
   },
   {
    "duration": 442,
    "start_time": "2024-01-22T10:56:38.059Z"
   },
   {
    "duration": 463,
    "start_time": "2024-01-22T10:56:41.179Z"
   },
   {
    "duration": 462,
    "start_time": "2024-01-22T10:57:18.965Z"
   },
   {
    "duration": 460,
    "start_time": "2024-01-22T10:57:25.889Z"
   },
   {
    "duration": 7,
    "start_time": "2024-01-22T11:05:08.814Z"
   },
   {
    "duration": 291,
    "start_time": "2024-01-22T11:05:31.117Z"
   },
   {
    "duration": 1472,
    "start_time": "2024-01-22T11:05:40.609Z"
   },
   {
    "duration": 49,
    "start_time": "2024-01-22T11:05:42.083Z"
   },
   {
    "duration": 17,
    "start_time": "2024-01-22T11:05:42.133Z"
   },
   {
    "duration": 8,
    "start_time": "2024-01-22T11:05:42.152Z"
   },
   {
    "duration": 1080,
    "start_time": "2024-01-22T11:05:42.162Z"
   },
   {
    "duration": 327,
    "start_time": "2024-01-22T11:05:43.244Z"
   },
   {
    "duration": 19,
    "start_time": "2024-01-22T11:05:43.572Z"
   },
   {
    "duration": 8,
    "start_time": "2024-01-22T11:05:43.592Z"
   },
   {
    "duration": 6,
    "start_time": "2024-01-22T11:05:43.601Z"
   },
   {
    "duration": 4983,
    "start_time": "2024-01-22T11:05:43.608Z"
   },
   {
    "duration": 104,
    "start_time": "2024-01-22T11:05:48.683Z"
   },
   {
    "duration": 50,
    "start_time": "2024-01-22T11:05:48.788Z"
   },
   {
    "duration": 17,
    "start_time": "2024-01-22T11:05:48.839Z"
   },
   {
    "duration": 19,
    "start_time": "2024-01-22T11:05:48.859Z"
   },
   {
    "duration": 7,
    "start_time": "2024-01-22T11:05:48.880Z"
   },
   {
    "duration": 568,
    "start_time": "2024-01-22T11:05:48.889Z"
   },
   {
    "duration": 245,
    "start_time": "2024-01-22T11:07:13.441Z"
   },
   {
    "duration": 486,
    "start_time": "2024-01-22T11:07:47.545Z"
   },
   {
    "duration": 1452,
    "start_time": "2024-01-22T11:07:54.462Z"
   },
   {
    "duration": 47,
    "start_time": "2024-01-22T11:07:55.916Z"
   },
   {
    "duration": 16,
    "start_time": "2024-01-22T11:07:55.965Z"
   },
   {
    "duration": 28,
    "start_time": "2024-01-22T11:07:55.982Z"
   },
   {
    "duration": 688,
    "start_time": "2024-01-22T11:07:56.013Z"
   },
   {
    "duration": 219,
    "start_time": "2024-01-22T11:07:56.703Z"
   },
   {
    "duration": 13,
    "start_time": "2024-01-22T11:07:56.924Z"
   },
   {
    "duration": 11,
    "start_time": "2024-01-22T11:07:56.938Z"
   },
   {
    "duration": 19,
    "start_time": "2024-01-22T11:07:56.951Z"
   },
   {
    "duration": 5012,
    "start_time": "2024-01-22T11:07:56.972Z"
   },
   {
    "duration": 99,
    "start_time": "2024-01-22T11:08:01.987Z"
   },
   {
    "duration": 106,
    "start_time": "2024-01-22T11:08:02.088Z"
   },
   {
    "duration": 64,
    "start_time": "2024-01-22T11:08:02.195Z"
   },
   {
    "duration": 42,
    "start_time": "2024-01-22T11:08:02.261Z"
   },
   {
    "duration": 19,
    "start_time": "2024-01-22T11:08:02.305Z"
   },
   {
    "duration": 864,
    "start_time": "2024-01-22T11:08:02.326Z"
   },
   {
    "duration": 1671,
    "start_time": "2024-01-31T06:36:30.258Z"
   },
   {
    "duration": 117,
    "start_time": "2024-01-31T06:36:31.931Z"
   },
   {
    "duration": 16,
    "start_time": "2024-01-31T06:36:32.049Z"
   },
   {
    "duration": 15,
    "start_time": "2024-01-31T06:36:32.067Z"
   },
   {
    "duration": 16,
    "start_time": "2024-01-31T06:36:32.084Z"
   },
   {
    "duration": 1372,
    "start_time": "2024-01-31T06:36:32.101Z"
   },
   {
    "duration": 239,
    "start_time": "2024-01-31T06:36:33.475Z"
   },
   {
    "duration": 11,
    "start_time": "2024-01-31T06:36:33.716Z"
   },
   {
    "duration": 13,
    "start_time": "2024-01-31T06:36:33.729Z"
   },
   {
    "duration": 26,
    "start_time": "2024-01-31T06:36:33.744Z"
   },
   {
    "duration": 4898,
    "start_time": "2024-01-31T06:36:33.772Z"
   },
   {
    "duration": 194,
    "start_time": "2024-01-31T06:36:38.672Z"
   },
   {
    "duration": 29,
    "start_time": "2024-01-31T06:36:38.867Z"
   },
   {
    "duration": 3,
    "start_time": "2024-01-31T06:36:38.898Z"
   },
   {
    "duration": 16,
    "start_time": "2024-01-31T06:36:38.903Z"
   },
   {
    "duration": 5,
    "start_time": "2024-01-31T06:36:38.920Z"
   },
   {
    "duration": 468,
    "start_time": "2024-01-31T06:36:38.927Z"
   },
   {
    "duration": 122,
    "start_time": "2024-01-31T06:38:49.796Z"
   },
   {
    "duration": 4,
    "start_time": "2024-01-31T06:39:08.108Z"
   },
   {
    "duration": 26,
    "start_time": "2024-01-31T06:39:10.274Z"
   },
   {
    "duration": 15,
    "start_time": "2024-01-31T06:39:14.887Z"
   },
   {
    "duration": 1641,
    "start_time": "2024-01-31T06:39:47.927Z"
   },
   {
    "duration": 3,
    "start_time": "2024-01-31T06:40:01.117Z"
   },
   {
    "duration": 4,
    "start_time": "2024-01-31T06:40:08.544Z"
   },
   {
    "duration": 4,
    "start_time": "2024-01-31T06:40:15.786Z"
   },
   {
    "duration": 9,
    "start_time": "2024-01-31T06:44:29.701Z"
   },
   {
    "duration": 11,
    "start_time": "2024-01-31T06:44:44.542Z"
   },
   {
    "duration": 249,
    "start_time": "2024-01-31T06:44:53.128Z"
   },
   {
    "duration": 9,
    "start_time": "2024-01-31T06:45:19.161Z"
   },
   {
    "duration": 21943,
    "start_time": "2024-01-31T06:45:22.461Z"
   }
  ],
  "kernelspec": {
   "display_name": "Python 3 (ipykernel)",
   "language": "python",
   "name": "python3"
  },
  "language_info": {
   "codemirror_mode": {
    "name": "ipython",
    "version": 3
   },
   "file_extension": ".py",
   "mimetype": "text/x-python",
   "name": "python",
   "nbconvert_exporter": "python",
   "pygments_lexer": "ipython3",
   "version": "3.9.17"
  },
  "toc": {
   "base_numbering": 1,
   "nav_menu": {},
   "number_sections": true,
   "sideBar": true,
   "skip_h1_title": true,
   "title_cell": "Содержание",
   "title_sidebar": "Contents",
   "toc_cell": true,
   "toc_position": {
    "height": "calc(100% - 180px)",
    "left": "10px",
    "top": "150px",
    "width": "179px"
   },
   "toc_section_display": true,
   "toc_window_display": true
  }
 },
 "nbformat": 4,
 "nbformat_minor": 4
}
