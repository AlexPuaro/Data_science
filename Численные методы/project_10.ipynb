{
 "cells": [
  {
   "cell_type": "markdown",
   "metadata": {},
   "source": [
    "# Определение стоимости автомобилей"
   ]
  },
  {
   "cell_type": "markdown",
   "metadata": {},
   "source": [
    "**Описание исследования**\n",
    "\n",
    "Сервис по продаже автомобилей с пробегом «Не бит, не крашен» разрабатывает приложение для привлечения новых клиентов. В нём можно быстро узнать рыночную стоимость своего автомобиля. В нашем распоряжении исторические данные: технические характеристики, комплектации и цены автомобилей. \n",
    "\n",
    "**Цель исследования**\n",
    "\n",
    "Нам поручили разработать решение, которое позволит быстро узнать рыночную стоимость автомобиля.\n",
    "\n",
    "**Задачи исследования**\n",
    "\n",
    "Нам нужно построить модель для определения стоимости автомобиля. \n",
    "\n",
    "**Описание данных** \n",
    "\n",
    "Признаки:\n",
    "\n",
    "- DateCrawled — дата скачивания анкеты из базы\n",
    "- VehicleType — тип автомобильного кузова\n",
    "- RegistrationYear — год регистрации автомобиля\n",
    "- Gearbox — тип коробки передач\n",
    "- Power — мощность (л. с.)\n",
    "- Model — модель автомобиля\n",
    "- Kilometer — пробег (км)\n",
    "- RegistrationMonth — месяц регистрации автомобиля\n",
    "- FuelType — тип топлива\n",
    "- Brand — марка автомобиля\n",
    "- Repaired — была машина в ремонте или нет\n",
    "- DateCreated — дата создания анкеты\n",
    "- NumberOfPictures — количество фотографий автомобиля\n",
    "- PostalCode — почтовый индекс владельца анкеты (пользователя)\n",
    "- LastSeen — дата последней активности пользователя\n",
    "\n",
    "Целевой признак:\n",
    "- Price — цена (евро)\n",
    "\n",
    "**Данную задачу разобьем на 3 этапа:**\n",
    "\n",
    "1. Загрузим и изучим данные. Подготовим выборки для обучения моделей.\n",
    "2. Обучим разные модели. Для каждой модели попробуем разные гиперпараметры.\n",
    "3. Проанализируем время обучения, время предсказания и качество моделей. Опираясь на критерии заказчика, выберем лучшую модель, проверим её качество на тестовой выборке."
   ]
  },
  {
   "cell_type": "code",
   "execution_count": 1,
   "metadata": {},
   "outputs": [],
   "source": [
    "#загрузка библиотек\n",
    "import pandas as pd\n",
    "import numpy as np\n",
    "import matplotlib.pyplot as plt\n",
    "import seaborn as sns\n",
    "\n",
    "from sklearn.model_selection import train_test_split, RandomizedSearchCV\n",
    "from sklearn.pipeline import Pipeline\n",
    "from sklearn.compose import ColumnTransformer\n",
    "from sklearn.impute import SimpleImputer \n",
    "from sklearn.preprocessing import OrdinalEncoder, StandardScaler\n",
    "from sklearn.tree import DecisionTreeRegressor\n",
    "from sklearn.dummy import DummyRegressor\n",
    "from sklearn.metrics import mean_squared_error\n",
    "\n",
    "!pip install lightgbm -q\n",
    "from lightgbm import LGBMRegressor\n",
    "\n",
    "!pip install phik -q\n",
    "import phik\n",
    "from phik.report import plot_correlation_matrix\n",
    "\n",
    "RANDOM_STATE = 42\n",
    "TEST_SIZE = 0.25"
   ]
  },
  {
   "cell_type": "markdown",
   "metadata": {},
   "source": [
    "## Подготовка данных"
   ]
  },
  {
   "cell_type": "markdown",
   "metadata": {},
   "source": [
    "Загрузим данные"
   ]
  },
  {
   "cell_type": "code",
   "execution_count": 2,
   "metadata": {},
   "outputs": [],
   "source": [
    "try:\n",
    "    auto = pd.read_csv('/datasets/autos.csv', parse_dates=[0, 12, 15]) #обозначим тип даты для 3 столбцов\n",
    "except:\n",
    "    auto = pd.read_csv('https://code.s3.yandex.net/datasets/autos.csv', parse_dates=[0, 12, 15])"
   ]
  },
  {
   "cell_type": "code",
   "execution_count": 3,
   "metadata": {},
   "outputs": [
    {
     "name": "stdout",
     "output_type": "stream",
     "text": [
      "<class 'pandas.core.frame.DataFrame'>\n",
      "RangeIndex: 354369 entries, 0 to 354368\n",
      "Data columns (total 16 columns):\n",
      " #   Column             Non-Null Count   Dtype         \n",
      "---  ------             --------------   -----         \n",
      " 0   DateCrawled        354369 non-null  datetime64[ns]\n",
      " 1   Price              354369 non-null  int64         \n",
      " 2   VehicleType        316879 non-null  object        \n",
      " 3   RegistrationYear   354369 non-null  int64         \n",
      " 4   Gearbox            334536 non-null  object        \n",
      " 5   Power              354369 non-null  int64         \n",
      " 6   Model              334664 non-null  object        \n",
      " 7   Kilometer          354369 non-null  int64         \n",
      " 8   RegistrationMonth  354369 non-null  int64         \n",
      " 9   FuelType           321474 non-null  object        \n",
      " 10  Brand              354369 non-null  object        \n",
      " 11  Repaired           283215 non-null  object        \n",
      " 12  DateCreated        354369 non-null  datetime64[ns]\n",
      " 13  NumberOfPictures   354369 non-null  int64         \n",
      " 14  PostalCode         354369 non-null  int64         \n",
      " 15  LastSeen           354369 non-null  datetime64[ns]\n",
      "dtypes: datetime64[ns](3), int64(7), object(6)\n",
      "memory usage: 43.3+ MB\n"
     ]
    },
    {
     "data": {
      "text/html": [
       "<div>\n",
       "<style scoped>\n",
       "    .dataframe tbody tr th:only-of-type {\n",
       "        vertical-align: middle;\n",
       "    }\n",
       "\n",
       "    .dataframe tbody tr th {\n",
       "        vertical-align: top;\n",
       "    }\n",
       "\n",
       "    .dataframe thead th {\n",
       "        text-align: right;\n",
       "    }\n",
       "</style>\n",
       "<table border=\"1\" class=\"dataframe\">\n",
       "  <thead>\n",
       "    <tr style=\"text-align: right;\">\n",
       "      <th></th>\n",
       "      <th>DateCrawled</th>\n",
       "      <th>Price</th>\n",
       "      <th>VehicleType</th>\n",
       "      <th>RegistrationYear</th>\n",
       "      <th>Gearbox</th>\n",
       "      <th>Power</th>\n",
       "      <th>Model</th>\n",
       "      <th>Kilometer</th>\n",
       "      <th>RegistrationMonth</th>\n",
       "      <th>FuelType</th>\n",
       "      <th>Brand</th>\n",
       "      <th>Repaired</th>\n",
       "      <th>DateCreated</th>\n",
       "      <th>NumberOfPictures</th>\n",
       "      <th>PostalCode</th>\n",
       "      <th>LastSeen</th>\n",
       "    </tr>\n",
       "  </thead>\n",
       "  <tbody>\n",
       "    <tr>\n",
       "      <th>0</th>\n",
       "      <td>2016-03-24 11:52:17</td>\n",
       "      <td>480</td>\n",
       "      <td>NaN</td>\n",
       "      <td>1993</td>\n",
       "      <td>manual</td>\n",
       "      <td>0</td>\n",
       "      <td>golf</td>\n",
       "      <td>150000</td>\n",
       "      <td>0</td>\n",
       "      <td>petrol</td>\n",
       "      <td>volkswagen</td>\n",
       "      <td>NaN</td>\n",
       "      <td>2016-03-24</td>\n",
       "      <td>0</td>\n",
       "      <td>70435</td>\n",
       "      <td>2016-04-07 03:16:57</td>\n",
       "    </tr>\n",
       "    <tr>\n",
       "      <th>1</th>\n",
       "      <td>2016-03-24 10:58:45</td>\n",
       "      <td>18300</td>\n",
       "      <td>coupe</td>\n",
       "      <td>2011</td>\n",
       "      <td>manual</td>\n",
       "      <td>190</td>\n",
       "      <td>NaN</td>\n",
       "      <td>125000</td>\n",
       "      <td>5</td>\n",
       "      <td>gasoline</td>\n",
       "      <td>audi</td>\n",
       "      <td>yes</td>\n",
       "      <td>2016-03-24</td>\n",
       "      <td>0</td>\n",
       "      <td>66954</td>\n",
       "      <td>2016-04-07 01:46:50</td>\n",
       "    </tr>\n",
       "    <tr>\n",
       "      <th>2</th>\n",
       "      <td>2016-03-14 12:52:21</td>\n",
       "      <td>9800</td>\n",
       "      <td>suv</td>\n",
       "      <td>2004</td>\n",
       "      <td>auto</td>\n",
       "      <td>163</td>\n",
       "      <td>grand</td>\n",
       "      <td>125000</td>\n",
       "      <td>8</td>\n",
       "      <td>gasoline</td>\n",
       "      <td>jeep</td>\n",
       "      <td>NaN</td>\n",
       "      <td>2016-03-14</td>\n",
       "      <td>0</td>\n",
       "      <td>90480</td>\n",
       "      <td>2016-04-05 12:47:46</td>\n",
       "    </tr>\n",
       "    <tr>\n",
       "      <th>3</th>\n",
       "      <td>2016-03-17 16:54:04</td>\n",
       "      <td>1500</td>\n",
       "      <td>small</td>\n",
       "      <td>2001</td>\n",
       "      <td>manual</td>\n",
       "      <td>75</td>\n",
       "      <td>golf</td>\n",
       "      <td>150000</td>\n",
       "      <td>6</td>\n",
       "      <td>petrol</td>\n",
       "      <td>volkswagen</td>\n",
       "      <td>no</td>\n",
       "      <td>2016-03-17</td>\n",
       "      <td>0</td>\n",
       "      <td>91074</td>\n",
       "      <td>2016-03-17 17:40:17</td>\n",
       "    </tr>\n",
       "    <tr>\n",
       "      <th>4</th>\n",
       "      <td>2016-03-31 17:25:20</td>\n",
       "      <td>3600</td>\n",
       "      <td>small</td>\n",
       "      <td>2008</td>\n",
       "      <td>manual</td>\n",
       "      <td>69</td>\n",
       "      <td>fabia</td>\n",
       "      <td>90000</td>\n",
       "      <td>7</td>\n",
       "      <td>gasoline</td>\n",
       "      <td>skoda</td>\n",
       "      <td>no</td>\n",
       "      <td>2016-03-31</td>\n",
       "      <td>0</td>\n",
       "      <td>60437</td>\n",
       "      <td>2016-04-06 10:17:21</td>\n",
       "    </tr>\n",
       "  </tbody>\n",
       "</table>\n",
       "</div>"
      ],
      "text/plain": [
       "          DateCrawled  Price VehicleType  RegistrationYear Gearbox  Power  \\\n",
       "0 2016-03-24 11:52:17    480         NaN              1993  manual      0   \n",
       "1 2016-03-24 10:58:45  18300       coupe              2011  manual    190   \n",
       "2 2016-03-14 12:52:21   9800         suv              2004    auto    163   \n",
       "3 2016-03-17 16:54:04   1500       small              2001  manual     75   \n",
       "4 2016-03-31 17:25:20   3600       small              2008  manual     69   \n",
       "\n",
       "   Model  Kilometer  RegistrationMonth  FuelType       Brand Repaired  \\\n",
       "0   golf     150000                  0    petrol  volkswagen      NaN   \n",
       "1    NaN     125000                  5  gasoline        audi      yes   \n",
       "2  grand     125000                  8  gasoline        jeep      NaN   \n",
       "3   golf     150000                  6    petrol  volkswagen       no   \n",
       "4  fabia      90000                  7  gasoline       skoda       no   \n",
       "\n",
       "  DateCreated  NumberOfPictures  PostalCode            LastSeen  \n",
       "0  2016-03-24                 0       70435 2016-04-07 03:16:57  \n",
       "1  2016-03-24                 0       66954 2016-04-07 01:46:50  \n",
       "2  2016-03-14                 0       90480 2016-04-05 12:47:46  \n",
       "3  2016-03-17                 0       91074 2016-03-17 17:40:17  \n",
       "4  2016-03-31                 0       60437 2016-04-06 10:17:21  "
      ]
     },
     "execution_count": 3,
     "metadata": {},
     "output_type": "execute_result"
    }
   ],
   "source": [
    "auto_old = auto.shape[0]\n",
    "auto.info()\n",
    "auto.head()"
   ]
  },
  {
   "cell_type": "code",
   "execution_count": 4,
   "metadata": {},
   "outputs": [
    {
     "data": {
      "text/plain": [
       "array(['2016-03-05T14:06:22.000000000', '2016-03-05T14:06:23.000000000',\n",
       "       '2016-03-05T14:06:24.000000000', ...,\n",
       "       '2016-04-07T14:36:55.000000000', '2016-04-07T14:36:56.000000000',\n",
       "       '2016-04-07T14:36:58.000000000'], dtype='datetime64[ns]')"
      ]
     },
     "execution_count": 4,
     "metadata": {},
     "output_type": "execute_result"
    }
   ],
   "source": [
    "auto['DateCrawled'].sort_values().unique()"
   ]
  },
  {
   "cell_type": "markdown",
   "metadata": {},
   "source": [
    "Данные были выгружены в период с 2016-03-05 по 2016-04-07."
   ]
  },
  {
   "cell_type": "markdown",
   "metadata": {},
   "source": [
    "В данных очень много пропущенных значений, также не все столбцы нам нужны для прогнозирования цены авто."
   ]
  },
  {
   "cell_type": "code",
   "execution_count": 5,
   "metadata": {},
   "outputs": [
    {
     "data": {
      "text/plain": [
       "array([0], dtype=int64)"
      ]
     },
     "execution_count": 5,
     "metadata": {},
     "output_type": "execute_result"
    }
   ],
   "source": [
    "auto['NumberOfPictures'].unique()"
   ]
  },
  {
   "cell_type": "code",
   "execution_count": 6,
   "metadata": {},
   "outputs": [
    {
     "data": {
      "text/plain": [
       "array([ 0,  1,  2,  3,  4,  5,  6,  7,  8,  9, 10, 11, 12], dtype=int64)"
      ]
     },
     "execution_count": 6,
     "metadata": {},
     "output_type": "execute_result"
    }
   ],
   "source": [
    "auto['RegistrationMonth'].sort_values().unique()"
   ]
  },
  {
   "cell_type": "markdown",
   "metadata": {},
   "source": [
    "Для анализа нам не нужны признаки, относящиеся к датам `DateCrawled`, `DateCreated`, `LastSeen`. \n",
    "\n",
    "Месяц регистрации автомобиля `RegistrationMonth` имеет нулевые значения и несет мало полезной информации, для прогноза достаточно только года регистрации, поэтому его тоже удаляем. \n",
    "\n",
    "Так же значения почтовых индексов владельцев `PostalCode` нам тоже не помогут в анализе. \n",
    "\n",
    "Ни для одного объявления не указано количество фотографий автомобиля `NumberOfPictures`, поэтому данный столбец тоже удаляем."
   ]
  },
  {
   "cell_type": "code",
   "execution_count": 7,
   "metadata": {},
   "outputs": [],
   "source": [
    "auto = auto.drop(columns=['DateCrawled', 'DateCreated', 'LastSeen', 'RegistrationMonth', 'PostalCode', 'NumberOfPictures'])"
   ]
  },
  {
   "cell_type": "code",
   "execution_count": 8,
   "metadata": {},
   "outputs": [
    {
     "name": "stdout",
     "output_type": "stream",
     "text": [
      "<class 'pandas.core.frame.DataFrame'>\n",
      "RangeIndex: 354369 entries, 0 to 354368\n",
      "Data columns (total 10 columns):\n",
      " #   Column            Non-Null Count   Dtype \n",
      "---  ------            --------------   ----- \n",
      " 0   Price             354369 non-null  int64 \n",
      " 1   VehicleType       316879 non-null  object\n",
      " 2   RegistrationYear  354369 non-null  int64 \n",
      " 3   Gearbox           334536 non-null  object\n",
      " 4   Power             354369 non-null  int64 \n",
      " 5   Model             334664 non-null  object\n",
      " 6   Kilometer         354369 non-null  int64 \n",
      " 7   FuelType          321474 non-null  object\n",
      " 8   Brand             354369 non-null  object\n",
      " 9   Repaired          283215 non-null  object\n",
      "dtypes: int64(4), object(6)\n",
      "memory usage: 27.0+ MB\n"
     ]
    },
    {
     "data": {
      "text/html": [
       "<div>\n",
       "<style scoped>\n",
       "    .dataframe tbody tr th:only-of-type {\n",
       "        vertical-align: middle;\n",
       "    }\n",
       "\n",
       "    .dataframe tbody tr th {\n",
       "        vertical-align: top;\n",
       "    }\n",
       "\n",
       "    .dataframe thead th {\n",
       "        text-align: right;\n",
       "    }\n",
       "</style>\n",
       "<table border=\"1\" class=\"dataframe\">\n",
       "  <thead>\n",
       "    <tr style=\"text-align: right;\">\n",
       "      <th></th>\n",
       "      <th>Price</th>\n",
       "      <th>VehicleType</th>\n",
       "      <th>RegistrationYear</th>\n",
       "      <th>Gearbox</th>\n",
       "      <th>Power</th>\n",
       "      <th>Model</th>\n",
       "      <th>Kilometer</th>\n",
       "      <th>FuelType</th>\n",
       "      <th>Brand</th>\n",
       "      <th>Repaired</th>\n",
       "    </tr>\n",
       "  </thead>\n",
       "  <tbody>\n",
       "    <tr>\n",
       "      <th>0</th>\n",
       "      <td>480</td>\n",
       "      <td>NaN</td>\n",
       "      <td>1993</td>\n",
       "      <td>manual</td>\n",
       "      <td>0</td>\n",
       "      <td>golf</td>\n",
       "      <td>150000</td>\n",
       "      <td>petrol</td>\n",
       "      <td>volkswagen</td>\n",
       "      <td>NaN</td>\n",
       "    </tr>\n",
       "    <tr>\n",
       "      <th>1</th>\n",
       "      <td>18300</td>\n",
       "      <td>coupe</td>\n",
       "      <td>2011</td>\n",
       "      <td>manual</td>\n",
       "      <td>190</td>\n",
       "      <td>NaN</td>\n",
       "      <td>125000</td>\n",
       "      <td>gasoline</td>\n",
       "      <td>audi</td>\n",
       "      <td>yes</td>\n",
       "    </tr>\n",
       "    <tr>\n",
       "      <th>2</th>\n",
       "      <td>9800</td>\n",
       "      <td>suv</td>\n",
       "      <td>2004</td>\n",
       "      <td>auto</td>\n",
       "      <td>163</td>\n",
       "      <td>grand</td>\n",
       "      <td>125000</td>\n",
       "      <td>gasoline</td>\n",
       "      <td>jeep</td>\n",
       "      <td>NaN</td>\n",
       "    </tr>\n",
       "    <tr>\n",
       "      <th>3</th>\n",
       "      <td>1500</td>\n",
       "      <td>small</td>\n",
       "      <td>2001</td>\n",
       "      <td>manual</td>\n",
       "      <td>75</td>\n",
       "      <td>golf</td>\n",
       "      <td>150000</td>\n",
       "      <td>petrol</td>\n",
       "      <td>volkswagen</td>\n",
       "      <td>no</td>\n",
       "    </tr>\n",
       "    <tr>\n",
       "      <th>4</th>\n",
       "      <td>3600</td>\n",
       "      <td>small</td>\n",
       "      <td>2008</td>\n",
       "      <td>manual</td>\n",
       "      <td>69</td>\n",
       "      <td>fabia</td>\n",
       "      <td>90000</td>\n",
       "      <td>gasoline</td>\n",
       "      <td>skoda</td>\n",
       "      <td>no</td>\n",
       "    </tr>\n",
       "  </tbody>\n",
       "</table>\n",
       "</div>"
      ],
      "text/plain": [
       "   Price VehicleType  RegistrationYear Gearbox  Power  Model  Kilometer  \\\n",
       "0    480         NaN              1993  manual      0   golf     150000   \n",
       "1  18300       coupe              2011  manual    190    NaN     125000   \n",
       "2   9800         suv              2004    auto    163  grand     125000   \n",
       "3   1500       small              2001  manual     75   golf     150000   \n",
       "4   3600       small              2008  manual     69  fabia      90000   \n",
       "\n",
       "   FuelType       Brand Repaired  \n",
       "0    petrol  volkswagen      NaN  \n",
       "1  gasoline        audi      yes  \n",
       "2  gasoline        jeep      NaN  \n",
       "3    petrol  volkswagen       no  \n",
       "4  gasoline       skoda       no  "
      ]
     },
     "execution_count": 8,
     "metadata": {},
     "output_type": "execute_result"
    }
   ],
   "source": [
    "auto.info()\n",
    "auto.head()"
   ]
  },
  {
   "cell_type": "code",
   "execution_count": 9,
   "metadata": {},
   "outputs": [
    {
     "data": {
      "text/plain": [
       "array(['petrol', 'gasoline', nan, 'lpg', 'other', 'hybrid', 'cng',\n",
       "       'electric'], dtype=object)"
      ]
     },
     "execution_count": 9,
     "metadata": {},
     "output_type": "execute_result"
    }
   ],
   "source": [
    "auto['FuelType'].unique()"
   ]
  },
  {
   "cell_type": "markdown",
   "metadata": {},
   "source": [
    "`gasoline` и `petrol`, эти два слова используются в разных странах, но означают одно и тоже - бензин. Объеденим эти значения в одно `gasoline`"
   ]
  },
  {
   "cell_type": "code",
   "execution_count": 10,
   "metadata": {},
   "outputs": [],
   "source": [
    "auto['FuelType'] = auto['FuelType'].replace('petrol', 'gasoline')"
   ]
  },
  {
   "cell_type": "markdown",
   "metadata": {},
   "source": [
    "Заполним пропуски в столбце с ремонтом машины, скорее всего пропуски означают отрицатальный ответ, заменим их на `no`."
   ]
  },
  {
   "cell_type": "code",
   "execution_count": 11,
   "metadata": {},
   "outputs": [],
   "source": [
    "auto['Repaired'] = auto['Repaired'].fillna('no')"
   ]
  },
  {
   "cell_type": "markdown",
   "metadata": {},
   "source": [
    "Автомобиль не может стоить слишком дешево, в любом случае его всегда можно сдать на металлолом. Поэтому ограничим нижнюю границу цены в 200 евро."
   ]
  },
  {
   "cell_type": "code",
   "execution_count": 12,
   "metadata": {},
   "outputs": [],
   "source": [
    "auto = auto.query('Price >= 1000')"
   ]
  },
  {
   "cell_type": "markdown",
   "metadata": {},
   "source": [
    "Ограничимся годом регистрации автомобиля Ford Model T - 1908, и не будем учитывать все автомобили до него.\n",
    "На основе этой машины сделаем ограничение и по мощности - 20 л.с, а потолок мощности по машине Lotus Evija - 2000 л.с."
   ]
  },
  {
   "cell_type": "code",
   "execution_count": 13,
   "metadata": {},
   "outputs": [],
   "source": [
    "auto = auto.query('1908 <= RegistrationYear <= 2016 and 20 <= Power <= 2000')"
   ]
  },
  {
   "cell_type": "code",
   "execution_count": 14,
   "metadata": {},
   "outputs": [
    {
     "data": {
      "image/png": "[encoded data removed]",
      "text/plain": [
       "<Figure size 2000x500 with 2 Axes>"
      ]
     },
     "metadata": {},
     "output_type": "display_data"
    },
    {
     "data": {
      "image/png": "[encoded data removed]",
      "text/plain": [
       "<Figure size 2000x500 with 2 Axes>"
      ]
     },
     "metadata": {},
     "output_type": "display_data"
    },
    {
     "data": {
      "image/png": "[encoded data removed]",
      "text/plain": [
       "<Figure size 2000x500 with 2 Axes>"
      ]
     },
     "metadata": {},
     "output_type": "display_data"
    },
    {
     "data": {
      "image/png": "[encoded data removed]",
      "text/plain": [
       "<Figure size 2000x500 with 2 Axes>"
      ]
     },
     "metadata": {},
     "output_type": "display_data"
    }
   ],
   "source": [
    "fig, axes = plt.subplots(nrows=1, ncols=2, figsize=(20,5))\n",
    "sns.histplot(auto['Price'], bins=10, ax=axes[0]).set_title('Цена авто, евро')\n",
    "sns.boxplot(x=auto['Price'], ax=axes[1]).set_title('Цена авто, евро')\n",
    "\n",
    "fig, axes = plt.subplots(nrows=1, ncols=2, figsize=(20,5))\n",
    "sns.histplot(auto['RegistrationYear'], bins=10, ax=axes[0]).set_title('Год регистрации авто')\n",
    "sns.boxplot(x=auto['RegistrationYear'], ax=axes[1]).set_title('Год регистрации авто')\n",
    "\n",
    "fig, axes = plt.subplots(nrows=1, ncols=2, figsize=(20,5))\n",
    "sns.histplot(auto['Power'], bins=10, ax=axes[0]).set_title('Мощность, л.с.')\n",
    "sns.boxplot(x=auto['Power'], ax=axes[1]).set_title('Мощность, л.с.')\n",
    "\n",
    "fig, axes = plt.subplots(nrows=1, ncols=2, figsize=(20,5))\n",
    "sns.histplot(auto['Kilometer'], bins=8, ax=axes[0]).set_title('Пробег, км')\n",
    "sns.boxplot(x=auto['Kilometer'], ax=axes[1]).set_title('Пробег, км');"
   ]
  },
  {
   "cell_type": "markdown",
   "metadata": {},
   "source": [
    "После наших ограничений данные выглядит нормально. В основном стоимость машин не превышает 7500 евро. Большинство машин были выпущены после 2000 годов. Мощность машин в среднем меньше 250 л.с. Больше всего машины имеют пробег свыше 100 тысяч километров."
   ]
  },
  {
   "cell_type": "code",
   "execution_count": 15,
   "metadata": {},
   "outputs": [],
   "source": [
    "phik_overview=auto.phik_matrix(interval_cols=['Price', 'Power']);"
   ]
  },
  {
   "cell_type": "code",
   "execution_count": 16,
   "metadata": {},
   "outputs": [
    {
     "data": {
      "image/png": "[encoded data removed]",
      "text/plain": [
       "<Figure size 1200x800 with 2 Axes>"
      ]
     },
     "metadata": {},
     "output_type": "display_data"
    }
   ],
   "source": [
    "plot_correlation_matrix(\n",
    "    phik_overview.values,\n",
    "    x_labels=phik_overview.columns,\n",
    "    y_labels=phik_overview.index,\n",
    "    vmin=0, vmax=1, color_map='Greens',\n",
    "    title='Матрица корреляций признаков',\n",
    "    fontsize_factor=1.1,\n",
    "    figsize=(12, 8))"
   ]
  },
  {
   "cell_type": "markdown",
   "metadata": {},
   "source": [
    "Имеем сильную связь между моделью и брендом машины и между моделью и типом кузова."
   ]
  },
  {
   "cell_type": "markdown",
   "metadata": {},
   "source": [
    "Видим что больше всего на цену влияет год выпуска авто, что в полне логично. А причиной не столь высокой зависимости являются редкие старые машины которые могут стоить очень дорого."
   ]
  },
  {
   "cell_type": "code",
   "execution_count": 17,
   "metadata": {},
   "outputs": [
    {
     "data": {
      "text/plain": [
       "Price                  0\n",
       "VehicleType         6016\n",
       "RegistrationYear       0\n",
       "Gearbox             3533\n",
       "Power                  0\n",
       "Model               7632\n",
       "Kilometer              0\n",
       "FuelType            9476\n",
       "Brand                  0\n",
       "Repaired               0\n",
       "dtype: int64"
      ]
     },
     "execution_count": 17,
     "metadata": {},
     "output_type": "execute_result"
    }
   ],
   "source": [
    "auto.isnull().sum()"
   ]
  },
  {
   "cell_type": "markdown",
   "metadata": {},
   "source": [
    "Пропущенные значения в столбцах `VehicleType`, `Gearbox`, `FuelType`, `Model` будет сложно заполнить, и оставлять их пустыми нельзя для правильности прогноза. Поэтому создадим новое значение `missing` в которое войдут все пропущенные значения."
   ]
  },
  {
   "cell_type": "code",
   "execution_count": 18,
   "metadata": {},
   "outputs": [],
   "source": [
    "auto[['VehicleType', 'Gearbox', 'FuelType', 'Model']] = auto[['VehicleType', 'Gearbox', 'FuelType', 'Model']].fillna('missing')"
   ]
  },
  {
   "cell_type": "code",
   "execution_count": 19,
   "metadata": {},
   "outputs": [
    {
     "data": {
      "image/png": "[encoded data removed]",
      "text/plain": [
       "<Figure size 1500x1500 with 3 Axes>"
      ]
     },
     "metadata": {},
     "output_type": "display_data"
    },
    {
     "data": {
      "image/png": "[encoded data removed]",
      "text/plain": [
       "<Figure size 1000x1000 with 2 Axes>"
      ]
     },
     "metadata": {},
     "output_type": "display_data"
    }
   ],
   "source": [
    "fig, axes = plt.subplots(nrows=1, ncols=3, figsize=(15,15))\n",
    "auto.pivot_table(index='VehicleType', values='Price', aggfunc='count').plot(\n",
    "    kind='pie', y='Price', legend=False, autopct = '%1.0f%%', \n",
    "    title = 'Тип кузова авто', ylabel='', ax=axes[0])\n",
    "\n",
    "auto.pivot_table(index='Gearbox', values='Price', aggfunc='count').plot(\n",
    "    kind='pie', y='Price', legend=False, autopct = '%1.0f%%', \n",
    "    title = 'Тип коробки передач', ylabel='', ax=axes[1])\n",
    "\n",
    "auto.pivot_table(index='FuelType', values='Price', aggfunc='count').plot(\n",
    "    kind='pie', y='Price', legend=False, autopct = '%1.0f%%', \n",
    "    title = 'Тип топлива', ylabel='', ax=axes[2])\n",
    "\n",
    "fig, axes = plt.subplots(nrows=1, ncols=2, figsize=(10,10))\n",
    "auto.pivot_table(index='Brand', values='Price', aggfunc='count').plot(\n",
    "    kind='pie', y='Price', legend=False, autopct = '%1.0f%%', \n",
    "    title = 'Бренд авто', ylabel='', ax=axes[0])\n",
    "\n",
    "auto.pivot_table(index='Repaired', values='Price', aggfunc='count').plot(\n",
    "    kind='pie', y='Price', legend=False, autopct = '%1.0f%%', \n",
    "    title = 'Был ли ремонт авто', ylabel='', ax=axes[1]);"
   ]
  },
  {
   "cell_type": "markdown",
   "metadata": {},
   "source": [
    "Почти все авто ездят на бензине - 94%, и большинство из них на механике - 76%. Выделяются 3 популярные кузова - sedan, small и wagon. Из брендов можно выделить - volkswagen, bmw, opel, mercedes, audi, ford. Только 6% авто были в ремонте, либо продавцы просто умалчивают об этом при продаже."
   ]
  },
  {
   "cell_type": "code",
   "execution_count": 20,
   "metadata": {},
   "outputs": [],
   "source": [
    "auto_clear = auto.shape[0]"
   ]
  },
  {
   "cell_type": "code",
   "execution_count": 21,
   "metadata": {},
   "outputs": [
    {
     "data": {
      "text/plain": [
       "31.9"
      ]
     },
     "execution_count": 21,
     "metadata": {},
     "output_type": "execute_result"
    }
   ],
   "source": [
    "round(100 - (auto_clear / auto_old)*100, 1)"
   ]
  },
  {
   "cell_type": "markdown",
   "metadata": {},
   "source": [
    "Мы удалили из наших данных 31.9% информации. Перейдем теперь к подготовке выборки для обучения моделей."
   ]
  },
  {
   "cell_type": "code",
   "execution_count": 22,
   "metadata": {},
   "outputs": [],
   "source": [
    "X = auto.drop(['Price'], axis=1)\n",
    "y = auto['Price']\n",
    "\n",
    "X_train, X_test, y_train, y_test = train_test_split(\n",
    "    X, y, test_size = TEST_SIZE, random_state = RANDOM_STATE)\n",
    "\n",
    "cat_columns = ['VehicleType', 'Gearbox', 'FuelType', 'Brand', 'Repaired', 'RegistrationYear', 'Kilometer', 'Model']\n",
    "num_columns = ['Power']"
   ]
  },
  {
   "cell_type": "markdown",
   "metadata": {},
   "source": [
    "## Обучение моделей"
   ]
  },
  {
   "cell_type": "markdown",
   "metadata": {},
   "source": [
    "Обучим две разные модели, одна из которых — LGBMRegressor, другая — DecisionTreeRegressor. Для каждой модели подберем разные гиперпараметры. Для оценки качества моделей будем применять метрику RMSE, значение метрики должно быть меньше 2500."
   ]
  },
  {
   "cell_type": "code",
   "execution_count": 23,
   "metadata": {},
   "outputs": [],
   "source": [
    "data_preprocessor = ColumnTransformer(\n",
    "    [('ord', OrdinalEncoder(handle_unknown='ignore'), cat_columns),\n",
    "     ('num', StandardScaler(), num_columns)],\n",
    "    remainder='passthrough')"
   ]
  },
  {
   "cell_type": "code",
   "execution_count": 24,
   "metadata": {},
   "outputs": [],
   "source": [
    "pipe_final = Pipeline(\n",
    "    [('preprocessor', data_preprocessor),\n",
    "     ('models', LGBMRegressor(random_state=RANDOM_STATE))])"
   ]
  },
  {
   "cell_type": "code",
   "execution_count": 25,
   "metadata": {},
   "outputs": [],
   "source": [
    "param_distributions = [\n",
    "    {\n",
    "        'models': [LGBMRegressor(random_state=RANDOM_STATE, verbose=-1)],\n",
    "        'models__n_estimators': range(200,210),\n",
    "        'models__max_depth': range(2, 6)\n",
    "    },\n",
    "    { \n",
    "        'models': [DecisionTreeRegressor(random_state=RANDOM_STATE)], \n",
    "        'models__max_depth': range(2,6), \n",
    "        'models__min_samples_split' : range(1,10)\n",
    "    }\n",
    "] "
   ]
  },
  {
   "cell_type": "code",
   "execution_count": 26,
   "metadata": {},
   "outputs": [],
   "source": [
    "randomized_search = RandomizedSearchCV(\n",
    "    pipe_final, \n",
    "    param_distributions=param_distributions, \n",
    "    scoring='neg_root_mean_squared_error', \n",
    "    random_state=RANDOM_STATE,\n",
    "    n_jobs=-1\n",
    ")"
   ]
  },
  {
   "cell_type": "code",
   "execution_count": 27,
   "metadata": {},
   "outputs": [],
   "source": [
    "randomized_search.fit(X_train, y_train);"
   ]
  },
  {
   "cell_type": "code",
   "execution_count": 28,
   "metadata": {},
   "outputs": [
    {
     "name": "stdout",
     "output_type": "stream",
     "text": [
      "Лучшая модель и её параметры:\n",
      " Pipeline(steps=[('preprocessor',\n",
      "                 ColumnTransformer(remainder='passthrough',\n",
      "                                   transformers=[('ord',\n",
      "                                                  OrdinalEncoder(handle_unknown='ignore'),\n",
      "                                                  ['VehicleType', 'Gearbox',\n",
      "                                                   'FuelType', 'Brand',\n",
      "                                                   'Repaired',\n",
      "                                                   'RegistrationYear',\n",
      "                                                   'Kilometer', 'Model']),\n",
      "                                                 ('num', StandardScaler(),\n",
      "                                                  ['Power'])])),\n",
      "                ('models',\n",
      "                 LGBMRegressor(max_depth=5, n_estimators=205, random_state=42,\n",
      "                               verbose=-1))])\n",
      "Метрика RMSE для лучшей модели: 1758.4502965654658\n"
     ]
    }
   ],
   "source": [
    "print('Лучшая модель и её параметры:\\n', randomized_search.best_estimator_) \n",
    "\n",
    "y_test_pred = randomized_search.predict(X_test)\n",
    "print(f'Метрика RMSE для лучшей модели: {abs(randomized_search.best_score_)}')"
   ]
  },
  {
   "cell_type": "markdown",
   "metadata": {},
   "source": [
    "Лучшей моделью стала LGBMRegressor с параметрами max_depth=5, n_estimators=205. Метрика имеет хорошее значение, но нужно сравнить ее с другой моделью DecisionTreeRegressor."
   ]
  },
  {
   "cell_type": "markdown",
   "metadata": {},
   "source": [
    "## Анализ моделей"
   ]
  },
  {
   "cell_type": "markdown",
   "metadata": {},
   "source": [
    "Проанализируем время обучения, время предсказания и качество моделей. Опираясь на критерии заказчика, выберем лучшую модель и проверим её качество на тестовой выборке."
   ]
  },
  {
   "cell_type": "code",
   "execution_count": 29,
   "metadata": {},
   "outputs": [],
   "source": [
    "cv_results = pd.DataFrame(randomized_search.cv_results_)[['mean_test_score', 'mean_fit_time','mean_score_time', 'param_models', 'params']]"
   ]
  },
  {
   "cell_type": "code",
   "execution_count": 30,
   "metadata": {},
   "outputs": [],
   "source": [
    "cv_results['mean_test_score'] = cv_results['mean_test_score'] *(-1)"
   ]
  },
  {
   "cell_type": "code",
   "execution_count": 31,
   "metadata": {},
   "outputs": [
    {
     "data": {
      "text/html": [
       "<div>\n",
       "<style scoped>\n",
       "    .dataframe tbody tr th:only-of-type {\n",
       "        vertical-align: middle;\n",
       "    }\n",
       "\n",
       "    .dataframe tbody tr th {\n",
       "        vertical-align: top;\n",
       "    }\n",
       "\n",
       "    .dataframe thead th {\n",
       "        text-align: right;\n",
       "    }\n",
       "</style>\n",
       "<table border=\"1\" class=\"dataframe\">\n",
       "  <thead>\n",
       "    <tr style=\"text-align: right;\">\n",
       "      <th></th>\n",
       "      <th>mean_test_score</th>\n",
       "      <th>mean_fit_time</th>\n",
       "      <th>mean_score_time</th>\n",
       "      <th>param_models</th>\n",
       "      <th>params</th>\n",
       "    </tr>\n",
       "  </thead>\n",
       "  <tbody>\n",
       "    <tr>\n",
       "      <th>1</th>\n",
       "      <td>1758.450297</td>\n",
       "      <td>12.756084</td>\n",
       "      <td>0.223402</td>\n",
       "      <td>LGBMRegressor(max_depth=5, n_estimators=205, r...</td>\n",
       "      <td>{'models__n_estimators': 205, 'models__max_dep...</td>\n",
       "    </tr>\n",
       "    <tr>\n",
       "      <th>9</th>\n",
       "      <td>1818.287802</td>\n",
       "      <td>3.056625</td>\n",
       "      <td>0.221009</td>\n",
       "      <td>LGBMRegressor(max_depth=5, n_estimators=205, r...</td>\n",
       "      <td>{'models__n_estimators': 208, 'models__max_dep...</td>\n",
       "    </tr>\n",
       "    <tr>\n",
       "      <th>2</th>\n",
       "      <td>1917.201410</td>\n",
       "      <td>3.472912</td>\n",
       "      <td>0.166355</td>\n",
       "      <td>LGBMRegressor(max_depth=5, n_estimators=205, r...</td>\n",
       "      <td>{'models__n_estimators': 200, 'models__max_dep...</td>\n",
       "    </tr>\n",
       "    <tr>\n",
       "      <th>0</th>\n",
       "      <td>2034.214003</td>\n",
       "      <td>2.460619</td>\n",
       "      <td>0.254719</td>\n",
       "      <td>LGBMRegressor(max_depth=5, n_estimators=205, r...</td>\n",
       "      <td>{'models__n_estimators': 204, 'models__max_dep...</td>\n",
       "    </tr>\n",
       "    <tr>\n",
       "      <th>3</th>\n",
       "      <td>2037.148579</td>\n",
       "      <td>3.567060</td>\n",
       "      <td>0.146009</td>\n",
       "      <td>LGBMRegressor(max_depth=5, n_estimators=205, r...</td>\n",
       "      <td>{'models__n_estimators': 200, 'models__max_dep...</td>\n",
       "    </tr>\n",
       "    <tr>\n",
       "      <th>6</th>\n",
       "      <td>2733.355093</td>\n",
       "      <td>0.714290</td>\n",
       "      <td>0.121076</td>\n",
       "      <td>DecisionTreeRegressor(random_state=42)</td>\n",
       "      <td>{'models__min_samples_split': 8, 'models__max_...</td>\n",
       "    </tr>\n",
       "    <tr>\n",
       "      <th>7</th>\n",
       "      <td>3035.159953</td>\n",
       "      <td>0.685566</td>\n",
       "      <td>0.124268</td>\n",
       "      <td>DecisionTreeRegressor(random_state=42)</td>\n",
       "      <td>{'models__min_samples_split': 5, 'models__max_...</td>\n",
       "    </tr>\n",
       "    <tr>\n",
       "      <th>8</th>\n",
       "      <td>3035.159953</td>\n",
       "      <td>0.810433</td>\n",
       "      <td>0.138829</td>\n",
       "      <td>DecisionTreeRegressor(random_state=42)</td>\n",
       "      <td>{'models__min_samples_split': 2, 'models__max_...</td>\n",
       "    </tr>\n",
       "    <tr>\n",
       "      <th>4</th>\n",
       "      <td>3291.575533</td>\n",
       "      <td>0.524597</td>\n",
       "      <td>0.101728</td>\n",
       "      <td>DecisionTreeRegressor(random_state=42)</td>\n",
       "      <td>{'models__min_samples_split': 6, 'models__max_...</td>\n",
       "    </tr>\n",
       "    <tr>\n",
       "      <th>5</th>\n",
       "      <td>3291.575533</td>\n",
       "      <td>0.618147</td>\n",
       "      <td>0.119480</td>\n",
       "      <td>DecisionTreeRegressor(random_state=42)</td>\n",
       "      <td>{'models__min_samples_split': 8, 'models__max_...</td>\n",
       "    </tr>\n",
       "  </tbody>\n",
       "</table>\n",
       "</div>"
      ],
      "text/plain": [
       "   mean_test_score  mean_fit_time  mean_score_time  \\\n",
       "1      1758.450297      12.756084         0.223402   \n",
       "9      1818.287802       3.056625         0.221009   \n",
       "2      1917.201410       3.472912         0.166355   \n",
       "0      2034.214003       2.460619         0.254719   \n",
       "3      2037.148579       3.567060         0.146009   \n",
       "6      2733.355093       0.714290         0.121076   \n",
       "7      3035.159953       0.685566         0.124268   \n",
       "8      3035.159953       0.810433         0.138829   \n",
       "4      3291.575533       0.524597         0.101728   \n",
       "5      3291.575533       0.618147         0.119480   \n",
       "\n",
       "                                        param_models  \\\n",
       "1  LGBMRegressor(max_depth=5, n_estimators=205, r...   \n",
       "9  LGBMRegressor(max_depth=5, n_estimators=205, r...   \n",
       "2  LGBMRegressor(max_depth=5, n_estimators=205, r...   \n",
       "0  LGBMRegressor(max_depth=5, n_estimators=205, r...   \n",
       "3  LGBMRegressor(max_depth=5, n_estimators=205, r...   \n",
       "6             DecisionTreeRegressor(random_state=42)   \n",
       "7             DecisionTreeRegressor(random_state=42)   \n",
       "8             DecisionTreeRegressor(random_state=42)   \n",
       "4             DecisionTreeRegressor(random_state=42)   \n",
       "5             DecisionTreeRegressor(random_state=42)   \n",
       "\n",
       "                                              params  \n",
       "1  {'models__n_estimators': 205, 'models__max_dep...  \n",
       "9  {'models__n_estimators': 208, 'models__max_dep...  \n",
       "2  {'models__n_estimators': 200, 'models__max_dep...  \n",
       "0  {'models__n_estimators': 204, 'models__max_dep...  \n",
       "3  {'models__n_estimators': 200, 'models__max_dep...  \n",
       "6  {'models__min_samples_split': 8, 'models__max_...  \n",
       "7  {'models__min_samples_split': 5, 'models__max_...  \n",
       "8  {'models__min_samples_split': 2, 'models__max_...  \n",
       "4  {'models__min_samples_split': 6, 'models__max_...  \n",
       "5  {'models__min_samples_split': 8, 'models__max_...  "
      ]
     },
     "execution_count": 31,
     "metadata": {},
     "output_type": "execute_result"
    }
   ],
   "source": [
    "cv_results.sort_values(by='mean_test_score')"
   ]
  },
  {
   "cell_type": "markdown",
   "metadata": {},
   "source": [
    "LGBMRegressor обучается более 3 секунд, когда DecisionTreeRegressor менее чем за 1 секунду. Время предсказания имеет такое же различие, LGBMRegressor предсказывает чуть дольше, чем DecisionTreeRegressor. При этом значения метрики у LGBMR лучше. Метрики для DecisionTreeRegressor не соответсвуют критерию заказчику > 2500.\n",
    "\n",
    "Поэтому лучшей метрикой для заказчика остается LGBMRegressor с параметрами max_depth=5, n_estimators=205."
   ]
  },
  {
   "cell_type": "code",
   "execution_count": 32,
   "metadata": {},
   "outputs": [],
   "source": [
    "cv_results['param_models'] = cv_results['param_models'].astype('category')"
   ]
  },
  {
   "cell_type": "code",
   "execution_count": 33,
   "metadata": {},
   "outputs": [],
   "source": [
    "lgbmr = cv_results.groupby('param_models')['mean_test_score'].min()[0]\n",
    "tree = cv_results.groupby('param_models')['mean_test_score'].min()[1]"
   ]
  },
  {
   "cell_type": "code",
   "execution_count": 34,
   "metadata": {},
   "outputs": [
    {
     "data": {
      "text/html": [
       "<div>\n",
       "<style scoped>\n",
       "    .dataframe tbody tr th:only-of-type {\n",
       "        vertical-align: middle;\n",
       "    }\n",
       "\n",
       "    .dataframe tbody tr th {\n",
       "        vertical-align: top;\n",
       "    }\n",
       "\n",
       "    .dataframe thead th {\n",
       "        text-align: right;\n",
       "    }\n",
       "</style>\n",
       "<table border=\"1\" class=\"dataframe\">\n",
       "  <thead>\n",
       "    <tr style=\"text-align: right;\">\n",
       "      <th></th>\n",
       "      <th>mean_test_score</th>\n",
       "      <th>mean_fit_time</th>\n",
       "      <th>mean_score_time</th>\n",
       "      <th>param_models</th>\n",
       "      <th>params</th>\n",
       "    </tr>\n",
       "  </thead>\n",
       "  <tbody>\n",
       "    <tr>\n",
       "      <th>1</th>\n",
       "      <td>1758.450297</td>\n",
       "      <td>12.756084</td>\n",
       "      <td>0.223402</td>\n",
       "      <td>LGBMRegressor(max_depth=5, n_estimators=205, r...</td>\n",
       "      <td>{'models__n_estimators': 205, 'models__max_dep...</td>\n",
       "    </tr>\n",
       "    <tr>\n",
       "      <th>6</th>\n",
       "      <td>2733.355093</td>\n",
       "      <td>0.714290</td>\n",
       "      <td>0.121076</td>\n",
       "      <td>DecisionTreeRegressor(random_state=42)</td>\n",
       "      <td>{'models__min_samples_split': 8, 'models__max_...</td>\n",
       "    </tr>\n",
       "  </tbody>\n",
       "</table>\n",
       "</div>"
      ],
      "text/plain": [
       "   mean_test_score  mean_fit_time  mean_score_time  \\\n",
       "1      1758.450297      12.756084         0.223402   \n",
       "6      2733.355093       0.714290         0.121076   \n",
       "\n",
       "                                        param_models  \\\n",
       "1  LGBMRegressor(max_depth=5, n_estimators=205, r...   \n",
       "6             DecisionTreeRegressor(random_state=42)   \n",
       "\n",
       "                                              params  \n",
       "1  {'models__n_estimators': 205, 'models__max_dep...  \n",
       "6  {'models__min_samples_split': 8, 'models__max_...  "
      ]
     },
     "execution_count": 34,
     "metadata": {},
     "output_type": "execute_result"
    }
   ],
   "source": [
    "pd.concat([cv_results.query('mean_test_score == @lgbmr'),cv_results.query('mean_test_score == @tree')])"
   ]
  },
  {
   "cell_type": "code",
   "execution_count": 35,
   "metadata": {},
   "outputs": [],
   "source": [
    "pipe_lgbmr = Pipeline(\n",
    "    [('preprocessor', data_preprocessor),\n",
    "     ('models', LGBMRegressor(max_depth=5, n_estimators=205, random_state=42, verbose=-1))])"
   ]
  },
  {
   "cell_type": "code",
   "execution_count": 36,
   "metadata": {},
   "outputs": [
    {
     "name": "stdout",
     "output_type": "stream",
     "text": [
      "Метрика RMSE на тестовой выборке: 1747.2040566000996\n"
     ]
    }
   ],
   "source": [
    "pipe_lgbmr.fit(X_train, y_train)\n",
    "y_test_pr = pipe_lgbmr.predict(X_test)\n",
    "print(f'Метрика RMSE на тестовой выборке: {mean_squared_error(y_test, y_test_pr, squared=False)}')"
   ]
  },
  {
   "cell_type": "markdown",
   "metadata": {},
   "source": [
    "На тестовой выборке получен также хороший результат.\n",
    "\n",
    "Итоговой моделью для заказчика выбираем LGBMRegressor с параметрами max_depth=5, n_estimators=205."
   ]
  },
  {
   "cell_type": "code",
   "execution_count": 37,
   "metadata": {},
   "outputs": [
    {
     "name": "stdout",
     "output_type": "stream",
     "text": [
      "Метрика RMSE на тестовой выборке: 4563.967198502209\n"
     ]
    }
   ],
   "source": [
    "pipe_dummy = Pipeline([\n",
    "    ('preprocessor', data_preprocessor),\n",
    "    ('models', DummyRegressor())])\n",
    "\n",
    "pipe_dummy.fit(X_train, y_train) \n",
    "\n",
    "dummy_pred = pipe_dummy.predict(X_test)\n",
    "print(f'Метрика RMSE на тестовой выборке: {mean_squared_error(y_test, dummy_pred, squared=False)}') "
   ]
  },
  {
   "cell_type": "markdown",
   "metadata": {},
   "source": [
    "Проверили результат метрики на константной моделе. Видим что результат метрики найденной модели гораздо лучше, чем результат константной модели."
   ]
  },
  {
   "cell_type": "markdown",
   "metadata": {},
   "source": [
    "## Общий вывод"
   ]
  },
  {
   "cell_type": "markdown",
   "metadata": {},
   "source": [
    "Полученные нами данные были выгружены в период с 2016-03-05 по 2016-04-07.\n",
    "\n",
    "В ходе обработки данных мы:\n",
    "- Избавились от неинформативных столбцов DateCrawled, DateCreated, LastSeen, RegistrationMonth, PostalCode, NumberOfPictures\n",
    "- Объединили значения gasoline и petrol в типе топлива\n",
    "- Заполнили пропуски в столбце с ремонтом машины Repaired, заменили их на no.\n",
    "- Ограничили цену авто от 1000 евро\n",
    "- Ограничили года выпуска с 1908 по 2016 года, мощности от 20 до 2000 л.с.\n",
    "- Избавились от пропущенных значений в столбцах VehicleType, Gearbox, FuelType, Model путем создания нового значения missing.\n",
    "\n",
    "По итогу обработки мы удалили из наших данных 31.9% строк с пропущенными значениями.\n",
    "\n",
    "В ходе анализа данных мы получили, что:\n",
    "- В основном стоимость машин не превышает 7500 евро. Большинство машин были выпущены после 2000 годов. Мощность машин в среднем меньше 250 л.с. Больше всего машины имеют пробег свыше 100 тысяч километров.\n",
    "- Имеем сильную связь между моделью и брендом машины и между моделью и типом кузова.\n",
    "- Больше всего на цену влияет год выпуска авто.\n",
    "- Почти все авто ездят на бензине - 94%, и большинство из них на механике - 76%. Выделяются 3 популярные кузова - sedan, small и wagon. Из брендов можно выделить - volkswagen, bmw, opel, mercedes, audi, ford. Только 6% авто были в ремонте, либо продавцы просто умалчивают об этом при продаже.\n",
    "\n",
    "Мы обучали две разные модели, LGBMRegressor и DecisionTreeRegressor. Для каждой модели подбирали разные гиперпараметры. Для оценки качества моделей использовали метрику RMSE, значение которой не должно было превышать 2500.\n",
    "\n",
    "Лучшей по качеству метрики стала модель LGBMRegressor с параметрами max_depth=5, n_estimators=205, со значением RMSE для 1758.\n",
    "\n",
    "В ходе анализа времени обучения и предсказания, а также качества моделей, мы получили:\n",
    "- LGBMRegressor обучается более 3 секунд, делает прогноз за 0.2 секунды. Лучшая метрика 1758.\n",
    "- DecisionTreeRegressor обучается менее 1 секунды, делает прогноз за 0.1 секунды. Лучшая метрика 2733.\n",
    "\n",
    "DecisionTreeRegressor не соответсвует критерию заказчика по качеству метрики, она превышает 2500. Поэтому лучшей метрикой для заказчика выбрали LGBMRegressor с параметрами max_depth=5, n_estimators=205.\n",
    "\n",
    "Метрика RMSE для выбранной модели на тестовой выборке показала хороший результат - 1747.\n",
    "Проверка результата метрики на константной модели подтвердила правильность нашего решения: полученная метрика гораздо лучше, чем метрика константной модели - 4563.\n",
    "\n",
    "Выбранная модель имеет хорошее время прогнозирования, клиенты точно будут довольны скоростью работы приложения. И при этом метрика имеет гораздо лучшее значение, чем требовал заказчик.\n",
    "Рекомендацией для моих коллег можно посоветовать рассмотреть другие модели."
   ]
  },
  {
   "cell_type": "code",
   "execution_count": null,
   "metadata": {},
   "outputs": [],
   "source": []
  }
 ],
 "metadata": {
  "ExecuteTimeLog": [
   {
    "duration": 472,
    "start_time": "2024-01-10T13:30:25.229Z"
   },
   {
    "duration": 2773,
    "start_time": "2024-01-10T13:30:54.350Z"
   },
   {
    "duration": 149,
    "start_time": "2024-01-10T13:31:05.155Z"
   },
   {
    "duration": 19,
    "start_time": "2024-01-10T13:31:17.850Z"
   },
   {
    "duration": 151,
    "start_time": "2024-01-10T13:33:03.141Z"
   },
   {
    "duration": 50,
    "start_time": "2024-01-11T18:08:25.670Z"
   },
   {
    "duration": 402,
    "start_time": "2024-01-11T18:08:28.773Z"
   },
   {
    "duration": 1300,
    "start_time": "2024-01-11T18:08:30.335Z"
   },
   {
    "duration": 165,
    "start_time": "2024-01-11T18:08:31.990Z"
   },
   {
    "duration": 1071,
    "start_time": "2024-01-11T18:08:53.341Z"
   },
   {
    "duration": 154,
    "start_time": "2024-01-11T18:08:54.414Z"
   },
   {
    "duration": 1113,
    "start_time": "2024-01-11T18:09:12.437Z"
   },
   {
    "duration": 123,
    "start_time": "2024-01-11T18:09:14.566Z"
   },
   {
    "duration": 147,
    "start_time": "2024-01-11T18:09:18.019Z"
   },
   {
    "duration": 27,
    "start_time": "2024-01-11T18:23:56.064Z"
   },
   {
    "duration": 17,
    "start_time": "2024-01-11T18:24:03.325Z"
   },
   {
    "duration": 39,
    "start_time": "2024-01-11T18:25:04.229Z"
   },
   {
    "duration": 392,
    "start_time": "2024-01-11T18:25:09.885Z"
   },
   {
    "duration": 1214,
    "start_time": "2024-01-11T18:25:10.280Z"
   },
   {
    "duration": 154,
    "start_time": "2024-01-11T18:25:11.498Z"
   },
   {
    "duration": 30,
    "start_time": "2024-01-11T18:25:11.654Z"
   },
   {
    "duration": 16,
    "start_time": "2024-01-11T18:25:11.686Z"
   },
   {
    "duration": 20,
    "start_time": "2024-01-11T18:27:35.636Z"
   },
   {
    "duration": 7,
    "start_time": "2024-01-11T18:27:45.097Z"
   },
   {
    "duration": 83,
    "start_time": "2024-01-11T18:29:28.714Z"
   },
   {
    "duration": 457,
    "start_time": "2024-01-11T18:29:35.012Z"
   },
   {
    "duration": 1230,
    "start_time": "2024-01-11T18:29:35.471Z"
   },
   {
    "duration": 149,
    "start_time": "2024-01-11T18:29:36.702Z"
   },
   {
    "duration": 6,
    "start_time": "2024-01-11T18:29:36.852Z"
   },
   {
    "duration": 28,
    "start_time": "2024-01-11T18:29:36.860Z"
   },
   {
    "duration": 26,
    "start_time": "2024-01-11T18:29:36.890Z"
   },
   {
    "duration": 405,
    "start_time": "2024-01-12T06:00:59.283Z"
   },
   {
    "duration": 1371,
    "start_time": "2024-01-12T06:00:59.690Z"
   },
   {
    "duration": 131,
    "start_time": "2024-01-12T06:01:01.063Z"
   },
   {
    "duration": 6,
    "start_time": "2024-01-12T06:01:01.196Z"
   },
   {
    "duration": 47,
    "start_time": "2024-01-12T06:01:01.203Z"
   },
   {
    "duration": 29,
    "start_time": "2024-01-12T06:01:01.252Z"
   },
   {
    "duration": 117,
    "start_time": "2024-01-12T06:22:56.609Z"
   },
   {
    "duration": 7,
    "start_time": "2024-01-12T06:25:23.241Z"
   },
   {
    "duration": 36,
    "start_time": "2024-01-12T06:25:32.104Z"
   },
   {
    "duration": 603,
    "start_time": "2024-01-12T06:25:42.451Z"
   },
   {
    "duration": 153,
    "start_time": "2024-01-12T06:25:53.784Z"
   },
   {
    "duration": 1221,
    "start_time": "2024-01-12T06:26:36.405Z"
   },
   {
    "duration": 29,
    "start_time": "2024-01-12T06:26:57.110Z"
   },
   {
    "duration": 9,
    "start_time": "2024-01-12T06:27:04.840Z"
   },
   {
    "duration": 15,
    "start_time": "2024-01-12T06:27:15.117Z"
   },
   {
    "duration": 13,
    "start_time": "2024-01-12T06:29:02.508Z"
   },
   {
    "duration": 13,
    "start_time": "2024-01-12T06:29:06.348Z"
   },
   {
    "duration": 23,
    "start_time": "2024-01-12T06:30:16.177Z"
   },
   {
    "duration": 38,
    "start_time": "2024-01-12T06:31:13.118Z"
   },
   {
    "duration": 110,
    "start_time": "2024-01-12T06:49:07.007Z"
   },
   {
    "duration": 20,
    "start_time": "2024-01-12T06:49:16.313Z"
   },
   {
    "duration": 18,
    "start_time": "2024-01-12T06:49:23.568Z"
   },
   {
    "duration": 11,
    "start_time": "2024-01-12T06:49:46.376Z"
   },
   {
    "duration": 98,
    "start_time": "2024-01-12T06:50:08.497Z"
   },
   {
    "duration": 24,
    "start_time": "2024-01-12T06:51:18.455Z"
   },
   {
    "duration": 105,
    "start_time": "2024-01-12T06:51:41.902Z"
   },
   {
    "duration": 30,
    "start_time": "2024-01-12T06:51:48.465Z"
   },
   {
    "duration": 97,
    "start_time": "2024-01-12T06:51:50.155Z"
   },
   {
    "duration": 25,
    "start_time": "2024-01-12T06:52:02.233Z"
   },
   {
    "duration": 400,
    "start_time": "2024-01-12T06:52:27.360Z"
   },
   {
    "duration": 1171,
    "start_time": "2024-01-12T06:52:27.762Z"
   },
   {
    "duration": 133,
    "start_time": "2024-01-12T06:52:28.934Z"
   },
   {
    "duration": 7,
    "start_time": "2024-01-12T06:52:29.070Z"
   },
   {
    "duration": 44,
    "start_time": "2024-01-12T06:52:29.079Z"
   },
   {
    "duration": 118,
    "start_time": "2024-01-12T06:52:29.125Z"
   },
   {
    "duration": 17,
    "start_time": "2024-01-12T06:52:29.245Z"
   },
   {
    "duration": 29,
    "start_time": "2024-01-12T06:52:29.263Z"
   },
   {
    "duration": 130,
    "start_time": "2024-01-12T06:52:29.293Z"
   },
   {
    "duration": 25,
    "start_time": "2024-01-12T06:53:30.920Z"
   },
   {
    "duration": 40,
    "start_time": "2024-01-12T06:53:40.660Z"
   },
   {
    "duration": 34,
    "start_time": "2024-01-12T06:53:53.586Z"
   },
   {
    "duration": 22,
    "start_time": "2024-01-12T06:54:06.470Z"
   },
   {
    "duration": 31,
    "start_time": "2024-01-12T06:54:11.681Z"
   },
   {
    "duration": 33,
    "start_time": "2024-01-12T06:54:31.321Z"
   },
   {
    "duration": 17,
    "start_time": "2024-01-12T06:54:42.520Z"
   },
   {
    "duration": 17,
    "start_time": "2024-01-12T06:54:58.173Z"
   },
   {
    "duration": 17,
    "start_time": "2024-01-12T06:55:03.353Z"
   },
   {
    "duration": 27,
    "start_time": "2024-01-12T06:55:06.981Z"
   },
   {
    "duration": 17,
    "start_time": "2024-01-12T06:55:21.597Z"
   },
   {
    "duration": 28,
    "start_time": "2024-01-12T06:55:25.261Z"
   },
   {
    "duration": 39,
    "start_time": "2024-01-12T06:55:51.052Z"
   },
   {
    "duration": 27,
    "start_time": "2024-01-12T06:55:57.960Z"
   },
   {
    "duration": 41,
    "start_time": "2024-01-12T06:56:01.797Z"
   },
   {
    "duration": 67,
    "start_time": "2024-01-12T06:56:49.726Z"
   },
   {
    "duration": 440,
    "start_time": "2024-01-12T06:56:58.377Z"
   },
   {
    "duration": 30,
    "start_time": "2024-01-12T07:25:56.501Z"
   },
   {
    "duration": 18,
    "start_time": "2024-01-12T07:27:26.380Z"
   },
   {
    "duration": 549,
    "start_time": "2024-01-12T07:27:50.162Z"
   },
   {
    "duration": 288,
    "start_time": "2024-01-12T07:27:54.751Z"
   },
   {
    "duration": 30,
    "start_time": "2024-01-12T07:28:02.001Z"
   },
   {
    "duration": 164,
    "start_time": "2024-01-12T07:28:09.859Z"
   },
   {
    "duration": 186,
    "start_time": "2024-01-12T07:28:18.058Z"
   },
   {
    "duration": 155,
    "start_time": "2024-01-12T07:28:22.830Z"
   },
   {
    "duration": 61,
    "start_time": "2024-01-12T07:35:13.790Z"
   },
   {
    "duration": 31,
    "start_time": "2024-01-12T07:35:22.521Z"
   },
   {
    "duration": 20,
    "start_time": "2024-01-12T07:35:36.278Z"
   },
   {
    "duration": 21,
    "start_time": "2024-01-12T07:35:46.199Z"
   },
   {
    "duration": 15,
    "start_time": "2024-01-12T08:16:47.679Z"
   },
   {
    "duration": 1199,
    "start_time": "2024-01-12T08:24:34.351Z"
   },
   {
    "duration": 164,
    "start_time": "2024-01-12T08:24:38.851Z"
   },
   {
    "duration": 26,
    "start_time": "2024-01-12T08:24:59.117Z"
   },
   {
    "duration": 543,
    "start_time": "2024-01-12T08:25:06.138Z"
   },
   {
    "duration": 72,
    "start_time": "2024-01-12T08:25:20.937Z"
   },
   {
    "duration": 148,
    "start_time": "2024-01-12T08:25:27.669Z"
   },
   {
    "duration": 140,
    "start_time": "2024-01-12T08:25:39.202Z"
   },
   {
    "duration": 138,
    "start_time": "2024-01-12T08:25:44.022Z"
   },
   {
    "duration": 134,
    "start_time": "2024-01-12T08:25:49.645Z"
   },
   {
    "duration": 135,
    "start_time": "2024-01-12T08:25:56.078Z"
   },
   {
    "duration": 23,
    "start_time": "2024-01-12T08:26:00.298Z"
   },
   {
    "duration": 33,
    "start_time": "2024-01-12T08:28:36.634Z"
   },
   {
    "duration": 165,
    "start_time": "2024-01-12T08:28:49.805Z"
   },
   {
    "duration": 142,
    "start_time": "2024-01-12T08:29:08.837Z"
   },
   {
    "duration": 126,
    "start_time": "2024-01-12T08:29:15.617Z"
   },
   {
    "duration": 146,
    "start_time": "2024-01-12T08:29:18.684Z"
   },
   {
    "duration": 129,
    "start_time": "2024-01-12T08:29:24.178Z"
   },
   {
    "duration": 37,
    "start_time": "2024-01-12T08:29:43.007Z"
   },
   {
    "duration": 133,
    "start_time": "2024-01-12T08:29:45.207Z"
   },
   {
    "duration": 24,
    "start_time": "2024-01-12T08:33:36.548Z"
   },
   {
    "duration": 23,
    "start_time": "2024-01-12T08:34:30.936Z"
   },
   {
    "duration": 36,
    "start_time": "2024-01-12T08:36:29.074Z"
   },
   {
    "duration": 248,
    "start_time": "2024-01-12T08:37:50.277Z"
   },
   {
    "duration": 147,
    "start_time": "2024-01-12T08:38:21.667Z"
   },
   {
    "duration": 160,
    "start_time": "2024-01-12T08:38:34.638Z"
   },
   {
    "duration": 107,
    "start_time": "2024-01-12T08:39:21.027Z"
   },
   {
    "duration": 1261,
    "start_time": "2024-01-12T08:41:43.893Z"
   },
   {
    "duration": 1112,
    "start_time": "2024-01-12T08:41:45.156Z"
   },
   {
    "duration": 130,
    "start_time": "2024-01-12T08:41:46.270Z"
   },
   {
    "duration": 6,
    "start_time": "2024-01-12T08:41:46.402Z"
   },
   {
    "duration": 119,
    "start_time": "2024-01-12T08:41:46.410Z"
   },
   {
    "duration": 0,
    "start_time": "2024-01-12T08:41:46.531Z"
   },
   {
    "duration": 0,
    "start_time": "2024-01-12T08:41:46.532Z"
   },
   {
    "duration": 0,
    "start_time": "2024-01-12T08:41:46.533Z"
   },
   {
    "duration": 0,
    "start_time": "2024-01-12T08:41:46.534Z"
   },
   {
    "duration": 0,
    "start_time": "2024-01-12T08:41:46.536Z"
   },
   {
    "duration": 1210,
    "start_time": "2024-01-12T08:42:02.947Z"
   },
   {
    "duration": 1137,
    "start_time": "2024-01-12T08:42:04.159Z"
   },
   {
    "duration": 147,
    "start_time": "2024-01-12T08:42:05.297Z"
   },
   {
    "duration": 6,
    "start_time": "2024-01-12T08:42:05.445Z"
   },
   {
    "duration": 27,
    "start_time": "2024-01-12T08:42:05.453Z"
   },
   {
    "duration": 131,
    "start_time": "2024-01-12T08:42:05.481Z"
   },
   {
    "duration": 133,
    "start_time": "2024-01-12T08:42:05.621Z"
   },
   {
    "duration": 0,
    "start_time": "2024-01-12T08:42:05.756Z"
   },
   {
    "duration": 0,
    "start_time": "2024-01-12T08:42:05.757Z"
   },
   {
    "duration": 0,
    "start_time": "2024-01-12T08:42:05.758Z"
   },
   {
    "duration": 1280,
    "start_time": "2024-01-12T08:42:22.505Z"
   },
   {
    "duration": 1127,
    "start_time": "2024-01-12T08:42:23.787Z"
   },
   {
    "duration": 124,
    "start_time": "2024-01-12T08:42:24.916Z"
   },
   {
    "duration": 5,
    "start_time": "2024-01-12T08:42:25.042Z"
   },
   {
    "duration": 26,
    "start_time": "2024-01-12T08:42:25.049Z"
   },
   {
    "duration": 132,
    "start_time": "2024-01-12T08:42:25.077Z"
   },
   {
    "duration": 29,
    "start_time": "2024-01-12T08:42:25.211Z"
   },
   {
    "duration": 44,
    "start_time": "2024-01-12T08:42:25.241Z"
   },
   {
    "duration": 102,
    "start_time": "2024-01-12T08:42:25.287Z"
   },
   {
    "duration": 38,
    "start_time": "2024-01-12T08:47:44.111Z"
   },
   {
    "duration": 95,
    "start_time": "2024-01-12T08:47:48.667Z"
   },
   {
    "duration": 37,
    "start_time": "2024-01-12T08:50:45.158Z"
   },
   {
    "duration": 84,
    "start_time": "2024-01-12T08:50:47.260Z"
   },
   {
    "duration": 125,
    "start_time": "2024-01-12T08:52:28.577Z"
   },
   {
    "duration": 198,
    "start_time": "2024-01-12T08:52:33.070Z"
   },
   {
    "duration": 37,
    "start_time": "2024-01-12T09:49:47.122Z"
   },
   {
    "duration": 192,
    "start_time": "2024-01-12T09:49:51.037Z"
   },
   {
    "duration": 465,
    "start_time": "2024-01-12T09:50:54.447Z"
   },
   {
    "duration": 1667,
    "start_time": "2024-01-12T09:52:37.618Z"
   },
   {
    "duration": 1783,
    "start_time": "2024-01-12T09:52:42.709Z"
   },
   {
    "duration": 1296,
    "start_time": "2024-01-12T09:53:14.191Z"
   },
   {
    "duration": 35,
    "start_time": "2024-01-12T09:56:55.455Z"
   },
   {
    "duration": 1291,
    "start_time": "2024-01-12T09:56:59.196Z"
   },
   {
    "duration": 250,
    "start_time": "2024-01-12T10:00:55.117Z"
   },
   {
    "duration": 143,
    "start_time": "2024-01-12T10:01:06.478Z"
   },
   {
    "duration": 1401,
    "start_time": "2024-01-12T10:01:14.453Z"
   },
   {
    "duration": 1461,
    "start_time": "2024-01-12T10:02:19.785Z"
   },
   {
    "duration": 1496,
    "start_time": "2024-01-12T10:02:35.847Z"
   },
   {
    "duration": 33,
    "start_time": "2024-01-12T10:03:17.846Z"
   },
   {
    "duration": 26,
    "start_time": "2024-01-12T10:03:52.273Z"
   },
   {
    "duration": 28,
    "start_time": "2024-01-12T10:03:53.099Z"
   },
   {
    "duration": 1288,
    "start_time": "2024-01-12T10:04:10.028Z"
   },
   {
    "duration": 1669,
    "start_time": "2024-01-12T10:04:26.313Z"
   },
   {
    "duration": 44,
    "start_time": "2024-01-12T10:06:12.936Z"
   },
   {
    "duration": 33,
    "start_time": "2024-01-12T10:06:19.634Z"
   },
   {
    "duration": 86,
    "start_time": "2024-01-12T10:07:31.656Z"
   },
   {
    "duration": 89,
    "start_time": "2024-01-12T10:08:46.713Z"
   },
   {
    "duration": 92,
    "start_time": "2024-01-12T10:09:21.433Z"
   },
   {
    "duration": 1218,
    "start_time": "2024-01-12T10:09:32.948Z"
   },
   {
    "duration": 1174,
    "start_time": "2024-01-12T10:09:34.168Z"
   },
   {
    "duration": 112,
    "start_time": "2024-01-12T10:09:35.344Z"
   },
   {
    "duration": 8,
    "start_time": "2024-01-12T10:09:35.457Z"
   },
   {
    "duration": 73,
    "start_time": "2024-01-12T10:09:35.467Z"
   },
   {
    "duration": 131,
    "start_time": "2024-01-12T10:09:35.542Z"
   },
   {
    "duration": 44,
    "start_time": "2024-01-12T10:09:35.675Z"
   },
   {
    "duration": 55,
    "start_time": "2024-01-12T10:09:35.720Z"
   },
   {
    "duration": 34,
    "start_time": "2024-01-12T10:09:35.777Z"
   },
   {
    "duration": 1654,
    "start_time": "2024-01-12T10:09:35.813Z"
   },
   {
    "duration": 99,
    "start_time": "2024-01-12T10:09:37.468Z"
   },
   {
    "duration": 106,
    "start_time": "2024-01-12T10:09:37.569Z"
   },
   {
    "duration": 108,
    "start_time": "2024-01-12T10:09:42.976Z"
   },
   {
    "duration": 4,
    "start_time": "2024-01-12T10:09:46.463Z"
   },
   {
    "duration": 2,
    "start_time": "2024-01-12T10:10:01.067Z"
   },
   {
    "duration": 4,
    "start_time": "2024-01-12T10:10:11.982Z"
   },
   {
    "duration": 4,
    "start_time": "2024-01-12T10:11:39.133Z"
   },
   {
    "duration": 4,
    "start_time": "2024-01-12T10:12:00.937Z"
   },
   {
    "duration": 5,
    "start_time": "2024-01-12T10:12:09.949Z"
   },
   {
    "duration": 11,
    "start_time": "2024-01-12T10:19:52.763Z"
   },
   {
    "duration": 9,
    "start_time": "2024-01-12T10:19:59.004Z"
   },
   {
    "duration": 27,
    "start_time": "2024-01-12T10:20:14.384Z"
   },
   {
    "duration": 22,
    "start_time": "2024-01-12T10:20:24.352Z"
   },
   {
    "duration": 21,
    "start_time": "2024-01-12T10:20:42.211Z"
   },
   {
    "duration": 21,
    "start_time": "2024-01-12T10:20:45.532Z"
   },
   {
    "duration": 21,
    "start_time": "2024-01-12T10:20:48.252Z"
   },
   {
    "duration": 25,
    "start_time": "2024-01-12T10:20:54.024Z"
   },
   {
    "duration": 5,
    "start_time": "2024-01-12T10:21:04.116Z"
   },
   {
    "duration": 36,
    "start_time": "2024-01-12T10:21:14.165Z"
   },
   {
    "duration": 88,
    "start_time": "2024-01-12T10:21:54.474Z"
   },
   {
    "duration": 1258,
    "start_time": "2024-01-12T10:22:01.415Z"
   },
   {
    "duration": 1185,
    "start_time": "2024-01-12T10:22:02.676Z"
   },
   {
    "duration": 118,
    "start_time": "2024-01-12T10:22:03.863Z"
   },
   {
    "duration": 7,
    "start_time": "2024-01-12T10:22:03.983Z"
   },
   {
    "duration": 41,
    "start_time": "2024-01-12T10:22:03.993Z"
   },
   {
    "duration": 116,
    "start_time": "2024-01-12T10:22:04.035Z"
   },
   {
    "duration": 25,
    "start_time": "2024-01-12T10:22:04.153Z"
   },
   {
    "duration": 51,
    "start_time": "2024-01-12T10:22:04.179Z"
   },
   {
    "duration": 36,
    "start_time": "2024-01-12T10:22:04.232Z"
   },
   {
    "duration": 1715,
    "start_time": "2024-01-12T10:22:04.269Z"
   },
   {
    "duration": 90,
    "start_time": "2024-01-12T10:22:05.986Z"
   },
   {
    "duration": 97,
    "start_time": "2024-01-12T10:22:06.078Z"
   },
   {
    "duration": 3,
    "start_time": "2024-01-12T10:22:06.177Z"
   },
   {
    "duration": 17,
    "start_time": "2024-01-12T10:22:06.182Z"
   },
   {
    "duration": 73,
    "start_time": "2024-01-12T10:22:13.581Z"
   },
   {
    "duration": 5,
    "start_time": "2024-01-12T10:22:19.292Z"
   },
   {
    "duration": 4,
    "start_time": "2024-01-12T10:22:24.564Z"
   },
   {
    "duration": 4,
    "start_time": "2024-01-12T10:22:27.624Z"
   },
   {
    "duration": 4,
    "start_time": "2024-01-12T10:22:31.324Z"
   },
   {
    "duration": 6,
    "start_time": "2024-01-12T10:30:30.683Z"
   },
   {
    "duration": 1251,
    "start_time": "2024-01-12T10:32:05.703Z"
   },
   {
    "duration": 1144,
    "start_time": "2024-01-12T10:32:06.956Z"
   },
   {
    "duration": 156,
    "start_time": "2024-01-12T10:32:08.102Z"
   },
   {
    "duration": 6,
    "start_time": "2024-01-12T10:32:08.259Z"
   },
   {
    "duration": 43,
    "start_time": "2024-01-12T10:32:08.267Z"
   },
   {
    "duration": 137,
    "start_time": "2024-01-12T10:32:08.311Z"
   },
   {
    "duration": 25,
    "start_time": "2024-01-12T10:32:08.450Z"
   },
   {
    "duration": 54,
    "start_time": "2024-01-12T10:32:08.476Z"
   },
   {
    "duration": 36,
    "start_time": "2024-01-12T10:32:08.531Z"
   },
   {
    "duration": 1687,
    "start_time": "2024-01-12T10:32:08.568Z"
   },
   {
    "duration": 85,
    "start_time": "2024-01-12T10:32:10.257Z"
   },
   {
    "duration": 108,
    "start_time": "2024-01-12T10:32:10.343Z"
   },
   {
    "duration": 3,
    "start_time": "2024-01-12T10:32:10.453Z"
   },
   {
    "duration": 11,
    "start_time": "2024-01-12T10:32:10.459Z"
   },
   {
    "duration": 5,
    "start_time": "2024-01-12T11:45:05.377Z"
   },
   {
    "duration": 123,
    "start_time": "2024-01-12T11:46:44.415Z"
   },
   {
    "duration": 273,
    "start_time": "2024-01-12T11:46:57.362Z"
   },
   {
    "duration": 73,
    "start_time": "2024-01-12T11:47:00.224Z"
   },
   {
    "duration": 7,
    "start_time": "2024-01-12T11:49:23.293Z"
   },
   {
    "duration": 4,
    "start_time": "2024-01-12T11:50:16.292Z"
   },
   {
    "duration": 30,
    "start_time": "2024-01-12T11:50:18.313Z"
   },
   {
    "duration": 23,
    "start_time": "2024-01-12T11:51:20.264Z"
   },
   {
    "duration": 4,
    "start_time": "2024-01-12T11:51:23.784Z"
   },
   {
    "duration": 4,
    "start_time": "2024-01-12T11:57:36.073Z"
   },
   {
    "duration": 19,
    "start_time": "2024-01-12T12:00:25.999Z"
   },
   {
    "duration": 3625,
    "start_time": "2024-01-12T12:00:37.842Z"
   },
   {
    "duration": 16,
    "start_time": "2024-01-12T12:01:29.358Z"
   },
   {
    "duration": 3271,
    "start_time": "2024-01-12T12:01:44.321Z"
   },
   {
    "duration": 1516,
    "start_time": "2024-01-12T12:03:03.497Z"
   },
   {
    "duration": 1196,
    "start_time": "2024-01-12T12:03:05.015Z"
   },
   {
    "duration": 136,
    "start_time": "2024-01-12T12:03:06.213Z"
   },
   {
    "duration": 6,
    "start_time": "2024-01-12T12:03:06.350Z"
   },
   {
    "duration": 42,
    "start_time": "2024-01-12T12:03:06.359Z"
   },
   {
    "duration": 134,
    "start_time": "2024-01-12T12:03:06.403Z"
   },
   {
    "duration": 27,
    "start_time": "2024-01-12T12:03:06.539Z"
   },
   {
    "duration": 76,
    "start_time": "2024-01-12T12:03:06.568Z"
   },
   {
    "duration": 36,
    "start_time": "2024-01-12T12:03:06.646Z"
   },
   {
    "duration": 1765,
    "start_time": "2024-01-12T12:03:06.684Z"
   },
   {
    "duration": 92,
    "start_time": "2024-01-12T12:03:08.451Z"
   },
   {
    "duration": 109,
    "start_time": "2024-01-12T12:03:08.545Z"
   },
   {
    "duration": 3,
    "start_time": "2024-01-12T12:03:08.656Z"
   },
   {
    "duration": 10,
    "start_time": "2024-01-12T12:03:08.661Z"
   },
   {
    "duration": 89,
    "start_time": "2024-01-12T12:03:08.673Z"
   },
   {
    "duration": 3,
    "start_time": "2024-01-12T12:03:08.764Z"
   },
   {
    "duration": 3023,
    "start_time": "2024-01-12T12:03:08.769Z"
   },
   {
    "duration": 55,
    "start_time": "2024-01-12T12:03:41.213Z"
   },
   {
    "duration": 3,
    "start_time": "2024-01-12T12:03:42.795Z"
   },
   {
    "duration": 2813,
    "start_time": "2024-01-12T12:03:45.053Z"
   },
   {
    "duration": 67,
    "start_time": "2024-01-12T12:05:53.605Z"
   },
   {
    "duration": 3,
    "start_time": "2024-01-12T12:05:54.393Z"
   },
   {
    "duration": 17,
    "start_time": "2024-01-12T12:06:43.257Z"
   },
   {
    "duration": 5,
    "start_time": "2024-01-12T12:06:46.752Z"
   },
   {
    "duration": 55,
    "start_time": "2024-01-12T12:07:05.250Z"
   },
   {
    "duration": 88,
    "start_time": "2024-01-12T12:07:10.638Z"
   },
   {
    "duration": 2695,
    "start_time": "2024-01-12T12:07:16.166Z"
   },
   {
    "duration": 4,
    "start_time": "2024-01-12T12:07:23.027Z"
   },
   {
    "duration": 3264,
    "start_time": "2024-01-12T12:07:38.733Z"
   },
   {
    "duration": 71,
    "start_time": "2024-01-12T12:08:53.315Z"
   },
   {
    "duration": 5,
    "start_time": "2024-01-12T12:08:54.895Z"
   },
   {
    "duration": 4,
    "start_time": "2024-01-12T12:08:56.038Z"
   },
   {
    "duration": 1526,
    "start_time": "2024-01-12T12:11:11.429Z"
   },
   {
    "duration": 1228,
    "start_time": "2024-01-12T12:11:12.957Z"
   },
   {
    "duration": 153,
    "start_time": "2024-01-12T12:11:14.187Z"
   },
   {
    "duration": 6,
    "start_time": "2024-01-12T12:11:14.341Z"
   },
   {
    "duration": 27,
    "start_time": "2024-01-12T12:11:14.350Z"
   },
   {
    "duration": 163,
    "start_time": "2024-01-12T12:11:14.379Z"
   },
   {
    "duration": 28,
    "start_time": "2024-01-12T12:11:14.544Z"
   },
   {
    "duration": 53,
    "start_time": "2024-01-12T12:11:14.574Z"
   },
   {
    "duration": 37,
    "start_time": "2024-01-12T12:11:14.629Z"
   },
   {
    "duration": 1835,
    "start_time": "2024-01-12T12:11:14.668Z"
   },
   {
    "duration": 93,
    "start_time": "2024-01-12T12:11:16.505Z"
   },
   {
    "duration": 139,
    "start_time": "2024-01-12T12:11:16.601Z"
   },
   {
    "duration": 3,
    "start_time": "2024-01-12T12:11:16.742Z"
   },
   {
    "duration": 7,
    "start_time": "2024-01-12T12:11:16.748Z"
   },
   {
    "duration": 117,
    "start_time": "2024-01-12T12:11:16.757Z"
   },
   {
    "duration": 5,
    "start_time": "2024-01-12T12:11:16.876Z"
   },
   {
    "duration": 6,
    "start_time": "2024-01-12T12:11:16.883Z"
   },
   {
    "duration": 30532,
    "start_time": "2024-01-12T12:11:16.892Z"
   },
   {
    "duration": 497,
    "start_time": "2024-01-12T12:11:47.426Z"
   },
   {
    "duration": 159,
    "start_time": "2024-01-12T12:11:57.066Z"
   },
   {
    "duration": 197,
    "start_time": "2024-01-12T12:13:18.426Z"
   },
   {
    "duration": 130,
    "start_time": "2024-01-12T12:13:51.096Z"
   },
   {
    "duration": 127,
    "start_time": "2024-01-12T12:36:42.410Z"
   },
   {
    "duration": 222,
    "start_time": "2024-01-12T12:36:44.400Z"
   },
   {
    "duration": 10,
    "start_time": "2024-01-12T12:37:57.422Z"
   },
   {
    "duration": 15,
    "start_time": "2024-01-12T12:38:06.381Z"
   },
   {
    "duration": 14,
    "start_time": "2024-01-12T12:38:36.805Z"
   },
   {
    "duration": 16,
    "start_time": "2024-01-12T12:39:13.995Z"
   },
   {
    "duration": 5,
    "start_time": "2024-01-12T12:39:17.721Z"
   },
   {
    "duration": 8,
    "start_time": "2024-01-12T12:39:23.085Z"
   },
   {
    "duration": 7,
    "start_time": "2024-01-12T12:40:07.825Z"
   },
   {
    "duration": 15,
    "start_time": "2024-01-12T12:40:47.333Z"
   },
   {
    "duration": 5,
    "start_time": "2024-01-12T12:41:14.155Z"
   },
   {
    "duration": 9,
    "start_time": "2024-01-12T12:41:19.294Z"
   },
   {
    "duration": 19,
    "start_time": "2024-01-12T12:41:49.505Z"
   },
   {
    "duration": 14,
    "start_time": "2024-01-12T12:42:39.475Z"
   },
   {
    "duration": 6,
    "start_time": "2024-01-12T12:42:42.789Z"
   },
   {
    "duration": 9,
    "start_time": "2024-01-12T12:42:44.785Z"
   },
   {
    "duration": 1575,
    "start_time": "2024-01-12T14:36:36.874Z"
   },
   {
    "duration": 2975,
    "start_time": "2024-01-12T14:36:38.451Z"
   },
   {
    "duration": 119,
    "start_time": "2024-01-12T14:36:41.427Z"
   },
   {
    "duration": 6,
    "start_time": "2024-01-12T14:36:41.548Z"
   },
   {
    "duration": 44,
    "start_time": "2024-01-12T14:36:41.555Z"
   },
   {
    "duration": 115,
    "start_time": "2024-01-12T14:36:41.600Z"
   },
   {
    "duration": 25,
    "start_time": "2024-01-12T14:36:41.717Z"
   },
   {
    "duration": 50,
    "start_time": "2024-01-12T14:36:41.744Z"
   },
   {
    "duration": 34,
    "start_time": "2024-01-12T14:36:41.796Z"
   },
   {
    "duration": 1589,
    "start_time": "2024-01-12T14:36:41.833Z"
   },
   {
    "duration": 85,
    "start_time": "2024-01-12T14:36:43.423Z"
   },
   {
    "duration": 104,
    "start_time": "2024-01-12T14:36:43.510Z"
   },
   {
    "duration": 2,
    "start_time": "2024-01-12T14:36:43.616Z"
   },
   {
    "duration": 7,
    "start_time": "2024-01-12T14:36:43.620Z"
   },
   {
    "duration": 74,
    "start_time": "2024-01-12T14:36:43.628Z"
   },
   {
    "duration": 3,
    "start_time": "2024-01-12T14:36:43.704Z"
   },
   {
    "duration": 16,
    "start_time": "2024-01-12T14:36:43.708Z"
   },
   {
    "duration": 23477,
    "start_time": "2024-01-12T14:36:43.726Z"
   },
   {
    "duration": 291,
    "start_time": "2024-01-12T14:37:07.205Z"
   },
   {
    "duration": 94,
    "start_time": "2024-01-12T14:37:07.499Z"
   },
   {
    "duration": 26,
    "start_time": "2024-01-12T14:37:07.595Z"
   },
   {
    "duration": 26,
    "start_time": "2024-01-12T14:37:07.623Z"
   },
   {
    "duration": 25,
    "start_time": "2024-01-12T14:42:46.219Z"
   },
   {
    "duration": 3,
    "start_time": "2024-01-12T14:59:19.256Z"
   },
   {
    "duration": 20750,
    "start_time": "2024-01-12T14:59:22.554Z"
   },
   {
    "duration": 3,
    "start_time": "2024-01-12T15:02:26.793Z"
   },
   {
    "duration": 21019,
    "start_time": "2024-01-12T15:02:28.177Z"
   },
   {
    "duration": 3,
    "start_time": "2024-01-12T15:04:13.092Z"
   },
   {
    "duration": 194121,
    "start_time": "2024-01-12T15:04:14.393Z"
   },
   {
    "duration": 998,
    "start_time": "2024-01-12T15:07:46.196Z"
   },
   {
    "duration": 6,
    "start_time": "2024-01-12T15:07:50.647Z"
   },
   {
    "duration": 5,
    "start_time": "2024-01-12T15:07:55.228Z"
   },
   {
    "duration": 11,
    "start_time": "2024-01-12T15:07:56.730Z"
   },
   {
    "duration": 10,
    "start_time": "2024-01-12T15:10:32.745Z"
   },
   {
    "duration": 4,
    "start_time": "2024-01-12T15:10:39.221Z"
   },
   {
    "duration": 5,
    "start_time": "2024-01-12T15:10:46.779Z"
   },
   {
    "duration": 10,
    "start_time": "2024-01-12T15:10:48.761Z"
   },
   {
    "duration": 4,
    "start_time": "2024-01-12T15:13:47.886Z"
   },
   {
    "duration": 11,
    "start_time": "2024-01-12T15:13:52.573Z"
   },
   {
    "duration": 11,
    "start_time": "2024-01-12T15:14:10.428Z"
   },
   {
    "duration": 80,
    "start_time": "2024-01-12T15:20:40.828Z"
   },
   {
    "duration": 4,
    "start_time": "2024-01-12T15:22:02.553Z"
   },
   {
    "duration": 1400,
    "start_time": "2024-01-12T15:24:51.553Z"
   },
   {
    "duration": 1028,
    "start_time": "2024-01-12T15:24:52.955Z"
   },
   {
    "duration": 114,
    "start_time": "2024-01-12T15:24:53.985Z"
   },
   {
    "duration": 5,
    "start_time": "2024-01-12T15:24:54.100Z"
   },
   {
    "duration": 24,
    "start_time": "2024-01-12T15:24:54.107Z"
   },
   {
    "duration": 111,
    "start_time": "2024-01-12T15:24:54.132Z"
   },
   {
    "duration": 25,
    "start_time": "2024-01-12T15:24:54.244Z"
   },
   {
    "duration": 46,
    "start_time": "2024-01-12T15:24:54.270Z"
   },
   {
    "duration": 32,
    "start_time": "2024-01-12T15:24:54.318Z"
   },
   {
    "duration": 1505,
    "start_time": "2024-01-12T15:24:54.352Z"
   },
   {
    "duration": 86,
    "start_time": "2024-01-12T15:24:55.859Z"
   },
   {
    "duration": 109,
    "start_time": "2024-01-12T15:24:55.947Z"
   },
   {
    "duration": 2,
    "start_time": "2024-01-12T15:24:56.058Z"
   },
   {
    "duration": 11,
    "start_time": "2024-01-12T15:24:56.062Z"
   },
   {
    "duration": 65,
    "start_time": "2024-01-12T15:24:56.075Z"
   },
   {
    "duration": 3,
    "start_time": "2024-01-12T15:24:56.142Z"
   },
   {
    "duration": 10,
    "start_time": "2024-01-12T15:24:56.147Z"
   },
   {
    "duration": 204,
    "start_time": "2024-01-12T15:24:56.158Z"
   },
   {
    "duration": 0,
    "start_time": "2024-01-12T15:24:56.364Z"
   },
   {
    "duration": 0,
    "start_time": "2024-01-12T15:24:56.364Z"
   },
   {
    "duration": 0,
    "start_time": "2024-01-12T15:24:56.365Z"
   },
   {
    "duration": 0,
    "start_time": "2024-01-12T15:24:56.366Z"
   },
   {
    "duration": 4,
    "start_time": "2024-01-12T15:25:29.943Z"
   },
   {
    "duration": 103577,
    "start_time": "2024-01-12T15:25:31.233Z"
   },
   {
    "duration": 4,
    "start_time": "2024-01-12T15:28:31.168Z"
   },
   {
    "duration": 10,
    "start_time": "2024-01-12T15:28:36.095Z"
   },
   {
    "duration": 73,
    "start_time": "2024-01-12T15:28:51.698Z"
   },
   {
    "duration": 20,
    "start_time": "2024-01-12T15:28:52.659Z"
   },
   {
    "duration": 5,
    "start_time": "2024-01-12T15:28:55.920Z"
   },
   {
    "duration": 53476,
    "start_time": "2024-01-12T15:28:57.622Z"
   },
   {
    "duration": 629,
    "start_time": "2024-01-12T15:31:30.975Z"
   },
   {
    "duration": 6,
    "start_time": "2024-01-12T15:31:33.414Z"
   },
   {
    "duration": 4,
    "start_time": "2024-01-12T15:31:34.342Z"
   },
   {
    "duration": 12,
    "start_time": "2024-01-12T15:31:35.161Z"
   },
   {
    "duration": 4,
    "start_time": "2024-01-12T15:38:11.440Z"
   },
   {
    "duration": 111852,
    "start_time": "2024-01-12T15:38:15.268Z"
   },
   {
    "duration": 930,
    "start_time": "2024-01-12T15:40:25.484Z"
   },
   {
    "duration": 6,
    "start_time": "2024-01-12T15:40:32.450Z"
   },
   {
    "duration": 4,
    "start_time": "2024-01-12T15:40:36.703Z"
   },
   {
    "duration": 12,
    "start_time": "2024-01-12T15:40:37.423Z"
   },
   {
    "duration": 1145,
    "start_time": "2024-01-12T15:42:00.827Z"
   },
   {
    "duration": 6,
    "start_time": "2024-01-12T15:42:24.347Z"
   },
   {
    "duration": 13,
    "start_time": "2024-01-12T15:45:21.553Z"
   },
   {
    "duration": 14,
    "start_time": "2024-01-12T15:46:14.087Z"
   },
   {
    "duration": 72,
    "start_time": "2024-01-12T15:46:36.544Z"
   },
   {
    "duration": 32,
    "start_time": "2024-01-12T15:46:39.876Z"
   },
   {
    "duration": 5,
    "start_time": "2024-01-12T15:54:49.652Z"
   },
   {
    "duration": 3,
    "start_time": "2024-01-12T15:54:50.705Z"
   },
   {
    "duration": 14,
    "start_time": "2024-01-12T15:54:51.273Z"
   },
   {
    "duration": 4,
    "start_time": "2024-01-12T16:01:15.058Z"
   },
   {
    "duration": 1349,
    "start_time": "2024-01-12T16:01:19.440Z"
   },
   {
    "duration": 1037,
    "start_time": "2024-01-12T16:01:20.791Z"
   },
   {
    "duration": 115,
    "start_time": "2024-01-12T16:01:21.829Z"
   },
   {
    "duration": 7,
    "start_time": "2024-01-12T16:01:21.946Z"
   },
   {
    "duration": 37,
    "start_time": "2024-01-12T16:01:21.955Z"
   },
   {
    "duration": 113,
    "start_time": "2024-01-12T16:01:21.994Z"
   },
   {
    "duration": 38,
    "start_time": "2024-01-12T16:01:22.108Z"
   },
   {
    "duration": 48,
    "start_time": "2024-01-12T16:01:22.147Z"
   },
   {
    "duration": 34,
    "start_time": "2024-01-12T16:01:22.196Z"
   },
   {
    "duration": 1580,
    "start_time": "2024-01-12T16:01:22.231Z"
   },
   {
    "duration": 79,
    "start_time": "2024-01-12T16:01:23.813Z"
   },
   {
    "duration": 80,
    "start_time": "2024-01-12T16:01:23.894Z"
   },
   {
    "duration": 2,
    "start_time": "2024-01-12T16:01:23.976Z"
   },
   {
    "duration": 8,
    "start_time": "2024-01-12T16:01:23.992Z"
   },
   {
    "duration": 71,
    "start_time": "2024-01-12T16:01:24.001Z"
   },
   {
    "duration": 4,
    "start_time": "2024-01-12T16:01:24.073Z"
   },
   {
    "duration": 8,
    "start_time": "2024-01-12T16:01:24.078Z"
   },
   {
    "duration": 117414,
    "start_time": "2024-01-12T16:01:24.087Z"
   },
   {
    "duration": 1090,
    "start_time": "2024-01-12T16:03:21.503Z"
   },
   {
    "duration": 6,
    "start_time": "2024-01-12T16:03:22.594Z"
   },
   {
    "duration": 10,
    "start_time": "2024-01-12T16:03:22.601Z"
   },
   {
    "duration": 22,
    "start_time": "2024-01-12T16:03:22.612Z"
   },
   {
    "duration": 5,
    "start_time": "2024-01-12T16:08:08.737Z"
   },
   {
    "duration": 4,
    "start_time": "2024-01-12T16:08:17.190Z"
   },
   {
    "duration": 72,
    "start_time": "2024-01-12T16:42:03.141Z"
   },
   {
    "duration": 386,
    "start_time": "2024-01-12T16:43:11.949Z"
   },
   {
    "duration": 559,
    "start_time": "2024-01-12T16:43:40.133Z"
   },
   {
    "duration": 257,
    "start_time": "2024-01-12T16:43:54.031Z"
   },
   {
    "duration": 386,
    "start_time": "2024-01-12T16:45:02.410Z"
   },
   {
    "duration": 483,
    "start_time": "2024-01-12T16:45:10.903Z"
   },
   {
    "duration": 4008,
    "start_time": "2024-01-12T16:45:26.574Z"
   },
   {
    "duration": 111,
    "start_time": "2024-01-12T16:46:51.022Z"
   },
   {
    "duration": 1369,
    "start_time": "2024-01-12T16:47:02.602Z"
   },
   {
    "duration": 1057,
    "start_time": "2024-01-12T16:47:03.973Z"
   },
   {
    "duration": 129,
    "start_time": "2024-01-12T16:47:05.032Z"
   },
   {
    "duration": 6,
    "start_time": "2024-01-12T16:47:05.163Z"
   },
   {
    "duration": 36,
    "start_time": "2024-01-12T16:47:05.170Z"
   },
   {
    "duration": 102,
    "start_time": "2024-01-12T16:47:05.207Z"
   },
   {
    "duration": 26,
    "start_time": "2024-01-12T16:47:05.311Z"
   },
   {
    "duration": 31,
    "start_time": "2024-01-12T16:47:05.338Z"
   },
   {
    "duration": 46,
    "start_time": "2024-01-12T16:47:05.372Z"
   },
   {
    "duration": 1568,
    "start_time": "2024-01-12T16:47:05.420Z"
   },
   {
    "duration": 65,
    "start_time": "2024-01-12T16:47:06.989Z"
   },
   {
    "duration": 78,
    "start_time": "2024-01-12T16:47:07.055Z"
   },
   {
    "duration": 3,
    "start_time": "2024-01-12T16:47:07.135Z"
   },
   {
    "duration": 9,
    "start_time": "2024-01-12T16:47:07.139Z"
   },
   {
    "duration": 65,
    "start_time": "2024-01-12T16:47:07.150Z"
   },
   {
    "duration": 0,
    "start_time": "2024-01-12T16:47:07.217Z"
   },
   {
    "duration": 0,
    "start_time": "2024-01-12T16:47:07.218Z"
   },
   {
    "duration": 0,
    "start_time": "2024-01-12T16:47:07.219Z"
   },
   {
    "duration": 0,
    "start_time": "2024-01-12T16:47:07.220Z"
   },
   {
    "duration": 0,
    "start_time": "2024-01-12T16:47:07.221Z"
   },
   {
    "duration": 0,
    "start_time": "2024-01-12T16:47:07.222Z"
   },
   {
    "duration": 0,
    "start_time": "2024-01-12T16:47:07.223Z"
   },
   {
    "duration": 0,
    "start_time": "2024-01-12T16:47:07.224Z"
   },
   {
    "duration": 0,
    "start_time": "2024-01-12T16:47:07.225Z"
   },
   {
    "duration": 0,
    "start_time": "2024-01-12T16:47:07.226Z"
   },
   {
    "duration": 1399,
    "start_time": "2024-01-12T16:49:20.270Z"
   },
   {
    "duration": 1396,
    "start_time": "2024-01-12T16:49:31.764Z"
   },
   {
    "duration": 1710,
    "start_time": "2024-01-12T16:54:04.093Z"
   },
   {
    "duration": 1693,
    "start_time": "2024-01-12T16:54:23.038Z"
   },
   {
    "duration": 1623,
    "start_time": "2024-01-12T16:54:32.018Z"
   },
   {
    "duration": 955,
    "start_time": "2024-01-12T16:54:46.566Z"
   },
   {
    "duration": 13,
    "start_time": "2024-01-12T17:04:31.046Z"
   },
   {
    "duration": 3294,
    "start_time": "2024-01-12T17:05:22.459Z"
   },
   {
    "duration": 6695,
    "start_time": "2024-01-12T17:05:31.918Z"
   },
   {
    "duration": 3336,
    "start_time": "2024-01-12T17:40:32.596Z"
   },
   {
    "duration": 5260,
    "start_time": "2024-01-14T18:19:26.859Z"
   },
   {
    "duration": 1257,
    "start_time": "2024-01-14T18:19:32.121Z"
   },
   {
    "duration": 116,
    "start_time": "2024-01-14T18:19:33.379Z"
   },
   {
    "duration": 5,
    "start_time": "2024-01-14T18:19:33.496Z"
   },
   {
    "duration": 27,
    "start_time": "2024-01-14T18:19:33.504Z"
   },
   {
    "duration": 103,
    "start_time": "2024-01-14T18:19:33.532Z"
   },
   {
    "duration": 22,
    "start_time": "2024-01-14T18:19:33.636Z"
   },
   {
    "duration": 50,
    "start_time": "2024-01-14T18:19:33.660Z"
   },
   {
    "duration": 29,
    "start_time": "2024-01-14T18:19:33.712Z"
   },
   {
    "duration": 1607,
    "start_time": "2024-01-14T18:19:33.743Z"
   },
   {
    "duration": 70,
    "start_time": "2024-01-14T18:19:35.351Z"
   },
   {
    "duration": 63,
    "start_time": "2024-01-14T18:19:35.423Z"
   },
   {
    "duration": 2,
    "start_time": "2024-01-14T18:19:35.488Z"
   },
   {
    "duration": 12,
    "start_time": "2024-01-14T18:19:35.492Z"
   },
   {
    "duration": 3544,
    "start_time": "2024-01-14T18:19:35.515Z"
   },
   {
    "duration": 60,
    "start_time": "2024-01-14T18:19:39.061Z"
   },
   {
    "duration": 3,
    "start_time": "2024-01-14T18:19:39.123Z"
   },
   {
    "duration": 27,
    "start_time": "2024-01-14T18:19:39.128Z"
   },
   {
    "duration": 3824,
    "start_time": "2024-01-14T18:21:02.482Z"
   },
   {
    "duration": 1053,
    "start_time": "2024-01-14T18:21:06.309Z"
   },
   {
    "duration": 120,
    "start_time": "2024-01-14T18:21:07.363Z"
   },
   {
    "duration": 7,
    "start_time": "2024-01-14T18:21:07.485Z"
   },
   {
    "duration": 43,
    "start_time": "2024-01-14T18:21:07.494Z"
   },
   {
    "duration": 41,
    "start_time": "2024-01-14T18:21:07.539Z"
   },
   {
    "duration": 103,
    "start_time": "2024-01-14T18:21:07.582Z"
   },
   {
    "duration": 28,
    "start_time": "2024-01-14T18:21:07.687Z"
   },
   {
    "duration": 31,
    "start_time": "2024-01-14T18:21:07.716Z"
   },
   {
    "duration": 34,
    "start_time": "2024-01-14T18:21:07.749Z"
   },
   {
    "duration": 1634,
    "start_time": "2024-01-14T18:21:07.785Z"
   },
   {
    "duration": 63,
    "start_time": "2024-01-14T18:21:09.421Z"
   },
   {
    "duration": 79,
    "start_time": "2024-01-14T18:21:09.486Z"
   },
   {
    "duration": 2,
    "start_time": "2024-01-14T18:21:09.568Z"
   },
   {
    "duration": 16,
    "start_time": "2024-01-14T18:21:09.572Z"
   },
   {
    "duration": 3645,
    "start_time": "2024-01-14T18:21:09.590Z"
   },
   {
    "duration": 51,
    "start_time": "2024-01-14T18:21:13.236Z"
   },
   {
    "duration": 4,
    "start_time": "2024-01-14T18:21:13.288Z"
   },
   {
    "duration": 28,
    "start_time": "2024-01-14T18:21:13.293Z"
   },
   {
    "duration": 146301,
    "start_time": "2024-01-14T18:21:13.322Z"
   },
   {
    "duration": 1192,
    "start_time": "2024-01-14T18:23:39.624Z"
   },
   {
    "duration": 5,
    "start_time": "2024-01-14T18:23:40.817Z"
   },
   {
    "duration": 5,
    "start_time": "2024-01-14T18:23:40.824Z"
   },
   {
    "duration": 18,
    "start_time": "2024-01-14T18:23:40.830Z"
   },
   {
    "duration": 13,
    "start_time": "2024-01-14T18:23:40.849Z"
   },
   {
    "duration": 5,
    "start_time": "2024-01-14T18:27:39.524Z"
   },
   {
    "duration": 58506,
    "start_time": "2024-01-14T18:27:42.517Z"
   },
   {
    "duration": 625,
    "start_time": "2024-01-14T18:28:50.404Z"
   },
   {
    "duration": 6,
    "start_time": "2024-01-14T18:28:53.385Z"
   },
   {
    "duration": 3,
    "start_time": "2024-01-14T18:28:54.244Z"
   },
   {
    "duration": 14,
    "start_time": "2024-01-14T18:28:55.360Z"
   },
   {
    "duration": 4,
    "start_time": "2024-01-14T18:29:04.347Z"
   },
   {
    "duration": 4,
    "start_time": "2024-01-14T18:29:55.861Z"
   },
   {
    "duration": 91640,
    "start_time": "2024-01-14T18:29:59.385Z"
   },
   {
    "duration": 625,
    "start_time": "2024-01-14T18:31:34.000Z"
   },
   {
    "duration": 5,
    "start_time": "2024-01-14T18:31:37.426Z"
   },
   {
    "duration": 3,
    "start_time": "2024-01-14T18:31:39.263Z"
   },
   {
    "duration": 13,
    "start_time": "2024-01-14T18:31:40.289Z"
   },
   {
    "duration": 73,
    "start_time": "2024-01-14T18:32:25.060Z"
   },
   {
    "duration": 28,
    "start_time": "2024-01-14T18:32:29.638Z"
   },
   {
    "duration": 4,
    "start_time": "2024-01-14T18:33:21.437Z"
   },
   {
    "duration": 7,
    "start_time": "2024-01-14T18:33:42.830Z"
   },
   {
    "duration": 4,
    "start_time": "2024-01-14T18:33:43.906Z"
   },
   {
    "duration": 12,
    "start_time": "2024-01-14T18:33:44.987Z"
   },
   {
    "duration": 3697,
    "start_time": "2024-01-14T18:34:51.049Z"
   },
   {
    "duration": 1033,
    "start_time": "2024-01-14T18:34:54.749Z"
   },
   {
    "duration": 133,
    "start_time": "2024-01-14T18:34:55.784Z"
   },
   {
    "duration": 6,
    "start_time": "2024-01-14T18:34:55.918Z"
   },
   {
    "duration": 34,
    "start_time": "2024-01-14T18:34:55.925Z"
   },
   {
    "duration": 45,
    "start_time": "2024-01-14T18:34:55.960Z"
   },
   {
    "duration": 121,
    "start_time": "2024-01-14T18:34:56.006Z"
   },
   {
    "duration": 24,
    "start_time": "2024-01-14T18:34:56.129Z"
   },
   {
    "duration": 34,
    "start_time": "2024-01-14T18:34:56.155Z"
   },
   {
    "duration": 46,
    "start_time": "2024-01-14T18:34:56.190Z"
   },
   {
    "duration": 1619,
    "start_time": "2024-01-14T18:34:56.237Z"
   },
   {
    "duration": 79,
    "start_time": "2024-01-14T18:34:57.858Z"
   },
   {
    "duration": 81,
    "start_time": "2024-01-14T18:34:57.939Z"
   },
   {
    "duration": 2,
    "start_time": "2024-01-14T18:34:58.023Z"
   },
   {
    "duration": 6,
    "start_time": "2024-01-14T18:34:58.027Z"
   },
   {
    "duration": 5193,
    "start_time": "2024-01-14T18:34:58.034Z"
   },
   {
    "duration": 67,
    "start_time": "2024-01-14T18:35:03.229Z"
   },
   {
    "duration": 4,
    "start_time": "2024-01-14T18:35:03.297Z"
   },
   {
    "duration": 32,
    "start_time": "2024-01-14T18:35:03.302Z"
   },
   {
    "duration": 6489,
    "start_time": "2024-01-14T18:35:03.336Z"
   },
   {
    "duration": 0,
    "start_time": "2024-01-14T18:35:09.827Z"
   },
   {
    "duration": 0,
    "start_time": "2024-01-14T18:35:09.828Z"
   },
   {
    "duration": 0,
    "start_time": "2024-01-14T18:35:09.829Z"
   },
   {
    "duration": 0,
    "start_time": "2024-01-14T18:35:09.830Z"
   },
   {
    "duration": 0,
    "start_time": "2024-01-14T18:35:09.831Z"
   },
   {
    "duration": 3723,
    "start_time": "2024-01-14T18:35:23.364Z"
   },
   {
    "duration": 1010,
    "start_time": "2024-01-14T18:35:27.089Z"
   },
   {
    "duration": 144,
    "start_time": "2024-01-14T18:35:28.101Z"
   },
   {
    "duration": 7,
    "start_time": "2024-01-14T18:35:28.246Z"
   },
   {
    "duration": 23,
    "start_time": "2024-01-14T18:35:28.255Z"
   },
   {
    "duration": 42,
    "start_time": "2024-01-14T18:35:28.280Z"
   },
   {
    "duration": 103,
    "start_time": "2024-01-14T18:35:28.324Z"
   },
   {
    "duration": 26,
    "start_time": "2024-01-14T18:35:28.429Z"
   },
   {
    "duration": 36,
    "start_time": "2024-01-14T18:35:28.456Z"
   },
   {
    "duration": 53,
    "start_time": "2024-01-14T18:35:28.493Z"
   },
   {
    "duration": 1613,
    "start_time": "2024-01-14T18:35:28.547Z"
   },
   {
    "duration": 85,
    "start_time": "2024-01-14T18:35:30.162Z"
   },
   {
    "duration": 118,
    "start_time": "2024-01-14T18:35:30.248Z"
   },
   {
    "duration": 3,
    "start_time": "2024-01-14T18:35:30.369Z"
   },
   {
    "duration": 50,
    "start_time": "2024-01-14T18:35:30.374Z"
   },
   {
    "duration": 5029,
    "start_time": "2024-01-14T18:35:30.426Z"
   },
   {
    "duration": 54,
    "start_time": "2024-01-14T18:35:35.456Z"
   },
   {
    "duration": 4,
    "start_time": "2024-01-14T18:35:35.511Z"
   },
   {
    "duration": 6,
    "start_time": "2024-01-14T18:35:35.516Z"
   },
   {
    "duration": 86557,
    "start_time": "2024-01-14T18:35:35.523Z"
   },
   {
    "duration": 0,
    "start_time": "2024-01-14T18:37:02.082Z"
   },
   {
    "duration": 0,
    "start_time": "2024-01-14T18:37:02.083Z"
   },
   {
    "duration": 0,
    "start_time": "2024-01-14T18:37:02.084Z"
   },
   {
    "duration": 0,
    "start_time": "2024-01-14T18:37:02.085Z"
   },
   {
    "duration": 0,
    "start_time": "2024-01-14T18:37:02.086Z"
   },
   {
    "duration": 3815,
    "start_time": "2024-01-14T18:38:26.315Z"
   },
   {
    "duration": 1065,
    "start_time": "2024-01-14T18:38:30.132Z"
   },
   {
    "duration": 123,
    "start_time": "2024-01-14T18:38:31.199Z"
   },
   {
    "duration": 6,
    "start_time": "2024-01-14T18:38:31.323Z"
   },
   {
    "duration": 54,
    "start_time": "2024-01-14T18:38:31.331Z"
   },
   {
    "duration": 46,
    "start_time": "2024-01-14T18:38:31.386Z"
   },
   {
    "duration": 129,
    "start_time": "2024-01-14T18:38:31.433Z"
   },
   {
    "duration": 23,
    "start_time": "2024-01-14T18:38:31.563Z"
   },
   {
    "duration": 69,
    "start_time": "2024-01-14T18:38:31.587Z"
   },
   {
    "duration": 33,
    "start_time": "2024-01-14T18:38:31.657Z"
   },
   {
    "duration": 1638,
    "start_time": "2024-01-14T18:38:31.692Z"
   },
   {
    "duration": 89,
    "start_time": "2024-01-14T18:38:33.332Z"
   },
   {
    "duration": 5596,
    "start_time": "2024-01-14T18:38:33.423Z"
   },
   {
    "duration": 4,
    "start_time": "2024-01-14T18:38:39.021Z"
   },
   {
    "duration": 82,
    "start_time": "2024-01-14T18:38:39.026Z"
   },
   {
    "duration": 2,
    "start_time": "2024-01-14T18:38:39.115Z"
   },
   {
    "duration": 5,
    "start_time": "2024-01-14T18:38:39.118Z"
   },
   {
    "duration": 109,
    "start_time": "2024-01-14T18:38:39.124Z"
   },
   {
    "duration": 0,
    "start_time": "2024-01-14T18:38:39.235Z"
   },
   {
    "duration": 0,
    "start_time": "2024-01-14T18:38:39.237Z"
   },
   {
    "duration": 0,
    "start_time": "2024-01-14T18:38:39.238Z"
   },
   {
    "duration": 0,
    "start_time": "2024-01-14T18:38:39.239Z"
   },
   {
    "duration": 0,
    "start_time": "2024-01-14T18:38:39.241Z"
   },
   {
    "duration": 0,
    "start_time": "2024-01-14T18:38:39.242Z"
   },
   {
    "duration": 0,
    "start_time": "2024-01-14T18:38:39.243Z"
   },
   {
    "duration": 0,
    "start_time": "2024-01-14T18:38:39.245Z"
   },
   {
    "duration": 0,
    "start_time": "2024-01-14T18:38:39.246Z"
   },
   {
    "duration": 1525,
    "start_time": "2024-01-14T18:41:07.747Z"
   },
   {
    "duration": 18,
    "start_time": "2024-01-14T18:42:25.083Z"
   },
   {
    "duration": 1257,
    "start_time": "2024-01-14T18:48:34.581Z"
   },
   {
    "duration": 4465,
    "start_time": "2024-01-14T18:48:43.070Z"
   },
   {
    "duration": 1028,
    "start_time": "2024-01-14T18:48:47.537Z"
   },
   {
    "duration": 128,
    "start_time": "2024-01-14T18:48:48.567Z"
   },
   {
    "duration": 6,
    "start_time": "2024-01-14T18:48:48.696Z"
   },
   {
    "duration": 14,
    "start_time": "2024-01-14T18:48:48.704Z"
   },
   {
    "duration": 28,
    "start_time": "2024-01-14T18:48:48.719Z"
   },
   {
    "duration": 124,
    "start_time": "2024-01-14T18:48:48.749Z"
   },
   {
    "duration": 25,
    "start_time": "2024-01-14T18:48:48.875Z"
   },
   {
    "duration": 52,
    "start_time": "2024-01-14T18:48:48.902Z"
   },
   {
    "duration": 34,
    "start_time": "2024-01-14T18:48:48.956Z"
   },
   {
    "duration": 1623,
    "start_time": "2024-01-14T18:48:48.992Z"
   },
   {
    "duration": 5683,
    "start_time": "2024-01-14T18:48:50.616Z"
   },
   {
    "duration": 16,
    "start_time": "2024-01-14T18:48:56.301Z"
   },
   {
    "duration": 66,
    "start_time": "2024-01-14T18:48:56.320Z"
   },
   {
    "duration": 119,
    "start_time": "2024-01-14T18:48:56.388Z"
   },
   {
    "duration": 0,
    "start_time": "2024-01-14T18:48:56.509Z"
   },
   {
    "duration": 0,
    "start_time": "2024-01-14T18:48:56.510Z"
   },
   {
    "duration": 0,
    "start_time": "2024-01-14T18:48:56.511Z"
   },
   {
    "duration": 0,
    "start_time": "2024-01-14T18:48:56.515Z"
   },
   {
    "duration": 0,
    "start_time": "2024-01-14T18:48:56.516Z"
   },
   {
    "duration": 0,
    "start_time": "2024-01-14T18:48:56.517Z"
   },
   {
    "duration": 0,
    "start_time": "2024-01-14T18:48:56.518Z"
   },
   {
    "duration": 0,
    "start_time": "2024-01-14T18:48:56.520Z"
   },
   {
    "duration": 0,
    "start_time": "2024-01-14T18:48:56.522Z"
   },
   {
    "duration": 0,
    "start_time": "2024-01-14T18:48:56.523Z"
   },
   {
    "duration": 0,
    "start_time": "2024-01-14T18:48:56.524Z"
   },
   {
    "duration": 5110,
    "start_time": "2024-01-14T18:49:05.520Z"
   },
   {
    "duration": 992,
    "start_time": "2024-01-14T18:49:10.633Z"
   },
   {
    "duration": 119,
    "start_time": "2024-01-14T18:49:11.626Z"
   },
   {
    "duration": 5,
    "start_time": "2024-01-14T18:49:11.747Z"
   },
   {
    "duration": 32,
    "start_time": "2024-01-14T18:49:11.753Z"
   },
   {
    "duration": 34,
    "start_time": "2024-01-14T18:49:11.786Z"
   },
   {
    "duration": 107,
    "start_time": "2024-01-14T18:49:11.822Z"
   },
   {
    "duration": 21,
    "start_time": "2024-01-14T18:49:11.931Z"
   },
   {
    "duration": 30,
    "start_time": "2024-01-14T18:49:11.954Z"
   },
   {
    "duration": 53,
    "start_time": "2024-01-14T18:49:11.986Z"
   },
   {
    "duration": 1625,
    "start_time": "2024-01-14T18:49:12.041Z"
   },
   {
    "duration": 5567,
    "start_time": "2024-01-14T18:49:13.668Z"
   },
   {
    "duration": 16,
    "start_time": "2024-01-14T18:49:19.236Z"
   },
   {
    "duration": 65,
    "start_time": "2024-01-14T18:49:19.254Z"
   },
   {
    "duration": 107,
    "start_time": "2024-01-14T18:49:19.320Z"
   },
   {
    "duration": 0,
    "start_time": "2024-01-14T18:49:19.428Z"
   },
   {
    "duration": 0,
    "start_time": "2024-01-14T18:49:19.430Z"
   },
   {
    "duration": 0,
    "start_time": "2024-01-14T18:49:19.430Z"
   },
   {
    "duration": 0,
    "start_time": "2024-01-14T18:49:19.431Z"
   },
   {
    "duration": 0,
    "start_time": "2024-01-14T18:49:19.432Z"
   },
   {
    "duration": 0,
    "start_time": "2024-01-14T18:49:19.433Z"
   },
   {
    "duration": 0,
    "start_time": "2024-01-14T18:49:19.434Z"
   },
   {
    "duration": 0,
    "start_time": "2024-01-14T18:49:19.435Z"
   },
   {
    "duration": 0,
    "start_time": "2024-01-14T18:49:19.436Z"
   },
   {
    "duration": 0,
    "start_time": "2024-01-14T18:49:19.437Z"
   },
   {
    "duration": 0,
    "start_time": "2024-01-14T18:49:19.438Z"
   },
   {
    "duration": 1557,
    "start_time": "2024-01-14T18:59:16.158Z"
   },
   {
    "duration": 4012,
    "start_time": "2024-01-14T19:00:05.698Z"
   },
   {
    "duration": 3761,
    "start_time": "2024-01-14T19:00:13.318Z"
   },
   {
    "duration": 1434,
    "start_time": "2024-01-14T19:00:17.081Z"
   },
   {
    "duration": 222,
    "start_time": "2024-01-14T19:00:18.517Z"
   },
   {
    "duration": 6,
    "start_time": "2024-01-14T19:00:18.741Z"
   },
   {
    "duration": 87,
    "start_time": "2024-01-14T19:00:18.749Z"
   },
   {
    "duration": 90,
    "start_time": "2024-01-14T19:00:18.838Z"
   },
   {
    "duration": 292,
    "start_time": "2024-01-14T19:00:18.931Z"
   },
   {
    "duration": 26,
    "start_time": "2024-01-14T19:00:19.224Z"
   },
   {
    "duration": 31,
    "start_time": "2024-01-14T19:00:19.251Z"
   },
   {
    "duration": 54,
    "start_time": "2024-01-14T19:00:19.283Z"
   },
   {
    "duration": 1587,
    "start_time": "2024-01-14T19:00:19.339Z"
   },
   {
    "duration": 5519,
    "start_time": "2024-01-14T19:00:20.928Z"
   },
   {
    "duration": 16,
    "start_time": "2024-01-14T19:00:26.448Z"
   },
   {
    "duration": 64,
    "start_time": "2024-01-14T19:00:26.467Z"
   },
   {
    "duration": 111,
    "start_time": "2024-01-14T19:00:26.532Z"
   },
   {
    "duration": 0,
    "start_time": "2024-01-14T19:00:26.645Z"
   },
   {
    "duration": 0,
    "start_time": "2024-01-14T19:00:26.646Z"
   },
   {
    "duration": 0,
    "start_time": "2024-01-14T19:00:26.647Z"
   },
   {
    "duration": 0,
    "start_time": "2024-01-14T19:00:26.648Z"
   },
   {
    "duration": 0,
    "start_time": "2024-01-14T19:00:26.649Z"
   },
   {
    "duration": 0,
    "start_time": "2024-01-14T19:00:26.650Z"
   },
   {
    "duration": 0,
    "start_time": "2024-01-14T19:00:26.651Z"
   },
   {
    "duration": 0,
    "start_time": "2024-01-14T19:00:26.652Z"
   },
   {
    "duration": 0,
    "start_time": "2024-01-14T19:00:26.653Z"
   },
   {
    "duration": 0,
    "start_time": "2024-01-14T19:00:26.654Z"
   },
   {
    "duration": 0,
    "start_time": "2024-01-14T19:00:26.655Z"
   },
   {
    "duration": 3924,
    "start_time": "2024-01-14T19:01:30.791Z"
   },
   {
    "duration": 4440,
    "start_time": "2024-01-14T19:05:06.667Z"
   },
   {
    "duration": 1049,
    "start_time": "2024-01-14T19:05:11.109Z"
   },
   {
    "duration": 127,
    "start_time": "2024-01-14T19:05:12.160Z"
   },
   {
    "duration": 6,
    "start_time": "2024-01-14T19:05:12.289Z"
   },
   {
    "duration": 46,
    "start_time": "2024-01-14T19:05:12.298Z"
   },
   {
    "duration": 25,
    "start_time": "2024-01-14T19:05:12.346Z"
   },
   {
    "duration": 118,
    "start_time": "2024-01-14T19:05:12.373Z"
   },
   {
    "duration": 35,
    "start_time": "2024-01-14T19:05:12.493Z"
   },
   {
    "duration": 33,
    "start_time": "2024-01-14T19:05:12.529Z"
   },
   {
    "duration": 52,
    "start_time": "2024-01-14T19:05:12.563Z"
   },
   {
    "duration": 1664,
    "start_time": "2024-01-14T19:05:12.616Z"
   },
   {
    "duration": 5481,
    "start_time": "2024-01-14T19:05:14.282Z"
   },
   {
    "duration": 16,
    "start_time": "2024-01-14T19:05:19.764Z"
   },
   {
    "duration": 3996,
    "start_time": "2024-01-14T19:05:19.782Z"
   },
   {
    "duration": 70,
    "start_time": "2024-01-14T19:05:23.780Z"
   },
   {
    "duration": 121,
    "start_time": "2024-01-14T19:05:23.852Z"
   },
   {
    "duration": 0,
    "start_time": "2024-01-14T19:05:23.974Z"
   },
   {
    "duration": 0,
    "start_time": "2024-01-14T19:05:23.975Z"
   },
   {
    "duration": 0,
    "start_time": "2024-01-14T19:05:23.976Z"
   },
   {
    "duration": 0,
    "start_time": "2024-01-14T19:05:23.977Z"
   },
   {
    "duration": 0,
    "start_time": "2024-01-14T19:05:23.978Z"
   },
   {
    "duration": 0,
    "start_time": "2024-01-14T19:05:23.979Z"
   },
   {
    "duration": 0,
    "start_time": "2024-01-14T19:05:23.980Z"
   },
   {
    "duration": 0,
    "start_time": "2024-01-14T19:05:23.982Z"
   },
   {
    "duration": 0,
    "start_time": "2024-01-14T19:05:23.982Z"
   },
   {
    "duration": 0,
    "start_time": "2024-01-14T19:05:23.983Z"
   },
   {
    "duration": 0,
    "start_time": "2024-01-14T19:05:23.984Z"
   },
   {
    "duration": 3678,
    "start_time": "2024-01-14T19:06:57.238Z"
   },
   {
    "duration": 1015,
    "start_time": "2024-01-14T19:07:00.919Z"
   },
   {
    "duration": 108,
    "start_time": "2024-01-14T19:07:01.936Z"
   },
   {
    "duration": 5,
    "start_time": "2024-01-14T19:07:02.046Z"
   },
   {
    "duration": 41,
    "start_time": "2024-01-14T19:07:02.053Z"
   },
   {
    "duration": 29,
    "start_time": "2024-01-14T19:07:02.096Z"
   },
   {
    "duration": 113,
    "start_time": "2024-01-14T19:07:02.127Z"
   },
   {
    "duration": 21,
    "start_time": "2024-01-14T19:07:02.242Z"
   },
   {
    "duration": 45,
    "start_time": "2024-01-14T19:07:02.265Z"
   },
   {
    "duration": 32,
    "start_time": "2024-01-14T19:07:02.311Z"
   },
   {
    "duration": 1636,
    "start_time": "2024-01-14T19:07:02.345Z"
   },
   {
    "duration": 6161,
    "start_time": "2024-01-14T19:07:03.982Z"
   },
   {
    "duration": 17,
    "start_time": "2024-01-14T19:07:10.145Z"
   },
   {
    "duration": 3920,
    "start_time": "2024-01-14T19:07:10.164Z"
   },
   {
    "duration": 69,
    "start_time": "2024-01-14T19:07:14.086Z"
   },
   {
    "duration": 87,
    "start_time": "2024-01-14T19:07:14.157Z"
   },
   {
    "duration": 3,
    "start_time": "2024-01-14T19:07:14.246Z"
   },
   {
    "duration": 15,
    "start_time": "2024-01-14T19:07:14.250Z"
   },
   {
    "duration": 67,
    "start_time": "2024-01-14T19:07:14.266Z"
   },
   {
    "duration": 3,
    "start_time": "2024-01-14T19:07:14.335Z"
   },
   {
    "duration": 13,
    "start_time": "2024-01-14T19:07:14.340Z"
   },
   {
    "duration": 9754,
    "start_time": "2024-01-14T19:07:14.354Z"
   },
   {
    "duration": 0,
    "start_time": "2024-01-14T19:07:24.110Z"
   },
   {
    "duration": 0,
    "start_time": "2024-01-14T19:07:24.111Z"
   },
   {
    "duration": 0,
    "start_time": "2024-01-14T19:07:24.112Z"
   },
   {
    "duration": 0,
    "start_time": "2024-01-14T19:07:24.113Z"
   },
   {
    "duration": 1,
    "start_time": "2024-01-14T19:07:24.114Z"
   },
   {
    "duration": 208,
    "start_time": "2024-01-14T19:21:57.745Z"
   },
   {
    "duration": 9,
    "start_time": "2024-01-14T19:22:08.150Z"
   },
   {
    "duration": 170,
    "start_time": "2024-01-14T19:22:14.650Z"
   },
   {
    "duration": 9,
    "start_time": "2024-01-14T19:22:30.034Z"
   },
   {
    "duration": 221,
    "start_time": "2024-01-14T19:23:57.194Z"
   },
   {
    "duration": 47,
    "start_time": "2024-01-14T19:24:28.081Z"
   },
   {
    "duration": 132,
    "start_time": "2024-01-14T19:24:31.580Z"
   },
   {
    "duration": 132,
    "start_time": "2024-01-14T19:24:37.186Z"
   },
   {
    "duration": 243,
    "start_time": "2024-01-14T19:24:52.223Z"
   },
   {
    "duration": 130,
    "start_time": "2024-01-14T19:24:57.981Z"
   },
   {
    "duration": 88,
    "start_time": "2024-01-14T19:25:15.244Z"
   },
   {
    "duration": 348,
    "start_time": "2024-01-14T19:26:45.387Z"
   },
   {
    "duration": 359,
    "start_time": "2024-01-14T19:26:51.101Z"
   },
   {
    "duration": 445,
    "start_time": "2024-01-14T19:29:20.382Z"
   },
   {
    "duration": 1016,
    "start_time": "2024-01-14T19:29:48.832Z"
   },
   {
    "duration": 1001,
    "start_time": "2024-01-14T19:30:19.418Z"
   },
   {
    "duration": 980,
    "start_time": "2024-01-14T19:30:39.426Z"
   },
   {
    "duration": 17,
    "start_time": "2024-01-14T19:34:27.752Z"
   },
   {
    "duration": 15,
    "start_time": "2024-01-14T19:38:42.724Z"
   },
   {
    "duration": 16,
    "start_time": "2024-01-14T19:38:48.526Z"
   },
   {
    "duration": 10,
    "start_time": "2024-01-14T19:38:56.709Z"
   },
   {
    "duration": 3708,
    "start_time": "2024-01-14T19:39:11.174Z"
   },
   {
    "duration": 1041,
    "start_time": "2024-01-14T19:39:14.884Z"
   },
   {
    "duration": 115,
    "start_time": "2024-01-14T19:39:15.926Z"
   },
   {
    "duration": 5,
    "start_time": "2024-01-14T19:39:16.042Z"
   },
   {
    "duration": 31,
    "start_time": "2024-01-14T19:39:16.049Z"
   },
   {
    "duration": 42,
    "start_time": "2024-01-14T19:39:16.081Z"
   },
   {
    "duration": 110,
    "start_time": "2024-01-14T19:39:16.124Z"
   },
   {
    "duration": 21,
    "start_time": "2024-01-14T19:39:16.236Z"
   },
   {
    "duration": 27,
    "start_time": "2024-01-14T19:39:16.258Z"
   },
   {
    "duration": 35,
    "start_time": "2024-01-14T19:39:16.286Z"
   },
   {
    "duration": 31,
    "start_time": "2024-01-14T19:39:16.322Z"
   },
   {
    "duration": 32,
    "start_time": "2024-01-14T19:39:16.354Z"
   },
   {
    "duration": 1618,
    "start_time": "2024-01-14T19:39:16.388Z"
   },
   {
    "duration": 5527,
    "start_time": "2024-01-14T19:39:18.008Z"
   },
   {
    "duration": 17,
    "start_time": "2024-01-14T19:39:23.536Z"
   },
   {
    "duration": 3847,
    "start_time": "2024-01-14T19:39:23.555Z"
   },
   {
    "duration": 76,
    "start_time": "2024-01-14T19:39:27.403Z"
   },
   {
    "duration": 82,
    "start_time": "2024-01-14T19:39:27.481Z"
   },
   {
    "duration": 1104,
    "start_time": "2024-01-14T19:39:27.565Z"
   },
   {
    "duration": 3,
    "start_time": "2024-01-14T19:39:28.671Z"
   },
   {
    "duration": 8,
    "start_time": "2024-01-14T19:39:28.675Z"
   },
   {
    "duration": 62,
    "start_time": "2024-01-14T19:39:28.684Z"
   },
   {
    "duration": 3,
    "start_time": "2024-01-14T19:39:28.748Z"
   },
   {
    "duration": 4,
    "start_time": "2024-01-14T19:39:28.753Z"
   },
   {
    "duration": 95462,
    "start_time": "2024-01-14T19:39:28.758Z"
   },
   {
    "duration": 703,
    "start_time": "2024-01-14T19:41:04.222Z"
   },
   {
    "duration": 5,
    "start_time": "2024-01-14T19:41:04.926Z"
   },
   {
    "duration": 5,
    "start_time": "2024-01-14T19:41:04.932Z"
   },
   {
    "duration": 16,
    "start_time": "2024-01-14T19:41:04.939Z"
   },
   {
    "duration": 7,
    "start_time": "2024-01-14T19:41:04.957Z"
   },
   {
    "duration": 1026,
    "start_time": "2024-01-14T19:45:34.027Z"
   },
   {
    "duration": 1003,
    "start_time": "2024-01-14T19:46:04.947Z"
   },
   {
    "duration": 4,
    "start_time": "2024-01-14T20:00:17.458Z"
   },
   {
    "duration": 79589,
    "start_time": "2024-01-14T20:00:21.126Z"
   },
   {
    "duration": 592,
    "start_time": "2024-01-14T20:01:56.636Z"
   },
   {
    "duration": 2289,
    "start_time": "2024-01-14T20:02:04.313Z"
   },
   {
    "duration": 77794,
    "start_time": "2024-01-14T20:02:10.324Z"
   },
   {
    "duration": 81,
    "start_time": "2024-01-14T20:04:21.674Z"
   },
   {
    "duration": 5,
    "start_time": "2024-01-14T20:04:27.137Z"
   },
   {
    "duration": 4,
    "start_time": "2024-01-14T20:04:44.916Z"
   },
   {
    "duration": 43275,
    "start_time": "2024-01-14T20:04:46.282Z"
   },
   {
    "duration": 121,
    "start_time": "2024-01-14T20:05:32.467Z"
   },
   {
    "duration": 7,
    "start_time": "2024-01-14T20:05:35.647Z"
   },
   {
    "duration": 5,
    "start_time": "2024-01-14T20:05:36.801Z"
   },
   {
    "duration": 13,
    "start_time": "2024-01-14T20:05:38.439Z"
   },
   {
    "duration": 5,
    "start_time": "2024-01-14T20:06:06.597Z"
   },
   {
    "duration": 144017,
    "start_time": "2024-01-14T20:06:09.304Z"
   },
   {
    "duration": 520,
    "start_time": "2024-01-14T20:08:35.403Z"
   },
   {
    "duration": 6,
    "start_time": "2024-01-14T20:08:38.000Z"
   },
   {
    "duration": 3,
    "start_time": "2024-01-14T20:08:39.517Z"
   },
   {
    "duration": 13,
    "start_time": "2024-01-14T20:08:40.681Z"
   },
   {
    "duration": 5,
    "start_time": "2024-01-14T20:08:50.475Z"
   },
   {
    "duration": 4,
    "start_time": "2024-01-14T20:09:22.642Z"
   },
   {
    "duration": 153597,
    "start_time": "2024-01-14T20:09:24.724Z"
   },
   {
    "duration": 631,
    "start_time": "2024-01-14T20:12:04.298Z"
   },
   {
    "duration": 4,
    "start_time": "2024-01-14T20:12:06.682Z"
   },
   {
    "duration": 4,
    "start_time": "2024-01-14T20:12:07.836Z"
   },
   {
    "duration": 13,
    "start_time": "2024-01-14T20:12:09.223Z"
   },
   {
    "duration": 4,
    "start_time": "2024-01-14T20:12:47.002Z"
   },
   {
    "duration": 96086,
    "start_time": "2024-01-14T20:12:49.439Z"
   },
   {
    "duration": 786,
    "start_time": "2024-01-14T20:14:32.343Z"
   },
   {
    "duration": 5,
    "start_time": "2024-01-14T20:14:34.655Z"
   },
   {
    "duration": 3,
    "start_time": "2024-01-14T20:14:36.628Z"
   },
   {
    "duration": 13,
    "start_time": "2024-01-14T20:14:37.716Z"
   },
   {
    "duration": 5,
    "start_time": "2024-01-14T20:15:06.195Z"
   },
   {
    "duration": 218782,
    "start_time": "2024-01-14T20:15:08.540Z"
   },
   {
    "duration": 818,
    "start_time": "2024-01-14T20:19:40.713Z"
   },
   {
    "duration": 5,
    "start_time": "2024-01-14T20:19:43.017Z"
   },
   {
    "duration": 3,
    "start_time": "2024-01-14T20:19:44.210Z"
   },
   {
    "duration": 13,
    "start_time": "2024-01-14T20:19:45.349Z"
   },
   {
    "duration": 4,
    "start_time": "2024-01-14T20:19:57.570Z"
   },
   {
    "duration": 4860,
    "start_time": "2024-01-15T06:27:16.033Z"
   },
   {
    "duration": 1266,
    "start_time": "2024-01-15T06:27:20.895Z"
   },
   {
    "duration": 111,
    "start_time": "2024-01-15T06:27:22.163Z"
   },
   {
    "duration": 5,
    "start_time": "2024-01-15T06:27:22.276Z"
   },
   {
    "duration": 56,
    "start_time": "2024-01-15T06:27:22.282Z"
   },
   {
    "duration": 22,
    "start_time": "2024-01-15T06:27:22.340Z"
   },
   {
    "duration": 123,
    "start_time": "2024-01-15T06:27:22.363Z"
   },
   {
    "duration": 21,
    "start_time": "2024-01-15T06:27:22.487Z"
   },
   {
    "duration": 26,
    "start_time": "2024-01-15T06:27:22.509Z"
   },
   {
    "duration": 32,
    "start_time": "2024-01-15T06:27:22.537Z"
   },
   {
    "duration": 34,
    "start_time": "2024-01-15T06:27:22.570Z"
   },
   {
    "duration": 33,
    "start_time": "2024-01-15T06:27:22.605Z"
   },
   {
    "duration": 1607,
    "start_time": "2024-01-15T06:27:22.639Z"
   },
   {
    "duration": 5404,
    "start_time": "2024-01-15T06:27:24.248Z"
   },
   {
    "duration": 16,
    "start_time": "2024-01-15T06:27:29.654Z"
   },
   {
    "duration": 3879,
    "start_time": "2024-01-15T06:27:29.672Z"
   },
   {
    "duration": 72,
    "start_time": "2024-01-15T06:27:33.553Z"
   },
   {
    "duration": 80,
    "start_time": "2024-01-15T06:27:33.626Z"
   },
   {
    "duration": 1084,
    "start_time": "2024-01-15T06:27:33.707Z"
   },
   {
    "duration": 3,
    "start_time": "2024-01-15T06:27:34.793Z"
   },
   {
    "duration": 19,
    "start_time": "2024-01-15T06:27:34.797Z"
   },
   {
    "duration": 62,
    "start_time": "2024-01-15T06:27:34.818Z"
   },
   {
    "duration": 4,
    "start_time": "2024-01-15T06:27:34.881Z"
   },
   {
    "duration": 31,
    "start_time": "2024-01-15T06:27:34.887Z"
   },
   {
    "duration": 320458,
    "start_time": "2024-01-15T06:27:34.919Z"
   },
   {
    "duration": 996,
    "start_time": "2024-01-15T06:32:55.378Z"
   },
   {
    "duration": 5,
    "start_time": "2024-01-15T06:32:56.375Z"
   },
   {
    "duration": 5,
    "start_time": "2024-01-15T06:32:56.383Z"
   },
   {
    "duration": 15,
    "start_time": "2024-01-15T06:32:56.390Z"
   },
   {
    "duration": 7,
    "start_time": "2024-01-15T06:32:56.407Z"
   },
   {
    "duration": 3784,
    "start_time": "2024-01-15T06:33:30.696Z"
   },
   {
    "duration": 1021,
    "start_time": "2024-01-15T06:33:34.482Z"
   },
   {
    "duration": 110,
    "start_time": "2024-01-15T06:33:35.504Z"
   },
   {
    "duration": 6,
    "start_time": "2024-01-15T06:33:35.616Z"
   },
   {
    "duration": 43,
    "start_time": "2024-01-15T06:33:35.623Z"
   },
   {
    "duration": 21,
    "start_time": "2024-01-15T06:33:35.668Z"
   },
   {
    "duration": 111,
    "start_time": "2024-01-15T06:33:35.691Z"
   },
   {
    "duration": 21,
    "start_time": "2024-01-15T06:33:35.804Z"
   },
   {
    "duration": 34,
    "start_time": "2024-01-15T06:33:35.827Z"
   },
   {
    "duration": 36,
    "start_time": "2024-01-15T06:33:35.863Z"
   },
   {
    "duration": 30,
    "start_time": "2024-01-15T06:33:35.901Z"
   },
   {
    "duration": 35,
    "start_time": "2024-01-15T06:33:35.933Z"
   },
   {
    "duration": 1578,
    "start_time": "2024-01-15T06:33:35.969Z"
   },
   {
    "duration": 5508,
    "start_time": "2024-01-15T06:33:37.548Z"
   },
   {
    "duration": 16,
    "start_time": "2024-01-15T06:33:43.058Z"
   },
   {
    "duration": 3836,
    "start_time": "2024-01-15T06:33:43.075Z"
   },
   {
    "duration": 71,
    "start_time": "2024-01-15T06:33:46.913Z"
   },
   {
    "duration": 87,
    "start_time": "2024-01-15T06:33:46.985Z"
   },
   {
    "duration": 1098,
    "start_time": "2024-01-15T06:33:47.074Z"
   },
   {
    "duration": 2,
    "start_time": "2024-01-15T06:33:48.174Z"
   },
   {
    "duration": 7,
    "start_time": "2024-01-15T06:33:48.177Z"
   },
   {
    "duration": 54,
    "start_time": "2024-01-15T06:33:48.185Z"
   },
   {
    "duration": 4,
    "start_time": "2024-01-15T06:33:48.241Z"
   },
   {
    "duration": 86,
    "start_time": "2024-01-15T06:33:48.246Z"
   },
   {
    "duration": 0,
    "start_time": "2024-01-15T06:33:48.334Z"
   },
   {
    "duration": 0,
    "start_time": "2024-01-15T06:33:48.335Z"
   },
   {
    "duration": 0,
    "start_time": "2024-01-15T06:33:48.336Z"
   },
   {
    "duration": 0,
    "start_time": "2024-01-15T06:33:48.337Z"
   },
   {
    "duration": 0,
    "start_time": "2024-01-15T06:33:48.339Z"
   },
   {
    "duration": 0,
    "start_time": "2024-01-15T06:33:48.340Z"
   },
   {
    "duration": 3766,
    "start_time": "2024-01-15T06:33:57.728Z"
   },
   {
    "duration": 1051,
    "start_time": "2024-01-15T06:34:01.497Z"
   },
   {
    "duration": 117,
    "start_time": "2024-01-15T06:34:02.549Z"
   },
   {
    "duration": 6,
    "start_time": "2024-01-15T06:34:02.668Z"
   },
   {
    "duration": 32,
    "start_time": "2024-01-15T06:34:02.676Z"
   },
   {
    "duration": 23,
    "start_time": "2024-01-15T06:34:02.710Z"
   },
   {
    "duration": 136,
    "start_time": "2024-01-15T06:34:02.735Z"
   },
   {
    "duration": 22,
    "start_time": "2024-01-15T06:34:02.873Z"
   },
   {
    "duration": 19,
    "start_time": "2024-01-15T06:34:02.897Z"
   },
   {
    "duration": 50,
    "start_time": "2024-01-15T06:34:02.917Z"
   },
   {
    "duration": 32,
    "start_time": "2024-01-15T06:34:02.969Z"
   },
   {
    "duration": 33,
    "start_time": "2024-01-15T06:34:03.003Z"
   },
   {
    "duration": 1602,
    "start_time": "2024-01-15T06:34:03.038Z"
   },
   {
    "duration": 5650,
    "start_time": "2024-01-15T06:34:04.642Z"
   },
   {
    "duration": 14,
    "start_time": "2024-01-15T06:34:10.294Z"
   },
   {
    "duration": 3814,
    "start_time": "2024-01-15T06:34:10.310Z"
   },
   {
    "duration": 65,
    "start_time": "2024-01-15T06:34:14.126Z"
   },
   {
    "duration": 81,
    "start_time": "2024-01-15T06:34:14.192Z"
   },
   {
    "duration": 1067,
    "start_time": "2024-01-15T06:34:14.275Z"
   },
   {
    "duration": 2,
    "start_time": "2024-01-15T06:34:15.344Z"
   },
   {
    "duration": 18,
    "start_time": "2024-01-15T06:34:15.348Z"
   },
   {
    "duration": 67,
    "start_time": "2024-01-15T06:34:15.367Z"
   },
   {
    "duration": 3,
    "start_time": "2024-01-15T06:34:15.436Z"
   },
   {
    "duration": 10,
    "start_time": "2024-01-15T06:34:15.440Z"
   },
   {
    "duration": 3708,
    "start_time": "2024-01-15T06:37:25.129Z"
   },
   {
    "duration": 1062,
    "start_time": "2024-01-15T06:37:28.839Z"
   },
   {
    "duration": 132,
    "start_time": "2024-01-15T06:37:29.902Z"
   },
   {
    "duration": 5,
    "start_time": "2024-01-15T06:37:30.036Z"
   },
   {
    "duration": 55,
    "start_time": "2024-01-15T06:37:30.043Z"
   },
   {
    "duration": 38,
    "start_time": "2024-01-15T06:37:30.099Z"
   },
   {
    "duration": 125,
    "start_time": "2024-01-15T06:37:30.139Z"
   },
   {
    "duration": 44,
    "start_time": "2024-01-15T06:37:30.265Z"
   },
   {
    "duration": 85,
    "start_time": "2024-01-15T06:37:30.310Z"
   },
   {
    "duration": 48,
    "start_time": "2024-01-15T06:37:30.397Z"
   },
   {
    "duration": 50,
    "start_time": "2024-01-15T06:37:30.446Z"
   },
   {
    "duration": 40,
    "start_time": "2024-01-15T06:37:30.498Z"
   },
   {
    "duration": 1663,
    "start_time": "2024-01-15T06:37:30.539Z"
   },
   {
    "duration": 5460,
    "start_time": "2024-01-15T06:37:32.204Z"
   },
   {
    "duration": 18,
    "start_time": "2024-01-15T06:37:37.666Z"
   },
   {
    "duration": 3961,
    "start_time": "2024-01-15T06:37:37.686Z"
   },
   {
    "duration": 71,
    "start_time": "2024-01-15T06:37:41.649Z"
   },
   {
    "duration": 78,
    "start_time": "2024-01-15T06:37:41.722Z"
   },
   {
    "duration": 1099,
    "start_time": "2024-01-15T06:37:41.802Z"
   },
   {
    "duration": 3,
    "start_time": "2024-01-15T06:37:42.902Z"
   },
   {
    "duration": 5,
    "start_time": "2024-01-15T06:37:42.906Z"
   },
   {
    "duration": 61,
    "start_time": "2024-01-15T06:37:42.912Z"
   },
   {
    "duration": 3,
    "start_time": "2024-01-15T06:37:42.975Z"
   },
   {
    "duration": 78,
    "start_time": "2024-01-15T06:37:42.980Z"
   },
   {
    "duration": 0,
    "start_time": "2024-01-15T06:37:43.060Z"
   },
   {
    "duration": 0,
    "start_time": "2024-01-15T06:37:43.061Z"
   },
   {
    "duration": 0,
    "start_time": "2024-01-15T06:37:43.062Z"
   },
   {
    "duration": 0,
    "start_time": "2024-01-15T06:37:43.063Z"
   },
   {
    "duration": 0,
    "start_time": "2024-01-15T06:37:43.065Z"
   },
   {
    "duration": 0,
    "start_time": "2024-01-15T06:37:43.066Z"
   },
   {
    "duration": 3654,
    "start_time": "2024-01-15T06:37:52.671Z"
   },
   {
    "duration": 982,
    "start_time": "2024-01-15T06:37:56.327Z"
   },
   {
    "duration": 110,
    "start_time": "2024-01-15T06:37:57.310Z"
   },
   {
    "duration": 5,
    "start_time": "2024-01-15T06:37:57.421Z"
   },
   {
    "duration": 41,
    "start_time": "2024-01-15T06:37:57.429Z"
   },
   {
    "duration": 22,
    "start_time": "2024-01-15T06:37:57.471Z"
   },
   {
    "duration": 116,
    "start_time": "2024-01-15T06:37:57.495Z"
   },
   {
    "duration": 22,
    "start_time": "2024-01-15T06:37:57.612Z"
   },
   {
    "duration": 30,
    "start_time": "2024-01-15T06:37:57.636Z"
   },
   {
    "duration": 24,
    "start_time": "2024-01-15T06:37:57.668Z"
   },
   {
    "duration": 34,
    "start_time": "2024-01-15T06:37:57.694Z"
   },
   {
    "duration": 37,
    "start_time": "2024-01-15T06:37:57.730Z"
   },
   {
    "duration": 1644,
    "start_time": "2024-01-15T06:37:57.768Z"
   },
   {
    "duration": 5597,
    "start_time": "2024-01-15T06:37:59.415Z"
   },
   {
    "duration": 16,
    "start_time": "2024-01-15T06:38:05.014Z"
   },
   {
    "duration": 3885,
    "start_time": "2024-01-15T06:38:05.032Z"
   },
   {
    "duration": 79,
    "start_time": "2024-01-15T06:38:08.919Z"
   },
   {
    "duration": 73,
    "start_time": "2024-01-15T06:38:09.000Z"
   },
   {
    "duration": 1090,
    "start_time": "2024-01-15T06:38:09.075Z"
   },
   {
    "duration": 2,
    "start_time": "2024-01-15T06:38:10.166Z"
   },
   {
    "duration": 8,
    "start_time": "2024-01-15T06:38:10.170Z"
   },
   {
    "duration": 51,
    "start_time": "2024-01-15T06:38:10.179Z"
   },
   {
    "duration": 3,
    "start_time": "2024-01-15T06:38:10.232Z"
   },
   {
    "duration": 11,
    "start_time": "2024-01-15T06:38:10.236Z"
   },
   {
    "duration": 3758,
    "start_time": "2024-01-15T06:40:10.593Z"
   },
   {
    "duration": 1038,
    "start_time": "2024-01-15T06:40:14.354Z"
   },
   {
    "duration": 116,
    "start_time": "2024-01-15T06:40:15.393Z"
   },
   {
    "duration": 6,
    "start_time": "2024-01-15T06:40:15.511Z"
   },
   {
    "duration": 50,
    "start_time": "2024-01-15T06:40:15.519Z"
   },
   {
    "duration": 26,
    "start_time": "2024-01-15T06:40:15.570Z"
   },
   {
    "duration": 116,
    "start_time": "2024-01-15T06:40:15.597Z"
   },
   {
    "duration": 21,
    "start_time": "2024-01-15T06:40:15.715Z"
   },
   {
    "duration": 13,
    "start_time": "2024-01-15T06:40:15.738Z"
   },
   {
    "duration": 29,
    "start_time": "2024-01-15T06:40:15.753Z"
   },
   {
    "duration": 34,
    "start_time": "2024-01-15T06:40:15.783Z"
   },
   {
    "duration": 47,
    "start_time": "2024-01-15T06:40:15.818Z"
   },
   {
    "duration": 1583,
    "start_time": "2024-01-15T06:40:15.867Z"
   },
   {
    "duration": 5515,
    "start_time": "2024-01-15T06:40:17.453Z"
   },
   {
    "duration": 15,
    "start_time": "2024-01-15T06:40:22.970Z"
   },
   {
    "duration": 3810,
    "start_time": "2024-01-15T06:40:22.986Z"
   },
   {
    "duration": 71,
    "start_time": "2024-01-15T06:40:26.797Z"
   },
   {
    "duration": 1214,
    "start_time": "2024-01-15T06:40:26.870Z"
   },
   {
    "duration": 1080,
    "start_time": "2024-01-15T06:40:28.086Z"
   },
   {
    "duration": 3,
    "start_time": "2024-01-15T06:40:29.168Z"
   },
   {
    "duration": 6,
    "start_time": "2024-01-15T06:40:29.173Z"
   },
   {
    "duration": 61,
    "start_time": "2024-01-15T06:40:29.180Z"
   },
   {
    "duration": 4,
    "start_time": "2024-01-15T06:40:29.242Z"
   },
   {
    "duration": 18,
    "start_time": "2024-01-15T06:40:29.248Z"
   },
   {
    "duration": 3718,
    "start_time": "2024-01-15T06:42:32.412Z"
   },
   {
    "duration": 1016,
    "start_time": "2024-01-15T06:42:36.133Z"
   },
   {
    "duration": 117,
    "start_time": "2024-01-15T06:42:37.151Z"
   },
   {
    "duration": 6,
    "start_time": "2024-01-15T06:42:37.269Z"
   },
   {
    "duration": 25,
    "start_time": "2024-01-15T06:42:37.277Z"
   },
   {
    "duration": 22,
    "start_time": "2024-01-15T06:42:37.303Z"
   },
   {
    "duration": 117,
    "start_time": "2024-01-15T06:42:37.326Z"
   },
   {
    "duration": 26,
    "start_time": "2024-01-15T06:42:37.445Z"
   },
   {
    "duration": 4,
    "start_time": "2024-01-15T06:42:37.472Z"
   },
   {
    "duration": 28,
    "start_time": "2024-01-15T06:42:37.478Z"
   },
   {
    "duration": 30,
    "start_time": "2024-01-15T06:42:37.508Z"
   },
   {
    "duration": 47,
    "start_time": "2024-01-15T06:42:37.539Z"
   },
   {
    "duration": 1617,
    "start_time": "2024-01-15T06:42:37.588Z"
   },
   {
    "duration": 5568,
    "start_time": "2024-01-15T06:42:39.208Z"
   },
   {
    "duration": 16,
    "start_time": "2024-01-15T06:42:44.778Z"
   },
   {
    "duration": 3864,
    "start_time": "2024-01-15T06:42:44.795Z"
   },
   {
    "duration": 64,
    "start_time": "2024-01-15T06:42:48.661Z"
   },
   {
    "duration": 79,
    "start_time": "2024-01-15T06:42:48.727Z"
   },
   {
    "duration": 1113,
    "start_time": "2024-01-15T06:42:48.808Z"
   },
   {
    "duration": 3,
    "start_time": "2024-01-15T06:42:49.922Z"
   },
   {
    "duration": 6,
    "start_time": "2024-01-15T06:42:49.926Z"
   },
   {
    "duration": 68,
    "start_time": "2024-01-15T06:42:49.933Z"
   },
   {
    "duration": 3,
    "start_time": "2024-01-15T06:42:50.003Z"
   },
   {
    "duration": 8,
    "start_time": "2024-01-15T06:42:50.008Z"
   },
   {
    "duration": 3637,
    "start_time": "2024-01-15T06:43:26.612Z"
   },
   {
    "duration": 1016,
    "start_time": "2024-01-15T06:43:30.251Z"
   },
   {
    "duration": 121,
    "start_time": "2024-01-15T06:43:31.268Z"
   },
   {
    "duration": 5,
    "start_time": "2024-01-15T06:43:31.390Z"
   },
   {
    "duration": 74,
    "start_time": "2024-01-15T06:43:31.397Z"
   },
   {
    "duration": 41,
    "start_time": "2024-01-15T06:43:31.472Z"
   },
   {
    "duration": 135,
    "start_time": "2024-01-15T06:43:31.514Z"
   },
   {
    "duration": 23,
    "start_time": "2024-01-15T06:43:31.651Z"
   },
   {
    "duration": 25,
    "start_time": "2024-01-15T06:43:31.675Z"
   },
   {
    "duration": 83,
    "start_time": "2024-01-15T06:43:31.702Z"
   },
   {
    "duration": 49,
    "start_time": "2024-01-15T06:43:31.787Z"
   },
   {
    "duration": 47,
    "start_time": "2024-01-15T06:43:31.838Z"
   },
   {
    "duration": 1607,
    "start_time": "2024-01-15T06:43:31.887Z"
   },
   {
    "duration": 5382,
    "start_time": "2024-01-15T06:43:33.498Z"
   },
   {
    "duration": 15,
    "start_time": "2024-01-15T06:43:38.881Z"
   },
   {
    "duration": 3847,
    "start_time": "2024-01-15T06:43:38.899Z"
   },
   {
    "duration": 67,
    "start_time": "2024-01-15T06:43:42.748Z"
   },
   {
    "duration": 78,
    "start_time": "2024-01-15T06:43:42.817Z"
   },
   {
    "duration": 1083,
    "start_time": "2024-01-15T06:43:42.896Z"
   },
   {
    "duration": 3,
    "start_time": "2024-01-15T06:43:43.980Z"
   },
   {
    "duration": 8,
    "start_time": "2024-01-15T06:43:43.984Z"
   },
   {
    "duration": 52,
    "start_time": "2024-01-15T06:43:43.993Z"
   },
   {
    "duration": 18,
    "start_time": "2024-01-15T06:43:44.047Z"
   },
   {
    "duration": 4,
    "start_time": "2024-01-15T06:43:44.066Z"
   },
   {
    "duration": 33932,
    "start_time": "2024-01-15T06:43:44.072Z"
   },
   {
    "duration": 167,
    "start_time": "2024-01-15T06:44:18.006Z"
   },
   {
    "duration": 5,
    "start_time": "2024-01-15T06:44:18.175Z"
   },
   {
    "duration": 10,
    "start_time": "2024-01-15T06:44:18.181Z"
   },
   {
    "duration": 14,
    "start_time": "2024-01-15T06:44:18.193Z"
   },
   {
    "duration": 10,
    "start_time": "2024-01-15T06:44:18.209Z"
   },
   {
    "duration": 4,
    "start_time": "2024-01-15T06:44:43.021Z"
   },
   {
    "duration": 43706,
    "start_time": "2024-01-15T06:44:44.393Z"
   },
   {
    "duration": 126,
    "start_time": "2024-01-15T06:45:33.394Z"
   },
   {
    "duration": 4,
    "start_time": "2024-01-15T06:45:59.041Z"
   },
   {
    "duration": 66089,
    "start_time": "2024-01-15T06:46:00.273Z"
   },
   {
    "duration": 139,
    "start_time": "2024-01-15T06:47:09.290Z"
   },
   {
    "duration": 4,
    "start_time": "2024-01-15T06:47:37.386Z"
   },
   {
    "duration": 72068,
    "start_time": "2024-01-15T06:47:39.590Z"
   },
   {
    "duration": 140,
    "start_time": "2024-01-15T06:49:26.879Z"
   },
   {
    "duration": 5,
    "start_time": "2024-01-15T06:49:29.687Z"
   },
   {
    "duration": 75,
    "start_time": "2024-01-15T06:51:40.971Z"
   },
   {
    "duration": 133,
    "start_time": "2024-01-15T06:51:51.180Z"
   },
   {
    "duration": 3,
    "start_time": "2024-01-15T06:52:46.602Z"
   },
   {
    "duration": 2976,
    "start_time": "2024-01-15T06:53:04.609Z"
   },
   {
    "duration": 14,
    "start_time": "2024-01-15T06:53:50.832Z"
   },
   {
    "duration": 4,
    "start_time": "2024-01-15T06:53:56.121Z"
   },
   {
    "duration": 71479,
    "start_time": "2024-01-15T06:53:57.840Z"
   },
   {
    "duration": 125,
    "start_time": "2024-01-15T06:55:10.882Z"
   },
   {
    "duration": 4,
    "start_time": "2024-01-15T06:56:24.120Z"
   },
   {
    "duration": 3719,
    "start_time": "2024-01-15T06:57:57.499Z"
   },
   {
    "duration": 1075,
    "start_time": "2024-01-15T06:58:01.221Z"
   },
   {
    "duration": 126,
    "start_time": "2024-01-15T06:58:02.298Z"
   },
   {
    "duration": 6,
    "start_time": "2024-01-15T06:58:02.426Z"
   },
   {
    "duration": 53,
    "start_time": "2024-01-15T06:58:02.433Z"
   },
   {
    "duration": 24,
    "start_time": "2024-01-15T06:58:02.487Z"
   },
   {
    "duration": 107,
    "start_time": "2024-01-15T06:58:02.513Z"
   },
   {
    "duration": 31,
    "start_time": "2024-01-15T06:58:02.622Z"
   },
   {
    "duration": 50,
    "start_time": "2024-01-15T06:58:02.655Z"
   },
   {
    "duration": 26,
    "start_time": "2024-01-15T06:58:02.707Z"
   },
   {
    "duration": 32,
    "start_time": "2024-01-15T06:58:02.735Z"
   },
   {
    "duration": 35,
    "start_time": "2024-01-15T06:58:02.768Z"
   },
   {
    "duration": 1587,
    "start_time": "2024-01-15T06:58:02.804Z"
   },
   {
    "duration": 5570,
    "start_time": "2024-01-15T06:58:04.394Z"
   },
   {
    "duration": 14,
    "start_time": "2024-01-15T06:58:09.966Z"
   },
   {
    "duration": 3928,
    "start_time": "2024-01-15T06:58:09.982Z"
   },
   {
    "duration": 65,
    "start_time": "2024-01-15T06:58:13.911Z"
   },
   {
    "duration": 69,
    "start_time": "2024-01-15T06:58:13.977Z"
   },
   {
    "duration": 1046,
    "start_time": "2024-01-15T06:58:14.048Z"
   },
   {
    "duration": 3,
    "start_time": "2024-01-15T06:58:15.096Z"
   },
   {
    "duration": 12,
    "start_time": "2024-01-15T06:58:15.100Z"
   },
   {
    "duration": 58,
    "start_time": "2024-01-15T06:58:15.114Z"
   },
   {
    "duration": 3,
    "start_time": "2024-01-15T06:58:15.174Z"
   },
   {
    "duration": 6,
    "start_time": "2024-01-15T06:58:15.179Z"
   },
   {
    "duration": 3700,
    "start_time": "2024-01-15T07:02:22.139Z"
   },
   {
    "duration": 1042,
    "start_time": "2024-01-15T07:02:25.841Z"
   },
   {
    "duration": 122,
    "start_time": "2024-01-15T07:02:26.884Z"
   },
   {
    "duration": 6,
    "start_time": "2024-01-15T07:02:27.008Z"
   },
   {
    "duration": 52,
    "start_time": "2024-01-15T07:02:27.017Z"
   },
   {
    "duration": 27,
    "start_time": "2024-01-15T07:02:27.070Z"
   },
   {
    "duration": 114,
    "start_time": "2024-01-15T07:02:27.098Z"
   },
   {
    "duration": 34,
    "start_time": "2024-01-15T07:02:27.214Z"
   },
   {
    "duration": 38,
    "start_time": "2024-01-15T07:02:27.250Z"
   },
   {
    "duration": 32,
    "start_time": "2024-01-15T07:02:27.290Z"
   },
   {
    "duration": 41,
    "start_time": "2024-01-15T07:02:27.324Z"
   },
   {
    "duration": 35,
    "start_time": "2024-01-15T07:02:27.367Z"
   },
   {
    "duration": 1633,
    "start_time": "2024-01-15T07:02:27.404Z"
   },
   {
    "duration": 5419,
    "start_time": "2024-01-15T07:02:29.041Z"
   },
   {
    "duration": 16,
    "start_time": "2024-01-15T07:02:34.461Z"
   },
   {
    "duration": 3776,
    "start_time": "2024-01-15T07:02:34.478Z"
   },
   {
    "duration": 70,
    "start_time": "2024-01-15T07:02:38.256Z"
   },
   {
    "duration": 83,
    "start_time": "2024-01-15T07:02:38.328Z"
   },
   {
    "duration": 1117,
    "start_time": "2024-01-15T07:02:38.412Z"
   },
   {
    "duration": 3,
    "start_time": "2024-01-15T07:02:39.530Z"
   },
   {
    "duration": 19,
    "start_time": "2024-01-15T07:02:39.535Z"
   },
   {
    "duration": 61,
    "start_time": "2024-01-15T07:02:39.555Z"
   },
   {
    "duration": 3,
    "start_time": "2024-01-15T07:02:39.618Z"
   },
   {
    "duration": 13,
    "start_time": "2024-01-15T07:02:39.623Z"
   },
   {
    "duration": 3732,
    "start_time": "2024-01-15T07:05:02.055Z"
   },
   {
    "duration": 1038,
    "start_time": "2024-01-15T07:05:05.789Z"
   },
   {
    "duration": 116,
    "start_time": "2024-01-15T07:05:06.828Z"
   },
   {
    "duration": 20,
    "start_time": "2024-01-15T07:05:06.946Z"
   },
   {
    "duration": 28,
    "start_time": "2024-01-15T07:05:06.968Z"
   },
   {
    "duration": 25,
    "start_time": "2024-01-15T07:05:06.998Z"
   },
   {
    "duration": 119,
    "start_time": "2024-01-15T07:05:07.024Z"
   },
   {
    "duration": 28,
    "start_time": "2024-01-15T07:05:07.144Z"
   },
   {
    "duration": 21,
    "start_time": "2024-01-15T07:05:07.174Z"
   },
   {
    "duration": 24,
    "start_time": "2024-01-15T07:05:07.197Z"
   },
   {
    "duration": 51,
    "start_time": "2024-01-15T07:05:07.222Z"
   },
   {
    "duration": 33,
    "start_time": "2024-01-15T07:05:07.275Z"
   },
   {
    "duration": 1662,
    "start_time": "2024-01-15T07:05:07.309Z"
   },
   {
    "duration": 5389,
    "start_time": "2024-01-15T07:05:08.975Z"
   },
   {
    "duration": 16,
    "start_time": "2024-01-15T07:05:14.365Z"
   },
   {
    "duration": 3795,
    "start_time": "2024-01-15T07:05:14.382Z"
   },
   {
    "duration": 63,
    "start_time": "2024-01-15T07:05:18.179Z"
   },
   {
    "duration": 83,
    "start_time": "2024-01-15T07:05:18.244Z"
   },
   {
    "duration": 1095,
    "start_time": "2024-01-15T07:05:18.328Z"
   },
   {
    "duration": 3,
    "start_time": "2024-01-15T07:05:19.425Z"
   },
   {
    "duration": 18,
    "start_time": "2024-01-15T07:05:19.430Z"
   },
   {
    "duration": 60,
    "start_time": "2024-01-15T07:05:19.450Z"
   },
   {
    "duration": 3,
    "start_time": "2024-01-15T07:05:19.512Z"
   },
   {
    "duration": 7,
    "start_time": "2024-01-15T07:05:19.517Z"
   },
   {
    "duration": 3734,
    "start_time": "2024-01-15T07:05:45.958Z"
   },
   {
    "duration": 1056,
    "start_time": "2024-01-15T07:05:49.695Z"
   },
   {
    "duration": 138,
    "start_time": "2024-01-15T07:05:50.752Z"
   },
   {
    "duration": 8,
    "start_time": "2024-01-15T07:05:50.892Z"
   },
   {
    "duration": 51,
    "start_time": "2024-01-15T07:05:50.902Z"
   },
   {
    "duration": 31,
    "start_time": "2024-01-15T07:05:50.955Z"
   },
   {
    "duration": 118,
    "start_time": "2024-01-15T07:05:50.988Z"
   },
   {
    "duration": 21,
    "start_time": "2024-01-15T07:05:51.108Z"
   },
   {
    "duration": 35,
    "start_time": "2024-01-15T07:05:51.130Z"
   },
   {
    "duration": 25,
    "start_time": "2024-01-15T07:05:51.167Z"
   },
   {
    "duration": 40,
    "start_time": "2024-01-15T07:05:51.194Z"
   },
   {
    "duration": 39,
    "start_time": "2024-01-15T07:05:51.236Z"
   },
   {
    "duration": 1559,
    "start_time": "2024-01-15T07:05:51.277Z"
   },
   {
    "duration": 5389,
    "start_time": "2024-01-15T07:05:52.839Z"
   },
   {
    "duration": 15,
    "start_time": "2024-01-15T07:05:58.229Z"
   },
   {
    "duration": 3880,
    "start_time": "2024-01-15T07:05:58.245Z"
   },
   {
    "duration": 64,
    "start_time": "2024-01-15T07:06:02.126Z"
   },
   {
    "duration": 81,
    "start_time": "2024-01-15T07:06:02.191Z"
   },
   {
    "duration": 1053,
    "start_time": "2024-01-15T07:06:02.274Z"
   },
   {
    "duration": 3,
    "start_time": "2024-01-15T07:06:03.329Z"
   },
   {
    "duration": 15,
    "start_time": "2024-01-15T07:06:03.333Z"
   },
   {
    "duration": 56,
    "start_time": "2024-01-15T07:06:03.349Z"
   },
   {
    "duration": 3,
    "start_time": "2024-01-15T07:06:03.406Z"
   },
   {
    "duration": 7,
    "start_time": "2024-01-15T07:06:03.411Z"
   },
   {
    "duration": 177357,
    "start_time": "2024-01-15T07:06:03.419Z"
   },
   {
    "duration": 805,
    "start_time": "2024-01-15T07:09:00.777Z"
   },
   {
    "duration": 6,
    "start_time": "2024-01-15T07:09:01.584Z"
   },
   {
    "duration": 35,
    "start_time": "2024-01-15T07:09:01.592Z"
   },
   {
    "duration": 44,
    "start_time": "2024-01-15T07:09:01.629Z"
   },
   {
    "duration": 41,
    "start_time": "2024-01-15T07:09:01.674Z"
   },
   {
    "duration": 5,
    "start_time": "2024-01-15T07:17:20.623Z"
   },
   {
    "duration": 252778,
    "start_time": "2024-01-15T07:17:21.997Z"
   },
   {
    "duration": 1038,
    "start_time": "2024-01-15T07:21:37.027Z"
   },
   {
    "duration": 6,
    "start_time": "2024-01-15T07:21:53.833Z"
   },
   {
    "duration": 5,
    "start_time": "2024-01-15T07:21:54.925Z"
   },
   {
    "duration": 12,
    "start_time": "2024-01-15T07:21:55.986Z"
   },
   {
    "duration": 5,
    "start_time": "2024-01-15T07:23:28.201Z"
   },
   {
    "duration": 5,
    "start_time": "2024-01-15T07:23:37.713Z"
   },
   {
    "duration": 4,
    "start_time": "2024-01-15T07:26:52.307Z"
   },
   {
    "duration": 77,
    "start_time": "2024-01-15T07:27:16.978Z"
   },
   {
    "duration": 27,
    "start_time": "2024-01-15T07:27:19.955Z"
   },
   {
    "duration": 6,
    "start_time": "2024-01-15T07:28:05.974Z"
   },
   {
    "duration": 4,
    "start_time": "2024-01-15T07:28:07.367Z"
   },
   {
    "duration": 18,
    "start_time": "2024-01-15T07:28:07.908Z"
   },
   {
    "duration": 5,
    "start_time": "2024-01-15T07:28:12.965Z"
   },
   {
    "duration": 4,
    "start_time": "2024-01-15T07:28:34.988Z"
   },
   {
    "duration": 5,
    "start_time": "2024-01-15T07:29:02.981Z"
   },
   {
    "duration": 5,
    "start_time": "2024-01-15T07:29:24.988Z"
   },
   {
    "duration": 3788,
    "start_time": "2024-01-15T07:38:49.443Z"
   },
   {
    "duration": 1020,
    "start_time": "2024-01-15T07:38:53.233Z"
   },
   {
    "duration": 122,
    "start_time": "2024-01-15T07:38:54.255Z"
   },
   {
    "duration": 6,
    "start_time": "2024-01-15T07:38:54.379Z"
   },
   {
    "duration": 33,
    "start_time": "2024-01-15T07:38:54.386Z"
   },
   {
    "duration": 46,
    "start_time": "2024-01-15T07:38:54.421Z"
   },
   {
    "duration": 107,
    "start_time": "2024-01-15T07:38:54.469Z"
   },
   {
    "duration": 22,
    "start_time": "2024-01-15T07:38:54.577Z"
   },
   {
    "duration": 23,
    "start_time": "2024-01-15T07:38:54.600Z"
   },
   {
    "duration": 39,
    "start_time": "2024-01-15T07:38:54.626Z"
   },
   {
    "duration": 31,
    "start_time": "2024-01-15T07:38:54.667Z"
   },
   {
    "duration": 33,
    "start_time": "2024-01-15T07:38:54.700Z"
   },
   {
    "duration": 1574,
    "start_time": "2024-01-15T07:38:54.735Z"
   },
   {
    "duration": 5433,
    "start_time": "2024-01-15T07:38:56.311Z"
   },
   {
    "duration": 16,
    "start_time": "2024-01-15T07:39:01.745Z"
   },
   {
    "duration": 3807,
    "start_time": "2024-01-15T07:39:01.763Z"
   },
   {
    "duration": 67,
    "start_time": "2024-01-15T07:39:05.572Z"
   },
   {
    "duration": 85,
    "start_time": "2024-01-15T07:39:05.640Z"
   },
   {
    "duration": 1070,
    "start_time": "2024-01-15T07:39:05.726Z"
   },
   {
    "duration": 3,
    "start_time": "2024-01-15T07:39:06.797Z"
   },
   {
    "duration": 11,
    "start_time": "2024-01-15T07:39:06.801Z"
   },
   {
    "duration": 62,
    "start_time": "2024-01-15T07:39:06.813Z"
   },
   {
    "duration": 3,
    "start_time": "2024-01-15T07:39:06.877Z"
   },
   {
    "duration": 7,
    "start_time": "2024-01-15T07:39:06.882Z"
   },
   {
    "duration": 243280,
    "start_time": "2024-01-15T07:39:06.890Z"
   },
   {
    "duration": 1013,
    "start_time": "2024-01-15T07:43:10.172Z"
   },
   {
    "duration": 5,
    "start_time": "2024-01-15T07:43:11.187Z"
   },
   {
    "duration": 72,
    "start_time": "2024-01-15T07:43:11.196Z"
   },
   {
    "duration": 25,
    "start_time": "2024-01-15T07:43:11.270Z"
   },
   {
    "duration": 12,
    "start_time": "2024-01-15T07:43:11.296Z"
   },
   {
    "duration": 3,
    "start_time": "2024-01-15T07:59:34.043Z"
   },
   {
    "duration": 8437,
    "start_time": "2024-01-15T07:59:49.845Z"
   },
   {
    "duration": 82,
    "start_time": "2024-01-15T08:01:28.191Z"
   },
   {
    "duration": 109,
    "start_time": "2024-01-15T08:01:40.243Z"
   },
   {
    "duration": 11262,
    "start_time": "2024-01-15T08:03:44.520Z"
   },
   {
    "duration": 11551,
    "start_time": "2024-01-15T08:04:01.020Z"
   },
   {
    "duration": 12277,
    "start_time": "2024-01-15T08:04:19.899Z"
   },
   {
    "duration": 5,
    "start_time": "2024-01-15T08:07:17.918Z"
   },
   {
    "duration": 3,
    "start_time": "2024-01-15T08:12:27.222Z"
   },
   {
    "duration": 23,
    "start_time": "2024-01-15T08:13:25.003Z"
   },
   {
    "duration": 4,
    "start_time": "2024-01-15T08:14:12.764Z"
   },
   {
    "duration": 9,
    "start_time": "2024-01-15T08:14:24.593Z"
   },
   {
    "duration": 3,
    "start_time": "2024-01-15T08:14:26.993Z"
   },
   {
    "duration": 9739,
    "start_time": "2024-01-15T08:14:27.844Z"
   },
   {
    "duration": 5,
    "start_time": "2024-01-15T08:16:48.084Z"
   },
   {
    "duration": 4,
    "start_time": "2024-01-15T08:16:49.528Z"
   },
   {
    "duration": 21,
    "start_time": "2024-01-15T08:16:50.128Z"
   },
   {
    "duration": 6,
    "start_time": "2024-01-15T08:16:58.632Z"
   },
   {
    "duration": 5,
    "start_time": "2024-01-15T08:17:09.783Z"
   },
   {
    "duration": 4,
    "start_time": "2024-01-15T08:24:36.597Z"
   },
   {
    "duration": 3,
    "start_time": "2024-01-15T08:26:40.825Z"
   },
   {
    "duration": 1588,
    "start_time": "2024-01-15T08:26:42.375Z"
   },
   {
    "duration": 2,
    "start_time": "2024-01-15T08:27:19.613Z"
   },
   {
    "duration": 1581,
    "start_time": "2024-01-15T08:27:20.444Z"
   },
   {
    "duration": 3,
    "start_time": "2024-01-15T08:32:33.370Z"
   },
   {
    "duration": 3744,
    "start_time": "2024-01-15T10:28:38.161Z"
   },
   {
    "duration": 1030,
    "start_time": "2024-01-15T10:28:41.908Z"
   },
   {
    "duration": 127,
    "start_time": "2024-01-15T10:28:42.940Z"
   },
   {
    "duration": 8,
    "start_time": "2024-01-15T10:28:43.069Z"
   },
   {
    "duration": 60,
    "start_time": "2024-01-15T10:28:43.078Z"
   },
   {
    "duration": 26,
    "start_time": "2024-01-15T10:28:43.139Z"
   },
   {
    "duration": 121,
    "start_time": "2024-01-15T10:28:43.166Z"
   },
   {
    "duration": 21,
    "start_time": "2024-01-15T10:28:43.289Z"
   },
   {
    "duration": 56,
    "start_time": "2024-01-15T10:28:43.312Z"
   },
   {
    "duration": 60,
    "start_time": "2024-01-15T10:28:43.369Z"
   },
   {
    "duration": 54,
    "start_time": "2024-01-15T10:28:43.430Z"
   },
   {
    "duration": 34,
    "start_time": "2024-01-15T10:28:43.485Z"
   },
   {
    "duration": 1622,
    "start_time": "2024-01-15T10:28:43.521Z"
   },
   {
    "duration": 5543,
    "start_time": "2024-01-15T10:28:45.145Z"
   },
   {
    "duration": 17,
    "start_time": "2024-01-15T10:28:50.689Z"
   },
   {
    "duration": 3878,
    "start_time": "2024-01-15T10:28:50.708Z"
   },
   {
    "duration": 64,
    "start_time": "2024-01-15T10:28:54.587Z"
   },
   {
    "duration": 78,
    "start_time": "2024-01-15T10:28:54.653Z"
   },
   {
    "duration": 1084,
    "start_time": "2024-01-15T10:28:54.732Z"
   },
   {
    "duration": 2,
    "start_time": "2024-01-15T10:28:55.818Z"
   },
   {
    "duration": 6,
    "start_time": "2024-01-15T10:28:55.821Z"
   },
   {
    "duration": 61,
    "start_time": "2024-01-15T10:28:55.829Z"
   },
   {
    "duration": 4,
    "start_time": "2024-01-15T10:28:55.891Z"
   },
   {
    "duration": 4,
    "start_time": "2024-01-15T10:28:55.896Z"
   },
   {
    "duration": 283372,
    "start_time": "2024-01-15T10:28:55.901Z"
   },
   {
    "duration": 1102,
    "start_time": "2024-01-15T10:33:39.274Z"
   },
   {
    "duration": 5,
    "start_time": "2024-01-15T10:33:40.378Z"
   },
   {
    "duration": 7,
    "start_time": "2024-01-15T10:33:40.385Z"
   },
   {
    "duration": 72,
    "start_time": "2024-01-15T10:33:40.393Z"
   },
   {
    "duration": 5,
    "start_time": "2024-01-15T10:33:40.467Z"
   },
   {
    "duration": 21,
    "start_time": "2024-01-15T10:33:40.473Z"
   },
   {
    "duration": 1639,
    "start_time": "2024-01-15T10:33:40.495Z"
   },
   {
    "duration": 3924,
    "start_time": "2024-01-15T10:41:01.155Z"
   },
   {
    "duration": 1024,
    "start_time": "2024-01-15T10:41:05.081Z"
   },
   {
    "duration": 123,
    "start_time": "2024-01-15T10:41:06.106Z"
   },
   {
    "duration": 6,
    "start_time": "2024-01-15T10:41:06.230Z"
   },
   {
    "duration": 48,
    "start_time": "2024-01-15T10:41:06.238Z"
   },
   {
    "duration": 26,
    "start_time": "2024-01-15T10:41:06.288Z"
   },
   {
    "duration": 108,
    "start_time": "2024-01-15T10:41:06.316Z"
   },
   {
    "duration": 21,
    "start_time": "2024-01-15T10:41:06.426Z"
   },
   {
    "duration": 22,
    "start_time": "2024-01-15T10:41:06.464Z"
   },
   {
    "duration": 23,
    "start_time": "2024-01-15T10:41:06.487Z"
   },
   {
    "duration": 33,
    "start_time": "2024-01-15T10:41:06.511Z"
   },
   {
    "duration": 36,
    "start_time": "2024-01-15T10:41:06.564Z"
   },
   {
    "duration": 1608,
    "start_time": "2024-01-15T10:41:06.601Z"
   },
   {
    "duration": 5626,
    "start_time": "2024-01-15T10:41:08.213Z"
   },
   {
    "duration": 18,
    "start_time": "2024-01-15T10:41:13.841Z"
   },
   {
    "duration": 3905,
    "start_time": "2024-01-15T10:41:13.860Z"
   },
   {
    "duration": 63,
    "start_time": "2024-01-15T10:41:17.767Z"
   },
   {
    "duration": 91,
    "start_time": "2024-01-15T10:41:17.831Z"
   },
   {
    "duration": 1065,
    "start_time": "2024-01-15T10:41:17.924Z"
   },
   {
    "duration": 2,
    "start_time": "2024-01-15T10:41:18.991Z"
   },
   {
    "duration": 5,
    "start_time": "2024-01-15T10:41:18.995Z"
   },
   {
    "duration": 64,
    "start_time": "2024-01-15T10:41:19.001Z"
   },
   {
    "duration": 4,
    "start_time": "2024-01-15T10:41:19.066Z"
   },
   {
    "duration": 7,
    "start_time": "2024-01-15T10:41:19.071Z"
   },
   {
    "duration": 276397,
    "start_time": "2024-01-15T10:41:19.080Z"
   },
   {
    "duration": 1009,
    "start_time": "2024-01-15T10:45:55.478Z"
   },
   {
    "duration": 8,
    "start_time": "2024-01-15T10:45:56.564Z"
   },
   {
    "duration": 6,
    "start_time": "2024-01-15T10:45:56.574Z"
   },
   {
    "duration": 34,
    "start_time": "2024-01-15T10:45:56.582Z"
   },
   {
    "duration": 19,
    "start_time": "2024-01-15T10:45:56.617Z"
   },
   {
    "duration": 10,
    "start_time": "2024-01-15T10:45:56.638Z"
   },
   {
    "duration": 1600,
    "start_time": "2024-01-15T10:45:56.650Z"
   },
   {
    "duration": 42,
    "start_time": "2024-01-15T13:17:44.788Z"
   },
   {
    "duration": 5296,
    "start_time": "2024-01-15T13:17:48.921Z"
   },
   {
    "duration": 2944,
    "start_time": "2024-01-15T13:17:54.219Z"
   },
   {
    "duration": 108,
    "start_time": "2024-01-15T13:17:57.165Z"
   },
   {
    "duration": 121,
    "start_time": "2024-01-15T13:17:57.275Z"
   },
   {
    "duration": 0,
    "start_time": "2024-01-15T13:17:57.398Z"
   },
   {
    "duration": 0,
    "start_time": "2024-01-15T13:17:57.399Z"
   },
   {
    "duration": 0,
    "start_time": "2024-01-15T13:17:57.400Z"
   },
   {
    "duration": 0,
    "start_time": "2024-01-15T13:17:57.401Z"
   },
   {
    "duration": 0,
    "start_time": "2024-01-15T13:17:57.402Z"
   },
   {
    "duration": 0,
    "start_time": "2024-01-15T13:17:57.403Z"
   },
   {
    "duration": 0,
    "start_time": "2024-01-15T13:17:57.404Z"
   },
   {
    "duration": 0,
    "start_time": "2024-01-15T13:17:57.405Z"
   },
   {
    "duration": 0,
    "start_time": "2024-01-15T13:17:57.406Z"
   },
   {
    "duration": 0,
    "start_time": "2024-01-15T13:17:57.407Z"
   },
   {
    "duration": 0,
    "start_time": "2024-01-15T13:17:57.409Z"
   },
   {
    "duration": 0,
    "start_time": "2024-01-15T13:17:57.410Z"
   },
   {
    "duration": 0,
    "start_time": "2024-01-15T13:17:57.411Z"
   },
   {
    "duration": 0,
    "start_time": "2024-01-15T13:17:57.412Z"
   },
   {
    "duration": 0,
    "start_time": "2024-01-15T13:17:57.413Z"
   },
   {
    "duration": 0,
    "start_time": "2024-01-15T13:17:57.414Z"
   },
   {
    "duration": 0,
    "start_time": "2024-01-15T13:17:57.415Z"
   },
   {
    "duration": 0,
    "start_time": "2024-01-15T13:17:57.416Z"
   },
   {
    "duration": 0,
    "start_time": "2024-01-15T13:17:57.417Z"
   },
   {
    "duration": 0,
    "start_time": "2024-01-15T13:17:57.418Z"
   },
   {
    "duration": 0,
    "start_time": "2024-01-15T13:17:57.419Z"
   },
   {
    "duration": 0,
    "start_time": "2024-01-15T13:17:57.420Z"
   },
   {
    "duration": 0,
    "start_time": "2024-01-15T13:17:57.421Z"
   },
   {
    "duration": 0,
    "start_time": "2024-01-15T13:17:57.422Z"
   },
   {
    "duration": 0,
    "start_time": "2024-01-15T13:17:57.423Z"
   },
   {
    "duration": 0,
    "start_time": "2024-01-15T13:17:57.424Z"
   },
   {
    "duration": 0,
    "start_time": "2024-01-15T13:17:57.425Z"
   },
   {
    "duration": 0,
    "start_time": "2024-01-15T13:17:57.426Z"
   },
   {
    "duration": 0,
    "start_time": "2024-01-15T13:17:57.427Z"
   },
   {
    "duration": 0,
    "start_time": "2024-01-15T13:17:57.428Z"
   },
   {
    "duration": 0,
    "start_time": "2024-01-15T13:17:57.429Z"
   },
   {
    "duration": 0,
    "start_time": "2024-01-15T13:17:57.430Z"
   },
   {
    "duration": 0,
    "start_time": "2024-01-15T13:17:57.431Z"
   },
   {
    "duration": 61,
    "start_time": "2024-01-15T13:18:06.868Z"
   },
   {
    "duration": 69,
    "start_time": "2024-01-15T13:18:34.138Z"
   },
   {
    "duration": 30,
    "start_time": "2024-01-15T13:21:01.241Z"
   },
   {
    "duration": 27,
    "start_time": "2024-01-15T13:24:04.621Z"
   },
   {
    "duration": 39,
    "start_time": "2024-01-15T13:24:21.941Z"
   },
   {
    "duration": 62,
    "start_time": "2024-01-15T13:24:37.542Z"
   },
   {
    "duration": 8,
    "start_time": "2024-01-15T13:31:35.774Z"
   },
   {
    "duration": 4974,
    "start_time": "2024-01-15T13:31:40.473Z"
   },
   {
    "duration": 989,
    "start_time": "2024-01-15T13:31:45.449Z"
   },
   {
    "duration": 123,
    "start_time": "2024-01-15T13:31:46.439Z"
   },
   {
    "duration": 78,
    "start_time": "2024-01-15T13:31:46.564Z"
   },
   {
    "duration": 6,
    "start_time": "2024-01-15T13:31:46.644Z"
   },
   {
    "duration": 32,
    "start_time": "2024-01-15T13:31:46.651Z"
   },
   {
    "duration": 26,
    "start_time": "2024-01-15T13:31:46.684Z"
   },
   {
    "duration": 114,
    "start_time": "2024-01-15T13:31:46.711Z"
   },
   {
    "duration": 22,
    "start_time": "2024-01-15T13:31:46.826Z"
   },
   {
    "duration": 33,
    "start_time": "2024-01-15T13:31:46.850Z"
   },
   {
    "duration": 29,
    "start_time": "2024-01-15T13:31:46.885Z"
   },
   {
    "duration": 28,
    "start_time": "2024-01-15T13:31:46.916Z"
   },
   {
    "duration": 47,
    "start_time": "2024-01-15T13:31:46.945Z"
   },
   {
    "duration": 1348,
    "start_time": "2024-01-15T13:31:46.996Z"
   },
   {
    "duration": 4167,
    "start_time": "2024-01-15T13:31:48.345Z"
   },
   {
    "duration": 1068,
    "start_time": "2024-01-15T13:31:52.513Z"
   },
   {
    "duration": 19,
    "start_time": "2024-01-15T13:31:53.582Z"
   },
   {
    "duration": 3060,
    "start_time": "2024-01-15T13:31:53.602Z"
   },
   {
    "duration": 114,
    "start_time": "2024-01-15T13:31:56.663Z"
   },
   {
    "duration": 0,
    "start_time": "2024-01-15T13:31:56.779Z"
   },
   {
    "duration": 0,
    "start_time": "2024-01-15T13:31:56.780Z"
   },
   {
    "duration": 0,
    "start_time": "2024-01-15T13:31:56.781Z"
   },
   {
    "duration": 0,
    "start_time": "2024-01-15T13:31:56.782Z"
   },
   {
    "duration": 0,
    "start_time": "2024-01-15T13:31:56.783Z"
   },
   {
    "duration": 0,
    "start_time": "2024-01-15T13:31:56.784Z"
   },
   {
    "duration": 0,
    "start_time": "2024-01-15T13:31:56.792Z"
   },
   {
    "duration": 0,
    "start_time": "2024-01-15T13:31:56.793Z"
   },
   {
    "duration": 0,
    "start_time": "2024-01-15T13:31:56.794Z"
   },
   {
    "duration": 0,
    "start_time": "2024-01-15T13:31:56.795Z"
   },
   {
    "duration": 0,
    "start_time": "2024-01-15T13:31:56.796Z"
   },
   {
    "duration": 0,
    "start_time": "2024-01-15T13:31:56.797Z"
   },
   {
    "duration": 0,
    "start_time": "2024-01-15T13:31:56.798Z"
   },
   {
    "duration": 0,
    "start_time": "2024-01-15T13:31:56.799Z"
   },
   {
    "duration": 0,
    "start_time": "2024-01-15T13:31:56.800Z"
   },
   {
    "duration": 0,
    "start_time": "2024-01-15T13:31:56.801Z"
   },
   {
    "duration": 0,
    "start_time": "2024-01-15T13:31:56.802Z"
   },
   {
    "duration": 0,
    "start_time": "2024-01-15T13:31:56.803Z"
   },
   {
    "duration": 64,
    "start_time": "2024-01-15T13:34:23.024Z"
   },
   {
    "duration": 2198,
    "start_time": "2024-01-15T13:34:28.310Z"
   },
   {
    "duration": 2233,
    "start_time": "2024-01-15T13:34:48.399Z"
   },
   {
    "duration": 3215,
    "start_time": "2024-01-15T13:34:57.139Z"
   },
   {
    "duration": 3026,
    "start_time": "2024-01-15T13:35:21.138Z"
   },
   {
    "duration": 8,
    "start_time": "2024-01-15T13:38:59.932Z"
   },
   {
    "duration": 4762,
    "start_time": "2024-01-15T13:39:04.846Z"
   },
   {
    "duration": 1086,
    "start_time": "2024-01-15T13:39:09.612Z"
   },
   {
    "duration": 127,
    "start_time": "2024-01-15T13:39:10.701Z"
   },
   {
    "duration": 77,
    "start_time": "2024-01-15T13:39:10.829Z"
   },
   {
    "duration": 8,
    "start_time": "2024-01-15T13:39:10.908Z"
   },
   {
    "duration": 42,
    "start_time": "2024-01-15T13:39:10.917Z"
   },
   {
    "duration": 33,
    "start_time": "2024-01-15T13:39:10.960Z"
   },
   {
    "duration": 116,
    "start_time": "2024-01-15T13:39:10.997Z"
   },
   {
    "duration": 22,
    "start_time": "2024-01-15T13:39:11.115Z"
   },
   {
    "duration": 27,
    "start_time": "2024-01-15T13:39:11.138Z"
   },
   {
    "duration": 51,
    "start_time": "2024-01-15T13:39:11.167Z"
   },
   {
    "duration": 46,
    "start_time": "2024-01-15T13:39:11.219Z"
   },
   {
    "duration": 35,
    "start_time": "2024-01-15T13:39:11.266Z"
   },
   {
    "duration": 1535,
    "start_time": "2024-01-15T13:39:11.305Z"
   },
   {
    "duration": 4333,
    "start_time": "2024-01-15T13:39:12.842Z"
   },
   {
    "duration": 1027,
    "start_time": "2024-01-15T13:39:17.177Z"
   },
   {
    "duration": 21,
    "start_time": "2024-01-15T13:39:18.206Z"
   },
   {
    "duration": 3414,
    "start_time": "2024-01-15T13:39:18.228Z"
   },
   {
    "duration": 56,
    "start_time": "2024-01-15T13:39:21.644Z"
   },
   {
    "duration": 59,
    "start_time": "2024-01-15T13:39:21.701Z"
   },
   {
    "duration": 1054,
    "start_time": "2024-01-15T13:39:21.761Z"
   },
   {
    "duration": 2,
    "start_time": "2024-01-15T13:39:22.817Z"
   },
   {
    "duration": 18,
    "start_time": "2024-01-15T13:39:22.821Z"
   },
   {
    "duration": 47,
    "start_time": "2024-01-15T13:39:22.840Z"
   },
   {
    "duration": 138,
    "start_time": "2024-01-15T13:39:22.888Z"
   },
   {
    "duration": 0,
    "start_time": "2024-01-15T13:39:23.027Z"
   },
   {
    "duration": 0,
    "start_time": "2024-01-15T13:39:23.029Z"
   },
   {
    "duration": 0,
    "start_time": "2024-01-15T13:39:23.030Z"
   },
   {
    "duration": 0,
    "start_time": "2024-01-15T13:39:23.031Z"
   },
   {
    "duration": 0,
    "start_time": "2024-01-15T13:39:23.032Z"
   },
   {
    "duration": 0,
    "start_time": "2024-01-15T13:39:23.032Z"
   },
   {
    "duration": 0,
    "start_time": "2024-01-15T13:39:23.034Z"
   },
   {
    "duration": 0,
    "start_time": "2024-01-15T13:39:23.035Z"
   },
   {
    "duration": 0,
    "start_time": "2024-01-15T13:39:23.036Z"
   },
   {
    "duration": 0,
    "start_time": "2024-01-15T13:39:23.037Z"
   },
   {
    "duration": 0,
    "start_time": "2024-01-15T13:39:23.038Z"
   },
   {
    "duration": 0,
    "start_time": "2024-01-15T13:39:23.039Z"
   },
   {
    "duration": 16,
    "start_time": "2024-01-15T13:49:18.758Z"
   },
   {
    "duration": 2357,
    "start_time": "2024-01-15T13:49:27.450Z"
   },
   {
    "duration": 4,
    "start_time": "2024-01-15T13:49:36.239Z"
   },
   {
    "duration": 80,
    "start_time": "2024-01-15T14:50:44.234Z"
   },
   {
    "duration": 90,
    "start_time": "2024-01-15T14:51:11.236Z"
   },
   {
    "duration": 62,
    "start_time": "2024-01-15T14:51:18.807Z"
   },
   {
    "duration": 79,
    "start_time": "2024-01-15T14:51:36.574Z"
   },
   {
    "duration": 1046,
    "start_time": "2024-01-15T14:52:01.958Z"
   },
   {
    "duration": 944,
    "start_time": "2024-01-15T14:52:06.524Z"
   },
   {
    "duration": 1787,
    "start_time": "2024-01-15T14:52:12.107Z"
   },
   {
    "duration": 17,
    "start_time": "2024-01-15T14:52:19.958Z"
   },
   {
    "duration": 4276,
    "start_time": "2024-01-15T14:52:23.228Z"
   },
   {
    "duration": 1789,
    "start_time": "2024-01-15T14:52:27.507Z"
   },
   {
    "duration": 111,
    "start_time": "2024-01-15T14:52:29.298Z"
   },
   {
    "duration": 0,
    "start_time": "2024-01-15T14:52:29.413Z"
   },
   {
    "duration": 0,
    "start_time": "2024-01-15T14:52:29.414Z"
   },
   {
    "duration": 0,
    "start_time": "2024-01-15T14:52:29.415Z"
   },
   {
    "duration": 0,
    "start_time": "2024-01-15T14:52:29.416Z"
   },
   {
    "duration": 0,
    "start_time": "2024-01-15T14:52:29.417Z"
   },
   {
    "duration": 0,
    "start_time": "2024-01-15T14:52:29.417Z"
   },
   {
    "duration": 0,
    "start_time": "2024-01-15T14:52:29.418Z"
   },
   {
    "duration": 0,
    "start_time": "2024-01-15T14:52:29.419Z"
   },
   {
    "duration": 0,
    "start_time": "2024-01-15T14:52:29.420Z"
   },
   {
    "duration": 0,
    "start_time": "2024-01-15T14:52:29.421Z"
   },
   {
    "duration": 0,
    "start_time": "2024-01-15T14:52:29.422Z"
   },
   {
    "duration": 0,
    "start_time": "2024-01-15T14:52:29.423Z"
   },
   {
    "duration": 0,
    "start_time": "2024-01-15T14:52:29.424Z"
   },
   {
    "duration": 0,
    "start_time": "2024-01-15T14:52:29.425Z"
   },
   {
    "duration": 0,
    "start_time": "2024-01-15T14:52:29.426Z"
   },
   {
    "duration": 0,
    "start_time": "2024-01-15T14:52:29.427Z"
   },
   {
    "duration": 0,
    "start_time": "2024-01-15T14:52:29.428Z"
   },
   {
    "duration": 0,
    "start_time": "2024-01-15T14:52:29.428Z"
   },
   {
    "duration": 0,
    "start_time": "2024-01-15T14:52:29.429Z"
   },
   {
    "duration": 0,
    "start_time": "2024-01-15T14:52:29.430Z"
   },
   {
    "duration": 0,
    "start_time": "2024-01-15T14:52:29.431Z"
   },
   {
    "duration": 1,
    "start_time": "2024-01-15T14:52:29.431Z"
   },
   {
    "duration": 0,
    "start_time": "2024-01-15T14:52:29.432Z"
   },
   {
    "duration": 0,
    "start_time": "2024-01-15T14:52:29.433Z"
   },
   {
    "duration": 0,
    "start_time": "2024-01-15T14:52:29.434Z"
   },
   {
    "duration": 0,
    "start_time": "2024-01-15T14:52:29.435Z"
   },
   {
    "duration": 0,
    "start_time": "2024-01-15T14:52:29.436Z"
   },
   {
    "duration": 0,
    "start_time": "2024-01-15T14:52:29.437Z"
   },
   {
    "duration": 0,
    "start_time": "2024-01-15T14:52:29.438Z"
   },
   {
    "duration": 0,
    "start_time": "2024-01-15T14:52:29.438Z"
   },
   {
    "duration": 0,
    "start_time": "2024-01-15T14:52:29.439Z"
   },
   {
    "duration": 0,
    "start_time": "2024-01-15T14:52:29.440Z"
   },
   {
    "duration": 0,
    "start_time": "2024-01-15T14:52:29.441Z"
   },
   {
    "duration": 0,
    "start_time": "2024-01-15T14:52:29.442Z"
   },
   {
    "duration": 25,
    "start_time": "2024-01-15T14:52:33.051Z"
   },
   {
    "duration": 2216,
    "start_time": "2024-01-15T15:09:59.774Z"
   },
   {
    "duration": 17,
    "start_time": "2024-01-15T15:10:32.882Z"
   },
   {
    "duration": 2242,
    "start_time": "2024-01-15T15:10:44.814Z"
   },
   {
    "duration": 15,
    "start_time": "2024-01-15T15:10:49.657Z"
   },
   {
    "duration": 3630,
    "start_time": "2024-01-15T15:11:11.624Z"
   },
   {
    "duration": 993,
    "start_time": "2024-01-15T15:11:15.257Z"
   },
   {
    "duration": 113,
    "start_time": "2024-01-15T15:11:16.251Z"
   },
   {
    "duration": 72,
    "start_time": "2024-01-15T15:11:16.366Z"
   },
   {
    "duration": 6,
    "start_time": "2024-01-15T15:11:16.440Z"
   },
   {
    "duration": 31,
    "start_time": "2024-01-15T15:11:16.448Z"
   },
   {
    "duration": 23,
    "start_time": "2024-01-15T15:11:16.492Z"
   },
   {
    "duration": 117,
    "start_time": "2024-01-15T15:11:16.521Z"
   },
   {
    "duration": 61,
    "start_time": "2024-01-15T15:11:16.639Z"
   },
   {
    "duration": 25,
    "start_time": "2024-01-15T15:11:16.702Z"
   },
   {
    "duration": 31,
    "start_time": "2024-01-15T15:11:16.729Z"
   },
   {
    "duration": 30,
    "start_time": "2024-01-15T15:11:16.761Z"
   },
   {
    "duration": 26,
    "start_time": "2024-01-15T15:11:16.793Z"
   },
   {
    "duration": 1343,
    "start_time": "2024-01-15T15:11:16.822Z"
   },
   {
    "duration": 4168,
    "start_time": "2024-01-15T15:11:18.166Z"
   },
   {
    "duration": 1021,
    "start_time": "2024-01-15T15:11:22.336Z"
   },
   {
    "duration": 19,
    "start_time": "2024-01-15T15:11:23.358Z"
   },
   {
    "duration": 3029,
    "start_time": "2024-01-15T15:11:23.378Z"
   },
   {
    "duration": 51,
    "start_time": "2024-01-15T15:11:26.408Z"
   },
   {
    "duration": 68,
    "start_time": "2024-01-15T15:11:26.460Z"
   },
   {
    "duration": 928,
    "start_time": "2024-01-15T15:11:26.529Z"
   },
   {
    "duration": 2,
    "start_time": "2024-01-15T15:11:27.458Z"
   },
   {
    "duration": 17,
    "start_time": "2024-01-15T15:11:27.462Z"
   },
   {
    "duration": 51,
    "start_time": "2024-01-15T15:11:27.481Z"
   },
   {
    "duration": 5,
    "start_time": "2024-01-15T15:11:27.533Z"
   },
   {
    "duration": 113,
    "start_time": "2024-01-15T15:11:27.539Z"
   },
   {
    "duration": 0,
    "start_time": "2024-01-15T15:11:27.653Z"
   },
   {
    "duration": 0,
    "start_time": "2024-01-15T15:11:27.655Z"
   },
   {
    "duration": 0,
    "start_time": "2024-01-15T15:11:27.656Z"
   },
   {
    "duration": 0,
    "start_time": "2024-01-15T15:11:27.657Z"
   },
   {
    "duration": 0,
    "start_time": "2024-01-15T15:11:27.657Z"
   },
   {
    "duration": 0,
    "start_time": "2024-01-15T15:11:27.658Z"
   },
   {
    "duration": 0,
    "start_time": "2024-01-15T15:11:27.659Z"
   },
   {
    "duration": 0,
    "start_time": "2024-01-15T15:11:27.660Z"
   },
   {
    "duration": 0,
    "start_time": "2024-01-15T15:11:27.661Z"
   },
   {
    "duration": 0,
    "start_time": "2024-01-15T15:11:27.662Z"
   },
   {
    "duration": 0,
    "start_time": "2024-01-15T15:11:27.663Z"
   },
   {
    "duration": 4628,
    "start_time": "2024-01-15T15:16:25.333Z"
   },
   {
    "duration": 1147,
    "start_time": "2024-01-15T15:16:29.964Z"
   },
   {
    "duration": 136,
    "start_time": "2024-01-15T15:16:31.113Z"
   },
   {
    "duration": 87,
    "start_time": "2024-01-15T15:16:31.250Z"
   },
   {
    "duration": 5,
    "start_time": "2024-01-15T15:16:31.339Z"
   },
   {
    "duration": 63,
    "start_time": "2024-01-15T15:16:31.346Z"
   },
   {
    "duration": 24,
    "start_time": "2024-01-15T15:16:31.412Z"
   },
   {
    "duration": 110,
    "start_time": "2024-01-15T15:16:31.437Z"
   },
   {
    "duration": 26,
    "start_time": "2024-01-15T15:16:31.548Z"
   },
   {
    "duration": 92,
    "start_time": "2024-01-15T15:16:31.575Z"
   },
   {
    "duration": 65,
    "start_time": "2024-01-15T15:16:31.668Z"
   },
   {
    "duration": 63,
    "start_time": "2024-01-15T15:16:31.734Z"
   },
   {
    "duration": 36,
    "start_time": "2024-01-15T15:16:31.800Z"
   },
   {
    "duration": 1489,
    "start_time": "2024-01-15T15:16:31.838Z"
   },
   {
    "duration": 4377,
    "start_time": "2024-01-15T15:16:33.328Z"
   },
   {
    "duration": 1075,
    "start_time": "2024-01-15T15:16:37.706Z"
   },
   {
    "duration": 18,
    "start_time": "2024-01-15T15:16:38.783Z"
   },
   {
    "duration": 3096,
    "start_time": "2024-01-15T15:16:38.803Z"
   },
   {
    "duration": 50,
    "start_time": "2024-01-15T15:16:41.900Z"
   },
   {
    "duration": 5,
    "start_time": "2024-01-15T15:16:41.952Z"
   },
   {
    "duration": 987,
    "start_time": "2024-01-15T15:16:41.959Z"
   },
   {
    "duration": 3,
    "start_time": "2024-01-15T15:16:42.947Z"
   },
   {
    "duration": 16,
    "start_time": "2024-01-15T15:16:42.951Z"
   },
   {
    "duration": 62,
    "start_time": "2024-01-15T15:16:42.968Z"
   },
   {
    "duration": 4,
    "start_time": "2024-01-15T15:16:43.032Z"
   },
   {
    "duration": 111,
    "start_time": "2024-01-15T15:16:43.037Z"
   },
   {
    "duration": 0,
    "start_time": "2024-01-15T15:16:43.149Z"
   },
   {
    "duration": 0,
    "start_time": "2024-01-15T15:16:43.151Z"
   },
   {
    "duration": 0,
    "start_time": "2024-01-15T15:16:43.152Z"
   },
   {
    "duration": 0,
    "start_time": "2024-01-15T15:16:43.153Z"
   },
   {
    "duration": 0,
    "start_time": "2024-01-15T15:16:43.154Z"
   },
   {
    "duration": 0,
    "start_time": "2024-01-15T15:16:43.155Z"
   },
   {
    "duration": 0,
    "start_time": "2024-01-15T15:16:43.156Z"
   },
   {
    "duration": 0,
    "start_time": "2024-01-15T15:16:43.157Z"
   },
   {
    "duration": 0,
    "start_time": "2024-01-15T15:16:43.158Z"
   },
   {
    "duration": 0,
    "start_time": "2024-01-15T15:16:43.159Z"
   },
   {
    "duration": 0,
    "start_time": "2024-01-15T15:16:43.160Z"
   },
   {
    "duration": 4636,
    "start_time": "2024-01-15T15:18:55.676Z"
   },
   {
    "duration": 1093,
    "start_time": "2024-01-15T15:19:00.314Z"
   },
   {
    "duration": 119,
    "start_time": "2024-01-15T15:19:01.409Z"
   },
   {
    "duration": 64,
    "start_time": "2024-01-15T15:19:01.529Z"
   },
   {
    "duration": 19,
    "start_time": "2024-01-15T15:19:01.595Z"
   },
   {
    "duration": 96,
    "start_time": "2024-01-15T15:19:01.615Z"
   },
   {
    "duration": 43,
    "start_time": "2024-01-15T15:19:01.713Z"
   },
   {
    "duration": 116,
    "start_time": "2024-01-15T15:19:01.758Z"
   },
   {
    "duration": 44,
    "start_time": "2024-01-15T15:19:01.876Z"
   },
   {
    "duration": 44,
    "start_time": "2024-01-15T15:19:01.922Z"
   },
   {
    "duration": 62,
    "start_time": "2024-01-15T15:19:01.968Z"
   },
   {
    "duration": 51,
    "start_time": "2024-01-15T15:19:02.031Z"
   },
   {
    "duration": 38,
    "start_time": "2024-01-15T15:19:02.084Z"
   },
   {
    "duration": 1438,
    "start_time": "2024-01-15T15:19:02.125Z"
   },
   {
    "duration": 4411,
    "start_time": "2024-01-15T15:19:03.564Z"
   },
   {
    "duration": 1029,
    "start_time": "2024-01-15T15:19:07.977Z"
   },
   {
    "duration": 18,
    "start_time": "2024-01-15T15:19:09.008Z"
   },
   {
    "duration": 3216,
    "start_time": "2024-01-15T15:19:09.028Z"
   },
   {
    "duration": 56,
    "start_time": "2024-01-15T15:19:12.246Z"
   },
   {
    "duration": 3,
    "start_time": "2024-01-15T15:19:12.304Z"
   },
   {
    "duration": 1036,
    "start_time": "2024-01-15T15:19:12.309Z"
   },
   {
    "duration": 3,
    "start_time": "2024-01-15T15:19:13.346Z"
   },
   {
    "duration": 6,
    "start_time": "2024-01-15T15:19:13.350Z"
   },
   {
    "duration": 75,
    "start_time": "2024-01-15T15:19:13.358Z"
   },
   {
    "duration": 4,
    "start_time": "2024-01-15T15:19:13.434Z"
   },
   {
    "duration": 112,
    "start_time": "2024-01-15T15:19:13.439Z"
   },
   {
    "duration": 0,
    "start_time": "2024-01-15T15:19:13.552Z"
   },
   {
    "duration": 0,
    "start_time": "2024-01-15T15:19:13.554Z"
   },
   {
    "duration": 0,
    "start_time": "2024-01-15T15:19:13.554Z"
   },
   {
    "duration": 0,
    "start_time": "2024-01-15T15:19:13.555Z"
   },
   {
    "duration": 0,
    "start_time": "2024-01-15T15:19:13.556Z"
   },
   {
    "duration": 0,
    "start_time": "2024-01-15T15:19:13.557Z"
   },
   {
    "duration": 0,
    "start_time": "2024-01-15T15:19:13.558Z"
   },
   {
    "duration": 0,
    "start_time": "2024-01-15T15:19:13.559Z"
   },
   {
    "duration": 0,
    "start_time": "2024-01-15T15:19:13.560Z"
   },
   {
    "duration": 0,
    "start_time": "2024-01-15T15:19:13.561Z"
   },
   {
    "duration": 0,
    "start_time": "2024-01-15T15:19:13.562Z"
   },
   {
    "duration": 2,
    "start_time": "2024-01-15T15:23:56.628Z"
   },
   {
    "duration": 3,
    "start_time": "2024-01-15T15:24:04.150Z"
   },
   {
    "duration": 4,
    "start_time": "2024-01-15T15:25:34.059Z"
   },
   {
    "duration": 3,
    "start_time": "2024-01-15T15:25:45.554Z"
   },
   {
    "duration": 19551,
    "start_time": "2024-01-15T15:25:53.469Z"
   },
   {
    "duration": 55,
    "start_time": "2024-01-15T15:28:01.318Z"
   },
   {
    "duration": 25,
    "start_time": "2024-01-15T15:28:57.118Z"
   },
   {
    "duration": 94,
    "start_time": "2024-01-15T15:29:04.222Z"
   },
   {
    "duration": 121,
    "start_time": "2024-01-15T15:29:49.709Z"
   },
   {
    "duration": 4,
    "start_time": "2024-01-15T15:29:52.891Z"
   },
   {
    "duration": 3,
    "start_time": "2024-01-15T15:29:55.464Z"
   },
   {
    "duration": 3,
    "start_time": "2024-01-15T15:29:56.412Z"
   },
   {
    "duration": 3,
    "start_time": "2024-01-15T15:29:59.757Z"
   },
   {
    "duration": 22288,
    "start_time": "2024-01-15T15:30:00.862Z"
   },
   {
    "duration": 4208,
    "start_time": "2024-01-15T15:31:48.164Z"
   },
   {
    "duration": 969,
    "start_time": "2024-01-15T15:31:52.393Z"
   },
   {
    "duration": 113,
    "start_time": "2024-01-15T15:31:53.364Z"
   },
   {
    "duration": 65,
    "start_time": "2024-01-15T15:31:53.479Z"
   },
   {
    "duration": 6,
    "start_time": "2024-01-15T15:31:53.546Z"
   },
   {
    "duration": 40,
    "start_time": "2024-01-15T15:31:53.553Z"
   },
   {
    "duration": 21,
    "start_time": "2024-01-15T15:31:53.595Z"
   },
   {
    "duration": 122,
    "start_time": "2024-01-15T15:31:53.618Z"
   },
   {
    "duration": 23,
    "start_time": "2024-01-15T15:31:53.742Z"
   },
   {
    "duration": 24,
    "start_time": "2024-01-15T15:31:53.768Z"
   },
   {
    "duration": 31,
    "start_time": "2024-01-15T15:31:53.794Z"
   },
   {
    "duration": 39,
    "start_time": "2024-01-15T15:31:53.826Z"
   },
   {
    "duration": 28,
    "start_time": "2024-01-15T15:31:53.866Z"
   },
   {
    "duration": 1463,
    "start_time": "2024-01-15T15:31:53.896Z"
   },
   {
    "duration": 4108,
    "start_time": "2024-01-15T15:31:55.360Z"
   },
   {
    "duration": 976,
    "start_time": "2024-01-15T15:31:59.469Z"
   },
   {
    "duration": 18,
    "start_time": "2024-01-15T15:32:00.447Z"
   },
   {
    "duration": 3153,
    "start_time": "2024-01-15T15:32:00.466Z"
   },
   {
    "duration": 51,
    "start_time": "2024-01-15T15:32:03.620Z"
   },
   {
    "duration": 2,
    "start_time": "2024-01-15T15:32:03.673Z"
   },
   {
    "duration": 1014,
    "start_time": "2024-01-15T15:32:03.692Z"
   },
   {
    "duration": 3,
    "start_time": "2024-01-15T15:32:04.707Z"
   },
   {
    "duration": 6,
    "start_time": "2024-01-15T15:32:04.711Z"
   },
   {
    "duration": 36,
    "start_time": "2024-01-15T15:32:04.718Z"
   },
   {
    "duration": 124,
    "start_time": "2024-01-15T15:32:04.756Z"
   },
   {
    "duration": 4,
    "start_time": "2024-01-15T15:32:04.882Z"
   },
   {
    "duration": 3,
    "start_time": "2024-01-15T15:32:04.891Z"
   },
   {
    "duration": 4,
    "start_time": "2024-01-15T15:32:04.897Z"
   },
   {
    "duration": 6,
    "start_time": "2024-01-15T15:32:04.902Z"
   },
   {
    "duration": 23291,
    "start_time": "2024-01-15T15:32:04.910Z"
   },
   {
    "duration": 0,
    "start_time": "2024-01-15T15:32:28.203Z"
   },
   {
    "duration": 0,
    "start_time": "2024-01-15T15:32:28.205Z"
   },
   {
    "duration": 0,
    "start_time": "2024-01-15T15:32:28.206Z"
   },
   {
    "duration": 0,
    "start_time": "2024-01-15T15:32:28.208Z"
   },
   {
    "duration": 0,
    "start_time": "2024-01-15T15:32:28.209Z"
   },
   {
    "duration": 0,
    "start_time": "2024-01-15T15:32:28.210Z"
   },
   {
    "duration": 0,
    "start_time": "2024-01-15T15:32:28.211Z"
   },
   {
    "duration": 0,
    "start_time": "2024-01-15T15:32:28.213Z"
   },
   {
    "duration": 4,
    "start_time": "2024-01-15T15:33:38.978Z"
   },
   {
    "duration": 24658,
    "start_time": "2024-01-15T15:33:42.538Z"
   },
   {
    "duration": 6,
    "start_time": "2024-01-15T15:35:04.701Z"
   },
   {
    "duration": 23757,
    "start_time": "2024-01-15T15:35:08.300Z"
   },
   {
    "duration": 84,
    "start_time": "2024-01-15T15:37:08.779Z"
   },
   {
    "duration": 4,
    "start_time": "2024-01-15T15:37:17.509Z"
   },
   {
    "duration": 24231,
    "start_time": "2024-01-15T15:37:23.742Z"
   },
   {
    "duration": 10,
    "start_time": "2024-01-15T15:38:06.604Z"
   },
   {
    "duration": 51,
    "start_time": "2024-01-15T15:38:39.572Z"
   },
   {
    "duration": 4,
    "start_time": "2024-01-15T15:38:41.999Z"
   },
   {
    "duration": 8525,
    "start_time": "2024-01-15T15:38:45.933Z"
   },
   {
    "duration": 5494,
    "start_time": "2024-01-15T15:40:26.771Z"
   },
   {
    "duration": 1099,
    "start_time": "2024-01-15T15:40:32.267Z"
   },
   {
    "duration": 127,
    "start_time": "2024-01-15T15:40:33.368Z"
   },
   {
    "duration": 68,
    "start_time": "2024-01-15T15:40:33.497Z"
   },
   {
    "duration": 6,
    "start_time": "2024-01-15T15:40:33.567Z"
   },
   {
    "duration": 47,
    "start_time": "2024-01-15T15:40:33.592Z"
   },
   {
    "duration": 21,
    "start_time": "2024-01-15T15:40:33.640Z"
   },
   {
    "duration": 110,
    "start_time": "2024-01-15T15:40:33.663Z"
   },
   {
    "duration": 40,
    "start_time": "2024-01-15T15:40:33.775Z"
   },
   {
    "duration": 21,
    "start_time": "2024-01-15T15:40:33.818Z"
   },
   {
    "duration": 25,
    "start_time": "2024-01-15T15:40:33.840Z"
   },
   {
    "duration": 53,
    "start_time": "2024-01-15T15:40:33.866Z"
   },
   {
    "duration": 31,
    "start_time": "2024-01-15T15:40:33.922Z"
   },
   {
    "duration": 1398,
    "start_time": "2024-01-15T15:40:33.954Z"
   },
   {
    "duration": 4565,
    "start_time": "2024-01-15T15:40:35.354Z"
   },
   {
    "duration": 1088,
    "start_time": "2024-01-15T15:40:39.921Z"
   },
   {
    "duration": 19,
    "start_time": "2024-01-15T15:40:41.010Z"
   },
   {
    "duration": 3309,
    "start_time": "2024-01-15T15:40:41.031Z"
   },
   {
    "duration": 65,
    "start_time": "2024-01-15T15:40:44.342Z"
   },
   {
    "duration": 3,
    "start_time": "2024-01-15T15:40:44.408Z"
   },
   {
    "duration": 1000,
    "start_time": "2024-01-15T15:40:44.413Z"
   },
   {
    "duration": 3,
    "start_time": "2024-01-15T15:40:45.415Z"
   },
   {
    "duration": 5,
    "start_time": "2024-01-15T15:40:45.419Z"
   },
   {
    "duration": 33,
    "start_time": "2024-01-15T15:40:45.425Z"
   },
   {
    "duration": 124,
    "start_time": "2024-01-15T15:40:45.460Z"
   },
   {
    "duration": 9,
    "start_time": "2024-01-15T15:40:45.585Z"
   },
   {
    "duration": 10,
    "start_time": "2024-01-15T15:40:45.596Z"
   },
   {
    "duration": 5,
    "start_time": "2024-01-15T15:40:45.610Z"
   },
   {
    "duration": 6,
    "start_time": "2024-01-15T15:40:45.617Z"
   },
   {
    "duration": 13303,
    "start_time": "2024-01-15T15:40:45.624Z"
   },
   {
    "duration": 0,
    "start_time": "2024-01-15T15:40:58.929Z"
   },
   {
    "duration": 0,
    "start_time": "2024-01-15T15:40:58.930Z"
   },
   {
    "duration": 0,
    "start_time": "2024-01-15T15:40:58.931Z"
   },
   {
    "duration": 0,
    "start_time": "2024-01-15T15:40:58.932Z"
   },
   {
    "duration": 0,
    "start_time": "2024-01-15T15:40:58.933Z"
   },
   {
    "duration": 0,
    "start_time": "2024-01-15T15:40:58.934Z"
   },
   {
    "duration": 0,
    "start_time": "2024-01-15T15:40:58.935Z"
   },
   {
    "duration": 0,
    "start_time": "2024-01-15T15:40:58.936Z"
   },
   {
    "duration": 5,
    "start_time": "2024-01-15T15:43:07.573Z"
   },
   {
    "duration": 3,
    "start_time": "2024-01-15T15:43:09.526Z"
   },
   {
    "duration": 3,
    "start_time": "2024-01-15T15:43:10.181Z"
   },
   {
    "duration": 3,
    "start_time": "2024-01-15T15:43:11.376Z"
   },
   {
    "duration": 4587,
    "start_time": "2024-01-15T15:43:12.274Z"
   },
   {
    "duration": 5,
    "start_time": "2024-01-15T15:43:55.878Z"
   },
   {
    "duration": 3,
    "start_time": "2024-01-15T15:43:58.219Z"
   },
   {
    "duration": 3,
    "start_time": "2024-01-15T15:43:58.950Z"
   },
   {
    "duration": 4,
    "start_time": "2024-01-15T15:44:00.110Z"
   },
   {
    "duration": 12863,
    "start_time": "2024-01-15T15:44:01.231Z"
   },
   {
    "duration": 3670,
    "start_time": "2024-01-15T15:46:18.157Z"
   },
   {
    "duration": 995,
    "start_time": "2024-01-15T15:46:21.829Z"
   },
   {
    "duration": 109,
    "start_time": "2024-01-15T15:46:22.825Z"
   },
   {
    "duration": 71,
    "start_time": "2024-01-15T15:46:22.935Z"
   },
   {
    "duration": 5,
    "start_time": "2024-01-15T15:46:23.008Z"
   },
   {
    "duration": 26,
    "start_time": "2024-01-15T15:46:23.014Z"
   },
   {
    "duration": 24,
    "start_time": "2024-01-15T15:46:23.042Z"
   },
   {
    "duration": 112,
    "start_time": "2024-01-15T15:46:23.068Z"
   },
   {
    "duration": 27,
    "start_time": "2024-01-15T15:46:23.182Z"
   },
   {
    "duration": 18,
    "start_time": "2024-01-15T15:46:23.212Z"
   },
   {
    "duration": 21,
    "start_time": "2024-01-15T15:46:23.231Z"
   },
   {
    "duration": 44,
    "start_time": "2024-01-15T15:46:23.254Z"
   },
   {
    "duration": 27,
    "start_time": "2024-01-15T15:46:23.300Z"
   },
   {
    "duration": 1390,
    "start_time": "2024-01-15T15:46:23.329Z"
   },
   {
    "duration": 4163,
    "start_time": "2024-01-15T15:46:24.720Z"
   },
   {
    "duration": 977,
    "start_time": "2024-01-15T15:46:28.884Z"
   },
   {
    "duration": 18,
    "start_time": "2024-01-15T15:46:29.863Z"
   },
   {
    "duration": 3142,
    "start_time": "2024-01-15T15:46:29.883Z"
   },
   {
    "duration": 51,
    "start_time": "2024-01-15T15:46:33.027Z"
   },
   {
    "duration": 3,
    "start_time": "2024-01-15T15:46:33.092Z"
   },
   {
    "duration": 976,
    "start_time": "2024-01-15T15:46:33.096Z"
   },
   {
    "duration": 3,
    "start_time": "2024-01-15T15:46:34.073Z"
   },
   {
    "duration": 14,
    "start_time": "2024-01-15T15:46:34.078Z"
   },
   {
    "duration": 62,
    "start_time": "2024-01-15T15:46:34.093Z"
   },
   {
    "duration": 4,
    "start_time": "2024-01-15T15:46:34.157Z"
   },
   {
    "duration": 12,
    "start_time": "2024-01-15T15:46:34.163Z"
   },
   {
    "duration": 4,
    "start_time": "2024-01-15T15:46:34.176Z"
   },
   {
    "duration": 3,
    "start_time": "2024-01-15T15:46:34.191Z"
   },
   {
    "duration": 11500,
    "start_time": "2024-01-15T15:46:34.195Z"
   },
   {
    "duration": 0,
    "start_time": "2024-01-15T15:46:45.697Z"
   },
   {
    "duration": 0,
    "start_time": "2024-01-15T15:46:45.699Z"
   },
   {
    "duration": 0,
    "start_time": "2024-01-15T15:46:45.700Z"
   },
   {
    "duration": 0,
    "start_time": "2024-01-15T15:46:45.701Z"
   },
   {
    "duration": 0,
    "start_time": "2024-01-15T15:46:45.703Z"
   },
   {
    "duration": 0,
    "start_time": "2024-01-15T15:46:45.704Z"
   },
   {
    "duration": 0,
    "start_time": "2024-01-15T15:46:45.705Z"
   },
   {
    "duration": 0,
    "start_time": "2024-01-15T15:46:45.707Z"
   },
   {
    "duration": 54,
    "start_time": "2024-01-15T15:47:13.531Z"
   },
   {
    "duration": 5,
    "start_time": "2024-01-15T15:47:31.111Z"
   },
   {
    "duration": 23,
    "start_time": "2024-01-15T15:54:01.008Z"
   },
   {
    "duration": 84,
    "start_time": "2024-01-15T15:54:21.118Z"
   },
   {
    "duration": 5,
    "start_time": "2024-01-15T15:55:22.202Z"
   },
   {
    "duration": 2,
    "start_time": "2024-01-15T15:55:25.777Z"
   },
   {
    "duration": 3,
    "start_time": "2024-01-15T15:55:26.422Z"
   },
   {
    "duration": 2,
    "start_time": "2024-01-15T15:55:27.722Z"
   },
   {
    "duration": 10708,
    "start_time": "2024-01-15T15:55:28.978Z"
   },
   {
    "duration": 4463,
    "start_time": "2024-01-15T15:56:28.098Z"
   },
   {
    "duration": 1034,
    "start_time": "2024-01-15T15:56:32.564Z"
   },
   {
    "duration": 114,
    "start_time": "2024-01-15T15:56:33.599Z"
   },
   {
    "duration": 66,
    "start_time": "2024-01-15T15:56:33.715Z"
   },
   {
    "duration": 6,
    "start_time": "2024-01-15T15:56:33.794Z"
   },
   {
    "duration": 85,
    "start_time": "2024-01-15T15:56:33.802Z"
   },
   {
    "duration": 24,
    "start_time": "2024-01-15T15:56:33.889Z"
   },
   {
    "duration": 109,
    "start_time": "2024-01-15T15:56:33.915Z"
   },
   {
    "duration": 20,
    "start_time": "2024-01-15T15:56:34.025Z"
   },
   {
    "duration": 20,
    "start_time": "2024-01-15T15:56:34.048Z"
   },
   {
    "duration": 51,
    "start_time": "2024-01-15T15:56:34.069Z"
   },
   {
    "duration": 25,
    "start_time": "2024-01-15T15:56:34.121Z"
   },
   {
    "duration": 28,
    "start_time": "2024-01-15T15:56:34.148Z"
   },
   {
    "duration": 1403,
    "start_time": "2024-01-15T15:56:34.177Z"
   },
   {
    "duration": 4163,
    "start_time": "2024-01-15T15:56:35.582Z"
   },
   {
    "duration": 1042,
    "start_time": "2024-01-15T15:56:39.747Z"
   },
   {
    "duration": 18,
    "start_time": "2024-01-15T15:56:40.791Z"
   },
   {
    "duration": 3088,
    "start_time": "2024-01-15T15:56:40.810Z"
   },
   {
    "duration": 51,
    "start_time": "2024-01-15T15:56:43.899Z"
   },
   {
    "duration": 14,
    "start_time": "2024-01-15T15:56:43.951Z"
   },
   {
    "duration": 1014,
    "start_time": "2024-01-15T15:56:43.967Z"
   },
   {
    "duration": 10,
    "start_time": "2024-01-15T15:56:44.982Z"
   },
   {
    "duration": 56,
    "start_time": "2024-01-15T15:56:44.993Z"
   },
   {
    "duration": 133,
    "start_time": "2024-01-15T15:56:45.050Z"
   },
   {
    "duration": 80,
    "start_time": "2024-01-15T15:56:45.184Z"
   },
   {
    "duration": 23,
    "start_time": "2024-01-15T15:56:45.265Z"
   },
   {
    "duration": 16,
    "start_time": "2024-01-15T15:56:45.290Z"
   },
   {
    "duration": 10,
    "start_time": "2024-01-15T15:56:45.309Z"
   },
   {
    "duration": 13,
    "start_time": "2024-01-15T15:56:45.321Z"
   },
   {
    "duration": 11803,
    "start_time": "2024-01-15T15:56:45.335Z"
   },
   {
    "duration": 0,
    "start_time": "2024-01-15T15:56:57.139Z"
   },
   {
    "duration": 0,
    "start_time": "2024-01-15T15:56:57.140Z"
   },
   {
    "duration": 0,
    "start_time": "2024-01-15T15:56:57.142Z"
   },
   {
    "duration": 0,
    "start_time": "2024-01-15T15:56:57.143Z"
   },
   {
    "duration": 0,
    "start_time": "2024-01-15T15:56:57.144Z"
   },
   {
    "duration": 0,
    "start_time": "2024-01-15T15:56:57.145Z"
   },
   {
    "duration": 0,
    "start_time": "2024-01-15T15:56:57.146Z"
   },
   {
    "duration": 0,
    "start_time": "2024-01-15T15:56:57.147Z"
   },
   {
    "duration": 14,
    "start_time": "2024-01-15T15:57:23.590Z"
   },
   {
    "duration": 4,
    "start_time": "2024-01-15T15:59:58.134Z"
   },
   {
    "duration": 4747,
    "start_time": "2024-01-15T16:00:04.337Z"
   },
   {
    "duration": 1128,
    "start_time": "2024-01-15T16:00:09.086Z"
   },
   {
    "duration": 131,
    "start_time": "2024-01-15T16:00:10.217Z"
   },
   {
    "duration": 82,
    "start_time": "2024-01-15T16:00:10.349Z"
   },
   {
    "duration": 5,
    "start_time": "2024-01-15T16:00:10.432Z"
   },
   {
    "duration": 32,
    "start_time": "2024-01-15T16:00:10.439Z"
   },
   {
    "duration": 45,
    "start_time": "2024-01-15T16:00:10.472Z"
   },
   {
    "duration": 125,
    "start_time": "2024-01-15T16:00:10.519Z"
   },
   {
    "duration": 20,
    "start_time": "2024-01-15T16:00:10.645Z"
   },
   {
    "duration": 36,
    "start_time": "2024-01-15T16:00:10.667Z"
   },
   {
    "duration": 29,
    "start_time": "2024-01-15T16:00:10.706Z"
   },
   {
    "duration": 27,
    "start_time": "2024-01-15T16:00:10.737Z"
   },
   {
    "duration": 52,
    "start_time": "2024-01-15T16:00:10.765Z"
   },
   {
    "duration": 1511,
    "start_time": "2024-01-15T16:00:10.818Z"
   },
   {
    "duration": 4232,
    "start_time": "2024-01-15T16:00:12.331Z"
   },
   {
    "duration": 1057,
    "start_time": "2024-01-15T16:00:16.564Z"
   },
   {
    "duration": 18,
    "start_time": "2024-01-15T16:00:17.623Z"
   },
   {
    "duration": 3120,
    "start_time": "2024-01-15T16:00:17.642Z"
   },
   {
    "duration": 55,
    "start_time": "2024-01-15T16:00:20.763Z"
   },
   {
    "duration": 14,
    "start_time": "2024-01-15T16:00:20.819Z"
   },
   {
    "duration": 1048,
    "start_time": "2024-01-15T16:00:20.835Z"
   },
   {
    "duration": 4,
    "start_time": "2024-01-15T16:00:21.893Z"
   },
   {
    "duration": 18,
    "start_time": "2024-01-15T16:00:21.899Z"
   },
   {
    "duration": 67,
    "start_time": "2024-01-15T16:00:21.919Z"
   },
   {
    "duration": 5,
    "start_time": "2024-01-15T16:00:21.987Z"
   },
   {
    "duration": 14,
    "start_time": "2024-01-15T16:00:21.994Z"
   },
   {
    "duration": 11,
    "start_time": "2024-01-15T16:00:22.010Z"
   },
   {
    "duration": 10,
    "start_time": "2024-01-15T16:00:22.024Z"
   },
   {
    "duration": 12637,
    "start_time": "2024-01-15T16:00:22.035Z"
   },
   {
    "duration": 0,
    "start_time": "2024-01-15T16:00:34.673Z"
   },
   {
    "duration": 0,
    "start_time": "2024-01-15T16:00:34.674Z"
   },
   {
    "duration": 0,
    "start_time": "2024-01-15T16:00:34.675Z"
   },
   {
    "duration": 0,
    "start_time": "2024-01-15T16:00:34.676Z"
   },
   {
    "duration": 0,
    "start_time": "2024-01-15T16:00:34.677Z"
   },
   {
    "duration": 0,
    "start_time": "2024-01-15T16:00:34.678Z"
   },
   {
    "duration": 0,
    "start_time": "2024-01-15T16:00:34.691Z"
   },
   {
    "duration": 0,
    "start_time": "2024-01-15T16:00:34.693Z"
   },
   {
    "duration": 5,
    "start_time": "2024-01-15T16:01:21.321Z"
   },
   {
    "duration": 12231,
    "start_time": "2024-01-15T16:01:25.030Z"
   },
   {
    "duration": 30,
    "start_time": "2024-01-15T16:02:59.418Z"
   },
   {
    "duration": 87,
    "start_time": "2024-01-15T16:03:04.562Z"
   },
   {
    "duration": 4364,
    "start_time": "2024-01-15T16:04:00.607Z"
   },
   {
    "duration": 995,
    "start_time": "2024-01-15T16:04:04.973Z"
   },
   {
    "duration": 125,
    "start_time": "2024-01-15T16:04:05.970Z"
   },
   {
    "duration": 70,
    "start_time": "2024-01-15T16:04:06.097Z"
   },
   {
    "duration": 5,
    "start_time": "2024-01-15T16:04:06.169Z"
   },
   {
    "duration": 47,
    "start_time": "2024-01-15T16:04:06.175Z"
   },
   {
    "duration": 22,
    "start_time": "2024-01-15T16:04:06.223Z"
   },
   {
    "duration": 111,
    "start_time": "2024-01-15T16:04:06.246Z"
   },
   {
    "duration": 21,
    "start_time": "2024-01-15T16:04:06.358Z"
   },
   {
    "duration": 29,
    "start_time": "2024-01-15T16:04:06.391Z"
   },
   {
    "duration": 24,
    "start_time": "2024-01-15T16:04:06.422Z"
   },
   {
    "duration": 50,
    "start_time": "2024-01-15T16:04:06.448Z"
   },
   {
    "duration": 28,
    "start_time": "2024-01-15T16:04:06.500Z"
   },
   {
    "duration": 1347,
    "start_time": "2024-01-15T16:04:06.530Z"
   },
   {
    "duration": 4130,
    "start_time": "2024-01-15T16:04:07.879Z"
   },
   {
    "duration": 1038,
    "start_time": "2024-01-15T16:04:12.011Z"
   },
   {
    "duration": 18,
    "start_time": "2024-01-15T16:04:13.051Z"
   },
   {
    "duration": 3014,
    "start_time": "2024-01-15T16:04:13.071Z"
   },
   {
    "duration": 59,
    "start_time": "2024-01-15T16:04:16.086Z"
   },
   {
    "duration": 11,
    "start_time": "2024-01-15T16:04:16.147Z"
   },
   {
    "duration": 973,
    "start_time": "2024-01-15T16:04:16.159Z"
   },
   {
    "duration": 3,
    "start_time": "2024-01-15T16:04:17.133Z"
   },
   {
    "duration": 10,
    "start_time": "2024-01-15T16:04:17.137Z"
   },
   {
    "duration": 29,
    "start_time": "2024-01-15T16:04:17.148Z"
   },
   {
    "duration": 124,
    "start_time": "2024-01-15T16:04:17.179Z"
   },
   {
    "duration": 121,
    "start_time": "2024-01-15T16:04:17.305Z"
   },
   {
    "duration": 0,
    "start_time": "2024-01-15T16:04:17.428Z"
   },
   {
    "duration": 0,
    "start_time": "2024-01-15T16:04:17.429Z"
   },
   {
    "duration": 0,
    "start_time": "2024-01-15T16:04:17.430Z"
   },
   {
    "duration": 0,
    "start_time": "2024-01-15T16:04:17.431Z"
   },
   {
    "duration": 0,
    "start_time": "2024-01-15T16:04:17.432Z"
   },
   {
    "duration": 0,
    "start_time": "2024-01-15T16:04:17.434Z"
   },
   {
    "duration": 0,
    "start_time": "2024-01-15T16:04:17.435Z"
   },
   {
    "duration": 0,
    "start_time": "2024-01-15T16:04:17.436Z"
   },
   {
    "duration": 0,
    "start_time": "2024-01-15T16:04:17.437Z"
   },
   {
    "duration": 0,
    "start_time": "2024-01-15T16:04:17.438Z"
   },
   {
    "duration": 0,
    "start_time": "2024-01-15T16:04:17.440Z"
   },
   {
    "duration": 1,
    "start_time": "2024-01-15T16:04:17.440Z"
   },
   {
    "duration": 4,
    "start_time": "2024-01-15T16:05:31.987Z"
   },
   {
    "duration": 3,
    "start_time": "2024-01-15T16:05:39.197Z"
   },
   {
    "duration": 3,
    "start_time": "2024-01-15T16:05:40.222Z"
   },
   {
    "duration": 3,
    "start_time": "2024-01-15T16:05:41.623Z"
   },
   {
    "duration": 22601,
    "start_time": "2024-01-15T16:05:42.740Z"
   },
   {
    "duration": 3,
    "start_time": "2024-01-15T16:07:41.349Z"
   },
   {
    "duration": 4,
    "start_time": "2024-01-15T16:07:54.833Z"
   },
   {
    "duration": 3,
    "start_time": "2024-01-15T16:07:56.619Z"
   },
   {
    "duration": 3,
    "start_time": "2024-01-15T16:07:57.480Z"
   },
   {
    "duration": 2,
    "start_time": "2024-01-15T16:07:58.953Z"
   },
   {
    "duration": 5586,
    "start_time": "2024-01-15T16:07:59.810Z"
   },
   {
    "duration": 5,
    "start_time": "2024-01-15T16:08:41.230Z"
   },
   {
    "duration": 22,
    "start_time": "2024-01-15T16:11:11.341Z"
   },
   {
    "duration": 38,
    "start_time": "2024-01-15T16:11:34.416Z"
   },
   {
    "duration": 34,
    "start_time": "2024-01-15T16:11:38.329Z"
   },
   {
    "duration": 41,
    "start_time": "2024-01-15T16:11:42.739Z"
   },
   {
    "duration": 32,
    "start_time": "2024-01-15T16:11:53.117Z"
   },
   {
    "duration": 4480,
    "start_time": "2024-01-15T16:14:03.460Z"
   },
   {
    "duration": 1082,
    "start_time": "2024-01-15T16:14:07.942Z"
   },
   {
    "duration": 132,
    "start_time": "2024-01-15T16:14:09.025Z"
   },
   {
    "duration": 72,
    "start_time": "2024-01-15T16:14:09.159Z"
   },
   {
    "duration": 5,
    "start_time": "2024-01-15T16:14:09.233Z"
   },
   {
    "duration": 30,
    "start_time": "2024-01-15T16:14:09.239Z"
   },
   {
    "duration": 34,
    "start_time": "2024-01-15T16:14:09.270Z"
   },
   {
    "duration": 102,
    "start_time": "2024-01-15T16:14:09.305Z"
   },
   {
    "duration": 21,
    "start_time": "2024-01-15T16:14:09.409Z"
   },
   {
    "duration": 23,
    "start_time": "2024-01-15T16:14:09.432Z"
   },
   {
    "duration": 41,
    "start_time": "2024-01-15T16:14:09.457Z"
   },
   {
    "duration": 29,
    "start_time": "2024-01-15T16:14:09.500Z"
   },
   {
    "duration": 29,
    "start_time": "2024-01-15T16:14:09.531Z"
   },
   {
    "duration": 1415,
    "start_time": "2024-01-15T16:14:09.562Z"
   },
   {
    "duration": 4447,
    "start_time": "2024-01-15T16:14:10.979Z"
   },
   {
    "duration": 1058,
    "start_time": "2024-01-15T16:14:15.427Z"
   },
   {
    "duration": 22,
    "start_time": "2024-01-15T16:14:16.487Z"
   },
   {
    "duration": 3254,
    "start_time": "2024-01-15T16:14:16.511Z"
   },
   {
    "duration": 60,
    "start_time": "2024-01-15T16:14:19.767Z"
   },
   {
    "duration": 9,
    "start_time": "2024-01-15T16:14:19.829Z"
   },
   {
    "duration": 1037,
    "start_time": "2024-01-15T16:14:19.839Z"
   },
   {
    "duration": 3,
    "start_time": "2024-01-15T16:14:20.877Z"
   },
   {
    "duration": 4,
    "start_time": "2024-01-15T16:14:20.892Z"
   },
   {
    "duration": 31,
    "start_time": "2024-01-15T16:14:20.898Z"
   },
   {
    "duration": 126,
    "start_time": "2024-01-15T16:14:20.931Z"
   },
   {
    "duration": 5,
    "start_time": "2024-01-15T16:14:21.058Z"
   },
   {
    "duration": 24,
    "start_time": "2024-01-15T16:14:21.065Z"
   },
   {
    "duration": 5,
    "start_time": "2024-01-15T16:14:21.092Z"
   },
   {
    "duration": 4,
    "start_time": "2024-01-15T16:14:21.098Z"
   },
   {
    "duration": 7923,
    "start_time": "2024-01-15T16:14:21.103Z"
   },
   {
    "duration": 0,
    "start_time": "2024-01-15T16:14:29.028Z"
   },
   {
    "duration": 0,
    "start_time": "2024-01-15T16:14:29.029Z"
   },
   {
    "duration": 0,
    "start_time": "2024-01-15T16:14:29.030Z"
   },
   {
    "duration": 0,
    "start_time": "2024-01-15T16:14:29.031Z"
   },
   {
    "duration": 0,
    "start_time": "2024-01-15T16:14:29.032Z"
   },
   {
    "duration": 0,
    "start_time": "2024-01-15T16:14:29.033Z"
   },
   {
    "duration": 0,
    "start_time": "2024-01-15T16:14:29.034Z"
   },
   {
    "duration": 0,
    "start_time": "2024-01-15T16:14:29.035Z"
   },
   {
    "duration": 5,
    "start_time": "2024-01-15T16:17:38.684Z"
   },
   {
    "duration": 54,
    "start_time": "2024-01-15T16:18:31.901Z"
   },
   {
    "duration": 12,
    "start_time": "2024-01-15T16:18:41.471Z"
   },
   {
    "duration": 4415,
    "start_time": "2024-01-15T16:20:02.388Z"
   },
   {
    "duration": 1047,
    "start_time": "2024-01-15T16:20:06.805Z"
   },
   {
    "duration": 117,
    "start_time": "2024-01-15T16:20:07.854Z"
   },
   {
    "duration": 70,
    "start_time": "2024-01-15T16:20:07.973Z"
   },
   {
    "duration": 5,
    "start_time": "2024-01-15T16:20:08.045Z"
   },
   {
    "duration": 25,
    "start_time": "2024-01-15T16:20:08.052Z"
   },
   {
    "duration": 33,
    "start_time": "2024-01-15T16:20:08.078Z"
   },
   {
    "duration": 107,
    "start_time": "2024-01-15T16:20:08.113Z"
   },
   {
    "duration": 21,
    "start_time": "2024-01-15T16:20:08.222Z"
   },
   {
    "duration": 23,
    "start_time": "2024-01-15T16:20:08.245Z"
   },
   {
    "duration": 41,
    "start_time": "2024-01-15T16:20:08.270Z"
   },
   {
    "duration": 28,
    "start_time": "2024-01-15T16:20:08.313Z"
   },
   {
    "duration": 49,
    "start_time": "2024-01-15T16:20:08.343Z"
   },
   {
    "duration": 1420,
    "start_time": "2024-01-15T16:20:08.393Z"
   },
   {
    "duration": 4377,
    "start_time": "2024-01-15T16:20:09.815Z"
   },
   {
    "duration": 1099,
    "start_time": "2024-01-15T16:20:14.194Z"
   },
   {
    "duration": 19,
    "start_time": "2024-01-15T16:20:15.296Z"
   },
   {
    "duration": 3307,
    "start_time": "2024-01-15T16:20:15.317Z"
   },
   {
    "duration": 68,
    "start_time": "2024-01-15T16:20:18.626Z"
   },
   {
    "duration": 3,
    "start_time": "2024-01-15T16:20:18.696Z"
   },
   {
    "duration": 92,
    "start_time": "2024-01-15T16:20:18.700Z"
   },
   {
    "duration": 1001,
    "start_time": "2024-01-15T16:20:18.794Z"
   },
   {
    "duration": 2,
    "start_time": "2024-01-15T16:20:19.796Z"
   },
   {
    "duration": 12,
    "start_time": "2024-01-15T16:20:19.799Z"
   },
   {
    "duration": 6,
    "start_time": "2024-01-15T16:20:19.813Z"
   },
   {
    "duration": 76,
    "start_time": "2024-01-15T16:20:19.820Z"
   },
   {
    "duration": 4,
    "start_time": "2024-01-15T16:20:19.897Z"
   },
   {
    "duration": 44,
    "start_time": "2024-01-15T16:20:19.904Z"
   },
   {
    "duration": 28,
    "start_time": "2024-01-15T16:20:19.950Z"
   },
   {
    "duration": 27,
    "start_time": "2024-01-15T16:20:19.980Z"
   },
   {
    "duration": 11982,
    "start_time": "2024-01-15T16:20:20.009Z"
   },
   {
    "duration": 0,
    "start_time": "2024-01-15T16:20:31.993Z"
   },
   {
    "duration": 1,
    "start_time": "2024-01-15T16:20:31.994Z"
   },
   {
    "duration": 0,
    "start_time": "2024-01-15T16:20:31.996Z"
   },
   {
    "duration": 0,
    "start_time": "2024-01-15T16:20:31.997Z"
   },
   {
    "duration": 0,
    "start_time": "2024-01-15T16:20:31.998Z"
   },
   {
    "duration": 0,
    "start_time": "2024-01-15T16:20:31.999Z"
   },
   {
    "duration": 0,
    "start_time": "2024-01-15T16:20:32.000Z"
   },
   {
    "duration": 0,
    "start_time": "2024-01-15T16:20:32.001Z"
   },
   {
    "duration": 3,
    "start_time": "2024-01-15T16:21:23.189Z"
   },
   {
    "duration": 4592,
    "start_time": "2024-01-15T16:21:28.583Z"
   },
   {
    "duration": 1045,
    "start_time": "2024-01-15T16:21:33.178Z"
   },
   {
    "duration": 127,
    "start_time": "2024-01-15T16:21:34.225Z"
   },
   {
    "duration": 81,
    "start_time": "2024-01-15T16:21:34.354Z"
   },
   {
    "duration": 6,
    "start_time": "2024-01-15T16:21:34.436Z"
   },
   {
    "duration": 32,
    "start_time": "2024-01-15T16:21:34.443Z"
   },
   {
    "duration": 34,
    "start_time": "2024-01-15T16:21:34.477Z"
   },
   {
    "duration": 114,
    "start_time": "2024-01-15T16:21:34.512Z"
   },
   {
    "duration": 22,
    "start_time": "2024-01-15T16:21:34.627Z"
   },
   {
    "duration": 42,
    "start_time": "2024-01-15T16:21:34.651Z"
   },
   {
    "duration": 26,
    "start_time": "2024-01-15T16:21:34.695Z"
   },
   {
    "duration": 34,
    "start_time": "2024-01-15T16:21:34.722Z"
   },
   {
    "duration": 55,
    "start_time": "2024-01-15T16:21:34.758Z"
   },
   {
    "duration": 1423,
    "start_time": "2024-01-15T16:21:34.815Z"
   },
   {
    "duration": 4360,
    "start_time": "2024-01-15T16:21:36.240Z"
   },
   {
    "duration": 1092,
    "start_time": "2024-01-15T16:21:40.601Z"
   },
   {
    "duration": 25,
    "start_time": "2024-01-15T16:21:41.695Z"
   },
   {
    "duration": 3235,
    "start_time": "2024-01-15T16:21:41.721Z"
   },
   {
    "duration": 70,
    "start_time": "2024-01-15T16:21:44.958Z"
   },
   {
    "duration": 27,
    "start_time": "2024-01-15T16:21:45.029Z"
   },
   {
    "duration": 90,
    "start_time": "2024-01-15T16:21:45.059Z"
   },
   {
    "duration": 1023,
    "start_time": "2024-01-15T16:21:45.151Z"
   },
   {
    "duration": 3,
    "start_time": "2024-01-15T16:21:46.177Z"
   },
   {
    "duration": 14,
    "start_time": "2024-01-15T16:21:46.182Z"
   },
   {
    "duration": 9,
    "start_time": "2024-01-15T16:21:46.197Z"
   },
   {
    "duration": 67,
    "start_time": "2024-01-15T16:21:46.208Z"
   },
   {
    "duration": 3,
    "start_time": "2024-01-15T16:21:46.277Z"
   },
   {
    "duration": 7,
    "start_time": "2024-01-15T16:21:46.291Z"
   },
   {
    "duration": 15,
    "start_time": "2024-01-15T16:21:46.299Z"
   },
   {
    "duration": 7,
    "start_time": "2024-01-15T16:21:46.315Z"
   },
   {
    "duration": 242685,
    "start_time": "2024-01-15T16:21:46.323Z"
   },
   {
    "duration": 118,
    "start_time": "2024-01-15T16:25:49.092Z"
   },
   {
    "duration": 0,
    "start_time": "2024-01-15T16:25:49.211Z"
   },
   {
    "duration": 0,
    "start_time": "2024-01-15T16:25:49.212Z"
   },
   {
    "duration": 0,
    "start_time": "2024-01-15T16:25:49.214Z"
   },
   {
    "duration": 0,
    "start_time": "2024-01-15T16:25:49.215Z"
   },
   {
    "duration": 0,
    "start_time": "2024-01-15T16:25:49.216Z"
   },
   {
    "duration": 0,
    "start_time": "2024-01-15T16:25:49.217Z"
   },
   {
    "duration": 0,
    "start_time": "2024-01-15T16:25:49.218Z"
   },
   {
    "duration": 827,
    "start_time": "2024-01-15T16:27:35.185Z"
   },
   {
    "duration": 5,
    "start_time": "2024-01-15T16:27:43.077Z"
   },
   {
    "duration": 4,
    "start_time": "2024-01-15T16:27:43.887Z"
   },
   {
    "duration": 21,
    "start_time": "2024-01-15T16:27:44.472Z"
   },
   {
    "duration": 5,
    "start_time": "2024-01-15T16:27:52.049Z"
   },
   {
    "duration": 3878,
    "start_time": "2024-01-15T16:31:27.957Z"
   },
   {
    "duration": 751,
    "start_time": "2024-01-15T16:32:10.629Z"
   },
   {
    "duration": 1407,
    "start_time": "2024-01-15T16:32:26.485Z"
   },
   {
    "duration": 1525,
    "start_time": "2024-01-15T16:32:35.162Z"
   },
   {
    "duration": 1273,
    "start_time": "2024-01-15T16:32:50.008Z"
   },
   {
    "duration": 71,
    "start_time": "2024-01-15T16:32:57.439Z"
   },
   {
    "duration": 1308,
    "start_time": "2024-01-15T16:32:59.109Z"
   },
   {
    "duration": 4025,
    "start_time": "2024-01-15T16:33:43.745Z"
   },
   {
    "duration": 1148,
    "start_time": "2024-01-15T16:33:47.772Z"
   },
   {
    "duration": 134,
    "start_time": "2024-01-15T16:33:48.921Z"
   },
   {
    "duration": 76,
    "start_time": "2024-01-15T16:33:49.057Z"
   },
   {
    "duration": 5,
    "start_time": "2024-01-15T16:33:49.135Z"
   },
   {
    "duration": 27,
    "start_time": "2024-01-15T16:33:49.141Z"
   },
   {
    "duration": 39,
    "start_time": "2024-01-15T16:33:49.170Z"
   },
   {
    "duration": 107,
    "start_time": "2024-01-15T16:33:49.211Z"
   },
   {
    "duration": 22,
    "start_time": "2024-01-15T16:33:49.320Z"
   },
   {
    "duration": 23,
    "start_time": "2024-01-15T16:33:49.344Z"
   },
   {
    "duration": 41,
    "start_time": "2024-01-15T16:33:49.369Z"
   },
   {
    "duration": 28,
    "start_time": "2024-01-15T16:33:49.411Z"
   },
   {
    "duration": 28,
    "start_time": "2024-01-15T16:33:49.441Z"
   },
   {
    "duration": 1522,
    "start_time": "2024-01-15T16:33:49.470Z"
   },
   {
    "duration": 4414,
    "start_time": "2024-01-15T16:33:50.994Z"
   },
   {
    "duration": 1075,
    "start_time": "2024-01-15T16:33:55.410Z"
   },
   {
    "duration": 2,
    "start_time": "2024-01-15T16:33:56.487Z"
   },
   {
    "duration": 5240,
    "start_time": "2024-01-15T16:33:56.490Z"
   },
   {
    "duration": 66,
    "start_time": "2024-01-15T16:34:01.732Z"
   },
   {
    "duration": 21,
    "start_time": "2024-01-15T16:34:01.800Z"
   },
   {
    "duration": 61,
    "start_time": "2024-01-15T16:34:01.823Z"
   },
   {
    "duration": 998,
    "start_time": "2024-01-15T16:34:01.885Z"
   },
   {
    "duration": 3,
    "start_time": "2024-01-15T16:34:02.891Z"
   },
   {
    "duration": 30,
    "start_time": "2024-01-15T16:34:02.895Z"
   },
   {
    "duration": 60,
    "start_time": "2024-01-15T16:34:02.926Z"
   },
   {
    "duration": 2,
    "start_time": "2024-01-15T16:34:02.988Z"
   },
   {
    "duration": 15,
    "start_time": "2024-01-15T16:34:02.992Z"
   },
   {
    "duration": 3,
    "start_time": "2024-01-15T16:34:03.010Z"
   },
   {
    "duration": 16,
    "start_time": "2024-01-15T16:34:03.014Z"
   },
   {
    "duration": 14398,
    "start_time": "2024-01-15T16:34:03.032Z"
   },
   {
    "duration": 0,
    "start_time": "2024-01-15T16:34:17.432Z"
   },
   {
    "duration": 0,
    "start_time": "2024-01-15T16:34:17.433Z"
   },
   {
    "duration": 0,
    "start_time": "2024-01-15T16:34:17.434Z"
   },
   {
    "duration": 0,
    "start_time": "2024-01-15T16:34:17.435Z"
   },
   {
    "duration": 0,
    "start_time": "2024-01-15T16:34:17.436Z"
   },
   {
    "duration": 0,
    "start_time": "2024-01-15T16:34:17.437Z"
   },
   {
    "duration": 0,
    "start_time": "2024-01-15T16:34:17.438Z"
   },
   {
    "duration": 6876,
    "start_time": "2024-01-15T16:34:47.111Z"
   },
   {
    "duration": 1021,
    "start_time": "2024-01-15T16:34:53.989Z"
   },
   {
    "duration": 118,
    "start_time": "2024-01-15T16:34:55.012Z"
   },
   {
    "duration": 78,
    "start_time": "2024-01-15T16:34:55.131Z"
   },
   {
    "duration": 5,
    "start_time": "2024-01-15T16:34:55.210Z"
   },
   {
    "duration": 38,
    "start_time": "2024-01-15T16:34:55.217Z"
   },
   {
    "duration": 21,
    "start_time": "2024-01-15T16:34:55.256Z"
   },
   {
    "duration": 118,
    "start_time": "2024-01-15T16:34:55.279Z"
   },
   {
    "duration": 38,
    "start_time": "2024-01-15T16:34:55.398Z"
   },
   {
    "duration": 21,
    "start_time": "2024-01-15T16:34:55.439Z"
   },
   {
    "duration": 25,
    "start_time": "2024-01-15T16:34:55.461Z"
   },
   {
    "duration": 93,
    "start_time": "2024-01-15T16:34:55.487Z"
   },
   {
    "duration": 29,
    "start_time": "2024-01-15T16:34:55.581Z"
   },
   {
    "duration": 1420,
    "start_time": "2024-01-15T16:34:55.612Z"
   },
   {
    "duration": 4223,
    "start_time": "2024-01-15T16:34:57.033Z"
   },
   {
    "duration": 1039,
    "start_time": "2024-01-15T16:35:01.258Z"
   },
   {
    "duration": 2,
    "start_time": "2024-01-15T16:35:02.299Z"
   },
   {
    "duration": 5141,
    "start_time": "2024-01-15T16:35:02.302Z"
   },
   {
    "duration": 64,
    "start_time": "2024-01-15T16:35:07.445Z"
   },
   {
    "duration": 13,
    "start_time": "2024-01-15T16:35:07.510Z"
   },
   {
    "duration": 58,
    "start_time": "2024-01-15T16:35:07.524Z"
   },
   {
    "duration": 999,
    "start_time": "2024-01-15T16:35:07.583Z"
   },
   {
    "duration": 8,
    "start_time": "2024-01-15T16:35:08.584Z"
   },
   {
    "duration": 8,
    "start_time": "2024-01-15T16:35:08.593Z"
   },
   {
    "duration": 86,
    "start_time": "2024-01-15T16:35:08.602Z"
   },
   {
    "duration": 3,
    "start_time": "2024-01-15T16:35:08.690Z"
   },
   {
    "duration": 4,
    "start_time": "2024-01-15T16:35:08.695Z"
   },
   {
    "duration": 4,
    "start_time": "2024-01-15T16:35:08.703Z"
   },
   {
    "duration": 7,
    "start_time": "2024-01-15T16:35:08.708Z"
   },
   {
    "duration": 381082,
    "start_time": "2024-01-15T16:35:08.717Z"
   },
   {
    "duration": 901,
    "start_time": "2024-01-15T16:41:29.800Z"
   },
   {
    "duration": 5,
    "start_time": "2024-01-15T16:41:30.703Z"
   },
   {
    "duration": 54,
    "start_time": "2024-01-15T16:41:30.709Z"
   },
   {
    "duration": 49,
    "start_time": "2024-01-15T16:41:30.765Z"
   },
   {
    "duration": 21,
    "start_time": "2024-01-15T16:41:30.816Z"
   },
   {
    "duration": 39,
    "start_time": "2024-01-15T16:41:30.839Z"
   },
   {
    "duration": 911,
    "start_time": "2024-01-15T16:41:30.880Z"
   },
   {
    "duration": 2272,
    "start_time": "2024-01-15T16:42:29.454Z"
   },
   {
    "duration": 424,
    "start_time": "2024-01-15T16:43:14.577Z"
   },
   {
    "duration": 5,
    "start_time": "2024-01-15T17:57:24.761Z"
   },
   {
    "duration": 3,
    "start_time": "2024-01-15T17:57:53.036Z"
   },
   {
    "duration": 3,
    "start_time": "2024-01-15T18:07:38.622Z"
   },
   {
    "duration": 139291,
    "start_time": "2024-01-15T18:07:41.178Z"
   },
   {
    "duration": 4415,
    "start_time": "2024-01-15T18:10:16.253Z"
   },
   {
    "duration": 1008,
    "start_time": "2024-01-15T18:10:20.670Z"
   },
   {
    "duration": 117,
    "start_time": "2024-01-15T18:10:21.680Z"
   },
   {
    "duration": 67,
    "start_time": "2024-01-15T18:10:21.799Z"
   },
   {
    "duration": 24,
    "start_time": "2024-01-15T18:10:21.868Z"
   },
   {
    "duration": 28,
    "start_time": "2024-01-15T18:10:21.894Z"
   },
   {
    "duration": 25,
    "start_time": "2024-01-15T18:10:21.924Z"
   },
   {
    "duration": 123,
    "start_time": "2024-01-15T18:10:21.951Z"
   },
   {
    "duration": 36,
    "start_time": "2024-01-15T18:10:22.076Z"
   },
   {
    "duration": 19,
    "start_time": "2024-01-15T18:10:22.116Z"
   },
   {
    "duration": 24,
    "start_time": "2024-01-15T18:10:22.137Z"
   },
   {
    "duration": 45,
    "start_time": "2024-01-15T18:10:22.162Z"
   },
   {
    "duration": 28,
    "start_time": "2024-01-15T18:10:22.208Z"
   },
   {
    "duration": 1393,
    "start_time": "2024-01-15T18:10:22.238Z"
   },
   {
    "duration": 4875,
    "start_time": "2024-01-15T18:10:23.633Z"
   },
   {
    "duration": 1083,
    "start_time": "2024-01-15T18:10:28.510Z"
   },
   {
    "duration": 3,
    "start_time": "2024-01-15T18:10:29.595Z"
   },
   {
    "duration": 6,
    "start_time": "2024-01-15T18:10:29.599Z"
   },
   {
    "duration": 60,
    "start_time": "2024-01-15T18:10:29.607Z"
   },
   {
    "duration": 2,
    "start_time": "2024-01-15T18:10:29.669Z"
   },
   {
    "duration": 82,
    "start_time": "2024-01-15T18:10:29.673Z"
   },
   {
    "duration": 975,
    "start_time": "2024-01-15T18:10:29.756Z"
   },
   {
    "duration": 3,
    "start_time": "2024-01-15T18:10:30.733Z"
   },
   {
    "duration": 39,
    "start_time": "2024-01-15T18:10:30.738Z"
   },
   {
    "duration": 92,
    "start_time": "2024-01-15T18:10:30.779Z"
   },
   {
    "duration": 3,
    "start_time": "2024-01-15T18:10:30.873Z"
   },
   {
    "duration": 19,
    "start_time": "2024-01-15T18:10:30.877Z"
   },
   {
    "duration": 49,
    "start_time": "2024-01-15T18:10:30.899Z"
   },
   {
    "duration": 25,
    "start_time": "2024-01-15T18:10:30.950Z"
   },
   {
    "duration": 163720,
    "start_time": "2024-01-15T18:10:30.976Z"
   },
   {
    "duration": 903,
    "start_time": "2024-01-15T18:13:14.698Z"
   },
   {
    "duration": 5,
    "start_time": "2024-01-15T18:13:15.603Z"
   },
   {
    "duration": 6,
    "start_time": "2024-01-15T18:13:15.609Z"
   },
   {
    "duration": 21,
    "start_time": "2024-01-15T18:13:15.616Z"
   },
   {
    "duration": 9,
    "start_time": "2024-01-15T18:13:15.638Z"
   },
   {
    "duration": 9,
    "start_time": "2024-01-15T18:13:15.649Z"
   },
   {
    "duration": 835,
    "start_time": "2024-01-15T18:13:15.659Z"
   },
   {
    "duration": 392,
    "start_time": "2024-01-15T18:13:16.496Z"
   },
   {
    "duration": 5,
    "start_time": "2024-01-15T18:14:03.075Z"
   },
   {
    "duration": 107,
    "start_time": "2024-01-15T18:14:40.916Z"
   },
   {
    "duration": 10,
    "start_time": "2024-01-15T18:15:02.173Z"
   },
   {
    "duration": 5,
    "start_time": "2024-01-15T18:15:05.484Z"
   },
   {
    "duration": 442,
    "start_time": "2024-01-15T18:16:37.060Z"
   },
   {
    "duration": 419,
    "start_time": "2024-01-15T18:17:07.071Z"
   },
   {
    "duration": 4,
    "start_time": "2024-01-15T18:17:30.260Z"
   },
   {
    "duration": 391,
    "start_time": "2024-01-15T18:17:35.136Z"
   },
   {
    "duration": 4,
    "start_time": "2024-01-15T18:17:37.486Z"
   },
   {
    "duration": 16,
    "start_time": "2024-01-15T18:17:54.230Z"
   },
   {
    "duration": 12,
    "start_time": "2024-01-15T18:18:07.066Z"
   },
   {
    "duration": 399,
    "start_time": "2024-01-15T18:18:13.593Z"
   },
   {
    "duration": 452,
    "start_time": "2024-01-15T18:18:20.176Z"
   },
   {
    "duration": 5,
    "start_time": "2024-01-15T18:18:45.492Z"
   },
   {
    "duration": 5,
    "start_time": "2024-01-15T18:18:54.746Z"
   },
   {
    "duration": 12,
    "start_time": "2024-01-15T18:19:42.933Z"
   },
   {
    "duration": 12,
    "start_time": "2024-01-15T18:19:58.977Z"
   },
   {
    "duration": 993,
    "start_time": "2024-01-15T18:21:46.794Z"
   },
   {
    "duration": 15,
    "start_time": "2024-01-15T18:22:07.896Z"
   },
   {
    "duration": 12,
    "start_time": "2024-01-15T18:22:11.671Z"
   },
   {
    "duration": 14,
    "start_time": "2024-01-15T18:22:18.382Z"
   },
   {
    "duration": 436,
    "start_time": "2024-01-15T18:22:41.889Z"
   },
   {
    "duration": 10,
    "start_time": "2024-01-15T18:23:45.009Z"
   },
   {
    "duration": 4,
    "start_time": "2024-01-15T18:24:02.373Z"
   },
   {
    "duration": 11,
    "start_time": "2024-01-15T18:24:11.142Z"
   },
   {
    "duration": 410,
    "start_time": "2024-01-15T18:25:21.010Z"
   },
   {
    "duration": 9,
    "start_time": "2024-01-15T18:26:14.386Z"
   },
   {
    "duration": 5,
    "start_time": "2024-01-15T18:26:24.326Z"
   },
   {
    "duration": 8,
    "start_time": "2024-01-15T18:27:42.372Z"
   },
   {
    "duration": 116,
    "start_time": "2024-01-15T18:27:48.295Z"
   },
   {
    "duration": 7,
    "start_time": "2024-01-15T18:27:52.284Z"
   },
   {
    "duration": 6,
    "start_time": "2024-01-15T18:28:12.136Z"
   },
   {
    "duration": 5,
    "start_time": "2024-01-15T18:28:18.693Z"
   },
   {
    "duration": 12,
    "start_time": "2024-01-15T18:28:25.481Z"
   },
   {
    "duration": 4,
    "start_time": "2024-01-15T18:28:27.540Z"
   },
   {
    "duration": 755,
    "start_time": "2024-01-15T18:28:43.329Z"
   },
   {
    "duration": 7,
    "start_time": "2024-01-15T18:28:58.216Z"
   },
   {
    "duration": 7,
    "start_time": "2024-01-15T18:29:04.780Z"
   },
   {
    "duration": 8,
    "start_time": "2024-01-15T18:29:08.385Z"
   },
   {
    "duration": 6,
    "start_time": "2024-01-15T18:29:11.467Z"
   },
   {
    "duration": 509,
    "start_time": "2024-01-15T18:30:06.061Z"
   },
   {
    "duration": 1234,
    "start_time": "2024-01-15T18:31:02.662Z"
   },
   {
    "duration": 3,
    "start_time": "2024-01-15T18:31:15.365Z"
   },
   {
    "duration": 3,
    "start_time": "2024-01-15T18:31:23.621Z"
   },
   {
    "duration": 4,
    "start_time": "2024-01-15T18:31:41.643Z"
   },
   {
    "duration": 408,
    "start_time": "2024-01-15T18:31:43.385Z"
   },
   {
    "duration": 5,
    "start_time": "2024-01-15T18:31:49.594Z"
   },
   {
    "duration": 423,
    "start_time": "2024-01-15T18:31:50.547Z"
   },
   {
    "duration": 9,
    "start_time": "2024-01-15T18:32:02.701Z"
   },
   {
    "duration": 19,
    "start_time": "2024-01-15T18:32:18.400Z"
   },
   {
    "duration": 8,
    "start_time": "2024-01-15T18:33:44.213Z"
   },
   {
    "duration": 17,
    "start_time": "2024-01-15T18:33:53.154Z"
   },
   {
    "duration": 5,
    "start_time": "2024-01-15T18:34:17.043Z"
   },
   {
    "duration": 8,
    "start_time": "2024-01-15T18:34:24.106Z"
   },
   {
    "duration": 18,
    "start_time": "2024-01-15T18:34:28.632Z"
   },
   {
    "duration": 8,
    "start_time": "2024-01-15T18:34:39.982Z"
   },
   {
    "duration": 8,
    "start_time": "2024-01-15T18:34:47.038Z"
   },
   {
    "duration": 8,
    "start_time": "2024-01-15T18:34:48.332Z"
   },
   {
    "duration": 7,
    "start_time": "2024-01-15T18:35:21.976Z"
   },
   {
    "duration": 14,
    "start_time": "2024-01-15T18:35:45.597Z"
   },
   {
    "duration": 17,
    "start_time": "2024-01-15T18:38:14.915Z"
   },
   {
    "duration": 7,
    "start_time": "2024-01-15T18:38:17.126Z"
   },
   {
    "duration": 7,
    "start_time": "2024-01-15T18:38:22.408Z"
   },
   {
    "duration": 26,
    "start_time": "2024-01-15T18:38:37.566Z"
   },
   {
    "duration": 81,
    "start_time": "2024-01-15T18:39:30.479Z"
   },
   {
    "duration": 8,
    "start_time": "2024-01-15T18:40:33.895Z"
   },
   {
    "duration": 8,
    "start_time": "2024-01-15T18:40:41.307Z"
   },
   {
    "duration": 18,
    "start_time": "2024-01-15T18:40:45.873Z"
   },
   {
    "duration": 8,
    "start_time": "2024-01-15T18:40:55.185Z"
   },
   {
    "duration": 19,
    "start_time": "2024-01-15T18:41:04.046Z"
   },
   {
    "duration": 11,
    "start_time": "2024-01-15T18:41:40.100Z"
   },
   {
    "duration": 838,
    "start_time": "2024-01-15T18:43:18.665Z"
   },
   {
    "duration": 31,
    "start_time": "2024-01-15T18:44:11.473Z"
   },
   {
    "duration": 5,
    "start_time": "2024-01-15T18:44:34.544Z"
   },
   {
    "duration": 978,
    "start_time": "2024-01-15T18:45:03.026Z"
   },
   {
    "duration": 27,
    "start_time": "2024-01-15T18:45:11.048Z"
   },
   {
    "duration": 18,
    "start_time": "2024-01-15T18:46:05.124Z"
   },
   {
    "duration": 6,
    "start_time": "2024-01-15T18:46:24.272Z"
   },
   {
    "duration": 9,
    "start_time": "2024-01-15T18:46:47.316Z"
   },
   {
    "duration": 9,
    "start_time": "2024-01-15T18:46:53.972Z"
   },
   {
    "duration": 8,
    "start_time": "2024-01-15T18:46:59.837Z"
   },
   {
    "duration": 4,
    "start_time": "2024-01-15T18:47:02.277Z"
   },
   {
    "duration": 5,
    "start_time": "2024-01-15T18:47:12.616Z"
   },
   {
    "duration": 7,
    "start_time": "2024-01-15T18:47:17.462Z"
   },
   {
    "duration": 4,
    "start_time": "2024-01-15T18:47:25.750Z"
   },
   {
    "duration": 18,
    "start_time": "2024-01-15T18:47:29.388Z"
   },
   {
    "duration": 9,
    "start_time": "2024-01-15T18:47:32.713Z"
   },
   {
    "duration": 10,
    "start_time": "2024-01-15T18:47:34.789Z"
   },
   {
    "duration": 3,
    "start_time": "2024-01-15T18:47:54.829Z"
   },
   {
    "duration": 17,
    "start_time": "2024-01-15T18:47:58.230Z"
   },
   {
    "duration": 4,
    "start_time": "2024-01-15T18:48:25.306Z"
   },
   {
    "duration": 10,
    "start_time": "2024-01-15T18:48:32.659Z"
   },
   {
    "duration": 19,
    "start_time": "2024-01-15T18:48:36.848Z"
   },
   {
    "duration": 9,
    "start_time": "2024-01-15T18:49:12.713Z"
   },
   {
    "duration": 18,
    "start_time": "2024-01-15T18:49:18.341Z"
   },
   {
    "duration": 13,
    "start_time": "2024-01-15T18:49:59.157Z"
   },
   {
    "duration": 4,
    "start_time": "2024-01-15T18:50:15.249Z"
   },
   {
    "duration": 13,
    "start_time": "2024-01-15T18:50:18.698Z"
   },
   {
    "duration": 14,
    "start_time": "2024-01-15T18:50:44.818Z"
   },
   {
    "duration": 14,
    "start_time": "2024-01-15T18:51:32.090Z"
   },
   {
    "duration": 12,
    "start_time": "2024-01-15T18:52:06.985Z"
   },
   {
    "duration": 24,
    "start_time": "2024-01-15T18:52:38.764Z"
   },
   {
    "duration": 25,
    "start_time": "2024-01-15T18:53:14.138Z"
   },
   {
    "duration": 13,
    "start_time": "2024-01-15T18:53:18.621Z"
   },
   {
    "duration": 7,
    "start_time": "2024-01-15T18:54:23.431Z"
   },
   {
    "duration": 6,
    "start_time": "2024-01-15T18:55:42.402Z"
   },
   {
    "duration": 5,
    "start_time": "2024-01-15T18:55:50.151Z"
   },
   {
    "duration": 7,
    "start_time": "2024-01-15T18:55:52.144Z"
   },
   {
    "duration": 52,
    "start_time": "2024-01-15T18:56:55.000Z"
   },
   {
    "duration": 5,
    "start_time": "2024-01-15T18:57:31.855Z"
   },
   {
    "duration": 14,
    "start_time": "2024-01-15T18:57:38.995Z"
   },
   {
    "duration": 11,
    "start_time": "2024-01-15T18:57:58.441Z"
   },
   {
    "duration": 4,
    "start_time": "2024-01-15T18:58:10.012Z"
   },
   {
    "duration": 16,
    "start_time": "2024-01-15T18:58:14.107Z"
   },
   {
    "duration": 6,
    "start_time": "2024-01-15T18:58:22.618Z"
   },
   {
    "duration": 13,
    "start_time": "2024-01-15T18:58:24.802Z"
   },
   {
    "duration": 18,
    "start_time": "2024-01-15T19:00:06.809Z"
   },
   {
    "duration": 15,
    "start_time": "2024-01-15T19:00:56.903Z"
   },
   {
    "duration": 16,
    "start_time": "2024-01-15T19:01:09.793Z"
   },
   {
    "duration": 3,
    "start_time": "2024-01-15T19:09:29.726Z"
   },
   {
    "duration": 7821,
    "start_time": "2024-01-15T19:09:31.801Z"
   },
   {
    "duration": 2,
    "start_time": "2024-01-15T19:10:04.898Z"
   },
   {
    "duration": 8309,
    "start_time": "2024-01-15T19:10:05.904Z"
   },
   {
    "duration": 3686,
    "start_time": "2024-01-15T19:23:34.020Z"
   },
   {
    "duration": 952,
    "start_time": "2024-01-15T19:23:37.708Z"
   },
   {
    "duration": 134,
    "start_time": "2024-01-15T19:23:38.662Z"
   },
   {
    "duration": 67,
    "start_time": "2024-01-15T19:23:38.798Z"
   },
   {
    "duration": 5,
    "start_time": "2024-01-15T19:23:38.866Z"
   },
   {
    "duration": 44,
    "start_time": "2024-01-15T19:23:38.872Z"
   },
   {
    "duration": 21,
    "start_time": "2024-01-15T19:23:38.918Z"
   },
   {
    "duration": 106,
    "start_time": "2024-01-15T19:23:38.941Z"
   },
   {
    "duration": 23,
    "start_time": "2024-01-15T19:23:39.048Z"
   },
   {
    "duration": 30,
    "start_time": "2024-01-15T19:23:39.073Z"
   },
   {
    "duration": 24,
    "start_time": "2024-01-15T19:23:39.104Z"
   },
   {
    "duration": 27,
    "start_time": "2024-01-15T19:23:39.129Z"
   },
   {
    "duration": 42,
    "start_time": "2024-01-15T19:23:39.157Z"
   },
   {
    "duration": 1350,
    "start_time": "2024-01-15T19:23:39.201Z"
   },
   {
    "duration": 4049,
    "start_time": "2024-01-15T19:23:40.553Z"
   },
   {
    "duration": 1042,
    "start_time": "2024-01-15T19:23:44.603Z"
   },
   {
    "duration": 2,
    "start_time": "2024-01-15T19:23:45.647Z"
   },
   {
    "duration": 15,
    "start_time": "2024-01-15T19:23:45.650Z"
   },
   {
    "duration": 69,
    "start_time": "2024-01-15T19:23:45.667Z"
   },
   {
    "duration": 2,
    "start_time": "2024-01-15T19:23:45.738Z"
   },
   {
    "duration": 74,
    "start_time": "2024-01-15T19:23:45.742Z"
   },
   {
    "duration": 931,
    "start_time": "2024-01-15T19:23:45.818Z"
   },
   {
    "duration": 2,
    "start_time": "2024-01-15T19:23:46.751Z"
   },
   {
    "duration": 7,
    "start_time": "2024-01-15T19:23:46.755Z"
   },
   {
    "duration": 76,
    "start_time": "2024-01-15T19:23:46.763Z"
   },
   {
    "duration": 3,
    "start_time": "2024-01-15T19:23:46.840Z"
   },
   {
    "duration": 3,
    "start_time": "2024-01-15T19:23:46.845Z"
   },
   {
    "duration": 10,
    "start_time": "2024-01-15T19:23:46.851Z"
   },
   {
    "duration": 12,
    "start_time": "2024-01-15T19:23:46.863Z"
   },
   {
    "duration": 145916,
    "start_time": "2024-01-15T19:23:46.876Z"
   },
   {
    "duration": 908,
    "start_time": "2024-01-15T19:26:12.794Z"
   },
   {
    "duration": 6,
    "start_time": "2024-01-15T19:26:13.704Z"
   },
   {
    "duration": 3,
    "start_time": "2024-01-15T19:26:13.712Z"
   },
   {
    "duration": 91,
    "start_time": "2024-01-15T19:26:13.717Z"
   },
   {
    "duration": 4,
    "start_time": "2024-01-15T19:26:13.809Z"
   },
   {
    "duration": 13,
    "start_time": "2024-01-15T19:26:13.814Z"
   },
   {
    "duration": 19,
    "start_time": "2024-01-15T19:26:13.829Z"
   },
   {
    "duration": 7,
    "start_time": "2024-01-15T19:26:13.849Z"
   },
   {
    "duration": 8948,
    "start_time": "2024-01-15T19:26:13.857Z"
   },
   {
    "duration": 445,
    "start_time": "2024-01-15T19:26:22.806Z"
   }
  ],
  "kernelspec": {
   "display_name": "Python 3 (ipykernel)",
   "language": "python",
   "name": "python3"
  },
  "language_info": {
   "codemirror_mode": {
    "name": "ipython",
    "version": 3
   },
   "file_extension": ".py",
   "mimetype": "text/x-python",
   "name": "python",
   "nbconvert_exporter": "python",
   "pygments_lexer": "ipython3",
   "version": "3.9.17"
  },
  "toc": {
   "base_numbering": 1,
   "nav_menu": {},
   "number_sections": true,
   "sideBar": true,
   "skip_h1_title": true,
   "title_cell": "Table of Contents",
   "title_sidebar": "Contents",
   "toc_cell": false,
   "toc_position": {
    "height": "calc(100% - 180px)",
    "left": "10px",
    "top": "150px",
    "width": "277px"
   },
   "toc_section_display": true,
   "toc_window_display": true
  }
 },
 "nbformat": 4,
 "nbformat_minor": 4
}
