{
 "cells": [
  {
   "cell_type": "markdown",
   "metadata": {},
   "source": [
    "# Классификация комментариев"
   ]
  },
  {
   "cell_type": "markdown",
   "metadata": {},
   "source": [
    "Интернет-магазин «Викишоп» запускает новый сервис. Теперь пользователи могут редактировать и дополнять описания товаров, как в вики-сообществах. То есть клиенты предлагают свои правки и комментируют изменения других. Магазину нужен инструмент, который будет искать токсичные комментарии и отправлять их на модерацию. \n",
    "\n",
    "В нашем распоряжении набор данных с разметкой о токсичности правок.\n",
    "\n",
    "**Цель исследования**\n",
    "\n",
    "Предсказать токсичные комментарии пользователей.\n",
    "\n",
    "**Задача исследования**\n",
    "\n",
    "Обучить модель классифицировать комментарии на позитивные и негативные. \n",
    "\n",
    "Построить модель со значением метрики качества *F1* не меньше 0.75.\n",
    "\n",
    "**Описание данных**\n",
    "\n",
    "В CSV-файле столбец *text* содержит текст комментария, а *toxic* — целевой признак."
   ]
  },
  {
   "cell_type": "code",
   "execution_count": 1,
   "metadata": {},
   "outputs": [],
   "source": [
    "import pandas as pd\n",
    "import numpy as np\n",
    "\n",
    "import re \n",
    "import nltk\n",
    "nltk.download('wordnet', quiet=True)\n",
    "nltk.download('stopwords', quiet=True)\n",
    "nltk.download('averaged_perceptron_tagger', quiet=True)\n",
    "nltk.download('punkt', quiet=True)\n",
    "from nltk.stem import WordNetLemmatizer\n",
    "from nltk import pos_tag, word_tokenize\n",
    "from nltk.corpus import wordnet\n",
    "from nltk.corpus import stopwords as nltk_stopwords\n",
    "\n",
    "from sklearn.model_selection import train_test_split, GridSearchCV\n",
    "from sklearn.pipeline import Pipeline\n",
    "from sklearn.feature_extraction.text import TfidfVectorizer\n",
    "from sklearn.linear_model import LogisticRegression\n",
    "from sklearn.tree import DecisionTreeClassifier\n",
    "from sklearn.metrics import f1_score\n",
    "RANDOM_STATE = 42\n",
    "TEST_SIZE = 0.25\n",
    "\n",
    "from tqdm import tqdm # для progress_apply\n",
    "tqdm.pandas()         # для progress_apply"
   ]
  },
  {
   "cell_type": "markdown",
   "metadata": {},
   "source": [
    "## Подготовка"
   ]
  },
  {
   "cell_type": "code",
   "execution_count": 2,
   "metadata": {},
   "outputs": [],
   "source": [
    "try:\n",
    "    data = pd.read_csv('toxic_comments.csv')\n",
    "except:\n",
    "    data = pd.read_csv('https://code.s3.yandex.net/datasets/toxic_comments.csv')"
   ]
  },
  {
   "cell_type": "code",
   "execution_count": 3,
   "metadata": {},
   "outputs": [
    {
     "name": "stdout",
     "output_type": "stream",
     "text": [
      "<class 'pandas.core.frame.DataFrame'>\n",
      "RangeIndex: 159292 entries, 0 to 159291\n",
      "Data columns (total 3 columns):\n",
      " #   Column      Non-Null Count   Dtype \n",
      "---  ------      --------------   ----- \n",
      " 0   Unnamed: 0  159292 non-null  int64 \n",
      " 1   text        159292 non-null  object\n",
      " 2   toxic       159292 non-null  int64 \n",
      "dtypes: int64(2), object(1)\n",
      "memory usage: 3.6+ MB\n"
     ]
    },
    {
     "data": {
      "text/html": [
       "<div>\n",
       "<style scoped>\n",
       "    .dataframe tbody tr th:only-of-type {\n",
       "        vertical-align: middle;\n",
       "    }\n",
       "\n",
       "    .dataframe tbody tr th {\n",
       "        vertical-align: top;\n",
       "    }\n",
       "\n",
       "    .dataframe thead th {\n",
       "        text-align: right;\n",
       "    }\n",
       "</style>\n",
       "<table border=\"1\" class=\"dataframe\">\n",
       "  <thead>\n",
       "    <tr style=\"text-align: right;\">\n",
       "      <th></th>\n",
       "      <th>Unnamed: 0</th>\n",
       "      <th>text</th>\n",
       "      <th>toxic</th>\n",
       "    </tr>\n",
       "  </thead>\n",
       "  <tbody>\n",
       "    <tr>\n",
       "      <th>0</th>\n",
       "      <td>0</td>\n",
       "      <td>Explanation\\nWhy the edits made under my usern...</td>\n",
       "      <td>0</td>\n",
       "    </tr>\n",
       "    <tr>\n",
       "      <th>1</th>\n",
       "      <td>1</td>\n",
       "      <td>D'aww! He matches this background colour I'm s...</td>\n",
       "      <td>0</td>\n",
       "    </tr>\n",
       "    <tr>\n",
       "      <th>2</th>\n",
       "      <td>2</td>\n",
       "      <td>Hey man, I'm really not trying to edit war. It...</td>\n",
       "      <td>0</td>\n",
       "    </tr>\n",
       "    <tr>\n",
       "      <th>3</th>\n",
       "      <td>3</td>\n",
       "      <td>\"\\nMore\\nI can't make any real suggestions on ...</td>\n",
       "      <td>0</td>\n",
       "    </tr>\n",
       "    <tr>\n",
       "      <th>4</th>\n",
       "      <td>4</td>\n",
       "      <td>You, sir, are my hero. Any chance you remember...</td>\n",
       "      <td>0</td>\n",
       "    </tr>\n",
       "  </tbody>\n",
       "</table>\n",
       "</div>"
      ],
      "text/plain": [
       "   Unnamed: 0                                               text  toxic\n",
       "0           0  Explanation\\nWhy the edits made under my usern...      0\n",
       "1           1  D'aww! He matches this background colour I'm s...      0\n",
       "2           2  Hey man, I'm really not trying to edit war. It...      0\n",
       "3           3  \"\\nMore\\nI can't make any real suggestions on ...      0\n",
       "4           4  You, sir, are my hero. Any chance you remember...      0"
      ]
     },
     "execution_count": 3,
     "metadata": {},
     "output_type": "execute_result"
    }
   ],
   "source": [
    "data.info()\n",
    "data.head()"
   ]
  },
  {
   "cell_type": "markdown",
   "metadata": {},
   "source": [
    "Пропущенных значений нет, типы данных указаны верно.\n",
    "\n",
    "Займемся лемматизацией текста:"
   ]
  },
  {
   "cell_type": "code",
   "execution_count": 4,
   "metadata": {},
   "outputs": [],
   "source": [
    "wnl = WordNetLemmatizer()\n",
    "\n",
    "def penn2morphy(penntag):\n",
    "    morphy_tag = {'NN':'n', 'JJ':'a',\n",
    "                  'VB':'v', 'RB':'r'}\n",
    "    try:\n",
    "        return morphy_tag[penntag[:2]]\n",
    "    except:\n",
    "        return 'n' \n",
    "\n",
    "def lemmatize_sent(text):\n",
    "    text = re.sub(r'[^a-zA-Z ]', ' ', text)\n",
    "    return ' '.join([wnl.lemmatize(word.lower(), pos=penn2morphy(tag)) \n",
    "            for word, tag in pos_tag(word_tokenize(text))])"
   ]
  },
  {
   "cell_type": "code",
   "execution_count": 5,
   "metadata": {},
   "outputs": [
    {
     "name": "stderr",
     "output_type": "stream",
     "text": [
      "100%|██████████| 159292/159292 [08:33<00:00, 310.05it/s]\n"
     ]
    }
   ],
   "source": [
    "data['lemm_text'] = data['text'].progress_apply(lemmatize_sent)"
   ]
  },
  {
   "cell_type": "markdown",
   "metadata": {},
   "source": [
    "Разобъем признаки на входные и целевой"
   ]
  },
  {
   "cell_type": "code",
   "execution_count": 6,
   "metadata": {},
   "outputs": [],
   "source": [
    "X = data['lemm_text']\n",
    "y = data['toxic']"
   ]
  },
  {
   "cell_type": "markdown",
   "metadata": {},
   "source": [
    "Разобъем выборку на train и test"
   ]
  },
  {
   "cell_type": "code",
   "execution_count": 7,
   "metadata": {},
   "outputs": [],
   "source": [
    "X_train, X_test, y_train, y_test = train_test_split(X, y, test_size = TEST_SIZE, random_state = RANDOM_STATE)"
   ]
  },
  {
   "cell_type": "markdown",
   "metadata": {},
   "source": [
    "Избавимся от слов не имеющих смысловой нагрузки и вычислим TF-IDF"
   ]
  },
  {
   "cell_type": "code",
   "execution_count": 8,
   "metadata": {},
   "outputs": [],
   "source": [
    "stopwords = set(nltk_stopwords.words('english'))\n",
    "count_tf_idf = TfidfVectorizer(stop_words=stopwords)"
   ]
  },
  {
   "cell_type": "code",
   "execution_count": 9,
   "metadata": {},
   "outputs": [],
   "source": [
    "X_train_tfidf = count_tf_idf.fit_transform(X_train)\n",
    "X_test_tfidf = count_tf_idf.transform(X_test)"
   ]
  },
  {
   "cell_type": "markdown",
   "metadata": {},
   "source": [
    "## Обучение"
   ]
  },
  {
   "cell_type": "markdown",
   "metadata": {},
   "source": [
    "Будем обучать две модели LogisticRegression и DecisionTreeClassifier, метрикой для проверки будем использовать F1_score"
   ]
  },
  {
   "cell_type": "code",
   "execution_count": 10,
   "metadata": {},
   "outputs": [],
   "source": [
    "pipe_final = Pipeline([('models', LogisticRegression(random_state = RANDOM_STATE))])"
   ]
  },
  {
   "cell_type": "code",
   "execution_count": 11,
   "metadata": {},
   "outputs": [],
   "source": [
    "param_distributions = [\n",
    "    {\n",
    "        'models': [LogisticRegression(random_state = RANDOM_STATE, penalty='elasticnet', solver='saga')],\n",
    "        'models__l1_ratio': [0, 0.5, 1]\n",
    "    },\n",
    "    {\n",
    "        'models': [DecisionTreeClassifier(random_state = RANDOM_STATE)],\n",
    "        'models__max_depth': [2, 5],\n",
    "        'models__min_samples_leaf': [2, 5]\n",
    "    }\n",
    "] \n",
    "\n",
    "randomized_search = GridSearchCV(\n",
    "    pipe_final, \n",
    "    param_distributions, \n",
    "    scoring='f1', \n",
    "    n_jobs=-1,\n",
    "    verbose=10\n",
    ")"
   ]
  },
  {
   "cell_type": "code",
   "execution_count": 12,
   "metadata": {},
   "outputs": [
    {
     "name": "stdout",
     "output_type": "stream",
     "text": [
      "Fitting 5 folds for each of 7 candidates, totalling 35 fits\n"
     ]
    }
   ],
   "source": [
    "randomized_search.fit(X_train_tfidf, y_train);"
   ]
  },
  {
   "cell_type": "code",
   "execution_count": 13,
   "metadata": {},
   "outputs": [
    {
     "name": "stdout",
     "output_type": "stream",
     "text": [
      "Лучшая модель и её параметры:\n",
      " Pipeline(steps=[('models',\n",
      "                 LogisticRegression(l1_ratio=1, penalty='elasticnet',\n",
      "                                    random_state=42, solver='saga'))])\n",
      "Метрика RMSE для лучшей модели: 0.7586272969149723\n"
     ]
    }
   ],
   "source": [
    "print('Лучшая модель и её параметры:\\n', randomized_search.best_estimator_) \n",
    "\n",
    "y_test_pred = randomized_search.predict(X_test_tfidf)\n",
    "print(f'Метрика RMSE для лучшей модели: {randomized_search.best_score_}')"
   ]
  },
  {
   "cell_type": "markdown",
   "metadata": {},
   "source": [
    "Лучшей стала LogisticRegression с метрикой на тренировочных данных равной 0.758."
   ]
  },
  {
   "cell_type": "code",
   "execution_count": 14,
   "metadata": {},
   "outputs": [
    {
     "data": {
      "text/html": [
       "<div>\n",
       "<style scoped>\n",
       "    .dataframe tbody tr th:only-of-type {\n",
       "        vertical-align: middle;\n",
       "    }\n",
       "\n",
       "    .dataframe tbody tr th {\n",
       "        vertical-align: top;\n",
       "    }\n",
       "\n",
       "    .dataframe thead th {\n",
       "        text-align: right;\n",
       "    }\n",
       "</style>\n",
       "<table border=\"1\" class=\"dataframe\">\n",
       "  <thead>\n",
       "    <tr style=\"text-align: right;\">\n",
       "      <th></th>\n",
       "      <th>mean_test_score</th>\n",
       "      <th>mean_fit_time</th>\n",
       "      <th>mean_score_time</th>\n",
       "      <th>param_models</th>\n",
       "      <th>params</th>\n",
       "    </tr>\n",
       "  </thead>\n",
       "  <tbody>\n",
       "    <tr>\n",
       "      <th>0</th>\n",
       "      <td>0.711528</td>\n",
       "      <td>2.547329</td>\n",
       "      <td>0.019502</td>\n",
       "      <td>LogisticRegression(l1_ratio=1, penalty='elasti...</td>\n",
       "      <td>{'models': LogisticRegression(l1_ratio=1, pena...</td>\n",
       "    </tr>\n",
       "    <tr>\n",
       "      <th>1</th>\n",
       "      <td>0.730228</td>\n",
       "      <td>33.745878</td>\n",
       "      <td>0.015522</td>\n",
       "      <td>LogisticRegression(l1_ratio=1, penalty='elasti...</td>\n",
       "      <td>{'models': LogisticRegression(l1_ratio=1, pena...</td>\n",
       "    </tr>\n",
       "    <tr>\n",
       "      <th>2</th>\n",
       "      <td>0.758627</td>\n",
       "      <td>32.802149</td>\n",
       "      <td>0.022174</td>\n",
       "      <td>LogisticRegression(l1_ratio=1, penalty='elasti...</td>\n",
       "      <td>{'models': LogisticRegression(l1_ratio=1, pena...</td>\n",
       "    </tr>\n",
       "    <tr>\n",
       "      <th>3</th>\n",
       "      <td>0.396193</td>\n",
       "      <td>14.503089</td>\n",
       "      <td>0.044363</td>\n",
       "      <td>DecisionTreeClassifier(random_state=42)</td>\n",
       "      <td>{'models': DecisionTreeClassifier(random_state...</td>\n",
       "    </tr>\n",
       "    <tr>\n",
       "      <th>4</th>\n",
       "      <td>0.396193</td>\n",
       "      <td>12.905983</td>\n",
       "      <td>0.053306</td>\n",
       "      <td>DecisionTreeClassifier(random_state=42)</td>\n",
       "      <td>{'models': DecisionTreeClassifier(random_state...</td>\n",
       "    </tr>\n",
       "    <tr>\n",
       "      <th>5</th>\n",
       "      <td>0.512147</td>\n",
       "      <td>15.787529</td>\n",
       "      <td>0.042375</td>\n",
       "      <td>DecisionTreeClassifier(random_state=42)</td>\n",
       "      <td>{'models': DecisionTreeClassifier(random_state...</td>\n",
       "    </tr>\n",
       "    <tr>\n",
       "      <th>6</th>\n",
       "      <td>0.511292</td>\n",
       "      <td>12.643606</td>\n",
       "      <td>0.029490</td>\n",
       "      <td>DecisionTreeClassifier(random_state=42)</td>\n",
       "      <td>{'models': DecisionTreeClassifier(random_state...</td>\n",
       "    </tr>\n",
       "  </tbody>\n",
       "</table>\n",
       "</div>"
      ],
      "text/plain": [
       "   mean_test_score  mean_fit_time  mean_score_time  \\\n",
       "0         0.711528       2.547329         0.019502   \n",
       "1         0.730228      33.745878         0.015522   \n",
       "2         0.758627      32.802149         0.022174   \n",
       "3         0.396193      14.503089         0.044363   \n",
       "4         0.396193      12.905983         0.053306   \n",
       "5         0.512147      15.787529         0.042375   \n",
       "6         0.511292      12.643606         0.029490   \n",
       "\n",
       "                                        param_models  \\\n",
       "0  LogisticRegression(l1_ratio=1, penalty='elasti...   \n",
       "1  LogisticRegression(l1_ratio=1, penalty='elasti...   \n",
       "2  LogisticRegression(l1_ratio=1, penalty='elasti...   \n",
       "3            DecisionTreeClassifier(random_state=42)   \n",
       "4            DecisionTreeClassifier(random_state=42)   \n",
       "5            DecisionTreeClassifier(random_state=42)   \n",
       "6            DecisionTreeClassifier(random_state=42)   \n",
       "\n",
       "                                              params  \n",
       "0  {'models': LogisticRegression(l1_ratio=1, pena...  \n",
       "1  {'models': LogisticRegression(l1_ratio=1, pena...  \n",
       "2  {'models': LogisticRegression(l1_ratio=1, pena...  \n",
       "3  {'models': DecisionTreeClassifier(random_state...  \n",
       "4  {'models': DecisionTreeClassifier(random_state...  \n",
       "5  {'models': DecisionTreeClassifier(random_state...  \n",
       "6  {'models': DecisionTreeClassifier(random_state...  "
      ]
     },
     "execution_count": 14,
     "metadata": {},
     "output_type": "execute_result"
    }
   ],
   "source": [
    "pd.DataFrame(randomized_search.cv_results_)[['mean_test_score', 'mean_fit_time',\n",
    "                                                          'mean_score_time', 'param_models', 'params']]"
   ]
  },
  {
   "cell_type": "markdown",
   "metadata": {},
   "source": [
    "Модель DecisionTreeClassifier показала не очень хорошие результаты. По итогу лучшей моделью выбираем LogisticRegression. Посчитатем метрику на тестовой выборке:"
   ]
  },
  {
   "cell_type": "code",
   "execution_count": 15,
   "metadata": {},
   "outputs": [
    {
     "name": "stdout",
     "output_type": "stream",
     "text": [
      "Метрика RMSE на тестовой выборке: 0.772386476163531\n"
     ]
    }
   ],
   "source": [
    "print(f'Метрика RMSE на тестовой выборке: {f1_score(y_test, y_test_pred)}')"
   ]
  },
  {
   "cell_type": "markdown",
   "metadata": {},
   "source": [
    "Метрика получила значение > 0.75, наша модель осуществляет хорошие прогнозы."
   ]
  },
  {
   "cell_type": "markdown",
   "metadata": {},
   "source": [
    "## Выводы"
   ]
  },
  {
   "cell_type": "markdown",
   "metadata": {},
   "source": [
    "Интернет-магазин «Викишоп» запускает новый сервис. Теперь пользователи могут редактировать и дополнять описания товаров, как в вики-сообществах.\n",
    "\n",
    "Мы лемматизировали текст, избавились от слов не имеющих смысловой нагрузки и вычислили TF-IDF, который использовали как входной признак. Целевый признаком был столбец toxic.\n",
    "\n",
    "Мы обучили разные модели классифицировать комментарии на позитивные и негативные. Которые могут искать токсичные комментарии для отправления их на модерацию.\n",
    "\n",
    "Лучшей моделью стала LogisticRegression с параметром l1_ratio = 1.\n",
    "\n",
    "Построенная модель получила значение метрики F1 на тестовой выборке равное 0.77, она точно устроит заказчика.\n",
    "\n",
    "Для своих коллег хочу посоветовать подобрать более тонко параметры для LogisticRegression, а именно рассмотреть параметр C в интервале от 5 до 15 в паре с подбором l1_ratio = [0, 1], что должно улучшить метрику, но при этом увеличит время выполнения."
   ]
  },
  {
   "cell_type": "code",
   "execution_count": null,
   "metadata": {},
   "outputs": [],
   "source": []
  }
 ],
 "metadata": {
  "ExecuteTimeLog": [
   {
    "duration": 1258,
    "start_time": "2024-02-12T06:47:56.601Z"
   },
   {
    "duration": 3081,
    "start_time": "2024-02-12T06:48:23.666Z"
   },
   {
    "duration": 13,
    "start_time": "2024-02-12T06:48:32.939Z"
   },
   {
    "duration": 3,
    "start_time": "2024-02-12T06:53:17.498Z"
   },
   {
    "duration": 5,
    "start_time": "2024-02-12T06:53:28.489Z"
   },
   {
    "duration": 4,
    "start_time": "2024-02-12T06:54:15.291Z"
   },
   {
    "duration": 3247,
    "start_time": "2024-02-12T06:56:34.378Z"
   },
   {
    "duration": 6,
    "start_time": "2024-02-12T06:57:50.687Z"
   },
   {
    "duration": 754,
    "start_time": "2024-02-12T06:58:32.859Z"
   },
   {
    "duration": 77,
    "start_time": "2024-02-12T07:00:16.516Z"
   },
   {
    "duration": 1207,
    "start_time": "2024-02-12T07:00:23.512Z"
   },
   {
    "duration": 899,
    "start_time": "2024-02-12T07:00:24.721Z"
   },
   {
    "duration": 14,
    "start_time": "2024-02-12T07:00:25.622Z"
   },
   {
    "duration": 2813,
    "start_time": "2024-02-12T07:00:25.638Z"
   },
   {
    "duration": 71,
    "start_time": "2024-02-12T07:00:28.458Z"
   },
   {
    "duration": 0,
    "start_time": "2024-02-12T07:00:28.531Z"
   },
   {
    "duration": 0,
    "start_time": "2024-02-12T07:00:28.532Z"
   },
   {
    "duration": 1315,
    "start_time": "2024-02-12T07:02:48.524Z"
   },
   {
    "duration": 3054,
    "start_time": "2024-02-12T07:02:49.841Z"
   },
   {
    "duration": 12,
    "start_time": "2024-02-12T07:02:52.897Z"
   },
   {
    "duration": 2903,
    "start_time": "2024-02-12T07:02:52.911Z"
   },
   {
    "duration": 0,
    "start_time": "2024-02-12T07:02:55.815Z"
   },
   {
    "duration": 0,
    "start_time": "2024-02-12T07:02:55.816Z"
   },
   {
    "duration": 0,
    "start_time": "2024-02-12T07:02:55.817Z"
   },
   {
    "duration": 1196,
    "start_time": "2024-02-12T07:05:01.427Z"
   },
   {
    "duration": 1078,
    "start_time": "2024-02-12T07:05:16.459Z"
   },
   {
    "duration": 753,
    "start_time": "2024-02-12T07:05:36.284Z"
   },
   {
    "duration": 762,
    "start_time": "2024-02-12T07:05:46.665Z"
   },
   {
    "duration": 4,
    "start_time": "2024-02-12T07:06:23.589Z"
   },
   {
    "duration": 7,
    "start_time": "2024-02-12T07:07:11.399Z"
   },
   {
    "duration": 47,
    "start_time": "2024-02-12T07:07:40.126Z"
   },
   {
    "duration": 1233,
    "start_time": "2024-02-12T07:07:45.208Z"
   },
   {
    "duration": 3039,
    "start_time": "2024-02-12T07:07:46.444Z"
   },
   {
    "duration": 14,
    "start_time": "2024-02-12T07:07:49.485Z"
   },
   {
    "duration": 2831,
    "start_time": "2024-02-12T07:07:49.500Z"
   },
   {
    "duration": 73,
    "start_time": "2024-02-12T07:07:52.334Z"
   },
   {
    "duration": 0,
    "start_time": "2024-02-12T07:07:52.409Z"
   },
   {
    "duration": 0,
    "start_time": "2024-02-12T07:07:52.410Z"
   },
   {
    "duration": 0,
    "start_time": "2024-02-12T07:07:52.411Z"
   },
   {
    "duration": 0,
    "start_time": "2024-02-12T07:07:52.412Z"
   },
   {
    "duration": 4,
    "start_time": "2024-02-12T07:08:16.365Z"
   },
   {
    "duration": 136578,
    "start_time": "2024-02-12T07:08:52.862Z"
   },
   {
    "duration": 726,
    "start_time": "2024-02-12T07:11:27.234Z"
   },
   {
    "duration": 8,
    "start_time": "2024-02-12T07:11:35.267Z"
   },
   {
    "duration": 17,
    "start_time": "2024-02-12T07:12:24.308Z"
   },
   {
    "duration": 155,
    "start_time": "2024-02-12T07:13:26.194Z"
   },
   {
    "duration": 7,
    "start_time": "2024-02-12T07:13:31.867Z"
   },
   {
    "duration": 15,
    "start_time": "2024-02-12T07:17:20.916Z"
   },
   {
    "duration": 68,
    "start_time": "2024-02-12T07:17:39.875Z"
   },
   {
    "duration": 13,
    "start_time": "2024-02-12T07:19:06.155Z"
   },
   {
    "duration": 1238,
    "start_time": "2024-02-12T07:22:06.000Z"
   },
   {
    "duration": 3053,
    "start_time": "2024-02-12T07:22:07.239Z"
   },
   {
    "duration": 13,
    "start_time": "2024-02-12T07:22:10.294Z"
   },
   {
    "duration": 2834,
    "start_time": "2024-02-12T07:22:10.308Z"
   },
   {
    "duration": 70,
    "start_time": "2024-02-12T07:22:13.144Z"
   },
   {
    "duration": 0,
    "start_time": "2024-02-12T07:22:13.215Z"
   },
   {
    "duration": 0,
    "start_time": "2024-02-12T07:22:13.216Z"
   },
   {
    "duration": 0,
    "start_time": "2024-02-12T07:22:13.218Z"
   },
   {
    "duration": 45,
    "start_time": "2024-02-12T07:24:01.640Z"
   },
   {
    "duration": 1279,
    "start_time": "2024-02-12T07:24:05.476Z"
   },
   {
    "duration": 3042,
    "start_time": "2024-02-12T07:24:06.757Z"
   },
   {
    "duration": 12,
    "start_time": "2024-02-12T07:24:09.801Z"
   },
   {
    "duration": 2785,
    "start_time": "2024-02-12T07:24:09.814Z"
   },
   {
    "duration": 48,
    "start_time": "2024-02-12T07:24:20.930Z"
   },
   {
    "duration": 1304,
    "start_time": "2024-02-12T07:25:26.040Z"
   },
   {
    "duration": 3010,
    "start_time": "2024-02-12T07:25:27.347Z"
   },
   {
    "duration": 12,
    "start_time": "2024-02-12T07:25:30.359Z"
   },
   {
    "duration": 2770,
    "start_time": "2024-02-12T07:25:30.372Z"
   },
   {
    "duration": 43,
    "start_time": "2024-02-12T07:25:52.329Z"
   },
   {
    "duration": 1329,
    "start_time": "2024-02-12T07:26:09.330Z"
   },
   {
    "duration": 3029,
    "start_time": "2024-02-12T07:26:10.661Z"
   },
   {
    "duration": 12,
    "start_time": "2024-02-12T07:26:13.692Z"
   },
   {
    "duration": 2,
    "start_time": "2024-02-12T07:26:13.706Z"
   },
   {
    "duration": 2773,
    "start_time": "2024-02-12T07:26:13.710Z"
   },
   {
    "duration": 128,
    "start_time": "2024-02-12T07:26:16.485Z"
   },
   {
    "duration": 0,
    "start_time": "2024-02-12T07:26:16.615Z"
   },
   {
    "duration": 0,
    "start_time": "2024-02-12T07:26:16.616Z"
   },
   {
    "duration": 0,
    "start_time": "2024-02-12T07:26:16.617Z"
   },
   {
    "duration": 362,
    "start_time": "2024-02-12T07:27:15.820Z"
   },
   {
    "duration": 3728,
    "start_time": "2024-02-12T07:27:26.919Z"
   },
   {
    "duration": 8,
    "start_time": "2024-02-12T07:27:38.227Z"
   },
   {
    "duration": 4,
    "start_time": "2024-02-12T07:28:02.867Z"
   },
   {
    "duration": 4,
    "start_time": "2024-02-12T07:28:11.761Z"
   },
   {
    "duration": 70,
    "start_time": "2024-02-12T07:30:24.114Z"
   },
   {
    "duration": 74,
    "start_time": "2024-02-12T07:30:34.560Z"
   },
   {
    "duration": 329,
    "start_time": "2024-02-12T07:30:44.887Z"
   },
   {
    "duration": 3721,
    "start_time": "2024-02-12T07:30:51.724Z"
   },
   {
    "duration": 5,
    "start_time": "2024-02-12T07:30:58.049Z"
   },
   {
    "duration": 5,
    "start_time": "2024-02-12T07:31:02.355Z"
   },
   {
    "duration": 1278,
    "start_time": "2024-02-12T07:31:17.249Z"
   },
   {
    "duration": 884,
    "start_time": "2024-02-12T07:31:18.528Z"
   },
   {
    "duration": 13,
    "start_time": "2024-02-12T07:31:19.413Z"
   },
   {
    "duration": 2905,
    "start_time": "2024-02-12T07:31:19.427Z"
   },
   {
    "duration": 807336,
    "start_time": "2024-02-12T07:31:22.334Z"
   },
   {
    "duration": 0,
    "start_time": "2024-02-12T07:44:49.673Z"
   },
   {
    "duration": 0,
    "start_time": "2024-02-12T07:44:49.674Z"
   },
   {
    "duration": 0,
    "start_time": "2024-02-12T07:44:49.675Z"
   },
   {
    "duration": 1334,
    "start_time": "2024-02-12T07:45:31.132Z"
   },
   {
    "duration": 900,
    "start_time": "2024-02-12T07:45:32.468Z"
   },
   {
    "duration": 14,
    "start_time": "2024-02-12T07:45:33.369Z"
   },
   {
    "duration": 25,
    "start_time": "2024-02-12T07:45:33.384Z"
   },
   {
    "duration": 2068,
    "start_time": "2024-02-12T07:45:33.411Z"
   },
   {
    "duration": 19038,
    "start_time": "2024-02-12T07:45:35.481Z"
   },
   {
    "duration": 0,
    "start_time": "2024-02-12T07:45:54.520Z"
   },
   {
    "duration": 0,
    "start_time": "2024-02-12T07:45:54.523Z"
   },
   {
    "duration": 1250,
    "start_time": "2024-02-12T07:45:58.857Z"
   },
   {
    "duration": 928,
    "start_time": "2024-02-12T07:46:00.109Z"
   },
   {
    "duration": 15,
    "start_time": "2024-02-12T07:46:01.038Z"
   },
   {
    "duration": 5,
    "start_time": "2024-02-12T07:46:01.058Z"
   },
   {
    "duration": 2119,
    "start_time": "2024-02-12T07:46:01.065Z"
   },
   {
    "duration": 5,
    "start_time": "2024-02-12T07:46:03.185Z"
   },
   {
    "duration": 21372,
    "start_time": "2024-02-12T07:46:03.191Z"
   },
   {
    "duration": 8599,
    "start_time": "2024-02-12T07:46:24.564Z"
   },
   {
    "duration": 4,
    "start_time": "2024-02-12T07:47:34.375Z"
   },
   {
    "duration": 2309,
    "start_time": "2024-02-12T07:47:35.825Z"
   },
   {
    "duration": 5,
    "start_time": "2024-02-12T07:47:39.586Z"
   },
   {
    "duration": 69,
    "start_time": "2024-02-12T07:52:42.516Z"
   },
   {
    "duration": 30,
    "start_time": "2024-02-12T07:55:05.126Z"
   },
   {
    "duration": 4,
    "start_time": "2024-02-12T08:03:57.876Z"
   },
   {
    "duration": 393,
    "start_time": "2024-02-12T08:04:25.025Z"
   },
   {
    "duration": 4,
    "start_time": "2024-02-12T08:05:33.427Z"
   },
   {
    "duration": 308,
    "start_time": "2024-02-12T08:05:36.356Z"
   },
   {
    "duration": 4,
    "start_time": "2024-02-12T08:05:52.982Z"
   },
   {
    "duration": 85194,
    "start_time": "2024-02-12T08:05:54.218Z"
   },
   {
    "duration": 5,
    "start_time": "2024-02-12T08:07:22.112Z"
   },
   {
    "duration": 3,
    "start_time": "2024-02-12T08:07:40.435Z"
   },
   {
    "duration": 90123,
    "start_time": "2024-02-12T08:07:41.405Z"
   },
   {
    "duration": 6,
    "start_time": "2024-02-12T08:09:18.512Z"
   },
   {
    "duration": 2,
    "start_time": "2024-02-12T08:09:52.877Z"
   },
   {
    "duration": 11,
    "start_time": "2024-02-12T08:10:02.866Z"
   },
   {
    "duration": 72,
    "start_time": "2024-02-12T08:10:09.315Z"
   },
   {
    "duration": 77,
    "start_time": "2024-02-12T08:10:14.089Z"
   },
   {
    "duration": 80,
    "start_time": "2024-02-12T08:10:16.431Z"
   },
   {
    "duration": 8,
    "start_time": "2024-02-12T08:10:19.114Z"
   },
   {
    "duration": 4,
    "start_time": "2024-02-12T08:10:29.474Z"
   },
   {
    "duration": 4,
    "start_time": "2024-02-12T08:10:43.309Z"
   },
   {
    "duration": 4,
    "start_time": "2024-02-12T08:12:57.229Z"
   },
   {
    "duration": 35115,
    "start_time": "2024-02-12T08:12:58.704Z"
   },
   {
    "duration": 4,
    "start_time": "2024-02-12T08:13:37.975Z"
   },
   {
    "duration": 1379,
    "start_time": "2024-02-12T08:20:29.077Z"
   },
   {
    "duration": 914,
    "start_time": "2024-02-12T08:20:30.458Z"
   },
   {
    "duration": 12,
    "start_time": "2024-02-12T08:20:31.374Z"
   },
   {
    "duration": 36,
    "start_time": "2024-02-12T08:20:31.388Z"
   },
   {
    "duration": 33633,
    "start_time": "2024-02-12T08:20:31.426Z"
   },
   {
    "duration": 71,
    "start_time": "2024-02-12T08:21:05.060Z"
   },
   {
    "duration": 0,
    "start_time": "2024-02-12T08:21:05.133Z"
   },
   {
    "duration": 0,
    "start_time": "2024-02-12T08:21:05.134Z"
   },
   {
    "duration": 5,
    "start_time": "2024-02-12T08:40:08.682Z"
   },
   {
    "duration": 6547,
    "start_time": "2024-02-12T08:41:03.512Z"
   },
   {
    "duration": 1358,
    "start_time": "2024-02-12T12:29:13.954Z"
   },
   {
    "duration": 2358,
    "start_time": "2024-02-12T12:29:15.314Z"
   },
   {
    "duration": 13,
    "start_time": "2024-02-12T12:29:17.673Z"
   },
   {
    "duration": 4,
    "start_time": "2024-02-12T12:29:17.688Z"
   },
   {
    "duration": 35311,
    "start_time": "2024-02-12T12:29:17.694Z"
   },
   {
    "duration": 6751,
    "start_time": "2024-02-12T12:29:53.007Z"
   },
   {
    "duration": 114,
    "start_time": "2024-02-12T12:29:59.760Z"
   },
   {
    "duration": 0,
    "start_time": "2024-02-12T12:29:59.875Z"
   },
   {
    "duration": 28,
    "start_time": "2024-02-12T12:30:40.435Z"
   },
   {
    "duration": 31,
    "start_time": "2024-02-12T12:30:50.275Z"
   },
   {
    "duration": 9,
    "start_time": "2024-02-12T12:30:58.205Z"
   },
   {
    "duration": 70,
    "start_time": "2024-02-12T12:31:12.354Z"
   },
   {
    "duration": 23,
    "start_time": "2024-02-12T12:31:16.439Z"
   },
   {
    "duration": 14,
    "start_time": "2024-02-12T12:31:29.703Z"
   },
   {
    "duration": 1389,
    "start_time": "2024-02-12T12:32:36.175Z"
   },
   {
    "duration": 885,
    "start_time": "2024-02-12T12:32:37.566Z"
   },
   {
    "duration": 12,
    "start_time": "2024-02-12T12:32:38.453Z"
   },
   {
    "duration": 4,
    "start_time": "2024-02-12T12:32:38.466Z"
   },
   {
    "duration": 36390,
    "start_time": "2024-02-12T12:32:38.472Z"
   },
   {
    "duration": 6924,
    "start_time": "2024-02-12T12:33:14.863Z"
   },
   {
    "duration": 3,
    "start_time": "2024-02-12T12:33:21.788Z"
   },
   {
    "duration": 120,
    "start_time": "2024-02-12T12:33:21.793Z"
   },
   {
    "duration": 0,
    "start_time": "2024-02-12T12:33:21.920Z"
   },
   {
    "duration": 0,
    "start_time": "2024-02-12T12:33:21.921Z"
   },
   {
    "duration": 5,
    "start_time": "2024-02-12T12:33:24.124Z"
   },
   {
    "duration": 9,
    "start_time": "2024-02-12T12:33:28.823Z"
   },
   {
    "duration": 9,
    "start_time": "2024-02-12T12:34:09.149Z"
   },
   {
    "duration": 4,
    "start_time": "2024-02-12T12:34:17.584Z"
   },
   {
    "duration": 32,
    "start_time": "2024-02-12T12:34:21.726Z"
   },
   {
    "duration": 1453,
    "start_time": "2024-02-12T12:36:46.940Z"
   },
   {
    "duration": 953,
    "start_time": "2024-02-12T12:36:48.395Z"
   },
   {
    "duration": 14,
    "start_time": "2024-02-12T12:36:49.349Z"
   },
   {
    "duration": 17,
    "start_time": "2024-02-12T12:36:49.364Z"
   },
   {
    "duration": 35846,
    "start_time": "2024-02-12T12:36:49.383Z"
   },
   {
    "duration": 4,
    "start_time": "2024-02-12T12:37:25.230Z"
   },
   {
    "duration": 11,
    "start_time": "2024-02-12T12:37:25.236Z"
   },
   {
    "duration": 35,
    "start_time": "2024-02-12T12:37:25.248Z"
   },
   {
    "duration": 34942,
    "start_time": "2024-02-12T12:37:25.285Z"
   },
   {
    "duration": 5,
    "start_time": "2024-02-12T12:44:57.179Z"
   },
   {
    "duration": 14,
    "start_time": "2024-02-12T12:45:17.183Z"
   },
   {
    "duration": 8479,
    "start_time": "2024-02-12T12:46:25.482Z"
   },
   {
    "duration": 15,
    "start_time": "2024-02-12T12:46:38.642Z"
   },
   {
    "duration": 78,
    "start_time": "2024-02-12T12:51:52.037Z"
   },
   {
    "duration": 45142,
    "start_time": "2024-02-12T12:52:04.487Z"
   },
   {
    "duration": 14,
    "start_time": "2024-02-12T12:52:52.825Z"
   },
   {
    "duration": 1491,
    "start_time": "2024-02-12T12:55:55.627Z"
   },
   {
    "duration": 906,
    "start_time": "2024-02-12T12:55:57.119Z"
   },
   {
    "duration": 13,
    "start_time": "2024-02-12T12:55:58.026Z"
   },
   {
    "duration": 7,
    "start_time": "2024-02-12T12:55:58.041Z"
   },
   {
    "duration": 35803,
    "start_time": "2024-02-12T12:55:58.049Z"
   },
   {
    "duration": 4,
    "start_time": "2024-02-12T12:56:33.853Z"
   },
   {
    "duration": 10,
    "start_time": "2024-02-12T12:56:33.858Z"
   },
   {
    "duration": 67,
    "start_time": "2024-02-12T12:56:33.869Z"
   },
   {
    "duration": 166600,
    "start_time": "2024-02-12T12:56:33.937Z"
   },
   {
    "duration": 14,
    "start_time": "2024-02-12T12:59:20.539Z"
   },
   {
    "duration": 47637,
    "start_time": "2024-02-12T12:59:37.989Z"
   },
   {
    "duration": 15,
    "start_time": "2024-02-12T13:00:31.386Z"
   },
   {
    "duration": 109,
    "start_time": "2024-02-12T13:02:22.869Z"
   },
   {
    "duration": 6,
    "start_time": "2024-02-12T13:02:46.942Z"
   },
   {
    "duration": 2,
    "start_time": "2024-02-12T13:02:49.335Z"
   },
   {
    "duration": 1473,
    "start_time": "2024-02-12T13:07:56.243Z"
   },
   {
    "duration": 936,
    "start_time": "2024-02-12T13:07:57.719Z"
   },
   {
    "duration": 14,
    "start_time": "2024-02-12T13:07:58.657Z"
   },
   {
    "duration": 8,
    "start_time": "2024-02-12T13:07:58.672Z"
   },
   {
    "duration": 38500,
    "start_time": "2024-02-12T13:07:58.682Z"
   },
   {
    "duration": 4,
    "start_time": "2024-02-12T13:08:37.184Z"
   },
   {
    "duration": 5,
    "start_time": "2024-02-12T13:08:37.190Z"
   },
   {
    "duration": 76,
    "start_time": "2024-02-12T13:08:37.197Z"
   },
   {
    "duration": 7041,
    "start_time": "2024-02-12T13:08:37.275Z"
   },
   {
    "duration": 3,
    "start_time": "2024-02-12T13:08:44.318Z"
   },
   {
    "duration": 125,
    "start_time": "2024-02-12T13:08:44.322Z"
   },
   {
    "duration": 0,
    "start_time": "2024-02-12T13:08:44.448Z"
   },
   {
    "duration": 0,
    "start_time": "2024-02-12T13:08:44.449Z"
   },
   {
    "duration": 1557,
    "start_time": "2024-02-12T13:11:32.800Z"
   },
   {
    "duration": 900,
    "start_time": "2024-02-12T13:11:34.359Z"
   },
   {
    "duration": 14,
    "start_time": "2024-02-12T13:11:35.260Z"
   },
   {
    "duration": 4,
    "start_time": "2024-02-12T13:11:35.276Z"
   },
   {
    "duration": 35740,
    "start_time": "2024-02-12T13:11:35.282Z"
   },
   {
    "duration": 4,
    "start_time": "2024-02-12T13:12:11.024Z"
   },
   {
    "duration": 16,
    "start_time": "2024-02-12T13:12:11.030Z"
   },
   {
    "duration": 68,
    "start_time": "2024-02-12T13:12:11.047Z"
   },
   {
    "duration": 6896,
    "start_time": "2024-02-12T13:12:11.116Z"
   },
   {
    "duration": 7,
    "start_time": "2024-02-12T13:12:18.014Z"
   },
   {
    "duration": 131,
    "start_time": "2024-02-12T13:12:18.023Z"
   },
   {
    "duration": 0,
    "start_time": "2024-02-12T13:12:18.157Z"
   },
   {
    "duration": 0,
    "start_time": "2024-02-12T13:12:18.158Z"
   },
   {
    "duration": 39,
    "start_time": "2024-02-12T13:13:27.941Z"
   },
   {
    "duration": 271737,
    "start_time": "2024-02-12T13:14:08.309Z"
   },
   {
    "duration": 1495,
    "start_time": "2024-02-12T13:18:44.890Z"
   },
   {
    "duration": 936,
    "start_time": "2024-02-12T13:18:46.387Z"
   },
   {
    "duration": 14,
    "start_time": "2024-02-12T13:18:47.324Z"
   },
   {
    "duration": 6,
    "start_time": "2024-02-12T13:18:47.341Z"
   },
   {
    "duration": 36111,
    "start_time": "2024-02-12T13:18:47.350Z"
   },
   {
    "duration": 5,
    "start_time": "2024-02-12T13:19:23.462Z"
   },
   {
    "duration": 7,
    "start_time": "2024-02-12T13:19:23.468Z"
   },
   {
    "duration": 94,
    "start_time": "2024-02-12T13:19:23.477Z"
   },
   {
    "duration": 6658,
    "start_time": "2024-02-12T13:19:23.573Z"
   },
   {
    "duration": 3,
    "start_time": "2024-02-12T13:19:30.232Z"
   },
   {
    "duration": 197127,
    "start_time": "2024-02-12T13:19:30.237Z"
   },
   {
    "duration": 0,
    "start_time": "2024-02-12T13:22:47.365Z"
   },
   {
    "duration": 0,
    "start_time": "2024-02-12T13:22:47.366Z"
   },
   {
    "duration": 65160,
    "start_time": "2024-02-12T13:22:52.675Z"
   },
   {
    "duration": 6,
    "start_time": "2024-02-12T13:24:56.179Z"
   },
   {
    "duration": 11,
    "start_time": "2024-02-12T13:25:01.139Z"
   },
   {
    "duration": 15,
    "start_time": "2024-02-12T13:25:11.788Z"
   },
   {
    "duration": 195219,
    "start_time": "2024-02-12T13:26:50.739Z"
   },
   {
    "duration": 180686,
    "start_time": "2024-02-12T13:30:08.146Z"
   },
   {
    "duration": 28122,
    "start_time": "2024-02-12T13:33:33.023Z"
   },
   {
    "duration": 152395,
    "start_time": "2024-02-12T13:34:04.832Z"
   },
   {
    "duration": 4,
    "start_time": "2024-02-12T13:36:45.050Z"
   },
   {
    "duration": 300584,
    "start_time": "2024-02-12T13:37:04.746Z"
   },
   {
    "duration": 9,
    "start_time": "2024-02-12T13:42:27.889Z"
   },
   {
    "duration": 15,
    "start_time": "2024-02-12T13:42:31.111Z"
   },
   {
    "duration": 99982,
    "start_time": "2024-02-12T13:48:13.361Z"
   },
   {
    "duration": 52811,
    "start_time": "2024-02-12T13:49:59.116Z"
   },
   {
    "duration": 207440,
    "start_time": "2024-02-12T13:50:53.991Z"
   },
   {
    "duration": 1497,
    "start_time": "2024-02-12T14:14:08.530Z"
   },
   {
    "duration": 941,
    "start_time": "2024-02-12T14:14:10.029Z"
   },
   {
    "duration": 13,
    "start_time": "2024-02-12T14:14:10.971Z"
   },
   {
    "duration": 4,
    "start_time": "2024-02-12T14:14:10.985Z"
   },
   {
    "duration": 35399,
    "start_time": "2024-02-12T14:14:10.991Z"
   },
   {
    "duration": 4,
    "start_time": "2024-02-12T14:14:46.392Z"
   },
   {
    "duration": 15,
    "start_time": "2024-02-12T14:14:46.397Z"
   },
   {
    "duration": 101,
    "start_time": "2024-02-12T14:14:46.413Z"
   },
   {
    "duration": 6858,
    "start_time": "2024-02-12T14:14:46.515Z"
   },
   {
    "duration": 3,
    "start_time": "2024-02-12T14:14:53.375Z"
   },
   {
    "duration": 470061,
    "start_time": "2024-02-12T14:14:53.380Z"
   },
   {
    "duration": 0,
    "start_time": "2024-02-12T14:22:43.443Z"
   },
   {
    "duration": 0,
    "start_time": "2024-02-12T14:22:43.444Z"
   },
   {
    "duration": 1464,
    "start_time": "2024-02-12T14:22:47.376Z"
   },
   {
    "duration": 903,
    "start_time": "2024-02-12T14:22:48.842Z"
   },
   {
    "duration": 14,
    "start_time": "2024-02-12T14:22:49.747Z"
   },
   {
    "duration": 6,
    "start_time": "2024-02-12T14:22:49.763Z"
   },
   {
    "duration": 35694,
    "start_time": "2024-02-12T14:22:49.771Z"
   },
   {
    "duration": 4,
    "start_time": "2024-02-12T14:23:25.466Z"
   },
   {
    "duration": 6,
    "start_time": "2024-02-12T14:23:25.471Z"
   },
   {
    "duration": 69,
    "start_time": "2024-02-12T14:23:25.478Z"
   },
   {
    "duration": 6918,
    "start_time": "2024-02-12T14:23:25.549Z"
   },
   {
    "duration": 3,
    "start_time": "2024-02-12T14:23:32.468Z"
   },
   {
    "duration": 894992,
    "start_time": "2024-02-12T14:23:32.472Z"
   },
   {
    "duration": 0,
    "start_time": "2024-02-12T14:38:27.465Z"
   },
   {
    "duration": 0,
    "start_time": "2024-02-12T14:38:27.467Z"
   },
   {
    "duration": 1403,
    "start_time": "2024-02-12T14:38:40.030Z"
   },
   {
    "duration": 937,
    "start_time": "2024-02-12T14:38:41.435Z"
   },
   {
    "duration": 13,
    "start_time": "2024-02-12T14:38:42.374Z"
   },
   {
    "duration": 4,
    "start_time": "2024-02-12T14:38:42.389Z"
   },
   {
    "duration": 35873,
    "start_time": "2024-02-12T14:38:42.395Z"
   },
   {
    "duration": 3,
    "start_time": "2024-02-12T14:39:18.270Z"
   },
   {
    "duration": 13,
    "start_time": "2024-02-12T14:39:18.275Z"
   },
   {
    "duration": 82,
    "start_time": "2024-02-12T14:39:18.289Z"
   },
   {
    "duration": 6896,
    "start_time": "2024-02-12T14:39:18.373Z"
   },
   {
    "duration": 3,
    "start_time": "2024-02-12T14:39:25.271Z"
   },
   {
    "duration": 1787197,
    "start_time": "2024-02-12T14:39:25.276Z"
   },
   {
    "duration": 0,
    "start_time": "2024-02-12T15:09:12.475Z"
   },
   {
    "duration": 0,
    "start_time": "2024-02-12T15:09:12.477Z"
   },
   {
    "duration": 1414,
    "start_time": "2024-02-12T15:09:16.928Z"
   },
   {
    "duration": 935,
    "start_time": "2024-02-12T15:09:18.343Z"
   },
   {
    "duration": 13,
    "start_time": "2024-02-12T15:09:19.279Z"
   },
   {
    "duration": 13,
    "start_time": "2024-02-12T15:09:19.294Z"
   },
   {
    "duration": 35970,
    "start_time": "2024-02-12T15:09:19.309Z"
   },
   {
    "duration": 3,
    "start_time": "2024-02-12T15:09:55.281Z"
   },
   {
    "duration": 21,
    "start_time": "2024-02-12T15:09:55.285Z"
   },
   {
    "duration": 100,
    "start_time": "2024-02-12T15:09:55.308Z"
   },
   {
    "duration": 6964,
    "start_time": "2024-02-12T15:09:55.410Z"
   },
   {
    "duration": 2,
    "start_time": "2024-02-12T15:10:02.376Z"
   },
   {
    "duration": 56,
    "start_time": "2024-02-12T15:22:02.352Z"
   },
   {
    "duration": 1460,
    "start_time": "2024-02-12T15:22:17.380Z"
   },
   {
    "duration": 931,
    "start_time": "2024-02-12T15:22:18.843Z"
   },
   {
    "duration": 45,
    "start_time": "2024-02-12T15:22:19.776Z"
   },
   {
    "duration": 4,
    "start_time": "2024-02-12T15:22:19.822Z"
   },
   {
    "duration": 35125,
    "start_time": "2024-02-12T15:22:19.828Z"
   },
   {
    "duration": 3,
    "start_time": "2024-02-12T15:22:54.955Z"
   },
   {
    "duration": 4,
    "start_time": "2024-02-12T15:22:54.959Z"
   },
   {
    "duration": 71,
    "start_time": "2024-02-12T15:22:54.965Z"
   },
   {
    "duration": 6701,
    "start_time": "2024-02-12T15:22:55.038Z"
   },
   {
    "duration": 2,
    "start_time": "2024-02-12T15:23:01.741Z"
   },
   {
    "duration": 1475,
    "start_time": "2024-02-12T16:16:18.432Z"
   },
   {
    "duration": 927,
    "start_time": "2024-02-12T16:16:19.909Z"
   },
   {
    "duration": 39,
    "start_time": "2024-02-12T16:16:20.838Z"
   },
   {
    "duration": 3,
    "start_time": "2024-02-12T16:16:20.878Z"
   },
   {
    "duration": 35446,
    "start_time": "2024-02-12T16:16:20.883Z"
   },
   {
    "duration": 2,
    "start_time": "2024-02-12T16:16:56.331Z"
   },
   {
    "duration": 43,
    "start_time": "2024-02-12T16:16:56.335Z"
   },
   {
    "duration": 4,
    "start_time": "2024-02-12T16:16:56.380Z"
   },
   {
    "duration": 6845,
    "start_time": "2024-02-12T16:16:56.385Z"
   },
   {
    "duration": 3,
    "start_time": "2024-02-12T16:17:03.232Z"
   },
   {
    "duration": 143,
    "start_time": "2024-02-12T16:17:03.236Z"
   },
   {
    "duration": 0,
    "start_time": "2024-02-12T16:17:03.380Z"
   },
   {
    "duration": 0,
    "start_time": "2024-02-12T16:17:03.381Z"
   },
   {
    "duration": 5,
    "start_time": "2024-02-12T16:17:14.960Z"
   },
   {
    "duration": 1441,
    "start_time": "2024-02-12T16:25:12.965Z"
   },
   {
    "duration": 921,
    "start_time": "2024-02-12T16:25:14.408Z"
   },
   {
    "duration": 38,
    "start_time": "2024-02-12T16:25:15.331Z"
   },
   {
    "duration": 3,
    "start_time": "2024-02-12T16:25:15.371Z"
   },
   {
    "duration": 35545,
    "start_time": "2024-02-12T16:25:15.376Z"
   },
   {
    "duration": 2,
    "start_time": "2024-02-12T16:25:50.923Z"
   },
   {
    "duration": 46,
    "start_time": "2024-02-12T16:25:50.927Z"
   },
   {
    "duration": 4,
    "start_time": "2024-02-12T16:25:50.975Z"
   },
   {
    "duration": 6713,
    "start_time": "2024-02-12T16:25:50.980Z"
   },
   {
    "duration": 2,
    "start_time": "2024-02-12T16:25:57.695Z"
   },
   {
    "duration": 243306,
    "start_time": "2024-02-12T16:25:57.699Z"
   },
   {
    "duration": 0,
    "start_time": "2024-02-12T16:30:01.007Z"
   },
   {
    "duration": 0,
    "start_time": "2024-02-12T16:30:01.009Z"
   },
   {
    "duration": 39727,
    "start_time": "2024-02-12T16:30:05.568Z"
   },
   {
    "duration": 4,
    "start_time": "2024-02-12T16:30:52.602Z"
   },
   {
    "duration": 1512,
    "start_time": "2024-02-12T16:31:09.313Z"
   },
   {
    "duration": 941,
    "start_time": "2024-02-12T16:31:10.827Z"
   },
   {
    "duration": 43,
    "start_time": "2024-02-12T16:31:11.770Z"
   },
   {
    "duration": 4,
    "start_time": "2024-02-12T16:31:11.821Z"
   },
   {
    "duration": 35494,
    "start_time": "2024-02-12T16:31:11.827Z"
   },
   {
    "duration": 3,
    "start_time": "2024-02-12T16:31:47.323Z"
   },
   {
    "duration": 29,
    "start_time": "2024-02-12T16:31:47.328Z"
   },
   {
    "duration": 4,
    "start_time": "2024-02-12T16:31:47.359Z"
   },
   {
    "duration": 6905,
    "start_time": "2024-02-12T16:31:47.365Z"
   },
   {
    "duration": 2,
    "start_time": "2024-02-12T16:31:54.272Z"
   },
   {
    "duration": 9,
    "start_time": "2024-02-12T16:31:54.276Z"
   },
   {
    "duration": 298889,
    "start_time": "2024-02-12T16:31:54.287Z"
   },
   {
    "duration": 0,
    "start_time": "2024-02-12T16:36:53.178Z"
   },
   {
    "duration": 0,
    "start_time": "2024-02-12T16:36:53.179Z"
   },
   {
    "duration": 36757,
    "start_time": "2024-02-12T16:36:55.564Z"
   },
   {
    "duration": 11,
    "start_time": "2024-02-12T16:37:46.333Z"
   },
   {
    "duration": 1476,
    "start_time": "2024-02-12T16:42:13.980Z"
   },
   {
    "duration": 956,
    "start_time": "2024-02-12T16:42:15.458Z"
   },
   {
    "duration": 40,
    "start_time": "2024-02-12T16:42:16.415Z"
   },
   {
    "duration": 4,
    "start_time": "2024-02-12T16:42:16.457Z"
   },
   {
    "duration": 35619,
    "start_time": "2024-02-12T16:42:16.463Z"
   },
   {
    "duration": 3,
    "start_time": "2024-02-12T16:42:52.084Z"
   },
   {
    "duration": 63,
    "start_time": "2024-02-12T16:42:52.088Z"
   },
   {
    "duration": 4,
    "start_time": "2024-02-12T16:42:52.153Z"
   },
   {
    "duration": 6791,
    "start_time": "2024-02-12T16:42:52.159Z"
   },
   {
    "duration": 2,
    "start_time": "2024-02-12T16:42:58.952Z"
   },
   {
    "duration": 41,
    "start_time": "2024-02-12T16:42:58.955Z"
   },
   {
    "duration": 4,
    "start_time": "2024-02-12T16:42:58.997Z"
   },
   {
    "duration": 36043,
    "start_time": "2024-02-12T16:42:59.003Z"
   },
   {
    "duration": 300278,
    "start_time": "2024-02-12T16:43:35.048Z"
   },
   {
    "duration": 107,
    "start_time": "2024-02-12T16:49:15.215Z"
   },
   {
    "duration": 188021,
    "start_time": "2024-02-12T16:49:18.041Z"
   },
   {
    "duration": 1477,
    "start_time": "2024-02-12T16:55:09.241Z"
   },
   {
    "duration": 942,
    "start_time": "2024-02-12T16:55:10.720Z"
   },
   {
    "duration": 37,
    "start_time": "2024-02-12T16:55:11.664Z"
   },
   {
    "duration": 4,
    "start_time": "2024-02-12T16:55:11.702Z"
   },
   {
    "duration": 35726,
    "start_time": "2024-02-12T16:55:11.721Z"
   },
   {
    "duration": 3,
    "start_time": "2024-02-12T16:55:47.448Z"
   },
   {
    "duration": 32,
    "start_time": "2024-02-12T16:55:47.452Z"
   },
   {
    "duration": 3,
    "start_time": "2024-02-12T16:55:47.486Z"
   },
   {
    "duration": 6872,
    "start_time": "2024-02-12T16:55:47.491Z"
   },
   {
    "duration": 2,
    "start_time": "2024-02-12T16:55:54.365Z"
   },
   {
    "duration": 20,
    "start_time": "2024-02-12T16:55:54.369Z"
   },
   {
    "duration": 37,
    "start_time": "2024-02-12T16:55:54.390Z"
   },
   {
    "duration": 36653,
    "start_time": "2024-02-12T16:55:54.429Z"
   },
   {
    "duration": 1539,
    "start_time": "2024-02-12T17:28:17.184Z"
   },
   {
    "duration": 1015,
    "start_time": "2024-02-12T17:28:18.733Z"
   },
   {
    "duration": 39,
    "start_time": "2024-02-12T17:28:19.750Z"
   },
   {
    "duration": 4,
    "start_time": "2024-02-12T17:28:19.790Z"
   },
   {
    "duration": 38594,
    "start_time": "2024-02-12T17:28:19.797Z"
   },
   {
    "duration": 2,
    "start_time": "2024-02-12T17:28:58.393Z"
   },
   {
    "duration": 47,
    "start_time": "2024-02-12T17:28:58.397Z"
   },
   {
    "duration": 4,
    "start_time": "2024-02-12T17:28:58.446Z"
   },
   {
    "duration": 7438,
    "start_time": "2024-02-12T17:28:58.451Z"
   },
   {
    "duration": 2,
    "start_time": "2024-02-12T17:29:05.891Z"
   },
   {
    "duration": 137,
    "start_time": "2024-02-12T17:29:05.895Z"
   },
   {
    "duration": 0,
    "start_time": "2024-02-12T17:29:06.034Z"
   },
   {
    "duration": 0,
    "start_time": "2024-02-12T17:29:06.035Z"
   },
   {
    "duration": 298965,
    "start_time": "2024-02-12T17:53:44.529Z"
   },
   {
    "duration": 3,
    "start_time": "2024-02-12T17:59:46.422Z"
   },
   {
    "duration": 422301,
    "start_time": "2024-02-12T17:59:49.499Z"
   },
   {
    "duration": 23,
    "start_time": "2024-02-12T18:07:50.596Z"
   },
   {
    "duration": 20,
    "start_time": "2024-02-12T18:08:07.281Z"
   },
   {
    "duration": 10,
    "start_time": "2024-02-12T18:08:23.720Z"
   },
   {
    "duration": 9,
    "start_time": "2024-02-12T18:08:27.008Z"
   },
   {
    "duration": 8,
    "start_time": "2024-02-12T18:08:43.373Z"
   },
   {
    "duration": 15,
    "start_time": "2024-02-12T18:08:50.139Z"
   },
   {
    "duration": 21,
    "start_time": "2024-02-12T18:09:12.028Z"
   },
   {
    "duration": 4,
    "start_time": "2024-02-12T18:10:57.010Z"
   },
   {
    "duration": 1532,
    "start_time": "2024-02-12T18:15:42.089Z"
   },
   {
    "duration": 935,
    "start_time": "2024-02-12T18:15:43.623Z"
   },
   {
    "duration": 35,
    "start_time": "2024-02-12T18:15:44.561Z"
   },
   {
    "duration": 3,
    "start_time": "2024-02-12T18:15:44.598Z"
   },
   {
    "duration": 35834,
    "start_time": "2024-02-12T18:15:44.603Z"
   },
   {
    "duration": 2,
    "start_time": "2024-02-12T18:16:20.439Z"
   },
   {
    "duration": 29,
    "start_time": "2024-02-12T18:16:20.443Z"
   },
   {
    "duration": 4,
    "start_time": "2024-02-12T18:16:20.474Z"
   },
   {
    "duration": 6702,
    "start_time": "2024-02-12T18:16:20.479Z"
   },
   {
    "duration": 3,
    "start_time": "2024-02-12T18:16:27.183Z"
   },
   {
    "duration": 16,
    "start_time": "2024-02-12T18:16:27.188Z"
   },
   {
    "duration": 1493,
    "start_time": "2024-02-12T18:20:14.612Z"
   },
   {
    "duration": 960,
    "start_time": "2024-02-12T18:20:16.107Z"
   },
   {
    "duration": 55,
    "start_time": "2024-02-12T18:20:17.068Z"
   },
   {
    "duration": 5,
    "start_time": "2024-02-12T18:20:17.124Z"
   },
   {
    "duration": 35573,
    "start_time": "2024-02-12T18:20:17.131Z"
   },
   {
    "duration": 3,
    "start_time": "2024-02-12T18:20:52.705Z"
   },
   {
    "duration": 33,
    "start_time": "2024-02-12T18:20:52.709Z"
   },
   {
    "duration": 4,
    "start_time": "2024-02-12T18:20:52.743Z"
   },
   {
    "duration": 6621,
    "start_time": "2024-02-12T18:20:52.749Z"
   },
   {
    "duration": 4,
    "start_time": "2024-02-12T18:20:59.371Z"
   },
   {
    "duration": 12,
    "start_time": "2024-02-12T18:20:59.376Z"
   },
   {
    "duration": 1511,
    "start_time": "2024-02-12T18:25:33.711Z"
   },
   {
    "duration": 935,
    "start_time": "2024-02-12T18:25:35.224Z"
   },
   {
    "duration": 33,
    "start_time": "2024-02-12T18:25:36.160Z"
   },
   {
    "duration": 4,
    "start_time": "2024-02-12T18:25:36.194Z"
   },
   {
    "duration": 1554,
    "start_time": "2024-02-12T18:25:56.317Z"
   },
   {
    "duration": 942,
    "start_time": "2024-02-12T18:25:57.873Z"
   },
   {
    "duration": 39,
    "start_time": "2024-02-12T18:25:58.817Z"
   },
   {
    "duration": 4,
    "start_time": "2024-02-12T18:25:58.857Z"
   },
   {
    "duration": 35532,
    "start_time": "2024-02-12T18:25:58.863Z"
   },
   {
    "duration": 11,
    "start_time": "2024-02-12T18:26:34.397Z"
   },
   {
    "duration": 33,
    "start_time": "2024-02-12T18:26:34.409Z"
   },
   {
    "duration": 3,
    "start_time": "2024-02-12T18:26:34.444Z"
   },
   {
    "duration": 6793,
    "start_time": "2024-02-12T18:26:34.448Z"
   },
   {
    "duration": 3,
    "start_time": "2024-02-12T18:26:41.243Z"
   },
   {
    "duration": 9,
    "start_time": "2024-02-12T18:26:41.247Z"
   },
   {
    "duration": 535738,
    "start_time": "2024-02-12T18:26:41.257Z"
   },
   {
    "duration": 12,
    "start_time": "2024-02-12T18:35:36.996Z"
   },
   {
    "duration": 28,
    "start_time": "2024-02-12T18:35:37.010Z"
   },
   {
    "duration": 14,
    "start_time": "2024-02-12T18:35:37.040Z"
   },
   {
    "duration": 10761,
    "start_time": "2024-02-12T20:01:18.584Z"
   },
   {
    "duration": 9907,
    "start_time": "2024-02-12T20:01:42.609Z"
   },
   {
    "duration": 9769,
    "start_time": "2024-02-12T20:02:27.490Z"
   },
   {
    "duration": 9739,
    "start_time": "2024-02-12T20:02:50.743Z"
   },
   {
    "duration": 75,
    "start_time": "2024-02-12T20:03:41.952Z"
   },
   {
    "duration": 74,
    "start_time": "2024-02-12T20:03:49.122Z"
   },
   {
    "duration": 3277,
    "start_time": "2024-02-12T20:03:51.957Z"
   },
   {
    "duration": 1630,
    "start_time": "2024-02-12T20:04:09.756Z"
   },
   {
    "duration": 2822,
    "start_time": "2024-02-12T20:04:35.950Z"
   },
   {
    "duration": 521,
    "start_time": "2024-02-12T20:05:16.378Z"
   },
   {
    "duration": 3,
    "start_time": "2024-02-12T20:06:52.759Z"
   },
   {
    "duration": 3,
    "start_time": "2024-02-12T20:07:21.617Z"
   },
   {
    "duration": 448,
    "start_time": "2024-02-12T20:07:29.592Z"
   },
   {
    "duration": 76,
    "start_time": "2024-02-12T20:08:50.247Z"
   },
   {
    "duration": 459,
    "start_time": "2024-02-12T20:08:55.950Z"
   },
   {
    "duration": 3,
    "start_time": "2024-02-12T20:09:19.303Z"
   },
   {
    "duration": 6320,
    "start_time": "2024-02-12T20:21:35.138Z"
   },
   {
    "duration": 861,
    "start_time": "2024-02-12T20:21:41.460Z"
   },
   {
    "duration": 39,
    "start_time": "2024-02-12T20:21:42.322Z"
   },
   {
    "duration": 4,
    "start_time": "2024-02-12T20:21:42.362Z"
   },
   {
    "duration": 7858,
    "start_time": "2024-02-12T20:28:44.285Z"
   },
   {
    "duration": 855,
    "start_time": "2024-02-12T20:28:52.145Z"
   },
   {
    "duration": 43,
    "start_time": "2024-02-12T20:28:53.002Z"
   },
   {
    "duration": 4,
    "start_time": "2024-02-12T20:28:53.047Z"
   },
   {
    "duration": 92037,
    "start_time": "2024-02-12T20:28:53.053Z"
   },
   {
    "duration": 0,
    "start_time": "2024-02-12T20:30:25.092Z"
   },
   {
    "duration": 0,
    "start_time": "2024-02-12T20:30:25.093Z"
   },
   {
    "duration": 0,
    "start_time": "2024-02-12T20:30:25.094Z"
   },
   {
    "duration": 0,
    "start_time": "2024-02-12T20:30:25.095Z"
   },
   {
    "duration": 0,
    "start_time": "2024-02-12T20:30:25.096Z"
   },
   {
    "duration": 0,
    "start_time": "2024-02-12T20:30:25.097Z"
   },
   {
    "duration": 0,
    "start_time": "2024-02-12T20:30:25.098Z"
   },
   {
    "duration": 0,
    "start_time": "2024-02-12T20:30:25.099Z"
   },
   {
    "duration": 0,
    "start_time": "2024-02-12T20:30:25.100Z"
   },
   {
    "duration": 0,
    "start_time": "2024-02-12T20:30:25.101Z"
   },
   {
    "duration": 1662,
    "start_time": "2024-02-12T20:30:30.948Z"
   },
   {
    "duration": 5611,
    "start_time": "2024-02-12T20:30:51.476Z"
   },
   {
    "duration": 851,
    "start_time": "2024-02-12T20:30:57.089Z"
   },
   {
    "duration": 40,
    "start_time": "2024-02-12T20:30:57.942Z"
   },
   {
    "duration": 4,
    "start_time": "2024-02-12T20:30:57.983Z"
   },
   {
    "duration": 19307,
    "start_time": "2024-02-12T20:30:57.989Z"
   },
   {
    "duration": 0,
    "start_time": "2024-02-12T20:31:17.298Z"
   },
   {
    "duration": 0,
    "start_time": "2024-02-12T20:31:17.299Z"
   },
   {
    "duration": 0,
    "start_time": "2024-02-12T20:31:17.300Z"
   },
   {
    "duration": 0,
    "start_time": "2024-02-12T20:31:17.301Z"
   },
   {
    "duration": 0,
    "start_time": "2024-02-12T20:31:17.303Z"
   },
   {
    "duration": 0,
    "start_time": "2024-02-12T20:31:17.304Z"
   },
   {
    "duration": 0,
    "start_time": "2024-02-12T20:31:17.305Z"
   },
   {
    "duration": 0,
    "start_time": "2024-02-12T20:31:17.306Z"
   },
   {
    "duration": 0,
    "start_time": "2024-02-12T20:31:17.307Z"
   },
   {
    "duration": 0,
    "start_time": "2024-02-12T20:31:17.308Z"
   },
   {
    "duration": 3956,
    "start_time": "2024-02-12T20:31:43.450Z"
   },
   {
    "duration": 7562,
    "start_time": "2024-02-12T20:31:58.618Z"
   },
   {
    "duration": 848,
    "start_time": "2024-02-12T20:32:06.183Z"
   },
   {
    "duration": 45,
    "start_time": "2024-02-12T20:32:07.032Z"
   },
   {
    "duration": 5,
    "start_time": "2024-02-12T20:32:07.079Z"
   },
   {
    "duration": 82376,
    "start_time": "2024-02-12T20:32:07.086Z"
   },
   {
    "duration": 0,
    "start_time": "2024-02-12T20:33:29.464Z"
   },
   {
    "duration": 1,
    "start_time": "2024-02-12T20:33:29.465Z"
   },
   {
    "duration": 0,
    "start_time": "2024-02-12T20:33:29.467Z"
   },
   {
    "duration": 0,
    "start_time": "2024-02-12T20:33:29.468Z"
   },
   {
    "duration": 0,
    "start_time": "2024-02-12T20:33:29.469Z"
   },
   {
    "duration": 0,
    "start_time": "2024-02-12T20:33:29.471Z"
   },
   {
    "duration": 0,
    "start_time": "2024-02-12T20:33:29.472Z"
   },
   {
    "duration": 0,
    "start_time": "2024-02-12T20:33:29.473Z"
   },
   {
    "duration": 0,
    "start_time": "2024-02-12T20:33:29.474Z"
   },
   {
    "duration": 0,
    "start_time": "2024-02-12T20:33:29.475Z"
   },
   {
    "duration": 849,
    "start_time": "2024-02-12T20:33:37.365Z"
   },
   {
    "duration": 6,
    "start_time": "2024-02-12T20:34:23.687Z"
   },
   {
    "duration": 6,
    "start_time": "2024-02-12T20:34:27.195Z"
   },
   {
    "duration": 79,
    "start_time": "2024-02-12T20:35:08.550Z"
   },
   {
    "duration": 430,
    "start_time": "2024-02-12T20:35:12.101Z"
   },
   {
    "duration": 872,
    "start_time": "2024-02-12T20:35:31.650Z"
   },
   {
    "duration": 4,
    "start_time": "2024-02-12T20:36:28.041Z"
   },
   {
    "duration": 790,
    "start_time": "2024-02-12T20:36:30.199Z"
   },
   {
    "duration": 4,
    "start_time": "2024-02-12T20:37:06.283Z"
   },
   {
    "duration": 1100,
    "start_time": "2024-02-12T20:37:07.875Z"
   },
   {
    "duration": 4,
    "start_time": "2024-02-12T20:37:46.322Z"
   },
   {
    "duration": 812,
    "start_time": "2024-02-12T20:37:56.274Z"
   },
   {
    "duration": 4,
    "start_time": "2024-02-12T20:38:46.317Z"
   },
   {
    "duration": 851,
    "start_time": "2024-02-12T20:38:47.836Z"
   },
   {
    "duration": 3,
    "start_time": "2024-02-12T20:38:54.953Z"
   },
   {
    "duration": 848,
    "start_time": "2024-02-12T20:38:56.628Z"
   },
   {
    "duration": 2,
    "start_time": "2024-02-12T20:39:49.669Z"
   },
   {
    "duration": 4817,
    "start_time": "2024-02-12T20:39:57.280Z"
   },
   {
    "duration": 7,
    "start_time": "2024-02-12T20:40:20.901Z"
   },
   {
    "duration": 4414,
    "start_time": "2024-02-12T20:43:18.832Z"
   },
   {
    "duration": 4444,
    "start_time": "2024-02-12T20:43:33.882Z"
   },
   {
    "duration": 4386,
    "start_time": "2024-02-12T20:43:45.240Z"
   },
   {
    "duration": 77,
    "start_time": "2024-02-12T20:43:57.756Z"
   },
   {
    "duration": 7820,
    "start_time": "2024-02-12T20:44:03.477Z"
   },
   {
    "duration": 862,
    "start_time": "2024-02-12T20:44:11.299Z"
   },
   {
    "duration": 39,
    "start_time": "2024-02-12T20:44:12.162Z"
   },
   {
    "duration": 4,
    "start_time": "2024-02-12T20:44:12.202Z"
   },
   {
    "duration": 75,
    "start_time": "2024-02-12T20:44:12.220Z"
   },
   {
    "duration": 0,
    "start_time": "2024-02-12T20:44:12.297Z"
   },
   {
    "duration": 0,
    "start_time": "2024-02-12T20:44:12.298Z"
   },
   {
    "duration": 0,
    "start_time": "2024-02-12T20:44:12.299Z"
   },
   {
    "duration": 0,
    "start_time": "2024-02-12T20:44:12.300Z"
   },
   {
    "duration": 0,
    "start_time": "2024-02-12T20:44:12.301Z"
   },
   {
    "duration": 0,
    "start_time": "2024-02-12T20:44:12.302Z"
   },
   {
    "duration": 0,
    "start_time": "2024-02-12T20:44:12.303Z"
   },
   {
    "duration": 0,
    "start_time": "2024-02-12T20:44:12.304Z"
   },
   {
    "duration": 0,
    "start_time": "2024-02-12T20:44:12.305Z"
   },
   {
    "duration": 0,
    "start_time": "2024-02-12T20:44:12.306Z"
   },
   {
    "duration": 0,
    "start_time": "2024-02-12T20:44:12.307Z"
   },
   {
    "duration": 0,
    "start_time": "2024-02-12T20:44:12.308Z"
   },
   {
    "duration": 3,
    "start_time": "2024-02-12T20:44:20.628Z"
   },
   {
    "duration": 4654,
    "start_time": "2024-02-12T20:44:23.287Z"
   },
   {
    "duration": 9,
    "start_time": "2024-02-12T20:46:02.012Z"
   },
   {
    "duration": 6,
    "start_time": "2024-02-12T20:46:06.804Z"
   },
   {
    "duration": 11548,
    "start_time": "2024-02-12T20:46:54.852Z"
   },
   {
    "duration": 9,
    "start_time": "2024-02-12T20:47:17.617Z"
   },
   {
    "duration": 28341,
    "start_time": "2024-02-12T20:47:19.607Z"
   },
   {
    "duration": 6,
    "start_time": "2024-02-12T20:47:51.088Z"
   },
   {
    "duration": 7789,
    "start_time": "2024-02-12T20:48:03.780Z"
   },
   {
    "duration": 859,
    "start_time": "2024-02-12T20:48:11.572Z"
   },
   {
    "duration": 41,
    "start_time": "2024-02-12T20:48:12.432Z"
   },
   {
    "duration": 3,
    "start_time": "2024-02-12T20:48:12.475Z"
   },
   {
    "duration": 4,
    "start_time": "2024-02-12T20:48:12.480Z"
   },
   {
    "duration": 33,
    "start_time": "2024-02-12T20:48:12.485Z"
   },
   {
    "duration": 6762,
    "start_time": "2024-02-12T20:48:12.520Z"
   },
   {
    "duration": 0,
    "start_time": "2024-02-12T20:48:19.284Z"
   },
   {
    "duration": 0,
    "start_time": "2024-02-12T20:48:19.285Z"
   },
   {
    "duration": 0,
    "start_time": "2024-02-12T20:48:19.286Z"
   },
   {
    "duration": 0,
    "start_time": "2024-02-12T20:48:19.288Z"
   },
   {
    "duration": 0,
    "start_time": "2024-02-12T20:48:19.288Z"
   },
   {
    "duration": 0,
    "start_time": "2024-02-12T20:48:19.290Z"
   },
   {
    "duration": 0,
    "start_time": "2024-02-12T20:48:19.291Z"
   },
   {
    "duration": 0,
    "start_time": "2024-02-12T20:48:19.292Z"
   },
   {
    "duration": 0,
    "start_time": "2024-02-12T20:48:19.293Z"
   },
   {
    "duration": 0,
    "start_time": "2024-02-12T20:48:19.294Z"
   },
   {
    "duration": 0,
    "start_time": "2024-02-12T20:48:19.295Z"
   },
   {
    "duration": 0,
    "start_time": "2024-02-12T20:48:19.296Z"
   },
   {
    "duration": 4562,
    "start_time": "2024-02-12T20:48:56.502Z"
   },
   {
    "duration": 7720,
    "start_time": "2024-02-12T20:49:18.551Z"
   },
   {
    "duration": 0,
    "start_time": "2024-02-12T20:49:26.273Z"
   },
   {
    "duration": 0,
    "start_time": "2024-02-12T20:49:26.274Z"
   },
   {
    "duration": 0,
    "start_time": "2024-02-12T20:49:26.276Z"
   },
   {
    "duration": 0,
    "start_time": "2024-02-12T20:49:26.277Z"
   },
   {
    "duration": 0,
    "start_time": "2024-02-12T20:49:26.279Z"
   },
   {
    "duration": 0,
    "start_time": "2024-02-12T20:49:26.280Z"
   },
   {
    "duration": 0,
    "start_time": "2024-02-12T20:49:26.282Z"
   },
   {
    "duration": 0,
    "start_time": "2024-02-12T20:49:26.283Z"
   },
   {
    "duration": 0,
    "start_time": "2024-02-12T20:49:26.284Z"
   },
   {
    "duration": 0,
    "start_time": "2024-02-12T20:49:26.286Z"
   },
   {
    "duration": 0,
    "start_time": "2024-02-12T20:49:26.288Z"
   },
   {
    "duration": 0,
    "start_time": "2024-02-12T20:49:26.289Z"
   },
   {
    "duration": 0,
    "start_time": "2024-02-12T20:49:26.290Z"
   },
   {
    "duration": 0,
    "start_time": "2024-02-12T20:49:26.292Z"
   },
   {
    "duration": 9066,
    "start_time": "2024-02-12T20:49:50.269Z"
   },
   {
    "duration": 837,
    "start_time": "2024-02-12T20:49:59.338Z"
   },
   {
    "duration": 51,
    "start_time": "2024-02-12T20:50:00.176Z"
   },
   {
    "duration": 36,
    "start_time": "2024-02-12T20:50:00.229Z"
   },
   {
    "duration": 186468,
    "start_time": "2024-02-12T20:50:00.267Z"
   },
   {
    "duration": 0,
    "start_time": "2024-02-12T20:53:06.738Z"
   },
   {
    "duration": 0,
    "start_time": "2024-02-12T20:53:06.739Z"
   },
   {
    "duration": 0,
    "start_time": "2024-02-12T20:53:06.740Z"
   },
   {
    "duration": 0,
    "start_time": "2024-02-12T20:53:06.741Z"
   },
   {
    "duration": 0,
    "start_time": "2024-02-12T20:53:06.743Z"
   },
   {
    "duration": 0,
    "start_time": "2024-02-12T20:53:06.744Z"
   },
   {
    "duration": 0,
    "start_time": "2024-02-12T20:53:06.745Z"
   },
   {
    "duration": 0,
    "start_time": "2024-02-12T20:53:06.747Z"
   },
   {
    "duration": 1,
    "start_time": "2024-02-12T20:53:06.747Z"
   },
   {
    "duration": 0,
    "start_time": "2024-02-12T20:53:06.748Z"
   },
   {
    "duration": 23488,
    "start_time": "2024-02-12T20:53:38.915Z"
   },
   {
    "duration": 6037,
    "start_time": "2024-02-12T20:54:08.692Z"
   },
   {
    "duration": 8023,
    "start_time": "2024-02-12T20:55:03.503Z"
   },
   {
    "duration": 5688,
    "start_time": "2024-02-12T20:55:54.902Z"
   },
   {
    "duration": 2220,
    "start_time": "2024-02-12T20:56:04.597Z"
   },
   {
    "duration": 10,
    "start_time": "2024-02-12T20:56:53.076Z"
   },
   {
    "duration": 4,
    "start_time": "2024-02-12T20:58:25.769Z"
   },
   {
    "duration": 10,
    "start_time": "2024-02-12T20:58:27.177Z"
   },
   {
    "duration": 9,
    "start_time": "2024-02-12T20:58:33.982Z"
   },
   {
    "duration": 3,
    "start_time": "2024-02-12T20:58:54.164Z"
   },
   {
    "duration": 9,
    "start_time": "2024-02-12T20:58:55.906Z"
   },
   {
    "duration": 119885,
    "start_time": "2024-02-12T20:59:41.360Z"
   },
   {
    "duration": 3,
    "start_time": "2024-02-12T21:01:52.243Z"
   },
   {
    "duration": 64,
    "start_time": "2024-02-12T21:02:00.118Z"
   },
   {
    "duration": 8,
    "start_time": "2024-02-12T21:02:08.531Z"
   },
   {
    "duration": 16210,
    "start_time": "2024-02-12T21:02:28.327Z"
   },
   {
    "duration": 16068,
    "start_time": "2024-02-12T21:02:48.440Z"
   },
   {
    "duration": 848,
    "start_time": "2024-02-12T21:03:04.510Z"
   },
   {
    "duration": 41,
    "start_time": "2024-02-12T21:03:05.360Z"
   },
   {
    "duration": 3,
    "start_time": "2024-02-12T21:03:05.403Z"
   },
   {
    "duration": 938419,
    "start_time": "2024-02-12T21:03:05.407Z"
   },
   {
    "duration": 0,
    "start_time": "2024-02-12T21:18:43.828Z"
   },
   {
    "duration": 0,
    "start_time": "2024-02-12T21:18:43.829Z"
   },
   {
    "duration": 0,
    "start_time": "2024-02-12T21:18:43.830Z"
   },
   {
    "duration": 0,
    "start_time": "2024-02-12T21:18:43.831Z"
   },
   {
    "duration": 0,
    "start_time": "2024-02-12T21:18:43.832Z"
   },
   {
    "duration": 0,
    "start_time": "2024-02-12T21:18:43.834Z"
   },
   {
    "duration": 0,
    "start_time": "2024-02-12T21:18:43.835Z"
   },
   {
    "duration": 0,
    "start_time": "2024-02-12T21:18:43.836Z"
   },
   {
    "duration": 0,
    "start_time": "2024-02-12T21:18:43.837Z"
   },
   {
    "duration": 0,
    "start_time": "2024-02-12T21:18:43.838Z"
   },
   {
    "duration": 10243,
    "start_time": "2024-02-13T05:06:50.210Z"
   },
   {
    "duration": 2547,
    "start_time": "2024-02-13T05:07:00.455Z"
   },
   {
    "duration": 49,
    "start_time": "2024-02-13T05:07:03.004Z"
   },
   {
    "duration": 4,
    "start_time": "2024-02-13T05:07:03.054Z"
   },
   {
    "duration": 33940,
    "start_time": "2024-02-13T05:07:03.060Z"
   },
   {
    "duration": 3,
    "start_time": "2024-02-13T05:07:37.002Z"
   },
   {
    "duration": 42,
    "start_time": "2024-02-13T05:07:37.007Z"
   },
   {
    "duration": 4,
    "start_time": "2024-02-13T05:07:37.051Z"
   },
   {
    "duration": 3187,
    "start_time": "2024-02-13T05:07:37.057Z"
   },
   {
    "duration": 0,
    "start_time": "2024-02-13T05:07:40.246Z"
   },
   {
    "duration": 0,
    "start_time": "2024-02-13T05:07:40.247Z"
   },
   {
    "duration": 0,
    "start_time": "2024-02-13T05:07:40.248Z"
   },
   {
    "duration": 0,
    "start_time": "2024-02-13T05:07:40.249Z"
   },
   {
    "duration": 0,
    "start_time": "2024-02-13T05:07:40.250Z"
   },
   {
    "duration": 0,
    "start_time": "2024-02-13T05:07:40.271Z"
   },
   {
    "duration": 4,
    "start_time": "2024-02-13T05:09:01.106Z"
   },
   {
    "duration": 611270,
    "start_time": "2024-02-13T05:09:02.406Z"
   },
   {
    "duration": 69,
    "start_time": "2024-02-13T05:19:17.244Z"
   },
   {
    "duration": 475,
    "start_time": "2024-02-13T05:19:51.145Z"
   },
   {
    "duration": 8,
    "start_time": "2024-02-13T05:20:19.627Z"
   },
   {
    "duration": 9,
    "start_time": "2024-02-13T05:20:25.677Z"
   },
   {
    "duration": 9,
    "start_time": "2024-02-13T05:21:02.034Z"
   },
   {
    "duration": 22,
    "start_time": "2024-02-13T05:21:55.516Z"
   },
   {
    "duration": 5,
    "start_time": "2024-02-13T05:22:40.111Z"
   },
   {
    "duration": 23,
    "start_time": "2024-02-13T05:38:49.798Z"
   },
   {
    "duration": 6,
    "start_time": "2024-02-13T05:39:28.108Z"
   },
   {
    "duration": 9,
    "start_time": "2024-02-13T05:40:59.104Z"
   },
   {
    "duration": 50,
    "start_time": "2024-02-13T05:41:30.645Z"
   },
   {
    "duration": 6,
    "start_time": "2024-02-13T05:41:48.008Z"
   },
   {
    "duration": 4,
    "start_time": "2024-02-13T05:41:48.914Z"
   },
   {
    "duration": 4,
    "start_time": "2024-02-13T05:42:08.226Z"
   },
   {
    "duration": 7,
    "start_time": "2024-02-13T05:45:22.276Z"
   },
   {
    "duration": 5,
    "start_time": "2024-02-13T05:45:25.375Z"
   },
   {
    "duration": 6,
    "start_time": "2024-02-13T05:45:37.235Z"
   },
   {
    "duration": 4,
    "start_time": "2024-02-13T05:45:38.264Z"
   },
   {
    "duration": 4,
    "start_time": "2024-02-13T05:47:02.371Z"
   },
   {
    "duration": 7,
    "start_time": "2024-02-13T05:49:04.795Z"
   },
   {
    "duration": 18,
    "start_time": "2024-02-13T05:49:16.945Z"
   },
   {
    "duration": 3,
    "start_time": "2024-02-13T05:49:41.456Z"
   },
   {
    "duration": 3,
    "start_time": "2024-02-13T05:50:09.936Z"
   },
   {
    "duration": 19,
    "start_time": "2024-02-13T05:50:20.466Z"
   },
   {
    "duration": 846,
    "start_time": "2024-02-13T05:50:28.286Z"
   },
   {
    "duration": 7,
    "start_time": "2024-02-13T05:50:47.566Z"
   },
   {
    "duration": 2755,
    "start_time": "2024-02-13T05:50:51.107Z"
   },
   {
    "duration": 932,
    "start_time": "2024-02-13T05:52:00.795Z"
   },
   {
    "duration": 8,
    "start_time": "2024-02-13T05:52:09.067Z"
   },
   {
    "duration": 25,
    "start_time": "2024-02-13T05:53:24.842Z"
   },
   {
    "duration": 8,
    "start_time": "2024-02-13T05:53:27.937Z"
   },
   {
    "duration": 9,
    "start_time": "2024-02-13T05:53:29.376Z"
   },
   {
    "duration": 5,
    "start_time": "2024-02-13T05:54:01.108Z"
   },
   {
    "duration": 31546,
    "start_time": "2024-02-13T05:54:11.215Z"
   },
   {
    "duration": 6943,
    "start_time": "2024-02-13T05:54:47.696Z"
   },
   {
    "duration": 5,
    "start_time": "2024-02-13T05:57:17.200Z"
   },
   {
    "duration": 26,
    "start_time": "2024-02-13T05:57:19.146Z"
   },
   {
    "duration": 348,
    "start_time": "2024-02-13T05:57:22.556Z"
   },
   {
    "duration": 5,
    "start_time": "2024-02-13T05:57:33.814Z"
   },
   {
    "duration": 9,
    "start_time": "2024-02-13T05:57:34.955Z"
   },
   {
    "duration": 7,
    "start_time": "2024-02-13T05:57:54.721Z"
   },
   {
    "duration": 5,
    "start_time": "2024-02-13T06:01:14.347Z"
   },
   {
    "duration": 5,
    "start_time": "2024-02-13T06:01:52.925Z"
   },
   {
    "duration": 427,
    "start_time": "2024-02-13T06:01:58.076Z"
   },
   {
    "duration": 280,
    "start_time": "2024-02-13T06:02:15.767Z"
   },
   {
    "duration": 5,
    "start_time": "2024-02-13T06:02:20.157Z"
   },
   {
    "duration": 534,
    "start_time": "2024-02-13T06:02:22.177Z"
   },
   {
    "duration": 13,
    "start_time": "2024-02-13T06:02:48.137Z"
   },
   {
    "duration": 5,
    "start_time": "2024-02-13T06:02:51.507Z"
   },
   {
    "duration": 10,
    "start_time": "2024-02-13T06:02:52.914Z"
   },
   {
    "duration": 231847,
    "start_time": "2024-02-13T06:02:59.256Z"
   },
   {
    "duration": 5,
    "start_time": "2024-02-13T06:06:58.176Z"
   },
   {
    "duration": 404,
    "start_time": "2024-02-13T06:07:00.476Z"
   },
   {
    "duration": 6,
    "start_time": "2024-02-13T06:07:25.118Z"
   },
   {
    "duration": 10,
    "start_time": "2024-02-13T06:07:27.276Z"
   },
   {
    "duration": 5,
    "start_time": "2024-02-13T06:07:43.707Z"
   },
   {
    "duration": 9,
    "start_time": "2024-02-13T06:07:44.399Z"
   },
   {
    "duration": 6,
    "start_time": "2024-02-13T06:08:08.280Z"
   },
   {
    "duration": 10,
    "start_time": "2024-02-13T06:08:09.640Z"
   },
   {
    "duration": 9,
    "start_time": "2024-02-13T06:08:44.856Z"
   },
   {
    "duration": 14,
    "start_time": "2024-02-13T06:08:45.603Z"
   },
   {
    "duration": 5,
    "start_time": "2024-02-13T06:08:53.756Z"
   },
   {
    "duration": 1758,
    "start_time": "2024-02-13T06:09:38.256Z"
   },
   {
    "duration": 1046,
    "start_time": "2024-02-13T06:09:40.016Z"
   },
   {
    "duration": 60,
    "start_time": "2024-02-13T06:09:41.064Z"
   },
   {
    "duration": 6,
    "start_time": "2024-02-13T06:09:41.125Z"
   },
   {
    "duration": 1593,
    "start_time": "2024-02-13T06:09:41.133Z"
   },
   {
    "duration": 20099,
    "start_time": "2024-02-13T06:09:42.728Z"
   },
   {
    "duration": 0,
    "start_time": "2024-02-13T06:10:02.829Z"
   },
   {
    "duration": 0,
    "start_time": "2024-02-13T06:10:02.830Z"
   },
   {
    "duration": 0,
    "start_time": "2024-02-13T06:10:02.832Z"
   },
   {
    "duration": 0,
    "start_time": "2024-02-13T06:10:02.833Z"
   },
   {
    "duration": 0,
    "start_time": "2024-02-13T06:10:02.835Z"
   },
   {
    "duration": 0,
    "start_time": "2024-02-13T06:10:02.836Z"
   },
   {
    "duration": 0,
    "start_time": "2024-02-13T06:10:02.837Z"
   },
   {
    "duration": 0,
    "start_time": "2024-02-13T06:10:02.839Z"
   },
   {
    "duration": 0,
    "start_time": "2024-02-13T06:10:02.839Z"
   },
   {
    "duration": 0,
    "start_time": "2024-02-13T06:10:02.841Z"
   },
   {
    "duration": 1605,
    "start_time": "2024-02-13T06:10:11.734Z"
   },
   {
    "duration": 1014,
    "start_time": "2024-02-13T06:10:13.341Z"
   },
   {
    "duration": 43,
    "start_time": "2024-02-13T06:10:14.356Z"
   },
   {
    "duration": 24,
    "start_time": "2024-02-13T06:10:14.401Z"
   },
   {
    "duration": 384073,
    "start_time": "2024-02-13T06:10:14.427Z"
   },
   {
    "duration": 0,
    "start_time": "2024-02-13T06:16:38.501Z"
   },
   {
    "duration": 0,
    "start_time": "2024-02-13T06:16:38.503Z"
   },
   {
    "duration": 0,
    "start_time": "2024-02-13T06:16:38.504Z"
   },
   {
    "duration": 0,
    "start_time": "2024-02-13T06:16:38.506Z"
   },
   {
    "duration": 0,
    "start_time": "2024-02-13T06:16:38.507Z"
   },
   {
    "duration": 0,
    "start_time": "2024-02-13T06:16:38.508Z"
   },
   {
    "duration": 0,
    "start_time": "2024-02-13T06:16:38.509Z"
   },
   {
    "duration": 0,
    "start_time": "2024-02-13T06:16:38.510Z"
   },
   {
    "duration": 0,
    "start_time": "2024-02-13T06:16:38.511Z"
   },
   {
    "duration": 0,
    "start_time": "2024-02-13T06:16:38.512Z"
   },
   {
    "duration": 17,
    "start_time": "2024-02-13T06:17:24.487Z"
   },
   {
    "duration": 6,
    "start_time": "2024-02-13T06:17:36.798Z"
   },
   {
    "duration": 15,
    "start_time": "2024-02-13T06:17:41.147Z"
   },
   {
    "duration": 7,
    "start_time": "2024-02-13T06:21:08.597Z"
   },
   {
    "duration": 9,
    "start_time": "2024-02-13T06:21:13.399Z"
   },
   {
    "duration": 7,
    "start_time": "2024-02-13T06:21:28.535Z"
   },
   {
    "duration": 7308,
    "start_time": "2024-02-13T06:22:43.410Z"
   },
   {
    "duration": 20674,
    "start_time": "2024-02-13T06:23:39.901Z"
   },
   {
    "duration": 16,
    "start_time": "2024-02-13T06:24:11.558Z"
   },
   {
    "duration": 10,
    "start_time": "2024-02-13T06:24:24.677Z"
   },
   {
    "duration": 134,
    "start_time": "2024-02-13T06:25:13.738Z"
   },
   {
    "duration": 14,
    "start_time": "2024-02-13T06:25:23.127Z"
   },
   {
    "duration": 14,
    "start_time": "2024-02-13T06:25:41.538Z"
   },
   {
    "duration": 5,
    "start_time": "2024-02-13T06:27:22.628Z"
   },
   {
    "duration": 5,
    "start_time": "2024-02-13T06:28:52.547Z"
   },
   {
    "duration": 10,
    "start_time": "2024-02-13T06:28:53.400Z"
   },
   {
    "duration": 4,
    "start_time": "2024-02-13T06:29:48.054Z"
   },
   {
    "duration": 12,
    "start_time": "2024-02-13T06:30:04.180Z"
   },
   {
    "duration": 4,
    "start_time": "2024-02-13T06:30:29.332Z"
   },
   {
    "duration": 1635,
    "start_time": "2024-02-13T06:30:36.307Z"
   },
   {
    "duration": 1008,
    "start_time": "2024-02-13T06:30:37.945Z"
   },
   {
    "duration": 69,
    "start_time": "2024-02-13T06:30:38.955Z"
   },
   {
    "duration": 5,
    "start_time": "2024-02-13T06:30:39.026Z"
   },
   {
    "duration": 214845,
    "start_time": "2024-02-13T06:30:39.033Z"
   },
   {
    "duration": 0,
    "start_time": "2024-02-13T06:34:13.880Z"
   },
   {
    "duration": 0,
    "start_time": "2024-02-13T06:34:13.882Z"
   },
   {
    "duration": 0,
    "start_time": "2024-02-13T06:34:13.883Z"
   },
   {
    "duration": 0,
    "start_time": "2024-02-13T06:34:13.884Z"
   },
   {
    "duration": 0,
    "start_time": "2024-02-13T06:34:13.886Z"
   },
   {
    "duration": 0,
    "start_time": "2024-02-13T06:34:13.887Z"
   },
   {
    "duration": 0,
    "start_time": "2024-02-13T06:34:13.889Z"
   },
   {
    "duration": 0,
    "start_time": "2024-02-13T06:34:13.891Z"
   },
   {
    "duration": 0,
    "start_time": "2024-02-13T06:34:13.893Z"
   },
   {
    "duration": 0,
    "start_time": "2024-02-13T06:34:13.894Z"
   },
   {
    "duration": 9,
    "start_time": "2024-02-13T06:34:43.458Z"
   },
   {
    "duration": 1637,
    "start_time": "2024-02-13T06:34:52.412Z"
   },
   {
    "duration": 1053,
    "start_time": "2024-02-13T06:34:54.051Z"
   },
   {
    "duration": 49,
    "start_time": "2024-02-13T06:34:55.107Z"
   },
   {
    "duration": 6,
    "start_time": "2024-02-13T06:34:55.159Z"
   },
   {
    "duration": 12260,
    "start_time": "2024-02-13T06:34:55.167Z"
   },
   {
    "duration": 0,
    "start_time": "2024-02-13T06:35:07.429Z"
   },
   {
    "duration": 0,
    "start_time": "2024-02-13T06:35:07.430Z"
   },
   {
    "duration": 0,
    "start_time": "2024-02-13T06:35:07.431Z"
   },
   {
    "duration": 0,
    "start_time": "2024-02-13T06:35:07.433Z"
   },
   {
    "duration": 0,
    "start_time": "2024-02-13T06:35:07.434Z"
   },
   {
    "duration": 0,
    "start_time": "2024-02-13T06:35:07.435Z"
   },
   {
    "duration": 0,
    "start_time": "2024-02-13T06:35:07.437Z"
   },
   {
    "duration": 0,
    "start_time": "2024-02-13T06:35:07.438Z"
   },
   {
    "duration": 0,
    "start_time": "2024-02-13T06:35:07.439Z"
   },
   {
    "duration": 0,
    "start_time": "2024-02-13T06:35:07.440Z"
   },
   {
    "duration": 13,
    "start_time": "2024-02-13T06:35:15.268Z"
   },
   {
    "duration": 1568,
    "start_time": "2024-02-13T06:35:57.546Z"
   },
   {
    "duration": 1019,
    "start_time": "2024-02-13T06:35:59.116Z"
   },
   {
    "duration": 44,
    "start_time": "2024-02-13T06:36:00.137Z"
   },
   {
    "duration": 20,
    "start_time": "2024-02-13T06:36:00.183Z"
   },
   {
    "duration": 599139,
    "start_time": "2024-02-13T06:36:00.206Z"
   },
   {
    "duration": 4,
    "start_time": "2024-02-13T06:45:59.347Z"
   },
   {
    "duration": 81,
    "start_time": "2024-02-13T06:45:59.353Z"
   },
   {
    "duration": 4,
    "start_time": "2024-02-13T06:45:59.436Z"
   },
   {
    "duration": 7237,
    "start_time": "2024-02-13T06:45:59.442Z"
   },
   {
    "duration": 4,
    "start_time": "2024-02-13T06:46:06.681Z"
   },
   {
    "duration": 5,
    "start_time": "2024-02-13T06:46:06.686Z"
   },
   {
    "duration": 555618,
    "start_time": "2024-02-13T06:46:06.692Z"
   },
   {
    "duration": 19,
    "start_time": "2024-02-13T06:55:22.312Z"
   },
   {
    "duration": 31,
    "start_time": "2024-02-13T06:55:22.334Z"
   },
   {
    "duration": 26,
    "start_time": "2024-02-13T06:55:22.366Z"
   }
  ],
  "kernelspec": {
   "display_name": "Python 3 (ipykernel)",
   "language": "python",
   "name": "python3"
  },
  "language_info": {
   "codemirror_mode": {
    "name": "ipython",
    "version": 3
   },
   "file_extension": ".py",
   "mimetype": "text/x-python",
   "name": "python",
   "nbconvert_exporter": "python",
   "pygments_lexer": "ipython3",
   "version": "3.9.17"
  },
  "toc": {
   "base_numbering": 1,
   "nav_menu": {},
   "number_sections": true,
   "sideBar": true,
   "skip_h1_title": true,
   "title_cell": "Содержание",
   "title_sidebar": "Contents",
   "toc_cell": true,
   "toc_position": {
    "height": "calc(100% - 180px)",
    "left": "10px",
    "top": "150px",
    "width": "208px"
   },
   "toc_section_display": true,
   "toc_window_display": true
  }
 },
 "nbformat": 4,
 "nbformat_minor": 4
}
