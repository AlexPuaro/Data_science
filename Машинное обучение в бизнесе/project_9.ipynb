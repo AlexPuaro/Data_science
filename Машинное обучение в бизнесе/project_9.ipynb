{
 "cells": [
  {
   "cell_type": "markdown",
   "metadata": {},
   "source": [
    "# Выбор локации для скважины"
   ]
  },
  {
   "cell_type": "markdown",
   "metadata": {},
   "source": [
    "**Описание исследования**\n",
    "\n",
    "Компания «ГлавРосГосНефть» предоставила пробы нефти в трёх регионах: в каждом 10 000 месторождений, где измерено качество нефти и объём её запасов.\n",
    "\n",
    "**Цель исследования**\n",
    "\n",
    "Выбрать в каком регионе бурить новую скважину.\n",
    "\n",
    "**Задачи исследования**\n",
    "\n",
    "- Построить модель машинного обучения, которая поможет определить регион, где добыча принесёт наибольшую прибыль.\n",
    "- Проанализировать возможную прибыль и риски техникой Bootstrap.\n",
    "\n",
    "**Описание данных**\n",
    "\n",
    "Данные геологоразведки трёх регионов находятся в трех разных CSV-файлах, где столбцы:\n",
    "- id — уникальный идентификатор скважины;\n",
    "- f0, f1, f2 — три признака точек;\n",
    "- product — объём запасов в скважине (тыс. баррелей)."
   ]
  },
  {
   "cell_type": "code",
   "execution_count": 1,
   "metadata": {},
   "outputs": [],
   "source": [
    "#загрузка библиотек\n",
    "import pandas as pd\n",
    "import numpy as np\n",
    "import matplotlib.pyplot as plt\n",
    "import seaborn as sns\n",
    "\n",
    "!pip install phik -q\n",
    "import phik\n",
    "from phik.report import plot_correlation_matrix\n",
    "\n",
    "from sklearn.model_selection import train_test_split\n",
    "from sklearn.linear_model import LinearRegression\n",
    "from sklearn.metrics import mean_squared_error\n",
    "\n",
    "RANDOM_STATE = 42\n",
    "TEST_SIZE = 0.25"
   ]
  },
  {
   "cell_type": "markdown",
   "metadata": {},
   "source": [
    "## Загрузка и подготовка данных"
   ]
  },
  {
   "cell_type": "code",
   "execution_count": 2,
   "metadata": {},
   "outputs": [],
   "source": [
    "try:\n",
    "    geo_0 = pd.read_csv('geo_data_0.csv')\n",
    "    geo_1 = pd.read_csv('geo_data_1.csv')\n",
    "    geo_2 = pd.read_csv('geo_data_2.csv')\n",
    "except:\n",
    "    geo_0 = pd.read_csv('https://code.s3.yandex.net/datasets/geo_data_0.csv')\n",
    "    geo_1 = pd.read_csv('https://code.s3.yandex.net/datasets/geo_data_1.csv')\n",
    "    geo_2 = pd.read_csv('https://code.s3.yandex.net/datasets/geo_data_2.csv')"
   ]
  },
  {
   "cell_type": "code",
   "execution_count": 3,
   "metadata": {},
   "outputs": [
    {
     "name": "stdout",
     "output_type": "stream",
     "text": [
      "<class 'pandas.core.frame.DataFrame'>\n",
      "RangeIndex: 100000 entries, 0 to 99999\n",
      "Data columns (total 5 columns):\n",
      " #   Column   Non-Null Count   Dtype  \n",
      "---  ------   --------------   -----  \n",
      " 0   id       100000 non-null  object \n",
      " 1   f0       100000 non-null  float64\n",
      " 2   f1       100000 non-null  float64\n",
      " 3   f2       100000 non-null  float64\n",
      " 4   product  100000 non-null  float64\n",
      "dtypes: float64(4), object(1)\n",
      "memory usage: 3.8+ MB\n"
     ]
    },
    {
     "data": {
      "text/html": [
       "<div>\n",
       "<style scoped>\n",
       "    .dataframe tbody tr th:only-of-type {\n",
       "        vertical-align: middle;\n",
       "    }\n",
       "\n",
       "    .dataframe tbody tr th {\n",
       "        vertical-align: top;\n",
       "    }\n",
       "\n",
       "    .dataframe thead th {\n",
       "        text-align: right;\n",
       "    }\n",
       "</style>\n",
       "<table border=\"1\" class=\"dataframe\">\n",
       "  <thead>\n",
       "    <tr style=\"text-align: right;\">\n",
       "      <th></th>\n",
       "      <th>id</th>\n",
       "      <th>f0</th>\n",
       "      <th>f1</th>\n",
       "      <th>f2</th>\n",
       "      <th>product</th>\n",
       "    </tr>\n",
       "  </thead>\n",
       "  <tbody>\n",
       "    <tr>\n",
       "      <th>0</th>\n",
       "      <td>txEyH</td>\n",
       "      <td>0.705745</td>\n",
       "      <td>-0.497823</td>\n",
       "      <td>1.221170</td>\n",
       "      <td>105.280062</td>\n",
       "    </tr>\n",
       "    <tr>\n",
       "      <th>1</th>\n",
       "      <td>2acmU</td>\n",
       "      <td>1.334711</td>\n",
       "      <td>-0.340164</td>\n",
       "      <td>4.365080</td>\n",
       "      <td>73.037750</td>\n",
       "    </tr>\n",
       "    <tr>\n",
       "      <th>2</th>\n",
       "      <td>409Wp</td>\n",
       "      <td>1.022732</td>\n",
       "      <td>0.151990</td>\n",
       "      <td>1.419926</td>\n",
       "      <td>85.265647</td>\n",
       "    </tr>\n",
       "    <tr>\n",
       "      <th>3</th>\n",
       "      <td>iJLyR</td>\n",
       "      <td>-0.032172</td>\n",
       "      <td>0.139033</td>\n",
       "      <td>2.978566</td>\n",
       "      <td>168.620776</td>\n",
       "    </tr>\n",
       "    <tr>\n",
       "      <th>4</th>\n",
       "      <td>Xdl7t</td>\n",
       "      <td>1.988431</td>\n",
       "      <td>0.155413</td>\n",
       "      <td>4.751769</td>\n",
       "      <td>154.036647</td>\n",
       "    </tr>\n",
       "  </tbody>\n",
       "</table>\n",
       "</div>"
      ],
      "text/plain": [
       "      id        f0        f1        f2     product\n",
       "0  txEyH  0.705745 -0.497823  1.221170  105.280062\n",
       "1  2acmU  1.334711 -0.340164  4.365080   73.037750\n",
       "2  409Wp  1.022732  0.151990  1.419926   85.265647\n",
       "3  iJLyR -0.032172  0.139033  2.978566  168.620776\n",
       "4  Xdl7t  1.988431  0.155413  4.751769  154.036647"
      ]
     },
     "execution_count": 3,
     "metadata": {},
     "output_type": "execute_result"
    }
   ],
   "source": [
    "geo_0.info()\n",
    "geo_0.head()"
   ]
  },
  {
   "cell_type": "code",
   "execution_count": 4,
   "metadata": {},
   "outputs": [
    {
     "name": "stdout",
     "output_type": "stream",
     "text": [
      "<class 'pandas.core.frame.DataFrame'>\n",
      "RangeIndex: 100000 entries, 0 to 99999\n",
      "Data columns (total 5 columns):\n",
      " #   Column   Non-Null Count   Dtype  \n",
      "---  ------   --------------   -----  \n",
      " 0   id       100000 non-null  object \n",
      " 1   f0       100000 non-null  float64\n",
      " 2   f1       100000 non-null  float64\n",
      " 3   f2       100000 non-null  float64\n",
      " 4   product  100000 non-null  float64\n",
      "dtypes: float64(4), object(1)\n",
      "memory usage: 3.8+ MB\n"
     ]
    },
    {
     "data": {
      "text/html": [
       "<div>\n",
       "<style scoped>\n",
       "    .dataframe tbody tr th:only-of-type {\n",
       "        vertical-align: middle;\n",
       "    }\n",
       "\n",
       "    .dataframe tbody tr th {\n",
       "        vertical-align: top;\n",
       "    }\n",
       "\n",
       "    .dataframe thead th {\n",
       "        text-align: right;\n",
       "    }\n",
       "</style>\n",
       "<table border=\"1\" class=\"dataframe\">\n",
       "  <thead>\n",
       "    <tr style=\"text-align: right;\">\n",
       "      <th></th>\n",
       "      <th>id</th>\n",
       "      <th>f0</th>\n",
       "      <th>f1</th>\n",
       "      <th>f2</th>\n",
       "      <th>product</th>\n",
       "    </tr>\n",
       "  </thead>\n",
       "  <tbody>\n",
       "    <tr>\n",
       "      <th>0</th>\n",
       "      <td>kBEdx</td>\n",
       "      <td>-15.001348</td>\n",
       "      <td>-8.276000</td>\n",
       "      <td>-0.005876</td>\n",
       "      <td>3.179103</td>\n",
       "    </tr>\n",
       "    <tr>\n",
       "      <th>1</th>\n",
       "      <td>62mP7</td>\n",
       "      <td>14.272088</td>\n",
       "      <td>-3.475083</td>\n",
       "      <td>0.999183</td>\n",
       "      <td>26.953261</td>\n",
       "    </tr>\n",
       "    <tr>\n",
       "      <th>2</th>\n",
       "      <td>vyE1P</td>\n",
       "      <td>6.263187</td>\n",
       "      <td>-5.948386</td>\n",
       "      <td>5.001160</td>\n",
       "      <td>134.766305</td>\n",
       "    </tr>\n",
       "    <tr>\n",
       "      <th>3</th>\n",
       "      <td>KcrkZ</td>\n",
       "      <td>-13.081196</td>\n",
       "      <td>-11.506057</td>\n",
       "      <td>4.999415</td>\n",
       "      <td>137.945408</td>\n",
       "    </tr>\n",
       "    <tr>\n",
       "      <th>4</th>\n",
       "      <td>AHL4O</td>\n",
       "      <td>12.702195</td>\n",
       "      <td>-8.147433</td>\n",
       "      <td>5.004363</td>\n",
       "      <td>134.766305</td>\n",
       "    </tr>\n",
       "  </tbody>\n",
       "</table>\n",
       "</div>"
      ],
      "text/plain": [
       "      id         f0         f1        f2     product\n",
       "0  kBEdx -15.001348  -8.276000 -0.005876    3.179103\n",
       "1  62mP7  14.272088  -3.475083  0.999183   26.953261\n",
       "2  vyE1P   6.263187  -5.948386  5.001160  134.766305\n",
       "3  KcrkZ -13.081196 -11.506057  4.999415  137.945408\n",
       "4  AHL4O  12.702195  -8.147433  5.004363  134.766305"
      ]
     },
     "execution_count": 4,
     "metadata": {},
     "output_type": "execute_result"
    }
   ],
   "source": [
    "geo_1.info()\n",
    "geo_1.head()"
   ]
  },
  {
   "cell_type": "code",
   "execution_count": 5,
   "metadata": {},
   "outputs": [
    {
     "name": "stdout",
     "output_type": "stream",
     "text": [
      "<class 'pandas.core.frame.DataFrame'>\n",
      "RangeIndex: 100000 entries, 0 to 99999\n",
      "Data columns (total 5 columns):\n",
      " #   Column   Non-Null Count   Dtype  \n",
      "---  ------   --------------   -----  \n",
      " 0   id       100000 non-null  object \n",
      " 1   f0       100000 non-null  float64\n",
      " 2   f1       100000 non-null  float64\n",
      " 3   f2       100000 non-null  float64\n",
      " 4   product  100000 non-null  float64\n",
      "dtypes: float64(4), object(1)\n",
      "memory usage: 3.8+ MB\n"
     ]
    },
    {
     "data": {
      "text/html": [
       "<div>\n",
       "<style scoped>\n",
       "    .dataframe tbody tr th:only-of-type {\n",
       "        vertical-align: middle;\n",
       "    }\n",
       "\n",
       "    .dataframe tbody tr th {\n",
       "        vertical-align: top;\n",
       "    }\n",
       "\n",
       "    .dataframe thead th {\n",
       "        text-align: right;\n",
       "    }\n",
       "</style>\n",
       "<table border=\"1\" class=\"dataframe\">\n",
       "  <thead>\n",
       "    <tr style=\"text-align: right;\">\n",
       "      <th></th>\n",
       "      <th>id</th>\n",
       "      <th>f0</th>\n",
       "      <th>f1</th>\n",
       "      <th>f2</th>\n",
       "      <th>product</th>\n",
       "    </tr>\n",
       "  </thead>\n",
       "  <tbody>\n",
       "    <tr>\n",
       "      <th>0</th>\n",
       "      <td>fwXo0</td>\n",
       "      <td>-1.146987</td>\n",
       "      <td>0.963328</td>\n",
       "      <td>-0.828965</td>\n",
       "      <td>27.758673</td>\n",
       "    </tr>\n",
       "    <tr>\n",
       "      <th>1</th>\n",
       "      <td>WJtFt</td>\n",
       "      <td>0.262778</td>\n",
       "      <td>0.269839</td>\n",
       "      <td>-2.530187</td>\n",
       "      <td>56.069697</td>\n",
       "    </tr>\n",
       "    <tr>\n",
       "      <th>2</th>\n",
       "      <td>ovLUW</td>\n",
       "      <td>0.194587</td>\n",
       "      <td>0.289035</td>\n",
       "      <td>-5.586433</td>\n",
       "      <td>62.871910</td>\n",
       "    </tr>\n",
       "    <tr>\n",
       "      <th>3</th>\n",
       "      <td>q6cA6</td>\n",
       "      <td>2.236060</td>\n",
       "      <td>-0.553760</td>\n",
       "      <td>0.930038</td>\n",
       "      <td>114.572842</td>\n",
       "    </tr>\n",
       "    <tr>\n",
       "      <th>4</th>\n",
       "      <td>WPMUX</td>\n",
       "      <td>-0.515993</td>\n",
       "      <td>1.716266</td>\n",
       "      <td>5.899011</td>\n",
       "      <td>149.600746</td>\n",
       "    </tr>\n",
       "  </tbody>\n",
       "</table>\n",
       "</div>"
      ],
      "text/plain": [
       "      id        f0        f1        f2     product\n",
       "0  fwXo0 -1.146987  0.963328 -0.828965   27.758673\n",
       "1  WJtFt  0.262778  0.269839 -2.530187   56.069697\n",
       "2  ovLUW  0.194587  0.289035 -5.586433   62.871910\n",
       "3  q6cA6  2.236060 -0.553760  0.930038  114.572842\n",
       "4  WPMUX -0.515993  1.716266  5.899011  149.600746"
      ]
     },
     "execution_count": 5,
     "metadata": {},
     "output_type": "execute_result"
    }
   ],
   "source": [
    "geo_2.info()\n",
    "geo_2.head()"
   ]
  },
  {
   "cell_type": "markdown",
   "metadata": {},
   "source": [
    "Можем видеть, что пропущенных значений нету, также все параметры имеют правильные типы данных.\n",
    "\n",
    "Столбец `id` во всех трех таблицах не несет полезной информации, перенесем его значения в индексы."
   ]
  },
  {
   "cell_type": "code",
   "execution_count": 6,
   "metadata": {},
   "outputs": [],
   "source": [
    "geo_0 = geo_0.set_index('id')\n",
    "geo_1 = geo_1.set_index('id')\n",
    "geo_2 = geo_2.set_index('id')"
   ]
  },
  {
   "cell_type": "markdown",
   "metadata": {},
   "source": [
    "Далее проверим наличие дубликатов в таблицах:"
   ]
  },
  {
   "cell_type": "code",
   "execution_count": 7,
   "metadata": {},
   "outputs": [
    {
     "name": "stdout",
     "output_type": "stream",
     "text": [
      "дубликаты в geo_0: 0\n",
      "дубликаты в geo_1: 0\n",
      "дубликаты в geo_2: 0\n"
     ]
    }
   ],
   "source": [
    "print('дубликаты в geo_0:', geo_0[geo_0.duplicated()].shape[0])\n",
    "print('дубликаты в geo_1:', geo_1[geo_1.duplicated()].shape[0])\n",
    "print('дубликаты в geo_2:', geo_2[geo_2.duplicated()].shape[0])"
   ]
  },
  {
   "cell_type": "markdown",
   "metadata": {},
   "source": [
    "В данных отстутствуют дублирующие позиции."
   ]
  },
  {
   "cell_type": "code",
   "execution_count": 8,
   "metadata": {},
   "outputs": [
    {
     "name": "stdout",
     "output_type": "stream",
     "text": [
      "Нулевые значения объема нефти в скважинах в geo_0: 1\n",
      "Нулевые значения объема нефти в скважинах в geo_1: 8235\n",
      "Нулевые значения объема нефти в скважинах в geo_2: 1\n"
     ]
    }
   ],
   "source": [
    "print('Нулевые значения объема нефти в скважинах в geo_0:', geo_0.query('product == 0').shape[0])\n",
    "print('Нулевые значения объема нефти в скважинах в geo_1:', geo_1.query('product == 0').shape[0])\n",
    "print('Нулевые значения объема нефти в скважинах в geo_2:', geo_2.query('product == 0').shape[0])"
   ]
  },
  {
   "cell_type": "markdown",
   "metadata": {},
   "source": [
    "Скважины из второго региона имеют много нулевых значений объема нефти. Первая и третья на нее фоне выглядит слишком оптимистичными, во всех месторождениях, кроме одного, была найдена нефть."
   ]
  },
  {
   "cell_type": "code",
   "execution_count": 9,
   "metadata": {},
   "outputs": [
    {
     "data": {
      "image/png": "[encoded data removed]",
      "text/plain": [
       "<Figure size 2000x600 with 3 Axes>"
      ]
     },
     "metadata": {},
     "output_type": "display_data"
    },
    {
     "data": {
      "image/png": "[encoded data removed]",
      "text/plain": [
       "<Figure size 2000x600 with 3 Axes>"
      ]
     },
     "metadata": {},
     "output_type": "display_data"
    },
    {
     "data": {
      "image/png": "[encoded data removed]",
      "text/plain": [
       "<Figure size 2000x600 with 3 Axes>"
      ]
     },
     "metadata": {},
     "output_type": "display_data"
    }
   ],
   "source": [
    "fig, axes = plt.subplots(nrows=1, ncols=3, figsize=(20,6))\n",
    "fig.suptitle('Первый регион', fontsize=14)\n",
    "sns.histplot(geo_0['f0'], ax=axes[0]).set_title('признак f0')\n",
    "sns.histplot(geo_0['f1'], ax=axes[1]).set_title('признак f1')\n",
    "sns.histplot(geo_0['f2'], ax=axes[2]).set_title('признак f2')\n",
    "\n",
    "fig, axes = plt.subplots(nrows=1, ncols=3, figsize=(20,6))\n",
    "fig.suptitle('Второй регион', fontsize=14)\n",
    "sns.histplot(geo_1['f0'], ax=axes[0]).set_title('признак f0')\n",
    "sns.histplot(geo_1['f1'], ax=axes[1]).set_title('признак f1')\n",
    "sns.histplot(geo_1['f2'], ax=axes[2]).set_title('признак f2')\n",
    "\n",
    "fig, axes = plt.subplots(nrows=1, ncols=3, figsize=(20,6))\n",
    "fig.suptitle('Третий регион', fontsize=14)\n",
    "sns.histplot(geo_2['f0'], ax=axes[0]).set_title('признак f0')\n",
    "sns.histplot(geo_2['f1'], ax=axes[1]).set_title('признак f1')\n",
    "sns.histplot(geo_2['f2'], ax=axes[2]).set_title('признак f2');"
   ]
  },
  {
   "cell_type": "markdown",
   "metadata": {},
   "source": [
    "Признак f2 для второго региона имеет довольно странные значения, лежащие около чисел 0,1,2,3,4,5. Для второго и третьего регионов признак f2 имеет нормальное распределение."
   ]
  },
  {
   "cell_type": "code",
   "execution_count": 10,
   "metadata": {},
   "outputs": [
    {
     "data": {
      "image/png": "[encoded data removed]",
      "text/plain": [
       "<Figure size 2000x600 with 3 Axes>"
      ]
     },
     "metadata": {},
     "output_type": "display_data"
    },
    {
     "data": {
      "image/png": "[encoded data removed]",
      "text/plain": [
       "<Figure size 2000x600 with 3 Axes>"
      ]
     },
     "metadata": {},
     "output_type": "display_data"
    },
    {
     "data": {
      "image/png": "[encoded data removed]",
      "text/plain": [
       "<Figure size 2000x600 with 3 Axes>"
      ]
     },
     "metadata": {},
     "output_type": "display_data"
    }
   ],
   "source": [
    "fig, axes = plt.subplots(nrows=1, ncols=3, figsize=(20,6))\n",
    "fig.suptitle('Первый регион', fontsize=14)\n",
    "sns.boxplot(x=geo_0['f0'], ax=axes[0]).set_title('признак f0')\n",
    "sns.boxplot(x=geo_0['f1'], ax=axes[1]).set_title('признак f1')\n",
    "sns.boxplot(x=geo_0['f2'], ax=axes[2]).set_title('признак f2')\n",
    "\n",
    "fig, axes = plt.subplots(nrows=1, ncols=3, figsize=(20,6))\n",
    "fig.suptitle('Второй регион', fontsize=14)\n",
    "sns.boxplot(x=geo_1['f0'], ax=axes[0]).set_title('признак f0')\n",
    "sns.boxplot(x=geo_1['f1'], ax=axes[1]).set_title('признак f1')\n",
    "sns.boxplot(x=geo_1['f2'], ax=axes[2]).set_title('признак f2')\n",
    "\n",
    "fig, axes = plt.subplots(nrows=1, ncols=3, figsize=(20,6))\n",
    "fig.suptitle('Третий регион', fontsize=14)\n",
    "sns.boxplot(x=geo_2['f0'], ax=axes[0]).set_title('признак f0')\n",
    "sns.boxplot(x=geo_2['f1'], ax=axes[1]).set_title('признак f1')\n",
    "sns.boxplot(x=geo_2['f2'], ax=axes[2]).set_title('признак f2');"
   ]
  },
  {
   "cell_type": "markdown",
   "metadata": {},
   "source": [
    "Выделяется признак f2 для второго региона. Для всех трех регионов большинство значений этого признака лежат в интервале от 0 до 5. При этом второй регион не имеет выбросов и все его значения лежат в этом интервале.\n",
    "\n",
    "Остальные признаки довольно сильно отличаются для каждого региона."
   ]
  },
  {
   "cell_type": "code",
   "execution_count": 11,
   "metadata": {},
   "outputs": [
    {
     "data": {
      "image/png": "[encoded data removed]",
      "text/plain": [
       "<Figure size 2000x600 with 3 Axes>"
      ]
     },
     "metadata": {},
     "output_type": "display_data"
    },
    {
     "data": {
      "image/png": "[encoded data removed]",
      "text/plain": [
       "<Figure size 2000x600 with 3 Axes>"
      ]
     },
     "metadata": {},
     "output_type": "display_data"
    }
   ],
   "source": [
    "fig, axes = plt.subplots(nrows=1, ncols=3, figsize=(20,6))\n",
    "sns.histplot(geo_0['product'], ax=axes[0]).set_title(\n",
    "    'Объем запасов в скважине в 1 регионе, тыс. баррелей')\n",
    "sns.histplot(geo_1['product'], bins=50, ax=axes[1]).set_title(\n",
    "    'Объем запасов в скважине во 2 регионе, тыс. баррелей')\n",
    "sns.histplot(geo_2['product'], ax=axes[2]).set_title(\n",
    "    'Объем запасов в скважине в 3 регионе, тыс. баррелей');\n",
    "\n",
    "fig, axes = plt.subplots(nrows=1, ncols=3, figsize=(20,6))\n",
    "sns.boxplot(x=geo_0['product'], ax=axes[0]).set_title(\n",
    "    'Объем запасов в скважине в 1 регионе, тыс. баррелей')\n",
    "sns.boxplot(x=geo_1['product'], ax=axes[1]).set_title(\n",
    "    'Объем запасов в скважине во 2 регионе, тыс. баррелей')\n",
    "sns.boxplot(x=geo_2['product'], ax=axes[2]).set_title(\n",
    "    'Объем запасов в скважине в 3 регионе, тыс. баррелей');"
   ]
  },
  {
   "cell_type": "markdown",
   "metadata": {},
   "source": [
    "В среднем во втором регионе скважины имеют меньшие объемы запасов чем в двух других регионах."
   ]
  },
  {
   "cell_type": "code",
   "execution_count": 12,
   "metadata": {},
   "outputs": [
    {
     "data": {
      "text/plain": [
       "53.906522     8472\n",
       "26.953261     8468\n",
       "84.038886     8431\n",
       "57.085625     8390\n",
       "3.179103      8337\n",
       "80.859783     8320\n",
       "30.132364     8306\n",
       "134.766305    8304\n",
       "110.992147    8303\n",
       "0.000000      8235\n",
       "137.945408    8233\n",
       "107.813044    8201\n",
       "Name: product, dtype: int64"
      ]
     },
     "execution_count": 12,
     "metadata": {},
     "output_type": "execute_result"
    }
   ],
   "source": [
    "geo_1['product'].value_counts()"
   ]
  },
  {
   "cell_type": "markdown",
   "metadata": {},
   "source": [
    "Второй регион имеет интересную тенденцию. С равной вероятностью можно как найти пустое месторождение, так и месторождение со 137 тыс. баррелей нефти."
   ]
  },
  {
   "cell_type": "code",
   "execution_count": 13,
   "metadata": {},
   "outputs": [
    {
     "data": {
      "image/png": "[encoded data removed]",
      "text/plain": [
       "<Figure size 500x500 with 2 Axes>"
      ]
     },
     "metadata": {},
     "output_type": "display_data"
    },
    {
     "data": {
      "image/png": "[encoded data removed]",
      "text/plain": [
       "<Figure size 500x500 with 2 Axes>"
      ]
     },
     "metadata": {},
     "output_type": "display_data"
    },
    {
     "data": {
      "image/png": "[encoded data removed]",
      "text/plain": [
       "<Figure size 500x500 with 2 Axes>"
      ]
     },
     "metadata": {},
     "output_type": "display_data"
    }
   ],
   "source": [
    "phik_overview=geo_0.phik_matrix(interval_cols=['f0', 'f1', 'f2', 'product'])\n",
    "plot_correlation_matrix(\n",
    "    phik_overview.values,\n",
    "    x_labels=phik_overview.columns,\n",
    "    y_labels=phik_overview.index,\n",
    "    vmin=0, vmax=1, color_map='Greens',\n",
    "    title='Матрица корреляций признаков geo_0',\n",
    "    fontsize_factor=1.1,\n",
    "    figsize=(5, 5));\n",
    "\n",
    "phik_overview=geo_1.phik_matrix(interval_cols=['f0', 'f1', 'f2', 'product'])\n",
    "plot_correlation_matrix(\n",
    "    phik_overview.values,\n",
    "    x_labels=phik_overview.columns,\n",
    "    y_labels=phik_overview.index,\n",
    "    vmin=0, vmax=1, color_map='Greens',\n",
    "    title='Матрица корреляций признаков geo_1',\n",
    "    fontsize_factor=1.1,\n",
    "    figsize=(5, 5));\n",
    "\n",
    "phik_overview=geo_2.phik_matrix(interval_cols=['f0', 'f1', 'f2', 'product'])\n",
    "plot_correlation_matrix(\n",
    "    phik_overview.values,\n",
    "    x_labels=phik_overview.columns,\n",
    "    y_labels=phik_overview.index,\n",
    "    vmin=0, vmax=1, color_map='Greens',\n",
    "    title='Матрица корреляций признаков geo_2',\n",
    "    fontsize_factor=1.1,\n",
    "    figsize=(5, 5));"
   ]
  },
  {
   "cell_type": "markdown",
   "metadata": {},
   "source": [
    "Во втором регионе количество нефти имеет сильную связь с `f0` и `f2`. В первом и третьем регионах целевой признак имеет слабую связь со всеми входными признаками."
   ]
  },
  {
   "cell_type": "markdown",
   "metadata": {},
   "source": [
    "На данный момент второй регион выглядит предпочтительнее. Первый и третий регионы слишком идеальные, найти пустое месторождение в них будет очень сложно. Проверим что покажет прогноз модели."
   ]
  },
  {
   "cell_type": "markdown",
   "metadata": {},
   "source": [
    "## Обучение и проверка модели"
   ]
  },
  {
   "cell_type": "markdown",
   "metadata": {},
   "source": [
    "Обучим и проверим модель для каждого региона, для этого разобьем данные на обучающую и валидационную выборки в соотношении 75:25. Для обучения будем использовать модель линейной регрессии. Проверять качество модели будем с помощью метрики RMSE."
   ]
  },
  {
   "cell_type": "code",
   "execution_count": 14,
   "metadata": {},
   "outputs": [],
   "source": [
    "model = LinearRegression()\n",
    "\n",
    "def modeling(x,y):\n",
    "    X_train, X_test, y_train, y_test = train_test_split(\n",
    "    x, y, test_size = TEST_SIZE, random_state = RANDOM_STATE)\n",
    "    model.fit(X_train, y_train) \n",
    "    y_test_pred = model.predict(X_test)\n",
    "    y_test_pred = pd.Series(y_test_pred, index=y_test.index)\n",
    "    mean = y_test_pred.mean()\n",
    "    print(f'Метрика RMSE на валидационной выборке: {mean_squared_error(y_test, y_test_pred, squared=False)}')\n",
    "    print(f'Средний запас сырья: {mean}')\n",
    "    return y_test, y_test_pred"
   ]
  },
  {
   "cell_type": "markdown",
   "metadata": {},
   "source": [
    "### Первый регион"
   ]
  },
  {
   "cell_type": "code",
   "execution_count": 15,
   "metadata": {},
   "outputs": [
    {
     "name": "stdout",
     "output_type": "stream",
     "text": [
      "Метрика RMSE на валидационной выборке: 37.75660035026169\n",
      "Средний запас сырья: 92.39879990657768\n"
     ]
    }
   ],
   "source": [
    "y_test0, y_test_pred0 = modeling(geo_0.drop(['product'], axis=1), geo_0['product'])"
   ]
  },
  {
   "cell_type": "markdown",
   "metadata": {},
   "source": [
    "### Второй регион"
   ]
  },
  {
   "cell_type": "code",
   "execution_count": 16,
   "metadata": {},
   "outputs": [
    {
     "name": "stdout",
     "output_type": "stream",
     "text": [
      "Метрика RMSE на валидационной выборке: 0.8902801001028854\n",
      "Средний запас сырья: 68.71287803913762\n"
     ]
    }
   ],
   "source": [
    "y_test1, y_test_pred1 = modeling(geo_1.drop(['product'], axis=1), geo_1['product'])"
   ]
  },
  {
   "cell_type": "markdown",
   "metadata": {},
   "source": [
    "### Третий регион"
   ]
  },
  {
   "cell_type": "code",
   "execution_count": 17,
   "metadata": {},
   "outputs": [
    {
     "name": "stdout",
     "output_type": "stream",
     "text": [
      "Метрика RMSE на валидационной выборке: 40.145872311342174\n",
      "Средний запас сырья: 94.77102387765939\n"
     ]
    }
   ],
   "source": [
    "y_test2, y_test_pred2 = modeling(geo_2.drop(['product'], axis=1), geo_2['product'])"
   ]
  },
  {
   "cell_type": "markdown",
   "metadata": {},
   "source": [
    "### Вывод"
   ]
  },
  {
   "cell_type": "markdown",
   "metadata": {},
   "source": [
    "Второй регион имеет лучшее значение метрики, модель ошибается всего на 1тыс. баррелей, хотя средний запас сырья при этом меньше всех 68тыс. баррелей.\n",
    "\n",
    "Первый и третий регионы имеют очень плохие метрики, они ошибаются на 37тыс. и 40тыс. баррелей. И даже при большем прогнозе среднего запаса сырья 92тыс. и 94тыс. баррелей, с такими метриками они выглядят хуже.\n",
    "\n",
    "На данный момент второй регион является лучшим, проверим значения прибыли, чтобы сделать окончательный вердикт."
   ]
  },
  {
   "cell_type": "markdown",
   "metadata": {},
   "source": [
    "## Подготовка к расчёту прибыли"
   ]
  },
  {
   "cell_type": "markdown",
   "metadata": {},
   "source": [
    "Рассчитаем достаточный объём сырья для безубыточной разработки новой скважины:"
   ]
  },
  {
   "cell_type": "code",
   "execution_count": 18,
   "metadata": {},
   "outputs": [],
   "source": [
    "BUDGET = 10_000_000_000 #бюджет\n",
    "PROFIT = 450_000 #прибыль с 1тыс. баррелей\n",
    "N = 500 #выбор рандомных n точек\n",
    "K = 200 #выбор k лучших из них"
   ]
  },
  {
   "cell_type": "code",
   "execution_count": 19,
   "metadata": {},
   "outputs": [
    {
     "name": "stdout",
     "output_type": "stream",
     "text": [
      "Минимально необходимый объем сырья для одной скважины: 111.11\n"
     ]
    }
   ],
   "source": [
    "price = BUDGET / (K * PROFIT)\n",
    "print('Минимально необходимый объем сырья для одной скважины:', round(price,2))"
   ]
  },
  {
   "cell_type": "code",
   "execution_count": 20,
   "metadata": {},
   "outputs": [
    {
     "name": "stdout",
     "output_type": "stream",
     "text": [
      "Суммарный объем сырья для 200 лучших месторождений: 22222.22\n"
     ]
    }
   ],
   "source": [
    "profit_mean = BUDGET / PROFIT\n",
    "print('Суммарный объем сырья для 200 лучших месторождений:', round(profit_mean,2))"
   ]
  },
  {
   "cell_type": "markdown",
   "metadata": {},
   "source": [
    "Сравним полученный объём сырья со средним запасом в каждом регионе: "
   ]
  },
  {
   "cell_type": "code",
   "execution_count": 21,
   "metadata": {},
   "outputs": [
    {
     "name": "stdout",
     "output_type": "stream",
     "text": [
      "Средний запас сырья в скважине в первом регионе: 154.41\n",
      "Средний запас сырья в скважине во втором регионе: 138.74\n",
      "Средний запас сырья в скважине в третьем регионе: 148.64\n"
     ]
    }
   ],
   "source": [
    "print('Средний запас сырья в скважине в первом регионе:', round(y_test_pred0.sort_values(ascending=False).head(200).mean(),2))\n",
    "print('Средний запас сырья в скважине во втором регионе:', round(y_test_pred1.sort_values(ascending=False).head(200).mean(),2))\n",
    "print('Средний запас сырья в скважине в третьем регионе:', round(y_test_pred2.sort_values(ascending=False).head(200).mean(),2))"
   ]
  },
  {
   "cell_type": "markdown",
   "metadata": {},
   "source": [
    "Первый регион в среднем будет предоставлять больше объема сырья, второй является самым худшим выбором из трех.\n",
    "\n",
    "Тем не менее все три региона имеют достаточный объём сырья для безубыточной разработки новой скважины."
   ]
  },
  {
   "cell_type": "markdown",
   "metadata": {},
   "source": [
    "Выберим скважины с максимальными значениями предсказаний и просуммируем целевое значение объёма сырья:"
   ]
  },
  {
   "cell_type": "code",
   "execution_count": 22,
   "metadata": {},
   "outputs": [
    {
     "name": "stdout",
     "output_type": "stream",
     "text": [
      "Суммарный объем сырья для 200 лучших скважин в первом регионе: 30881.46\n",
      "Суммарный объем сырья для 200 лучших скважин во втором регионе: 27748.75\n",
      "Суммарный объем сырья для 200 лучших скважин в третьем регионе: 29728.85\n"
     ]
    }
   ],
   "source": [
    "sum_value0 = round(y_test_pred0.sort_values(ascending=False).head(200).sum(),2)\n",
    "sum_value1 = round(y_test_pred1.sort_values(ascending=False).head(200).sum(),2)\n",
    "sum_value2 = round(y_test_pred2.sort_values(ascending=False).head(200).sum(),2)\n",
    "print('Суммарный объем сырья для 200 лучших скважин в первом регионе:', sum_value0)\n",
    "print('Суммарный объем сырья для 200 лучших скважин во втором регионе:', sum_value1)\n",
    "print('Суммарный объем сырья для 200 лучших скважин в третьем регионе:', sum_value2)"
   ]
  },
  {
   "cell_type": "markdown",
   "metadata": {},
   "source": [
    "Рассчитаем прибыль для полученного объёма сырья:"
   ]
  },
  {
   "cell_type": "code",
   "execution_count": 23,
   "metadata": {},
   "outputs": [
    {
     "name": "stdout",
     "output_type": "stream",
     "text": [
      "Прибыль от первого региона: 3.896657 млрд.р.\n",
      "Прибыль от второго региона: 2.4869375 млрд.р.\n",
      "Прибыль от третьего региона: 3.3779825 млрд.р.\n"
     ]
    }
   ],
   "source": [
    "print('Прибыль от первого региона:', (PROFIT * sum_value0  - BUDGET)/1000000000, 'млрд.р.')\n",
    "print('Прибыль от второго региона:', (PROFIT * sum_value1 - BUDGET)/1000000000, 'млрд.р.')\n",
    "print('Прибыль от третьего региона:', (PROFIT * sum_value2 - BUDGET)/1000000000, 'млрд.р.')"
   ]
  },
  {
   "cell_type": "markdown",
   "metadata": {},
   "source": [
    "При идеальных условиях для 200 лучших скважин из всех трех регионов мы сможем получить прибыль. При этом из второго региона мы получим меньшую прибыль."
   ]
  },
  {
   "cell_type": "markdown",
   "metadata": {},
   "source": [
    "Напишем функцию для расчёта прибыли по выбранным скважинам и предсказаниям модели"
   ]
  },
  {
   "cell_type": "code",
   "execution_count": 24,
   "metadata": {},
   "outputs": [],
   "source": [
    "def revenue(target, probabilities, count):\n",
    "    probs_sorted = probabilities.sort_values(ascending=False)\n",
    "    selected = target[probs_sorted.index][:count]\n",
    "    return PROFIT * selected.sum() - BUDGET"
   ]
  },
  {
   "cell_type": "markdown",
   "metadata": {},
   "source": [
    "## Расчёт прибыли и рисков "
   ]
  },
  {
   "cell_type": "markdown",
   "metadata": {},
   "source": [
    "Применим технику Bootstrap с 1000 выборок, чтобы найти распределение прибыли. Найдем среднюю прибыль, 95%-й доверительный интервал и риск убытков."
   ]
  },
  {
   "cell_type": "code",
   "execution_count": 25,
   "metadata": {},
   "outputs": [],
   "source": [
    "def bootstrap(y_test, y_pred):\n",
    "    state = np.random.RandomState(RANDOM_STATE)\n",
    "    values = []\n",
    "    for i in range(1000):\n",
    "        target_subsample = y_test.sample(n=N, replace=True, random_state=state)\n",
    "        probs_subsample = y_pred[target_subsample.index]\n",
    "        prof = revenue(target_subsample, probs_subsample, K)\n",
    "        values.append(prof)\n",
    "    values = pd.Series(values)\n",
    "    lower = values.quantile(0.025)\n",
    "    upper = values.quantile(0.975)\n",
    "    risk = (values < 0).mean() * 100\n",
    "    mean = values.mean()\n",
    "    print(\"Средняя выручка:\", round(mean/1e6,2),'млн.р.')\n",
    "    print('Нижнее значение доверительного интервала:', round(lower/1e6,2),'млн.р.')\n",
    "    print('Верхнее значение доверительного интервала:', round(upper/1e6,2),'млн.р.')\n",
    "    print('Риск убытков:', round(risk, 2),'%')"
   ]
  },
  {
   "cell_type": "code",
   "execution_count": 26,
   "metadata": {},
   "outputs": [
    {
     "name": "stdout",
     "output_type": "stream",
     "text": [
      "Средняя выручка: 427.85 млн.р.\n",
      "Нижнее значение доверительного интервала: -97.25 млн.р.\n",
      "Верхнее значение доверительного интервала: 954.22 млн.р.\n",
      "Риск убытков: 5.5 %\n"
     ]
    }
   ],
   "source": [
    "bootstrap(y_test0, y_test_pred0)"
   ]
  },
  {
   "cell_type": "code",
   "execution_count": 27,
   "metadata": {},
   "outputs": [
    {
     "name": "stdout",
     "output_type": "stream",
     "text": [
      "Средняя выручка: 511.36 млн.р.\n",
      "Нижнее значение доверительного интервала: 98.87 млн.р.\n",
      "Верхнее значение доверительного интервала: 940.72 млн.р.\n",
      "Риск убытков: 0.9 %\n"
     ]
    }
   ],
   "source": [
    "bootstrap(y_test1, y_test_pred1)"
   ]
  },
  {
   "cell_type": "code",
   "execution_count": 28,
   "metadata": {},
   "outputs": [
    {
     "name": "stdout",
     "output_type": "stream",
     "text": [
      "Средняя выручка: 402.58 млн.р.\n",
      "Нижнее значение доверительного интервала: -137.16 млн.р.\n",
      "Верхнее значение доверительного интервала: 929.89 млн.р.\n",
      "Риск убытков: 7.4 %\n"
     ]
    }
   ],
   "source": [
    "bootstrap(y_test2, y_test_pred2)"
   ]
  },
  {
   "cell_type": "markdown",
   "metadata": {},
   "source": [
    "Первый и третий регион имеют высокий риск убытков, при этом величина убытков имеет значения в районе 100 миллионов рублей.\n",
    "\n",
    "Второй регион с 95% вероятностью будет иметь минимум 98 миллионов рублей прибыли. При этом риск убытков составляет всего 0.9%.\n",
    "Среднее значение прибыли для второго региона составит 511 миллионов рублей.\n",
    "\n",
    "Исходя из полученных результатов можно смело рекомендовать второй регион для бурления там новых скважин."
   ]
  },
  {
   "cell_type": "markdown",
   "metadata": {},
   "source": [
    "## Итоговый вывод"
   ]
  },
  {
   "cell_type": "markdown",
   "metadata": {},
   "source": [
    "Нам были предоставлены пробы нефти в трёх регионах: в каждом 10 000 месторождений, где измерили качество нефти и объём её запасов. Мы определили регион для бурления новой скважины. \n",
    "Для этого мы построили модель машинного обучения, которая помогла определить регион, где добыча принесёт наибольшую прибыль.\n",
    "А также проанализировали возможную прибыль и риски техникой Bootstrap.\n",
    "\n",
    "В ходе обработки данных мы:\n",
    "\n",
    "- Убедились в отсутствии пропущенных значений и корректности типов данных,\n",
    "- Перевели значения из столбцов id в индексы,\n",
    "- Убедились в отсутствии дублирующих позиций.\n",
    "\n",
    "В ходе анализа данных мы получили, что:\n",
    "\n",
    "- Определили количество нулевых значений в столбце `product`, для первого и третьего региона по 1 скважине имеет нулевое значение, второй регион имеет 8235 нулевых значений,\n",
    "- Признак f2 для второго региона имеет значения, лежащие около чисел 0,1,2,3,4,5. Для второго и третьего регионов признак f2 имеет нормальное распределение, большинство значений лежат также в интервале от 0 до 5,\n",
    "- Признаки f0 и f1 отличаются своими значениями для каждого региона,\n",
    "- В среднем во втором регионе скважины имеют меньшие объемы запасов чем в двух других регионах.\n",
    "- Во втором регионе количество нефти имеет сильную связь с f0 и f2. В первом и третьем регионах целевой признак имеет слабую связь со всеми входными признаками.\n",
    "\n",
    "\n",
    "Для обучения модели использовали линейную регрессию. Входные признаки `f0,f1,f2`, целевой признак `product`.\n",
    "Данные разбивали на обучающую и валидационную выборки в соотношении 75:25. Проверяли качество модели с помощью метрики RMSE.\n",
    "\n",
    "- Первый регион, метрика RMSE на валидационной выборке: 37.75, средний запас сырья: 92.40\n",
    "- Второй регион, метрика RMSE на валидационной выборке: 0.89, средний запас сырья: 68.71\n",
    "- Третий регион, метрика RMSE на валидационной выборке: 40.14, средний запас сырья: 94.77\n",
    "\n",
    "Второй регион имеет лучшее значение метрики, но в то же время худший средний запас сырья.\n",
    "\n",
    "Бюджет на разработку скважин в регионе — 10 млрд рублей. Доход с каждой единицы продукта (тысяч баррелей) составляет 450 тыс. рублей.\n",
    "\n",
    "В ходе подготовки к расчету прибыли мы:\n",
    "\n",
    "- Рассчитали достаточный объём сырья для безубыточной разработки новой скважины: 111.11 тысяч баррелей,\n",
    "- Опредили суммарный объем сырья для 200 лучших месторождений для безубыточной разработки: 22222.22 тысяч баррелей,\n",
    "- Написали функцию для расчёта прибыли по выбранным скважинам и предсказаниям модели.\n",
    "\n",
    "Все три региона имеют достаточный объём сырья для безубыточной разработки новой скважины:\n",
    "\n",
    "- Средний запас сырья в скважине в первом регионе: 154.41 тысяч баррелей,\n",
    "- Средний запас сырья в скважине во втором регионе: 138.74 тысяч баррелей,\n",
    "- Средний запас сырья в скважине в третьем регионе: 148.64 тысяч баррелей.\n",
    "\n",
    "Так же мы рассчитали идеальные условия, выбрав по 200 лучших месторождений из каждого региона:\n",
    "- Суммарный объем сырья в первом регионе: 30881.46 тысяч баррелей, Прибыль: 3.90 млрд.р.;\n",
    "- Суммарный объем сырья во втором регионе: 27748.75 тысяч баррелей, Прибыль: 2.50 млрд.р.;\n",
    "- Суммарный объем сырья в третьем регионе: 29728.85 тысяч баррелей, Прибыль: 3.38 млрд.р.\n",
    "\n",
    "При идеальных условиях для 200 лучших скважин из всех трех регионов мы сможем получить прибыль. При этом из второго региона мы получим меньшую прибыль.\n",
    "\n",
    "Для расчёта прибыли и рисков мы применяли технику Bootstrap с 1000 выборок. Для разведки региона мы использовали 500 точек, из которых с помощью машинного обучения выбирали 200 лучших для разработки.\n",
    "В ходе решения мы получили:\n",
    "\n",
    "- Для первого региона: Средняя прибыль: 427.85 млн.р., 95%-й доверительный интервал (-97.25 млн.р., 954.22 млн.р.), Риск убытков 5.5 %\n",
    "- Для второго региона: Средняя прибыль: 511.36 млн.р., 95%-й доверительный интервал (98.87 млн.р., 940.72 млн.р.), Риск убытков 0.9 %\n",
    "- Для третьего региона: Средняя прибыль: 402.58 млн.р., 95%-й доверительный интервал (-137.16 млн.р., 929.89 млн.р.), Риск убытков 7.4 %\n",
    "\n",
    "Первый и третий регион имеют высокий риск убытков, при этом величина убытков может составлять 100 миллионов рублей.\n",
    "\n",
    "Второй регион с 95% вероятностью будет иметь минимум 98 миллионов рублей прибыли. При этом риск убытков составляет всего 0.9%. Среднее значение прибыли для второго региона составит 511 миллионов рублей.\n",
    "\n",
    "Исходя из полученных результатов можно смело рекомендовать второй регион для бурления там новых скважин.\n",
    "\n",
    "Для дополнительных рекомендаций можно узнать что именно означают признаки f0, f1, f2, чтобы лучше понимать их влияние на выбор региона. Так же можно увеличить количество признаков, добавив например химический состав почвы в месторождениях."
   ]
  }
 ],
 "metadata": {
  "ExecuteTimeLog": [
   {
    "duration": 430,
    "start_time": "2023-12-06T10:58:51.753Z"
   },
   {
    "duration": 814,
    "start_time": "2023-12-06T10:59:25.193Z"
   },
   {
    "duration": 16,
    "start_time": "2023-12-06T10:59:32.052Z"
   },
   {
    "duration": 9,
    "start_time": "2023-12-06T10:59:40.487Z"
   },
   {
    "duration": 9,
    "start_time": "2023-12-06T10:59:46.651Z"
   },
   {
    "duration": 788,
    "start_time": "2023-12-06T12:10:40.548Z"
   },
   {
    "duration": 4,
    "start_time": "2023-12-06T12:11:07.171Z"
   },
   {
    "duration": 4,
    "start_time": "2023-12-06T12:12:33.475Z"
   },
   {
    "duration": 22,
    "start_time": "2023-12-06T12:13:12.002Z"
   },
   {
    "duration": 117,
    "start_time": "2023-12-06T12:13:20.386Z"
   },
   {
    "duration": 7,
    "start_time": "2023-12-06T12:14:11.138Z"
   },
   {
    "duration": 28,
    "start_time": "2023-12-06T12:15:20.994Z"
   },
   {
    "duration": 47,
    "start_time": "2023-12-06T12:19:31.744Z"
   },
   {
    "duration": 42,
    "start_time": "2023-12-06T12:19:36.000Z"
   },
   {
    "duration": 1082,
    "start_time": "2023-12-06T12:19:49.262Z"
   },
   {
    "duration": 405,
    "start_time": "2023-12-06T12:19:50.346Z"
   },
   {
    "duration": 21,
    "start_time": "2023-12-06T12:19:50.752Z"
   },
   {
    "duration": 26,
    "start_time": "2023-12-06T12:19:50.774Z"
   },
   {
    "duration": 21,
    "start_time": "2023-12-06T12:19:50.802Z"
   },
   {
    "duration": 123,
    "start_time": "2023-12-06T12:19:50.824Z"
   },
   {
    "duration": 0,
    "start_time": "2023-12-06T12:19:50.949Z"
   },
   {
    "duration": 44,
    "start_time": "2023-12-06T12:22:11.679Z"
   },
   {
    "duration": 5,
    "start_time": "2023-12-06T12:22:16.463Z"
   },
   {
    "duration": 5,
    "start_time": "2023-12-06T12:22:22.607Z"
   },
   {
    "duration": 9,
    "start_time": "2023-12-06T12:22:34.863Z"
   },
   {
    "duration": 6,
    "start_time": "2023-12-06T12:22:43.775Z"
   },
   {
    "duration": 30,
    "start_time": "2023-12-06T12:23:05.342Z"
   },
   {
    "duration": 28,
    "start_time": "2023-12-06T12:23:37.440Z"
   },
   {
    "duration": 19,
    "start_time": "2023-12-06T12:26:12.237Z"
   },
   {
    "duration": 8,
    "start_time": "2023-12-06T12:29:31.005Z"
   },
   {
    "duration": 6,
    "start_time": "2023-12-06T12:29:52.380Z"
   },
   {
    "duration": 11,
    "start_time": "2023-12-06T12:52:01.781Z"
   },
   {
    "duration": 4,
    "start_time": "2023-12-06T12:52:15.270Z"
   },
   {
    "duration": 11,
    "start_time": "2023-12-06T12:52:17.765Z"
   },
   {
    "duration": 3,
    "start_time": "2023-12-06T12:52:28.789Z"
   },
   {
    "duration": 4,
    "start_time": "2023-12-06T12:55:03.396Z"
   },
   {
    "duration": 15,
    "start_time": "2023-12-06T12:55:37.588Z"
   },
   {
    "duration": 14,
    "start_time": "2023-12-06T12:56:38.628Z"
   },
   {
    "duration": 1173,
    "start_time": "2023-12-06T12:56:47.019Z"
   },
   {
    "duration": 425,
    "start_time": "2023-12-06T12:56:48.194Z"
   },
   {
    "duration": 17,
    "start_time": "2023-12-06T12:56:48.621Z"
   },
   {
    "duration": 9,
    "start_time": "2023-12-06T12:56:48.639Z"
   },
   {
    "duration": 102,
    "start_time": "2023-12-06T12:56:48.658Z"
   },
   {
    "duration": 21,
    "start_time": "2023-12-06T12:56:48.762Z"
   },
   {
    "duration": 117,
    "start_time": "2023-12-06T12:56:48.785Z"
   },
   {
    "duration": 47,
    "start_time": "2023-12-06T12:58:10.210Z"
   },
   {
    "duration": 16,
    "start_time": "2023-12-06T12:58:32.563Z"
   },
   {
    "duration": 15,
    "start_time": "2023-12-06T12:58:40.242Z"
   },
   {
    "duration": 14,
    "start_time": "2023-12-06T12:58:46.130Z"
   },
   {
    "duration": 14,
    "start_time": "2023-12-06T12:58:51.843Z"
   },
   {
    "duration": 14,
    "start_time": "2023-12-06T12:58:58.386Z"
   },
   {
    "duration": 12,
    "start_time": "2023-12-06T13:00:43.170Z"
   },
   {
    "duration": 20,
    "start_time": "2023-12-06T13:00:48.882Z"
   },
   {
    "duration": 11,
    "start_time": "2023-12-06T13:00:55.666Z"
   },
   {
    "duration": 1128,
    "start_time": "2023-12-06T13:01:01.852Z"
   },
   {
    "duration": 430,
    "start_time": "2023-12-06T13:01:02.982Z"
   },
   {
    "duration": 16,
    "start_time": "2023-12-06T13:01:03.414Z"
   },
   {
    "duration": 174,
    "start_time": "2023-12-06T13:01:03.431Z"
   },
   {
    "duration": 54,
    "start_time": "2023-12-06T13:01:03.607Z"
   },
   {
    "duration": 36,
    "start_time": "2023-12-06T13:01:03.663Z"
   },
   {
    "duration": 61,
    "start_time": "2023-12-06T13:01:03.700Z"
   },
   {
    "duration": 27,
    "start_time": "2023-12-06T13:01:09.681Z"
   },
   {
    "duration": 4,
    "start_time": "2023-12-06T13:02:17.121Z"
   },
   {
    "duration": 27,
    "start_time": "2023-12-06T13:03:23.729Z"
   },
   {
    "duration": 5,
    "start_time": "2023-12-06T13:03:32.161Z"
   },
   {
    "duration": 5,
    "start_time": "2023-12-06T13:03:34.625Z"
   },
   {
    "duration": 6,
    "start_time": "2023-12-06T13:03:36.096Z"
   },
   {
    "duration": 1076,
    "start_time": "2023-12-06T13:03:40.199Z"
   },
   {
    "duration": 417,
    "start_time": "2023-12-06T13:03:41.276Z"
   },
   {
    "duration": 18,
    "start_time": "2023-12-06T13:03:41.695Z"
   },
   {
    "duration": 14,
    "start_time": "2023-12-06T13:03:41.715Z"
   },
   {
    "duration": 10,
    "start_time": "2023-12-06T13:03:41.732Z"
   },
   {
    "duration": 29,
    "start_time": "2023-12-06T13:03:41.759Z"
   },
   {
    "duration": 251,
    "start_time": "2023-12-06T13:03:41.790Z"
   },
   {
    "duration": 82,
    "start_time": "2023-12-06T13:04:04.577Z"
   },
   {
    "duration": 27,
    "start_time": "2023-12-06T13:04:34.656Z"
   },
   {
    "duration": 4,
    "start_time": "2023-12-06T13:06:17.071Z"
   },
   {
    "duration": 4,
    "start_time": "2023-12-06T13:06:25.710Z"
   },
   {
    "duration": 29,
    "start_time": "2023-12-06T13:08:15.167Z"
   },
   {
    "duration": 26,
    "start_time": "2023-12-06T13:08:58.750Z"
   },
   {
    "duration": 27,
    "start_time": "2023-12-06T13:09:00.030Z"
   },
   {
    "duration": 10,
    "start_time": "2023-12-06T13:11:37.092Z"
   },
   {
    "duration": 17,
    "start_time": "2023-12-06T13:11:41.918Z"
   },
   {
    "duration": 28,
    "start_time": "2023-12-06T13:11:47.132Z"
   },
   {
    "duration": 23,
    "start_time": "2023-12-06T13:12:00.780Z"
   },
   {
    "duration": 22,
    "start_time": "2023-12-06T13:12:01.917Z"
   },
   {
    "duration": 4,
    "start_time": "2023-12-06T13:13:44.156Z"
   },
   {
    "duration": 7,
    "start_time": "2023-12-06T13:13:48.475Z"
   },
   {
    "duration": 12,
    "start_time": "2023-12-06T13:13:58.315Z"
   },
   {
    "duration": 1068,
    "start_time": "2023-12-06T13:14:03.204Z"
   },
   {
    "duration": 433,
    "start_time": "2023-12-06T13:14:04.275Z"
   },
   {
    "duration": 28,
    "start_time": "2023-12-06T13:14:04.710Z"
   },
   {
    "duration": 29,
    "start_time": "2023-12-06T13:14:04.740Z"
   },
   {
    "duration": 21,
    "start_time": "2023-12-06T13:14:04.771Z"
   },
   {
    "duration": 20,
    "start_time": "2023-12-06T13:14:04.794Z"
   },
   {
    "duration": 138,
    "start_time": "2023-12-06T13:14:04.816Z"
   },
   {
    "duration": 0,
    "start_time": "2023-12-06T13:14:04.956Z"
   },
   {
    "duration": 0,
    "start_time": "2023-12-06T13:14:04.958Z"
   },
   {
    "duration": 96,
    "start_time": "2023-12-06T13:14:17.469Z"
   },
   {
    "duration": 120,
    "start_time": "2023-12-06T13:14:21.740Z"
   },
   {
    "duration": 70,
    "start_time": "2023-12-06T13:14:25.900Z"
   },
   {
    "duration": 38,
    "start_time": "2023-12-06T13:15:31.884Z"
   },
   {
    "duration": 27,
    "start_time": "2023-12-06T13:15:36.843Z"
   },
   {
    "duration": 37,
    "start_time": "2023-12-06T13:15:39.547Z"
   },
   {
    "duration": 26,
    "start_time": "2023-12-06T13:16:08.748Z"
   },
   {
    "duration": 26,
    "start_time": "2023-12-06T13:17:13.612Z"
   },
   {
    "duration": 26,
    "start_time": "2023-12-06T13:17:15.498Z"
   },
   {
    "duration": 26,
    "start_time": "2023-12-06T13:17:23.578Z"
   },
   {
    "duration": 16,
    "start_time": "2023-12-06T13:17:27.947Z"
   },
   {
    "duration": 31,
    "start_time": "2023-12-06T13:17:32.107Z"
   },
   {
    "duration": 21,
    "start_time": "2023-12-06T13:17:51.515Z"
   },
   {
    "duration": 16,
    "start_time": "2023-12-06T13:17:55.978Z"
   },
   {
    "duration": 21,
    "start_time": "2023-12-06T13:18:01.756Z"
   },
   {
    "duration": 12,
    "start_time": "2023-12-06T13:18:05.003Z"
   },
   {
    "duration": 20,
    "start_time": "2023-12-06T13:18:11.914Z"
   },
   {
    "duration": 13,
    "start_time": "2023-12-06T13:18:18.970Z"
   },
   {
    "duration": 12,
    "start_time": "2023-12-06T13:18:28.794Z"
   },
   {
    "duration": 12,
    "start_time": "2023-12-06T13:18:45.418Z"
   },
   {
    "duration": 16,
    "start_time": "2023-12-06T13:18:52.538Z"
   },
   {
    "duration": 12,
    "start_time": "2023-12-06T13:19:07.626Z"
   },
   {
    "duration": 2,
    "start_time": "2023-12-06T13:20:39.402Z"
   },
   {
    "duration": 614,
    "start_time": "2023-12-06T13:20:52.697Z"
   },
   {
    "duration": 147,
    "start_time": "2023-12-06T13:21:03.593Z"
   },
   {
    "duration": 156,
    "start_time": "2023-12-06T13:21:05.929Z"
   },
   {
    "duration": 150,
    "start_time": "2023-12-06T13:21:08.089Z"
   },
   {
    "duration": 140,
    "start_time": "2023-12-06T13:22:56.746Z"
   },
   {
    "duration": 693,
    "start_time": "2023-12-06T13:24:14.265Z"
   },
   {
    "duration": 427,
    "start_time": "2023-12-06T13:24:28.840Z"
   },
   {
    "duration": 706,
    "start_time": "2023-12-06T13:24:36.136Z"
   },
   {
    "duration": 419,
    "start_time": "2023-12-06T13:24:42.968Z"
   },
   {
    "duration": 79,
    "start_time": "2023-12-06T13:26:31.257Z"
   },
   {
    "duration": 23,
    "start_time": "2023-12-06T13:26:37.800Z"
   },
   {
    "duration": 3,
    "start_time": "2023-12-06T13:26:55.879Z"
   },
   {
    "duration": 1635,
    "start_time": "2023-12-06T13:26:59.111Z"
   },
   {
    "duration": 945,
    "start_time": "2023-12-06T13:27:30.086Z"
   },
   {
    "duration": 724,
    "start_time": "2023-12-06T13:27:37.863Z"
   },
   {
    "duration": 763,
    "start_time": "2023-12-06T13:27:44.439Z"
   },
   {
    "duration": 888,
    "start_time": "2023-12-06T13:27:47.879Z"
   },
   {
    "duration": 732,
    "start_time": "2023-12-06T13:27:52.039Z"
   },
   {
    "duration": 738,
    "start_time": "2023-12-06T13:27:56.982Z"
   },
   {
    "duration": 710,
    "start_time": "2023-12-06T13:28:00.294Z"
   },
   {
    "duration": 815,
    "start_time": "2023-12-06T13:28:03.479Z"
   },
   {
    "duration": 731,
    "start_time": "2023-12-06T13:28:07.456Z"
   },
   {
    "duration": 756,
    "start_time": "2023-12-06T13:29:08.791Z"
   },
   {
    "duration": 737,
    "start_time": "2023-12-06T13:29:20.230Z"
   },
   {
    "duration": 888,
    "start_time": "2023-12-06T13:30:21.159Z"
   },
   {
    "duration": 726,
    "start_time": "2023-12-06T13:30:45.478Z"
   },
   {
    "duration": 737,
    "start_time": "2023-12-06T13:30:54.726Z"
   },
   {
    "duration": 876,
    "start_time": "2023-12-06T13:31:00.533Z"
   },
   {
    "duration": 16,
    "start_time": "2023-12-06T13:33:20.021Z"
   },
   {
    "duration": 34,
    "start_time": "2023-12-06T13:33:23.525Z"
   },
   {
    "duration": 30,
    "start_time": "2023-12-06T13:33:29.019Z"
   },
   {
    "duration": 31,
    "start_time": "2023-12-06T13:33:31.877Z"
   },
   {
    "duration": 113,
    "start_time": "2023-12-06T13:33:55.444Z"
   },
   {
    "duration": 31,
    "start_time": "2023-12-06T13:34:01.093Z"
   },
   {
    "duration": 30,
    "start_time": "2023-12-06T13:34:05.461Z"
   },
   {
    "duration": 71,
    "start_time": "2023-12-06T13:34:08.948Z"
   },
   {
    "duration": 74,
    "start_time": "2023-12-06T13:34:17.877Z"
   },
   {
    "duration": 13,
    "start_time": "2023-12-06T13:35:20.388Z"
   },
   {
    "duration": 30,
    "start_time": "2023-12-06T13:36:07.349Z"
   },
   {
    "duration": 30,
    "start_time": "2023-12-06T13:44:15.233Z"
   },
   {
    "duration": 34,
    "start_time": "2023-12-06T13:44:19.472Z"
   },
   {
    "duration": 33,
    "start_time": "2023-12-06T13:44:25.409Z"
   },
   {
    "duration": 31,
    "start_time": "2023-12-06T13:44:45.489Z"
   },
   {
    "duration": 46,
    "start_time": "2023-12-06T15:50:27.954Z"
   },
   {
    "duration": 1552,
    "start_time": "2023-12-06T15:51:01.557Z"
   },
   {
    "duration": 756,
    "start_time": "2023-12-06T15:51:03.111Z"
   },
   {
    "duration": 24,
    "start_time": "2023-12-06T15:51:03.868Z"
   },
   {
    "duration": 39,
    "start_time": "2023-12-06T15:51:03.893Z"
   },
   {
    "duration": 19,
    "start_time": "2023-12-06T15:51:03.934Z"
   },
   {
    "duration": 18,
    "start_time": "2023-12-06T15:51:03.954Z"
   },
   {
    "duration": 90,
    "start_time": "2023-12-06T15:51:03.974Z"
   },
   {
    "duration": 27,
    "start_time": "2023-12-06T15:51:04.066Z"
   },
   {
    "duration": 734,
    "start_time": "2023-12-06T15:51:04.094Z"
   },
   {
    "duration": 123,
    "start_time": "2023-12-06T15:51:04.830Z"
   },
   {
    "duration": 206,
    "start_time": "2023-12-06T15:51:04.955Z"
   },
   {
    "duration": 190,
    "start_time": "2023-12-06T15:51:05.163Z"
   },
   {
    "duration": 3,
    "start_time": "2023-12-06T17:09:55.569Z"
   },
   {
    "duration": 3,
    "start_time": "2023-12-06T17:09:59.926Z"
   },
   {
    "duration": 4,
    "start_time": "2023-12-06T17:10:03.127Z"
   },
   {
    "duration": 3,
    "start_time": "2023-12-06T17:10:09.895Z"
   },
   {
    "duration": 1266,
    "start_time": "2023-12-06T17:19:11.310Z"
   },
   {
    "duration": 401,
    "start_time": "2023-12-06T17:19:12.578Z"
   },
   {
    "duration": 22,
    "start_time": "2023-12-06T17:19:12.983Z"
   },
   {
    "duration": 19,
    "start_time": "2023-12-06T17:19:13.007Z"
   },
   {
    "duration": 35,
    "start_time": "2023-12-06T17:19:13.027Z"
   },
   {
    "duration": 27,
    "start_time": "2023-12-06T17:19:13.063Z"
   },
   {
    "duration": 81,
    "start_time": "2023-12-06T17:19:13.091Z"
   },
   {
    "duration": 27,
    "start_time": "2023-12-06T17:19:13.173Z"
   },
   {
    "duration": 703,
    "start_time": "2023-12-06T17:19:13.203Z"
   },
   {
    "duration": 144,
    "start_time": "2023-12-06T17:19:13.908Z"
   },
   {
    "duration": 202,
    "start_time": "2023-12-06T17:19:14.054Z"
   },
   {
    "duration": 197,
    "start_time": "2023-12-06T17:19:14.258Z"
   },
   {
    "duration": 95,
    "start_time": "2023-12-06T17:19:14.457Z"
   },
   {
    "duration": 16,
    "start_time": "2023-12-06T17:19:14.554Z"
   },
   {
    "duration": 2,
    "start_time": "2023-12-06T17:21:41.466Z"
   },
   {
    "duration": 3,
    "start_time": "2023-12-06T17:21:54.132Z"
   },
   {
    "duration": 3,
    "start_time": "2023-12-06T17:22:32.213Z"
   },
   {
    "duration": 3,
    "start_time": "2023-12-06T17:22:57.582Z"
   },
   {
    "duration": 3,
    "start_time": "2023-12-06T17:23:52.471Z"
   },
   {
    "duration": 3,
    "start_time": "2023-12-06T17:24:18.443Z"
   },
   {
    "duration": 120,
    "start_time": "2023-12-06T17:36:59.297Z"
   },
   {
    "duration": 3,
    "start_time": "2023-12-06T17:37:13.494Z"
   },
   {
    "duration": 11,
    "start_time": "2023-12-06T17:37:17.762Z"
   },
   {
    "duration": 13,
    "start_time": "2023-12-06T17:38:37.094Z"
   },
   {
    "duration": 16,
    "start_time": "2023-12-06T17:41:27.524Z"
   },
   {
    "duration": 17,
    "start_time": "2023-12-06T17:41:33.047Z"
   },
   {
    "duration": 11,
    "start_time": "2023-12-06T17:41:43.042Z"
   },
   {
    "duration": 10,
    "start_time": "2023-12-06T17:42:05.568Z"
   },
   {
    "duration": 12,
    "start_time": "2023-12-06T17:42:08.162Z"
   },
   {
    "duration": 15,
    "start_time": "2023-12-06T18:23:48.516Z"
   },
   {
    "duration": 13,
    "start_time": "2023-12-06T18:24:01.171Z"
   },
   {
    "duration": 12,
    "start_time": "2023-12-06T18:24:18.603Z"
   },
   {
    "duration": 1180,
    "start_time": "2023-12-06T18:25:26.443Z"
   },
   {
    "duration": 45,
    "start_time": "2023-12-06T18:25:32.533Z"
   },
   {
    "duration": 24,
    "start_time": "2023-12-06T18:25:40.067Z"
   },
   {
    "duration": 27,
    "start_time": "2023-12-06T18:25:44.658Z"
   },
   {
    "duration": 57,
    "start_time": "2023-12-06T18:26:10.328Z"
   },
   {
    "duration": 12,
    "start_time": "2023-12-06T18:27:57.039Z"
   },
   {
    "duration": 23,
    "start_time": "2023-12-06T18:28:24.145Z"
   },
   {
    "duration": 21,
    "start_time": "2023-12-06T18:29:26.046Z"
   },
   {
    "duration": 1275,
    "start_time": "2023-12-06T18:29:40.477Z"
   },
   {
    "duration": 536,
    "start_time": "2023-12-06T18:29:41.754Z"
   },
   {
    "duration": 79,
    "start_time": "2023-12-06T18:29:42.291Z"
   },
   {
    "duration": 93,
    "start_time": "2023-12-06T18:29:42.372Z"
   },
   {
    "duration": 19,
    "start_time": "2023-12-06T18:29:42.467Z"
   },
   {
    "duration": 74,
    "start_time": "2023-12-06T18:29:42.488Z"
   },
   {
    "duration": 127,
    "start_time": "2023-12-06T18:29:42.563Z"
   },
   {
    "duration": 78,
    "start_time": "2023-12-06T18:29:42.691Z"
   },
   {
    "duration": 1015,
    "start_time": "2023-12-06T18:29:42.771Z"
   },
   {
    "duration": 72,
    "start_time": "2023-12-06T18:29:43.788Z"
   },
   {
    "duration": 293,
    "start_time": "2023-12-06T18:29:43.862Z"
   },
   {
    "duration": 196,
    "start_time": "2023-12-06T18:29:44.158Z"
   },
   {
    "duration": 3,
    "start_time": "2023-12-06T18:29:44.356Z"
   },
   {
    "duration": 203,
    "start_time": "2023-12-06T18:29:44.361Z"
   },
   {
    "duration": 0,
    "start_time": "2023-12-06T18:29:44.566Z"
   },
   {
    "duration": 0,
    "start_time": "2023-12-06T18:29:44.567Z"
   },
   {
    "duration": 0,
    "start_time": "2023-12-06T18:29:44.568Z"
   },
   {
    "duration": 0,
    "start_time": "2023-12-06T18:29:44.569Z"
   },
   {
    "duration": 1341,
    "start_time": "2023-12-06T18:30:06.549Z"
   },
   {
    "duration": 393,
    "start_time": "2023-12-06T18:30:07.891Z"
   },
   {
    "duration": 24,
    "start_time": "2023-12-06T18:30:08.286Z"
   },
   {
    "duration": 20,
    "start_time": "2023-12-06T18:30:08.312Z"
   },
   {
    "duration": 20,
    "start_time": "2023-12-06T18:30:08.351Z"
   },
   {
    "duration": 18,
    "start_time": "2023-12-06T18:30:08.373Z"
   },
   {
    "duration": 95,
    "start_time": "2023-12-06T18:30:08.393Z"
   },
   {
    "duration": 29,
    "start_time": "2023-12-06T18:30:08.489Z"
   },
   {
    "duration": 733,
    "start_time": "2023-12-06T18:30:08.519Z"
   },
   {
    "duration": 100,
    "start_time": "2023-12-06T18:30:09.253Z"
   },
   {
    "duration": 198,
    "start_time": "2023-12-06T18:30:09.355Z"
   },
   {
    "duration": 200,
    "start_time": "2023-12-06T18:30:09.556Z"
   },
   {
    "duration": 3,
    "start_time": "2023-12-06T18:30:09.758Z"
   },
   {
    "duration": 7,
    "start_time": "2023-12-06T18:30:09.855Z"
   },
   {
    "duration": 5,
    "start_time": "2023-12-06T18:30:09.864Z"
   },
   {
    "duration": 49,
    "start_time": "2023-12-06T18:30:09.871Z"
   },
   {
    "duration": 31,
    "start_time": "2023-12-06T18:30:09.921Z"
   },
   {
    "duration": 116,
    "start_time": "2023-12-06T18:30:09.954Z"
   },
   {
    "duration": 7,
    "start_time": "2023-12-06T18:31:38.490Z"
   },
   {
    "duration": 4,
    "start_time": "2023-12-06T18:31:56.868Z"
   },
   {
    "duration": 10,
    "start_time": "2023-12-06T18:32:06.667Z"
   },
   {
    "duration": 5,
    "start_time": "2023-12-06T18:32:18.639Z"
   },
   {
    "duration": 4,
    "start_time": "2023-12-06T18:32:28.172Z"
   },
   {
    "duration": 5,
    "start_time": "2023-12-06T18:32:39.261Z"
   },
   {
    "duration": 5,
    "start_time": "2023-12-06T18:33:02.373Z"
   },
   {
    "duration": 6,
    "start_time": "2023-12-06T18:33:24.577Z"
   },
   {
    "duration": 4,
    "start_time": "2023-12-06T18:33:34.801Z"
   },
   {
    "duration": 8,
    "start_time": "2023-12-06T18:34:17.037Z"
   },
   {
    "duration": 10,
    "start_time": "2023-12-06T18:34:23.854Z"
   },
   {
    "duration": 5,
    "start_time": "2023-12-06T18:34:29.066Z"
   },
   {
    "duration": 5,
    "start_time": "2023-12-06T18:34:36.025Z"
   },
   {
    "duration": 10,
    "start_time": "2023-12-06T18:35:21.798Z"
   },
   {
    "duration": 7,
    "start_time": "2023-12-06T18:35:29.192Z"
   },
   {
    "duration": 5,
    "start_time": "2023-12-06T18:35:32.933Z"
   },
   {
    "duration": 3,
    "start_time": "2023-12-06T18:35:46.750Z"
   },
   {
    "duration": 8,
    "start_time": "2023-12-06T18:35:52.469Z"
   },
   {
    "duration": 5,
    "start_time": "2023-12-06T18:35:54.413Z"
   },
   {
    "duration": 4,
    "start_time": "2023-12-06T18:35:58.176Z"
   },
   {
    "duration": 1413,
    "start_time": "2023-12-06T18:37:32.924Z"
   },
   {
    "duration": 408,
    "start_time": "2023-12-06T18:37:34.339Z"
   },
   {
    "duration": 28,
    "start_time": "2023-12-06T18:37:34.749Z"
   },
   {
    "duration": 28,
    "start_time": "2023-12-06T18:37:34.779Z"
   },
   {
    "duration": 45,
    "start_time": "2023-12-06T18:37:34.809Z"
   },
   {
    "duration": 19,
    "start_time": "2023-12-06T18:37:34.855Z"
   },
   {
    "duration": 98,
    "start_time": "2023-12-06T18:37:34.876Z"
   },
   {
    "duration": 33,
    "start_time": "2023-12-06T18:37:34.975Z"
   },
   {
    "duration": 788,
    "start_time": "2023-12-06T18:37:35.010Z"
   },
   {
    "duration": 153,
    "start_time": "2023-12-06T18:37:35.799Z"
   },
   {
    "duration": 199,
    "start_time": "2023-12-06T18:37:35.955Z"
   },
   {
    "duration": 197,
    "start_time": "2023-12-06T18:37:36.156Z"
   },
   {
    "duration": 6,
    "start_time": "2023-12-06T18:37:36.355Z"
   },
   {
    "duration": 100,
    "start_time": "2023-12-06T18:37:36.364Z"
   },
   {
    "duration": 7,
    "start_time": "2023-12-06T18:37:36.466Z"
   },
   {
    "duration": 45,
    "start_time": "2023-12-06T18:37:36.474Z"
   },
   {
    "duration": 4,
    "start_time": "2023-12-06T18:37:36.521Z"
   },
   {
    "duration": 6,
    "start_time": "2023-12-06T18:37:36.526Z"
   },
   {
    "duration": 123,
    "start_time": "2023-12-06T18:37:36.533Z"
   },
   {
    "duration": 3,
    "start_time": "2023-12-06T18:38:03.234Z"
   },
   {
    "duration": 1946,
    "start_time": "2023-12-06T18:38:04.348Z"
   },
   {
    "duration": 4,
    "start_time": "2023-12-06T18:42:16.154Z"
   },
   {
    "duration": 2010,
    "start_time": "2023-12-06T18:42:17.349Z"
   },
   {
    "duration": 1699,
    "start_time": "2023-12-06T18:42:43.965Z"
   },
   {
    "duration": 615,
    "start_time": "2023-12-06T18:42:45.666Z"
   },
   {
    "duration": 37,
    "start_time": "2023-12-06T18:42:46.283Z"
   },
   {
    "duration": 42,
    "start_time": "2023-12-06T18:42:46.322Z"
   },
   {
    "duration": 31,
    "start_time": "2023-12-06T18:42:46.367Z"
   },
   {
    "duration": 27,
    "start_time": "2023-12-06T18:42:46.400Z"
   },
   {
    "duration": 131,
    "start_time": "2023-12-06T18:42:46.430Z"
   },
   {
    "duration": 32,
    "start_time": "2023-12-06T18:42:46.563Z"
   },
   {
    "duration": 1039,
    "start_time": "2023-12-06T18:42:46.597Z"
   },
   {
    "duration": 123,
    "start_time": "2023-12-06T18:42:47.638Z"
   },
   {
    "duration": 298,
    "start_time": "2023-12-06T18:42:47.766Z"
   },
   {
    "duration": 183,
    "start_time": "2023-12-06T18:42:48.070Z"
   },
   {
    "duration": 4,
    "start_time": "2023-12-06T18:42:48.256Z"
   },
   {
    "duration": 5,
    "start_time": "2023-12-06T18:42:48.263Z"
   },
   {
    "duration": 106,
    "start_time": "2023-12-06T18:42:48.270Z"
   },
   {
    "duration": 70,
    "start_time": "2023-12-06T18:42:48.378Z"
   },
   {
    "duration": 4,
    "start_time": "2023-12-06T18:42:48.450Z"
   },
   {
    "duration": 27,
    "start_time": "2023-12-06T18:42:48.456Z"
   },
   {
    "duration": 2109,
    "start_time": "2023-12-06T18:42:48.485Z"
   },
   {
    "duration": 1420,
    "start_time": "2023-12-06T19:10:06.293Z"
   },
   {
    "duration": 409,
    "start_time": "2023-12-06T19:10:07.715Z"
   },
   {
    "duration": 27,
    "start_time": "2023-12-06T19:10:08.126Z"
   },
   {
    "duration": 19,
    "start_time": "2023-12-06T19:10:08.154Z"
   },
   {
    "duration": 20,
    "start_time": "2023-12-06T19:10:08.176Z"
   },
   {
    "duration": 19,
    "start_time": "2023-12-06T19:10:08.198Z"
   },
   {
    "duration": 110,
    "start_time": "2023-12-06T19:10:08.219Z"
   },
   {
    "duration": 39,
    "start_time": "2023-12-06T19:10:08.330Z"
   },
   {
    "duration": 741,
    "start_time": "2023-12-06T19:10:08.371Z"
   },
   {
    "duration": 238,
    "start_time": "2023-12-06T19:10:09.114Z"
   },
   {
    "duration": 102,
    "start_time": "2023-12-06T19:10:09.354Z"
   },
   {
    "duration": 194,
    "start_time": "2023-12-06T19:10:09.459Z"
   },
   {
    "duration": 4,
    "start_time": "2023-12-06T19:10:09.655Z"
   },
   {
    "duration": 12,
    "start_time": "2023-12-06T19:10:09.751Z"
   },
   {
    "duration": 8,
    "start_time": "2023-12-06T19:10:09.764Z"
   },
   {
    "duration": 46,
    "start_time": "2023-12-06T19:10:09.773Z"
   },
   {
    "duration": 3,
    "start_time": "2023-12-06T19:10:09.821Z"
   },
   {
    "duration": 20,
    "start_time": "2023-12-06T19:10:09.825Z"
   },
   {
    "duration": 1877,
    "start_time": "2023-12-06T19:10:09.846Z"
   },
   {
    "duration": 51,
    "start_time": "2023-12-06T19:13:04.625Z"
   },
   {
    "duration": 0,
    "start_time": "2023-12-06T19:13:04.678Z"
   },
   {
    "duration": 0,
    "start_time": "2023-12-06T19:13:04.679Z"
   },
   {
    "duration": 0,
    "start_time": "2023-12-06T19:13:04.680Z"
   },
   {
    "duration": 0,
    "start_time": "2023-12-06T19:13:04.681Z"
   },
   {
    "duration": 0,
    "start_time": "2023-12-06T19:13:04.682Z"
   },
   {
    "duration": 0,
    "start_time": "2023-12-06T19:13:04.683Z"
   },
   {
    "duration": 0,
    "start_time": "2023-12-06T19:13:04.684Z"
   },
   {
    "duration": 0,
    "start_time": "2023-12-06T19:13:04.685Z"
   },
   {
    "duration": 0,
    "start_time": "2023-12-06T19:13:04.686Z"
   },
   {
    "duration": 0,
    "start_time": "2023-12-06T19:13:04.687Z"
   },
   {
    "duration": 0,
    "start_time": "2023-12-06T19:13:04.688Z"
   },
   {
    "duration": 0,
    "start_time": "2023-12-06T19:13:04.689Z"
   },
   {
    "duration": 0,
    "start_time": "2023-12-06T19:13:04.690Z"
   },
   {
    "duration": 0,
    "start_time": "2023-12-06T19:13:04.691Z"
   },
   {
    "duration": 0,
    "start_time": "2023-12-06T19:13:04.692Z"
   },
   {
    "duration": 0,
    "start_time": "2023-12-06T19:13:04.693Z"
   },
   {
    "duration": 0,
    "start_time": "2023-12-06T19:13:04.694Z"
   },
   {
    "duration": 0,
    "start_time": "2023-12-06T19:13:04.695Z"
   },
   {
    "duration": 0,
    "start_time": "2023-12-06T19:13:04.696Z"
   },
   {
    "duration": 1445,
    "start_time": "2023-12-06T19:13:18.680Z"
   },
   {
    "duration": 303,
    "start_time": "2023-12-06T19:13:20.127Z"
   },
   {
    "duration": 0,
    "start_time": "2023-12-06T19:13:20.432Z"
   },
   {
    "duration": 0,
    "start_time": "2023-12-06T19:13:20.433Z"
   },
   {
    "duration": 0,
    "start_time": "2023-12-06T19:13:20.434Z"
   },
   {
    "duration": 0,
    "start_time": "2023-12-06T19:13:20.435Z"
   },
   {
    "duration": 0,
    "start_time": "2023-12-06T19:13:20.436Z"
   },
   {
    "duration": 0,
    "start_time": "2023-12-06T19:13:20.437Z"
   },
   {
    "duration": 0,
    "start_time": "2023-12-06T19:13:20.438Z"
   },
   {
    "duration": 0,
    "start_time": "2023-12-06T19:13:20.439Z"
   },
   {
    "duration": 0,
    "start_time": "2023-12-06T19:13:20.453Z"
   },
   {
    "duration": 0,
    "start_time": "2023-12-06T19:13:20.454Z"
   },
   {
    "duration": 0,
    "start_time": "2023-12-06T19:13:20.455Z"
   },
   {
    "duration": 0,
    "start_time": "2023-12-06T19:13:20.456Z"
   },
   {
    "duration": 0,
    "start_time": "2023-12-06T19:13:20.458Z"
   },
   {
    "duration": 0,
    "start_time": "2023-12-06T19:13:20.459Z"
   },
   {
    "duration": 0,
    "start_time": "2023-12-06T19:13:20.460Z"
   },
   {
    "duration": 0,
    "start_time": "2023-12-06T19:13:20.461Z"
   },
   {
    "duration": 0,
    "start_time": "2023-12-06T19:13:20.463Z"
   },
   {
    "duration": 0,
    "start_time": "2023-12-06T19:13:20.464Z"
   },
   {
    "duration": 1523,
    "start_time": "2023-12-06T19:14:27.564Z"
   },
   {
    "duration": 3303,
    "start_time": "2023-12-06T19:14:29.089Z"
   },
   {
    "duration": 423,
    "start_time": "2023-12-06T19:14:32.393Z"
   },
   {
    "duration": 24,
    "start_time": "2023-12-06T19:14:32.818Z"
   },
   {
    "duration": 26,
    "start_time": "2023-12-06T19:14:32.853Z"
   },
   {
    "duration": 21,
    "start_time": "2023-12-06T19:14:32.881Z"
   },
   {
    "duration": 21,
    "start_time": "2023-12-06T19:14:32.904Z"
   },
   {
    "duration": 84,
    "start_time": "2023-12-06T19:14:32.952Z"
   },
   {
    "duration": 48,
    "start_time": "2023-12-06T19:14:33.051Z"
   },
   {
    "duration": 814,
    "start_time": "2023-12-06T19:14:33.101Z"
   },
   {
    "duration": 140,
    "start_time": "2023-12-06T19:14:33.916Z"
   },
   {
    "duration": 196,
    "start_time": "2023-12-06T19:14:34.059Z"
   },
   {
    "duration": 192,
    "start_time": "2023-12-06T19:14:34.262Z"
   },
   {
    "duration": 6,
    "start_time": "2023-12-06T19:14:34.457Z"
   },
   {
    "duration": 88,
    "start_time": "2023-12-06T19:14:34.466Z"
   },
   {
    "duration": 6,
    "start_time": "2023-12-06T19:14:34.557Z"
   },
   {
    "duration": 58,
    "start_time": "2023-12-06T19:14:34.566Z"
   },
   {
    "duration": 10,
    "start_time": "2023-12-06T19:14:34.626Z"
   },
   {
    "duration": 5,
    "start_time": "2023-12-06T19:14:34.653Z"
   },
   {
    "duration": 2038,
    "start_time": "2023-12-06T19:14:34.660Z"
   },
   {
    "duration": 7,
    "start_time": "2023-12-06T19:23:08.292Z"
   },
   {
    "duration": 106,
    "start_time": "2023-12-06T19:23:20.943Z"
   },
   {
    "duration": 5,
    "start_time": "2023-12-06T19:23:23.531Z"
   },
   {
    "duration": 7,
    "start_time": "2023-12-06T19:23:30.843Z"
   },
   {
    "duration": 1308,
    "start_time": "2023-12-06T19:23:35.780Z"
   },
   {
    "duration": 400,
    "start_time": "2023-12-06T19:23:37.090Z"
   },
   {
    "duration": 22,
    "start_time": "2023-12-06T19:23:37.491Z"
   },
   {
    "duration": 38,
    "start_time": "2023-12-06T19:23:37.514Z"
   },
   {
    "duration": 17,
    "start_time": "2023-12-06T19:23:37.554Z"
   },
   {
    "duration": 17,
    "start_time": "2023-12-06T19:23:37.573Z"
   },
   {
    "duration": 93,
    "start_time": "2023-12-06T19:23:37.591Z"
   },
   {
    "duration": 28,
    "start_time": "2023-12-06T19:23:37.686Z"
   },
   {
    "duration": 787,
    "start_time": "2023-12-06T19:23:37.715Z"
   },
   {
    "duration": 152,
    "start_time": "2023-12-06T19:23:38.503Z"
   },
   {
    "duration": 204,
    "start_time": "2023-12-06T19:23:38.657Z"
   },
   {
    "duration": 291,
    "start_time": "2023-12-06T19:23:38.863Z"
   },
   {
    "duration": 4,
    "start_time": "2023-12-06T19:23:39.155Z"
   },
   {
    "duration": 121,
    "start_time": "2023-12-06T19:23:39.162Z"
   },
   {
    "duration": 15,
    "start_time": "2023-12-06T19:23:39.284Z"
   },
   {
    "duration": 93,
    "start_time": "2023-12-06T19:23:39.300Z"
   },
   {
    "duration": 57,
    "start_time": "2023-12-06T19:23:39.395Z"
   },
   {
    "duration": 4,
    "start_time": "2023-12-06T19:23:39.454Z"
   },
   {
    "duration": 214,
    "start_time": "2023-12-06T19:23:39.460Z"
   },
   {
    "duration": 7,
    "start_time": "2023-12-06T19:23:50.563Z"
   },
   {
    "duration": 8,
    "start_time": "2023-12-06T19:23:52.622Z"
   },
   {
    "duration": 3,
    "start_time": "2023-12-06T19:23:55.613Z"
   },
   {
    "duration": 6,
    "start_time": "2023-12-06T19:24:01.652Z"
   },
   {
    "duration": 5,
    "start_time": "2023-12-06T19:24:09.878Z"
   },
   {
    "duration": 11,
    "start_time": "2023-12-06T19:24:15.382Z"
   },
   {
    "duration": 5,
    "start_time": "2023-12-06T19:24:19.316Z"
   },
   {
    "duration": 3,
    "start_time": "2023-12-06T19:25:41.902Z"
   },
   {
    "duration": 5,
    "start_time": "2023-12-06T19:25:44.784Z"
   },
   {
    "duration": 11,
    "start_time": "2023-12-06T19:26:25.679Z"
   },
   {
    "duration": 3,
    "start_time": "2023-12-06T19:26:37.790Z"
   },
   {
    "duration": 21,
    "start_time": "2023-12-06T19:27:09.261Z"
   },
   {
    "duration": 1347,
    "start_time": "2023-12-06T19:28:00.031Z"
   },
   {
    "duration": 405,
    "start_time": "2023-12-06T19:28:01.379Z"
   },
   {
    "duration": 23,
    "start_time": "2023-12-06T19:28:01.786Z"
   },
   {
    "duration": 56,
    "start_time": "2023-12-06T19:28:01.810Z"
   },
   {
    "duration": 51,
    "start_time": "2023-12-06T19:28:01.868Z"
   },
   {
    "duration": 143,
    "start_time": "2023-12-06T19:28:01.920Z"
   },
   {
    "duration": 0,
    "start_time": "2023-12-06T19:28:02.064Z"
   },
   {
    "duration": 0,
    "start_time": "2023-12-06T19:28:02.065Z"
   },
   {
    "duration": 0,
    "start_time": "2023-12-06T19:28:02.066Z"
   },
   {
    "duration": 0,
    "start_time": "2023-12-06T19:28:02.067Z"
   },
   {
    "duration": 0,
    "start_time": "2023-12-06T19:28:02.068Z"
   },
   {
    "duration": 0,
    "start_time": "2023-12-06T19:28:02.069Z"
   },
   {
    "duration": 0,
    "start_time": "2023-12-06T19:28:02.070Z"
   },
   {
    "duration": 0,
    "start_time": "2023-12-06T19:28:02.071Z"
   },
   {
    "duration": 0,
    "start_time": "2023-12-06T19:28:02.072Z"
   },
   {
    "duration": 0,
    "start_time": "2023-12-06T19:28:02.073Z"
   },
   {
    "duration": 0,
    "start_time": "2023-12-06T19:28:02.074Z"
   },
   {
    "duration": 0,
    "start_time": "2023-12-06T19:28:02.075Z"
   },
   {
    "duration": 0,
    "start_time": "2023-12-06T19:28:02.076Z"
   },
   {
    "duration": 1299,
    "start_time": "2023-12-06T19:28:27.464Z"
   },
   {
    "duration": 382,
    "start_time": "2023-12-06T19:28:28.765Z"
   },
   {
    "duration": 25,
    "start_time": "2023-12-06T19:28:29.148Z"
   },
   {
    "duration": 32,
    "start_time": "2023-12-06T19:28:29.174Z"
   },
   {
    "duration": 19,
    "start_time": "2023-12-06T19:28:29.208Z"
   },
   {
    "duration": 23,
    "start_time": "2023-12-06T19:28:29.229Z"
   },
   {
    "duration": 117,
    "start_time": "2023-12-06T19:28:29.253Z"
   },
   {
    "duration": 12,
    "start_time": "2023-12-06T19:28:29.371Z"
   },
   {
    "duration": 746,
    "start_time": "2023-12-06T19:28:29.384Z"
   },
   {
    "duration": 35,
    "start_time": "2023-12-06T19:28:30.131Z"
   },
   {
    "duration": 326,
    "start_time": "2023-12-06T19:28:30.167Z"
   },
   {
    "duration": 0,
    "start_time": "2023-12-06T19:28:30.495Z"
   },
   {
    "duration": 0,
    "start_time": "2023-12-06T19:28:30.496Z"
   },
   {
    "duration": 0,
    "start_time": "2023-12-06T19:28:30.497Z"
   },
   {
    "duration": 0,
    "start_time": "2023-12-06T19:28:30.498Z"
   },
   {
    "duration": 0,
    "start_time": "2023-12-06T19:28:30.499Z"
   },
   {
    "duration": 0,
    "start_time": "2023-12-06T19:28:30.500Z"
   },
   {
    "duration": 0,
    "start_time": "2023-12-06T19:28:30.501Z"
   },
   {
    "duration": 0,
    "start_time": "2023-12-06T19:28:30.502Z"
   },
   {
    "duration": 1369,
    "start_time": "2023-12-06T19:28:58.322Z"
   },
   {
    "duration": 388,
    "start_time": "2023-12-06T19:28:59.693Z"
   },
   {
    "duration": 25,
    "start_time": "2023-12-06T19:29:00.083Z"
   },
   {
    "duration": 36,
    "start_time": "2023-12-06T19:29:00.110Z"
   },
   {
    "duration": 42,
    "start_time": "2023-12-06T19:29:00.148Z"
   },
   {
    "duration": 28,
    "start_time": "2023-12-06T19:29:00.191Z"
   },
   {
    "duration": 93,
    "start_time": "2023-12-06T19:29:00.221Z"
   },
   {
    "duration": 13,
    "start_time": "2023-12-06T19:29:00.315Z"
   },
   {
    "duration": 754,
    "start_time": "2023-12-06T19:29:00.330Z"
   },
   {
    "duration": 73,
    "start_time": "2023-12-06T19:29:01.086Z"
   },
   {
    "duration": 112,
    "start_time": "2023-12-06T19:29:01.161Z"
   },
   {
    "duration": 110,
    "start_time": "2023-12-06T19:29:01.353Z"
   },
   {
    "duration": 188,
    "start_time": "2023-12-06T19:29:01.465Z"
   },
   {
    "duration": 45,
    "start_time": "2023-12-06T19:29:01.655Z"
   },
   {
    "duration": 39,
    "start_time": "2023-12-06T19:29:01.701Z"
   },
   {
    "duration": 61,
    "start_time": "2023-12-06T19:29:01.741Z"
   },
   {
    "duration": 11,
    "start_time": "2023-12-06T19:29:01.803Z"
   },
   {
    "duration": 50,
    "start_time": "2023-12-06T19:29:01.815Z"
   },
   {
    "duration": 163,
    "start_time": "2023-12-06T19:29:01.867Z"
   },
   {
    "duration": 5,
    "start_time": "2023-12-06T19:29:19.107Z"
   },
   {
    "duration": 1264,
    "start_time": "2023-12-06T19:29:37.104Z"
   },
   {
    "duration": 382,
    "start_time": "2023-12-06T19:29:38.370Z"
   },
   {
    "duration": 23,
    "start_time": "2023-12-06T19:29:38.754Z"
   },
   {
    "duration": 19,
    "start_time": "2023-12-06T19:29:38.778Z"
   },
   {
    "duration": 22,
    "start_time": "2023-12-06T19:29:38.799Z"
   },
   {
    "duration": 46,
    "start_time": "2023-12-06T19:29:38.823Z"
   },
   {
    "duration": 88,
    "start_time": "2023-12-06T19:29:38.870Z"
   },
   {
    "duration": 28,
    "start_time": "2023-12-06T19:29:38.960Z"
   },
   {
    "duration": 714,
    "start_time": "2023-12-06T19:29:38.990Z"
   },
   {
    "duration": 146,
    "start_time": "2023-12-06T19:29:39.706Z"
   },
   {
    "duration": 201,
    "start_time": "2023-12-06T19:29:39.855Z"
   },
   {
    "duration": 198,
    "start_time": "2023-12-06T19:29:40.058Z"
   },
   {
    "duration": 3,
    "start_time": "2023-12-06T19:29:40.258Z"
   },
   {
    "duration": 8,
    "start_time": "2023-12-06T19:29:40.354Z"
   },
   {
    "duration": 8,
    "start_time": "2023-12-06T19:29:40.363Z"
   },
   {
    "duration": 49,
    "start_time": "2023-12-06T19:29:40.372Z"
   },
   {
    "duration": 2,
    "start_time": "2023-12-06T19:29:40.423Z"
   },
   {
    "duration": 6,
    "start_time": "2023-12-06T19:29:40.427Z"
   },
   {
    "duration": 17,
    "start_time": "2023-12-06T19:29:40.435Z"
   },
   {
    "duration": 125,
    "start_time": "2023-12-06T19:29:40.454Z"
   },
   {
    "duration": 17,
    "start_time": "2023-12-06T19:30:03.643Z"
   },
   {
    "duration": 1772,
    "start_time": "2023-12-06T19:30:05.366Z"
   },
   {
    "duration": 1774,
    "start_time": "2023-12-06T19:31:46.368Z"
   },
   {
    "duration": 1750,
    "start_time": "2023-12-06T19:31:57.087Z"
   },
   {
    "duration": 1318,
    "start_time": "2023-12-06T19:32:04.360Z"
   },
   {
    "duration": 397,
    "start_time": "2023-12-06T19:32:05.679Z"
   },
   {
    "duration": 23,
    "start_time": "2023-12-06T19:32:06.078Z"
   },
   {
    "duration": 18,
    "start_time": "2023-12-06T19:32:06.102Z"
   },
   {
    "duration": 35,
    "start_time": "2023-12-06T19:32:06.122Z"
   },
   {
    "duration": 18,
    "start_time": "2023-12-06T19:32:06.159Z"
   },
   {
    "duration": 90,
    "start_time": "2023-12-06T19:32:06.178Z"
   },
   {
    "duration": 27,
    "start_time": "2023-12-06T19:32:06.270Z"
   },
   {
    "duration": 723,
    "start_time": "2023-12-06T19:32:06.299Z"
   },
   {
    "duration": 132,
    "start_time": "2023-12-06T19:32:07.023Z"
   },
   {
    "duration": 198,
    "start_time": "2023-12-06T19:32:07.158Z"
   },
   {
    "duration": 293,
    "start_time": "2023-12-06T19:32:07.359Z"
   },
   {
    "duration": 3,
    "start_time": "2023-12-06T19:32:07.654Z"
   },
   {
    "duration": 22,
    "start_time": "2023-12-06T19:32:07.659Z"
   },
   {
    "duration": 6,
    "start_time": "2023-12-06T19:32:07.683Z"
   },
   {
    "duration": 55,
    "start_time": "2023-12-06T19:32:07.690Z"
   },
   {
    "duration": 3,
    "start_time": "2023-12-06T19:32:07.746Z"
   },
   {
    "duration": 12,
    "start_time": "2023-12-06T19:32:07.751Z"
   },
   {
    "duration": 1712,
    "start_time": "2023-12-06T19:32:07.764Z"
   },
   {
    "duration": 6,
    "start_time": "2023-12-06T19:32:30.316Z"
   },
   {
    "duration": 5,
    "start_time": "2023-12-06T19:33:20.879Z"
   },
   {
    "duration": 4,
    "start_time": "2023-12-06T19:33:31.967Z"
   },
   {
    "duration": 9,
    "start_time": "2023-12-06T19:33:40.523Z"
   },
   {
    "duration": 10,
    "start_time": "2023-12-06T19:33:45.495Z"
   },
   {
    "duration": 3,
    "start_time": "2023-12-06T19:34:09.706Z"
   },
   {
    "duration": 5,
    "start_time": "2023-12-06T19:34:47.326Z"
   },
   {
    "duration": 1528,
    "start_time": "2023-12-06T19:35:06.151Z"
   },
   {
    "duration": 439,
    "start_time": "2023-12-06T19:35:07.681Z"
   },
   {
    "duration": 24,
    "start_time": "2023-12-06T19:35:08.122Z"
   },
   {
    "duration": 35,
    "start_time": "2023-12-06T19:35:08.147Z"
   },
   {
    "duration": 19,
    "start_time": "2023-12-06T19:35:08.184Z"
   },
   {
    "duration": 18,
    "start_time": "2023-12-06T19:35:08.204Z"
   },
   {
    "duration": 96,
    "start_time": "2023-12-06T19:35:08.223Z"
   },
   {
    "duration": 61,
    "start_time": "2023-12-06T19:35:08.321Z"
   },
   {
    "duration": 808,
    "start_time": "2023-12-06T19:35:08.383Z"
   },
   {
    "duration": 161,
    "start_time": "2023-12-06T19:35:09.192Z"
   },
   {
    "duration": 202,
    "start_time": "2023-12-06T19:35:09.355Z"
   },
   {
    "duration": 194,
    "start_time": "2023-12-06T19:35:09.559Z"
   },
   {
    "duration": 7,
    "start_time": "2023-12-06T19:35:09.755Z"
   },
   {
    "duration": 92,
    "start_time": "2023-12-06T19:35:09.766Z"
   },
   {
    "duration": 45,
    "start_time": "2023-12-06T19:35:09.862Z"
   },
   {
    "duration": 64,
    "start_time": "2023-12-06T19:35:09.909Z"
   },
   {
    "duration": 3,
    "start_time": "2023-12-06T19:35:09.975Z"
   },
   {
    "duration": 127,
    "start_time": "2023-12-06T19:35:09.979Z"
   },
   {
    "duration": 5,
    "start_time": "2023-12-06T19:35:26.995Z"
   },
   {
    "duration": 12,
    "start_time": "2023-12-06T19:35:42.212Z"
   },
   {
    "duration": 3,
    "start_time": "2023-12-06T19:35:54.108Z"
   },
   {
    "duration": 13,
    "start_time": "2023-12-06T19:36:01.599Z"
   },
   {
    "duration": 3,
    "start_time": "2023-12-06T19:36:26.257Z"
   },
   {
    "duration": 1306,
    "start_time": "2023-12-06T19:36:27.560Z"
   },
   {
    "duration": 1342,
    "start_time": "2023-12-06T19:36:51.270Z"
   },
   {
    "duration": 412,
    "start_time": "2023-12-06T19:36:52.614Z"
   },
   {
    "duration": 29,
    "start_time": "2023-12-06T19:36:53.027Z"
   },
   {
    "duration": 21,
    "start_time": "2023-12-06T19:36:53.057Z"
   },
   {
    "duration": 23,
    "start_time": "2023-12-06T19:36:53.080Z"
   },
   {
    "duration": 19,
    "start_time": "2023-12-06T19:36:53.104Z"
   },
   {
    "duration": 108,
    "start_time": "2023-12-06T19:36:53.125Z"
   },
   {
    "duration": 43,
    "start_time": "2023-12-06T19:36:53.235Z"
   },
   {
    "duration": 713,
    "start_time": "2023-12-06T19:36:53.280Z"
   },
   {
    "duration": 157,
    "start_time": "2023-12-06T19:36:53.995Z"
   },
   {
    "duration": 201,
    "start_time": "2023-12-06T19:36:54.154Z"
   },
   {
    "duration": 196,
    "start_time": "2023-12-06T19:36:54.357Z"
   },
   {
    "duration": 4,
    "start_time": "2023-12-06T19:36:54.556Z"
   },
   {
    "duration": 96,
    "start_time": "2023-12-06T19:36:54.563Z"
   },
   {
    "duration": 6,
    "start_time": "2023-12-06T19:36:54.660Z"
   },
   {
    "duration": 52,
    "start_time": "2023-12-06T19:36:54.667Z"
   },
   {
    "duration": 4,
    "start_time": "2023-12-06T19:36:54.720Z"
   },
   {
    "duration": 24,
    "start_time": "2023-12-06T19:36:54.726Z"
   },
   {
    "duration": 1814,
    "start_time": "2023-12-06T19:36:54.751Z"
   },
   {
    "duration": 119,
    "start_time": "2023-12-06T19:37:45.296Z"
   },
   {
    "duration": 9,
    "start_time": "2023-12-06T19:37:53.957Z"
   },
   {
    "duration": 12,
    "start_time": "2023-12-06T19:38:00.474Z"
   },
   {
    "duration": 6,
    "start_time": "2023-12-06T19:38:08.132Z"
   },
   {
    "duration": 41,
    "start_time": "2023-12-06T19:47:05.616Z"
   },
   {
    "duration": 1364,
    "start_time": "2023-12-06T19:47:19.708Z"
   },
   {
    "duration": 410,
    "start_time": "2023-12-06T19:47:21.074Z"
   },
   {
    "duration": 26,
    "start_time": "2023-12-06T19:47:21.485Z"
   },
   {
    "duration": 25,
    "start_time": "2023-12-06T19:47:21.512Z"
   },
   {
    "duration": 22,
    "start_time": "2023-12-06T19:47:21.551Z"
   },
   {
    "duration": 20,
    "start_time": "2023-12-06T19:47:21.574Z"
   },
   {
    "duration": 102,
    "start_time": "2023-12-06T19:47:21.596Z"
   },
   {
    "duration": 29,
    "start_time": "2023-12-06T19:47:21.699Z"
   },
   {
    "duration": 764,
    "start_time": "2023-12-06T19:47:21.729Z"
   },
   {
    "duration": 160,
    "start_time": "2023-12-06T19:47:22.494Z"
   },
   {
    "duration": 294,
    "start_time": "2023-12-06T19:47:22.658Z"
   },
   {
    "duration": 203,
    "start_time": "2023-12-06T19:47:22.954Z"
   },
   {
    "duration": 3,
    "start_time": "2023-12-06T19:47:23.160Z"
   },
   {
    "duration": 94,
    "start_time": "2023-12-06T19:47:23.171Z"
   },
   {
    "duration": 18,
    "start_time": "2023-12-06T19:47:23.267Z"
   },
   {
    "duration": 73,
    "start_time": "2023-12-06T19:47:23.286Z"
   },
   {
    "duration": 3,
    "start_time": "2023-12-06T19:47:23.361Z"
   },
   {
    "duration": 19,
    "start_time": "2023-12-06T19:47:23.365Z"
   },
   {
    "duration": 159,
    "start_time": "2023-12-06T19:47:23.385Z"
   },
   {
    "duration": 1841,
    "start_time": "2023-12-06T19:47:30.803Z"
   },
   {
    "duration": 1818,
    "start_time": "2023-12-06T19:48:03.941Z"
   },
   {
    "duration": 1353,
    "start_time": "2023-12-06T19:48:10.263Z"
   },
   {
    "duration": 391,
    "start_time": "2023-12-06T19:48:11.618Z"
   },
   {
    "duration": 26,
    "start_time": "2023-12-06T19:48:12.010Z"
   },
   {
    "duration": 33,
    "start_time": "2023-12-06T19:48:12.038Z"
   },
   {
    "duration": 21,
    "start_time": "2023-12-06T19:48:12.073Z"
   },
   {
    "duration": 19,
    "start_time": "2023-12-06T19:48:12.095Z"
   },
   {
    "duration": 108,
    "start_time": "2023-12-06T19:48:12.115Z"
   },
   {
    "duration": 35,
    "start_time": "2023-12-06T19:48:12.224Z"
   },
   {
    "duration": 761,
    "start_time": "2023-12-06T19:48:12.261Z"
   },
   {
    "duration": 130,
    "start_time": "2023-12-06T19:48:13.024Z"
   },
   {
    "duration": 203,
    "start_time": "2023-12-06T19:48:13.155Z"
   },
   {
    "duration": 194,
    "start_time": "2023-12-06T19:48:13.361Z"
   },
   {
    "duration": 4,
    "start_time": "2023-12-06T19:48:13.557Z"
   },
   {
    "duration": 101,
    "start_time": "2023-12-06T19:48:13.565Z"
   },
   {
    "duration": 7,
    "start_time": "2023-12-06T19:48:13.667Z"
   },
   {
    "duration": 85,
    "start_time": "2023-12-06T19:48:13.676Z"
   },
   {
    "duration": 4,
    "start_time": "2023-12-06T19:48:13.763Z"
   },
   {
    "duration": 1865,
    "start_time": "2023-12-06T19:48:13.769Z"
   },
   {
    "duration": 7,
    "start_time": "2023-12-06T19:49:47.193Z"
   },
   {
    "duration": 7,
    "start_time": "2023-12-06T19:49:54.822Z"
   },
   {
    "duration": 8,
    "start_time": "2023-12-06T19:50:04.747Z"
   },
   {
    "duration": 9,
    "start_time": "2023-12-06T19:50:25.186Z"
   },
   {
    "duration": 119,
    "start_time": "2023-12-06T19:51:00.607Z"
   },
   {
    "duration": 24,
    "start_time": "2023-12-06T19:51:16.190Z"
   },
   {
    "duration": 10,
    "start_time": "2023-12-06T19:51:18.866Z"
   },
   {
    "duration": 9,
    "start_time": "2023-12-06T19:51:21.735Z"
   },
   {
    "duration": 16,
    "start_time": "2023-12-06T19:52:10.735Z"
   },
   {
    "duration": 3,
    "start_time": "2023-12-06T19:52:46.619Z"
   },
   {
    "duration": 1776,
    "start_time": "2023-12-06T19:52:49.213Z"
   },
   {
    "duration": 3,
    "start_time": "2023-12-06T19:53:06.095Z"
   },
   {
    "duration": 2027,
    "start_time": "2023-12-06T19:53:07.296Z"
   },
   {
    "duration": 7,
    "start_time": "2023-12-06T19:53:47.725Z"
   },
   {
    "duration": 8,
    "start_time": "2023-12-06T19:54:09.866Z"
   },
   {
    "duration": 6,
    "start_time": "2023-12-06T19:54:25.170Z"
   },
   {
    "duration": 15,
    "start_time": "2023-12-06T19:55:23.151Z"
   },
   {
    "duration": 15,
    "start_time": "2023-12-06T19:55:41.948Z"
   },
   {
    "duration": 9,
    "start_time": "2023-12-06T19:55:46.022Z"
   },
   {
    "duration": 1427,
    "start_time": "2023-12-06T19:55:55.435Z"
   },
   {
    "duration": 411,
    "start_time": "2023-12-06T19:55:56.864Z"
   },
   {
    "duration": 30,
    "start_time": "2023-12-06T19:55:57.276Z"
   },
   {
    "duration": 24,
    "start_time": "2023-12-06T19:55:57.308Z"
   },
   {
    "duration": 32,
    "start_time": "2023-12-06T19:55:57.353Z"
   },
   {
    "duration": 26,
    "start_time": "2023-12-06T19:55:57.387Z"
   },
   {
    "duration": 106,
    "start_time": "2023-12-06T19:55:57.415Z"
   },
   {
    "duration": 44,
    "start_time": "2023-12-06T19:55:57.523Z"
   },
   {
    "duration": 863,
    "start_time": "2023-12-06T19:55:57.569Z"
   },
   {
    "duration": 123,
    "start_time": "2023-12-06T19:55:58.434Z"
   },
   {
    "duration": 189,
    "start_time": "2023-12-06T19:55:58.567Z"
   },
   {
    "duration": 195,
    "start_time": "2023-12-06T19:55:58.758Z"
   },
   {
    "duration": 6,
    "start_time": "2023-12-06T19:55:58.956Z"
   },
   {
    "duration": 12,
    "start_time": "2023-12-06T19:55:58.965Z"
   },
   {
    "duration": 81,
    "start_time": "2023-12-06T19:55:58.978Z"
   },
   {
    "duration": 54,
    "start_time": "2023-12-06T19:55:59.062Z"
   },
   {
    "duration": 3,
    "start_time": "2023-12-06T19:55:59.117Z"
   },
   {
    "duration": 143,
    "start_time": "2023-12-06T19:55:59.121Z"
   },
   {
    "duration": 0,
    "start_time": "2023-12-06T19:55:59.266Z"
   },
   {
    "duration": 2032,
    "start_time": "2023-12-06T19:57:03.556Z"
   },
   {
    "duration": 1371,
    "start_time": "2023-12-06T19:57:11.414Z"
   },
   {
    "duration": 396,
    "start_time": "2023-12-06T19:57:12.787Z"
   },
   {
    "duration": 23,
    "start_time": "2023-12-06T19:57:13.184Z"
   },
   {
    "duration": 20,
    "start_time": "2023-12-06T19:57:13.208Z"
   },
   {
    "duration": 34,
    "start_time": "2023-12-06T19:57:13.230Z"
   },
   {
    "duration": 19,
    "start_time": "2023-12-06T19:57:13.266Z"
   },
   {
    "duration": 96,
    "start_time": "2023-12-06T19:57:13.286Z"
   },
   {
    "duration": 29,
    "start_time": "2023-12-06T19:57:13.384Z"
   },
   {
    "duration": 728,
    "start_time": "2023-12-06T19:57:13.414Z"
   },
   {
    "duration": 121,
    "start_time": "2023-12-06T19:57:14.143Z"
   },
   {
    "duration": 186,
    "start_time": "2023-12-06T19:57:14.267Z"
   },
   {
    "duration": 203,
    "start_time": "2023-12-06T19:57:14.458Z"
   },
   {
    "duration": 89,
    "start_time": "2023-12-06T19:57:14.663Z"
   },
   {
    "duration": 5,
    "start_time": "2023-12-06T19:57:14.756Z"
   },
   {
    "duration": 5,
    "start_time": "2023-12-06T19:57:14.763Z"
   },
   {
    "duration": 98,
    "start_time": "2023-12-06T19:57:14.770Z"
   },
   {
    "duration": 3,
    "start_time": "2023-12-06T19:57:14.870Z"
   },
   {
    "duration": 1969,
    "start_time": "2023-12-06T19:57:14.874Z"
   },
   {
    "duration": 1810,
    "start_time": "2023-12-06T19:57:20.337Z"
   },
   {
    "duration": 1284,
    "start_time": "2023-12-06T19:57:58.570Z"
   },
   {
    "duration": 431,
    "start_time": "2023-12-06T19:57:59.855Z"
   },
   {
    "duration": 26,
    "start_time": "2023-12-06T19:58:00.288Z"
   },
   {
    "duration": 40,
    "start_time": "2023-12-06T19:58:00.316Z"
   },
   {
    "duration": 80,
    "start_time": "2023-12-06T19:58:00.358Z"
   },
   {
    "duration": 21,
    "start_time": "2023-12-06T19:58:00.439Z"
   },
   {
    "duration": 104,
    "start_time": "2023-12-06T19:58:00.462Z"
   },
   {
    "duration": 43,
    "start_time": "2023-12-06T19:58:00.568Z"
   },
   {
    "duration": 773,
    "start_time": "2023-12-06T19:58:00.613Z"
   },
   {
    "duration": 74,
    "start_time": "2023-12-06T19:58:01.388Z"
   },
   {
    "duration": 289,
    "start_time": "2023-12-06T19:58:01.464Z"
   },
   {
    "duration": 298,
    "start_time": "2023-12-06T19:58:01.755Z"
   },
   {
    "duration": 2,
    "start_time": "2023-12-06T19:58:02.055Z"
   },
   {
    "duration": 48,
    "start_time": "2023-12-06T19:58:02.060Z"
   },
   {
    "duration": 21,
    "start_time": "2023-12-06T19:58:02.110Z"
   },
   {
    "duration": 62,
    "start_time": "2023-12-06T19:58:02.133Z"
   },
   {
    "duration": 6,
    "start_time": "2023-12-06T19:58:02.197Z"
   },
   {
    "duration": 139,
    "start_time": "2023-12-06T19:58:02.204Z"
   },
   {
    "duration": 0,
    "start_time": "2023-12-06T19:58:02.346Z"
   },
   {
    "duration": 3,
    "start_time": "2023-12-06T19:58:37.412Z"
   },
   {
    "duration": 6,
    "start_time": "2023-12-06T19:58:39.615Z"
   },
   {
    "duration": 10,
    "start_time": "2023-12-06T19:58:54.199Z"
   },
   {
    "duration": 9,
    "start_time": "2023-12-06T19:59:05.789Z"
   },
   {
    "duration": 5,
    "start_time": "2023-12-06T19:59:25.928Z"
   },
   {
    "duration": 13,
    "start_time": "2023-12-06T19:59:37.652Z"
   },
   {
    "duration": 8,
    "start_time": "2023-12-06T19:59:51.073Z"
   },
   {
    "duration": 9,
    "start_time": "2023-12-06T19:59:55.243Z"
   },
   {
    "duration": 10,
    "start_time": "2023-12-06T19:59:58.769Z"
   },
   {
    "duration": 9,
    "start_time": "2023-12-06T20:00:01.796Z"
   },
   {
    "duration": 1812,
    "start_time": "2023-12-06T20:00:02.420Z"
   },
   {
    "duration": 8,
    "start_time": "2023-12-06T20:00:06.985Z"
   },
   {
    "duration": 9,
    "start_time": "2023-12-06T20:00:24.068Z"
   },
   {
    "duration": 10,
    "start_time": "2023-12-06T20:00:41.861Z"
   },
   {
    "duration": 8,
    "start_time": "2023-12-06T20:00:52.030Z"
   },
   {
    "duration": 9,
    "start_time": "2023-12-06T20:00:58.265Z"
   },
   {
    "duration": 1449,
    "start_time": "2023-12-06T20:03:12.554Z"
   },
   {
    "duration": 405,
    "start_time": "2023-12-06T20:03:14.005Z"
   },
   {
    "duration": 24,
    "start_time": "2023-12-06T20:03:14.412Z"
   },
   {
    "duration": 27,
    "start_time": "2023-12-06T20:03:14.438Z"
   },
   {
    "duration": 19,
    "start_time": "2023-12-06T20:03:14.467Z"
   },
   {
    "duration": 18,
    "start_time": "2023-12-06T20:03:14.488Z"
   },
   {
    "duration": 106,
    "start_time": "2023-12-06T20:03:14.508Z"
   },
   {
    "duration": 39,
    "start_time": "2023-12-06T20:03:14.615Z"
   },
   {
    "duration": 779,
    "start_time": "2023-12-06T20:03:14.655Z"
   },
   {
    "duration": 118,
    "start_time": "2023-12-06T20:03:15.436Z"
   },
   {
    "duration": 210,
    "start_time": "2023-12-06T20:03:15.555Z"
   },
   {
    "duration": 200,
    "start_time": "2023-12-06T20:03:15.852Z"
   },
   {
    "duration": 2,
    "start_time": "2023-12-06T20:03:16.054Z"
   },
   {
    "duration": 17,
    "start_time": "2023-12-06T20:03:16.060Z"
   },
   {
    "duration": 5,
    "start_time": "2023-12-06T20:03:16.079Z"
   },
   {
    "duration": 106,
    "start_time": "2023-12-06T20:03:16.086Z"
   },
   {
    "duration": 3,
    "start_time": "2023-12-06T20:03:16.193Z"
   },
   {
    "duration": 1823,
    "start_time": "2023-12-06T20:03:16.198Z"
   },
   {
    "duration": 116,
    "start_time": "2023-12-06T20:04:23.534Z"
   },
   {
    "duration": 1402,
    "start_time": "2023-12-06T20:04:31.275Z"
   },
   {
    "duration": 398,
    "start_time": "2023-12-06T20:04:32.679Z"
   },
   {
    "duration": 23,
    "start_time": "2023-12-06T20:04:33.079Z"
   },
   {
    "duration": 39,
    "start_time": "2023-12-06T20:04:33.103Z"
   },
   {
    "duration": 22,
    "start_time": "2023-12-06T20:04:33.144Z"
   },
   {
    "duration": 19,
    "start_time": "2023-12-06T20:04:33.167Z"
   },
   {
    "duration": 91,
    "start_time": "2023-12-06T20:04:33.188Z"
   },
   {
    "duration": 30,
    "start_time": "2023-12-06T20:04:33.281Z"
   },
   {
    "duration": 730,
    "start_time": "2023-12-06T20:04:33.312Z"
   },
   {
    "duration": 113,
    "start_time": "2023-12-06T20:04:34.043Z"
   },
   {
    "duration": 198,
    "start_time": "2023-12-06T20:04:34.158Z"
   },
   {
    "duration": 195,
    "start_time": "2023-12-06T20:04:34.359Z"
   },
   {
    "duration": 3,
    "start_time": "2023-12-06T20:04:34.556Z"
   },
   {
    "duration": 91,
    "start_time": "2023-12-06T20:04:34.563Z"
   },
   {
    "duration": 10,
    "start_time": "2023-12-06T20:04:34.657Z"
   },
   {
    "duration": 63,
    "start_time": "2023-12-06T20:04:34.669Z"
   },
   {
    "duration": 3,
    "start_time": "2023-12-06T20:04:34.733Z"
   },
   {
    "duration": 117,
    "start_time": "2023-12-06T20:04:34.738Z"
   },
   {
    "duration": 0,
    "start_time": "2023-12-06T20:04:34.856Z"
   },
   {
    "duration": 10,
    "start_time": "2023-12-06T20:04:40.560Z"
   },
   {
    "duration": 12,
    "start_time": "2023-12-06T20:04:48.686Z"
   },
   {
    "duration": 9,
    "start_time": "2023-12-06T20:04:58.685Z"
   },
   {
    "duration": 7,
    "start_time": "2023-12-06T20:05:03.983Z"
   },
   {
    "duration": 9,
    "start_time": "2023-12-06T20:05:09.617Z"
   },
   {
    "duration": 1849,
    "start_time": "2023-12-06T20:05:35.050Z"
   },
   {
    "duration": 3,
    "start_time": "2023-12-06T20:06:25.700Z"
   },
   {
    "duration": 1867,
    "start_time": "2023-12-06T20:06:28.236Z"
   },
   {
    "duration": 2,
    "start_time": "2023-12-06T20:06:36.467Z"
   },
   {
    "duration": 27,
    "start_time": "2023-12-06T20:06:45.604Z"
   },
   {
    "duration": 186,
    "start_time": "2023-12-06T20:07:10.683Z"
   },
   {
    "duration": 27,
    "start_time": "2023-12-06T20:07:14.124Z"
   },
   {
    "duration": 1388,
    "start_time": "2023-12-06T20:07:20.246Z"
   },
   {
    "duration": 425,
    "start_time": "2023-12-06T20:07:21.636Z"
   },
   {
    "duration": 29,
    "start_time": "2023-12-06T20:07:22.064Z"
   },
   {
    "duration": 21,
    "start_time": "2023-12-06T20:07:22.094Z"
   },
   {
    "duration": 42,
    "start_time": "2023-12-06T20:07:22.117Z"
   },
   {
    "duration": 20,
    "start_time": "2023-12-06T20:07:22.167Z"
   },
   {
    "duration": 86,
    "start_time": "2023-12-06T20:07:22.189Z"
   },
   {
    "duration": 30,
    "start_time": "2023-12-06T20:07:22.276Z"
   },
   {
    "duration": 766,
    "start_time": "2023-12-06T20:07:22.307Z"
   },
   {
    "duration": 83,
    "start_time": "2023-12-06T20:07:23.074Z"
   },
   {
    "duration": 201,
    "start_time": "2023-12-06T20:07:23.160Z"
   },
   {
    "duration": 193,
    "start_time": "2023-12-06T20:07:23.363Z"
   },
   {
    "duration": 6,
    "start_time": "2023-12-06T20:07:23.557Z"
   },
   {
    "duration": 106,
    "start_time": "2023-12-06T20:07:23.566Z"
   },
   {
    "duration": 27,
    "start_time": "2023-12-06T20:07:23.674Z"
   },
   {
    "duration": 55,
    "start_time": "2023-12-06T20:07:23.703Z"
   },
   {
    "duration": 6,
    "start_time": "2023-12-06T20:07:23.760Z"
   },
   {
    "duration": 47,
    "start_time": "2023-12-06T20:07:23.768Z"
   },
   {
    "duration": 9,
    "start_time": "2023-12-06T20:09:12.560Z"
   },
   {
    "duration": 3,
    "start_time": "2023-12-06T20:10:21.321Z"
   },
   {
    "duration": 3,
    "start_time": "2023-12-06T20:10:22.236Z"
   },
   {
    "duration": 4,
    "start_time": "2023-12-06T20:10:23.110Z"
   },
   {
    "duration": 46,
    "start_time": "2023-12-06T20:10:24.680Z"
   },
   {
    "duration": 1425,
    "start_time": "2023-12-06T20:10:36.773Z"
   },
   {
    "duration": 414,
    "start_time": "2023-12-06T20:10:38.200Z"
   },
   {
    "duration": 24,
    "start_time": "2023-12-06T20:10:38.616Z"
   },
   {
    "duration": 38,
    "start_time": "2023-12-06T20:10:38.642Z"
   },
   {
    "duration": 38,
    "start_time": "2023-12-06T20:10:38.682Z"
   },
   {
    "duration": 19,
    "start_time": "2023-12-06T20:10:38.722Z"
   },
   {
    "duration": 86,
    "start_time": "2023-12-06T20:10:38.742Z"
   },
   {
    "duration": 37,
    "start_time": "2023-12-06T20:10:38.829Z"
   },
   {
    "duration": 715,
    "start_time": "2023-12-06T20:10:38.868Z"
   },
   {
    "duration": 181,
    "start_time": "2023-12-06T20:10:39.585Z"
   },
   {
    "duration": 186,
    "start_time": "2023-12-06T20:10:39.768Z"
   },
   {
    "duration": 197,
    "start_time": "2023-12-06T20:10:39.961Z"
   },
   {
    "duration": 4,
    "start_time": "2023-12-06T20:10:40.159Z"
   },
   {
    "duration": 97,
    "start_time": "2023-12-06T20:10:40.167Z"
   },
   {
    "duration": 10,
    "start_time": "2023-12-06T20:10:40.266Z"
   },
   {
    "duration": 55,
    "start_time": "2023-12-06T20:10:40.277Z"
   },
   {
    "duration": 3,
    "start_time": "2023-12-06T20:10:40.333Z"
   },
   {
    "duration": 45,
    "start_time": "2023-12-06T20:10:40.338Z"
   },
   {
    "duration": 31,
    "start_time": "2023-12-06T20:10:50.631Z"
   },
   {
    "duration": 1466,
    "start_time": "2023-12-06T20:11:07.847Z"
   },
   {
    "duration": 407,
    "start_time": "2023-12-06T20:11:09.315Z"
   },
   {
    "duration": 24,
    "start_time": "2023-12-06T20:11:09.724Z"
   },
   {
    "duration": 26,
    "start_time": "2023-12-06T20:11:09.752Z"
   },
   {
    "duration": 20,
    "start_time": "2023-12-06T20:11:09.779Z"
   },
   {
    "duration": 17,
    "start_time": "2023-12-06T20:11:09.801Z"
   },
   {
    "duration": 108,
    "start_time": "2023-12-06T20:11:09.820Z"
   },
   {
    "duration": 39,
    "start_time": "2023-12-06T20:11:09.930Z"
   },
   {
    "duration": 738,
    "start_time": "2023-12-06T20:11:09.971Z"
   },
   {
    "duration": 153,
    "start_time": "2023-12-06T20:11:10.711Z"
   },
   {
    "duration": 189,
    "start_time": "2023-12-06T20:11:10.866Z"
   },
   {
    "duration": 200,
    "start_time": "2023-12-06T20:11:11.056Z"
   },
   {
    "duration": 3,
    "start_time": "2023-12-06T20:11:11.259Z"
   },
   {
    "duration": 100,
    "start_time": "2023-12-06T20:11:11.264Z"
   },
   {
    "duration": 4,
    "start_time": "2023-12-06T20:11:11.368Z"
   },
   {
    "duration": 58,
    "start_time": "2023-12-06T20:11:11.373Z"
   },
   {
    "duration": 4,
    "start_time": "2023-12-06T20:11:11.432Z"
   },
   {
    "duration": 43,
    "start_time": "2023-12-06T20:11:11.437Z"
   },
   {
    "duration": 28,
    "start_time": "2023-12-06T20:11:15.129Z"
   },
   {
    "duration": 25,
    "start_time": "2023-12-06T20:11:16.811Z"
   },
   {
    "duration": 30,
    "start_time": "2023-12-06T20:11:17.652Z"
   },
   {
    "duration": 29,
    "start_time": "2023-12-06T20:11:18.365Z"
   },
   {
    "duration": 30,
    "start_time": "2023-12-06T20:11:19.059Z"
   },
   {
    "duration": 37,
    "start_time": "2023-12-06T20:11:20.175Z"
   },
   {
    "duration": 1325,
    "start_time": "2023-12-06T20:11:33.590Z"
   },
   {
    "duration": 449,
    "start_time": "2023-12-06T20:11:34.917Z"
   },
   {
    "duration": 26,
    "start_time": "2023-12-06T20:11:35.367Z"
   },
   {
    "duration": 20,
    "start_time": "2023-12-06T20:11:35.395Z"
   },
   {
    "duration": 48,
    "start_time": "2023-12-06T20:11:35.417Z"
   },
   {
    "duration": 18,
    "start_time": "2023-12-06T20:11:35.469Z"
   },
   {
    "duration": 89,
    "start_time": "2023-12-06T20:11:35.489Z"
   },
   {
    "duration": 27,
    "start_time": "2023-12-06T20:11:35.580Z"
   },
   {
    "duration": 779,
    "start_time": "2023-12-06T20:11:35.609Z"
   },
   {
    "duration": 79,
    "start_time": "2023-12-06T20:11:36.390Z"
   },
   {
    "duration": 204,
    "start_time": "2023-12-06T20:11:36.471Z"
   },
   {
    "duration": 295,
    "start_time": "2023-12-06T20:11:36.677Z"
   },
   {
    "duration": 76,
    "start_time": "2023-12-06T20:11:36.975Z"
   },
   {
    "duration": 20,
    "start_time": "2023-12-06T20:11:37.055Z"
   },
   {
    "duration": 21,
    "start_time": "2023-12-06T20:11:37.076Z"
   },
   {
    "duration": 73,
    "start_time": "2023-12-06T20:11:37.098Z"
   },
   {
    "duration": 4,
    "start_time": "2023-12-06T20:11:37.172Z"
   },
   {
    "duration": 52,
    "start_time": "2023-12-06T20:11:37.178Z"
   },
   {
    "duration": 40,
    "start_time": "2023-12-06T20:12:24.736Z"
   },
   {
    "duration": 4,
    "start_time": "2023-12-06T20:14:31.319Z"
   },
   {
    "duration": 4,
    "start_time": "2023-12-06T20:14:37.374Z"
   },
   {
    "duration": 3,
    "start_time": "2023-12-06T20:14:38.238Z"
   },
   {
    "duration": 4,
    "start_time": "2023-12-06T20:14:39.190Z"
   },
   {
    "duration": 1383,
    "start_time": "2023-12-06T20:14:52.221Z"
   },
   {
    "duration": 405,
    "start_time": "2023-12-06T20:14:53.606Z"
   },
   {
    "duration": 25,
    "start_time": "2023-12-06T20:14:54.012Z"
   },
   {
    "duration": 34,
    "start_time": "2023-12-06T20:14:54.038Z"
   },
   {
    "duration": 36,
    "start_time": "2023-12-06T20:14:54.074Z"
   },
   {
    "duration": 21,
    "start_time": "2023-12-06T20:14:54.111Z"
   },
   {
    "duration": 92,
    "start_time": "2023-12-06T20:14:54.133Z"
   },
   {
    "duration": 47,
    "start_time": "2023-12-06T20:14:54.226Z"
   },
   {
    "duration": 758,
    "start_time": "2023-12-06T20:14:54.275Z"
   },
   {
    "duration": 133,
    "start_time": "2023-12-06T20:14:55.035Z"
   },
   {
    "duration": 187,
    "start_time": "2023-12-06T20:14:55.170Z"
   },
   {
    "duration": 198,
    "start_time": "2023-12-06T20:14:55.363Z"
   },
   {
    "duration": 4,
    "start_time": "2023-12-06T20:14:55.564Z"
   },
   {
    "duration": 101,
    "start_time": "2023-12-06T20:14:55.571Z"
   },
   {
    "duration": 22,
    "start_time": "2023-12-06T20:14:55.674Z"
   },
   {
    "duration": 73,
    "start_time": "2023-12-06T20:14:55.697Z"
   },
   {
    "duration": 3,
    "start_time": "2023-12-06T20:14:55.772Z"
   },
   {
    "duration": 71,
    "start_time": "2023-12-06T20:14:55.776Z"
   },
   {
    "duration": 4,
    "start_time": "2023-12-06T20:14:58.784Z"
   },
   {
    "duration": 6,
    "start_time": "2023-12-06T20:15:00.556Z"
   },
   {
    "duration": 3,
    "start_time": "2023-12-06T20:15:01.835Z"
   },
   {
    "duration": 3,
    "start_time": "2023-12-06T20:15:02.805Z"
   },
   {
    "duration": 3,
    "start_time": "2023-12-06T20:15:03.506Z"
   },
   {
    "duration": 3,
    "start_time": "2023-12-06T20:15:04.140Z"
   },
   {
    "duration": 4,
    "start_time": "2023-12-06T20:15:04.720Z"
   },
   {
    "duration": 6,
    "start_time": "2023-12-06T20:15:05.560Z"
   },
   {
    "duration": 4,
    "start_time": "2023-12-06T20:15:06.116Z"
   },
   {
    "duration": 4,
    "start_time": "2023-12-06T20:15:06.941Z"
   },
   {
    "duration": 3,
    "start_time": "2023-12-06T20:15:07.840Z"
   },
   {
    "duration": 1372,
    "start_time": "2023-12-06T20:15:11.838Z"
   },
   {
    "duration": 425,
    "start_time": "2023-12-06T20:15:13.212Z"
   },
   {
    "duration": 33,
    "start_time": "2023-12-06T20:15:13.639Z"
   },
   {
    "duration": 34,
    "start_time": "2023-12-06T20:15:13.673Z"
   },
   {
    "duration": 21,
    "start_time": "2023-12-06T20:15:13.709Z"
   },
   {
    "duration": 17,
    "start_time": "2023-12-06T20:15:13.731Z"
   },
   {
    "duration": 75,
    "start_time": "2023-12-06T20:15:13.752Z"
   },
   {
    "duration": 45,
    "start_time": "2023-12-06T20:15:13.829Z"
   },
   {
    "duration": 736,
    "start_time": "2023-12-06T20:15:13.875Z"
   },
   {
    "duration": 151,
    "start_time": "2023-12-06T20:15:14.613Z"
   },
   {
    "duration": 193,
    "start_time": "2023-12-06T20:15:14.767Z"
   },
   {
    "duration": 202,
    "start_time": "2023-12-06T20:15:14.963Z"
   },
   {
    "duration": 82,
    "start_time": "2023-12-06T20:15:15.173Z"
   },
   {
    "duration": 11,
    "start_time": "2023-12-06T20:15:15.258Z"
   },
   {
    "duration": 4,
    "start_time": "2023-12-06T20:15:15.270Z"
   },
   {
    "duration": 47,
    "start_time": "2023-12-06T20:15:15.275Z"
   },
   {
    "duration": 3,
    "start_time": "2023-12-06T20:15:15.323Z"
   },
   {
    "duration": 61,
    "start_time": "2023-12-06T20:15:15.328Z"
   },
   {
    "duration": 3,
    "start_time": "2023-12-06T20:15:18.371Z"
   },
   {
    "duration": 7,
    "start_time": "2023-12-06T20:15:22.757Z"
   },
   {
    "duration": 4,
    "start_time": "2023-12-06T20:15:23.401Z"
   },
   {
    "duration": 4,
    "start_time": "2023-12-06T20:15:24.091Z"
   },
   {
    "duration": 3,
    "start_time": "2023-12-06T20:15:24.839Z"
   },
   {
    "duration": 3,
    "start_time": "2023-12-06T20:15:25.514Z"
   },
   {
    "duration": 4,
    "start_time": "2023-12-06T20:15:26.718Z"
   },
   {
    "duration": 3,
    "start_time": "2023-12-06T20:15:28.631Z"
   },
   {
    "duration": 4,
    "start_time": "2023-12-06T20:15:52.545Z"
   },
   {
    "duration": 1421,
    "start_time": "2023-12-06T20:16:00.056Z"
   },
   {
    "duration": 403,
    "start_time": "2023-12-06T20:16:01.478Z"
   },
   {
    "duration": 25,
    "start_time": "2023-12-06T20:16:01.884Z"
   },
   {
    "duration": 181,
    "start_time": "2023-12-06T20:16:01.910Z"
   },
   {
    "duration": 108,
    "start_time": "2023-12-06T20:16:02.093Z"
   },
   {
    "duration": 135,
    "start_time": "2023-12-06T20:16:02.203Z"
   },
   {
    "duration": 104,
    "start_time": "2023-12-06T20:16:02.340Z"
   },
   {
    "duration": 37,
    "start_time": "2023-12-06T20:16:02.446Z"
   },
   {
    "duration": 760,
    "start_time": "2023-12-06T20:16:02.485Z"
   },
   {
    "duration": 111,
    "start_time": "2023-12-06T20:16:03.247Z"
   },
   {
    "duration": 196,
    "start_time": "2023-12-06T20:16:03.362Z"
   },
   {
    "duration": 196,
    "start_time": "2023-12-06T20:16:03.560Z"
   },
   {
    "duration": 3,
    "start_time": "2023-12-06T20:16:03.767Z"
   },
   {
    "duration": 83,
    "start_time": "2023-12-06T20:16:03.774Z"
   },
   {
    "duration": 16,
    "start_time": "2023-12-06T20:16:03.859Z"
   },
   {
    "duration": 49,
    "start_time": "2023-12-06T20:16:03.877Z"
   },
   {
    "duration": 2,
    "start_time": "2023-12-06T20:16:03.928Z"
   },
   {
    "duration": 44,
    "start_time": "2023-12-06T20:16:03.932Z"
   },
   {
    "duration": 9,
    "start_time": "2023-12-06T20:16:39.207Z"
   },
   {
    "duration": 1957,
    "start_time": "2023-12-06T20:17:24.771Z"
   },
   {
    "duration": 1416,
    "start_time": "2023-12-06T20:33:56.963Z"
   },
   {
    "duration": 405,
    "start_time": "2023-12-06T20:33:58.381Z"
   },
   {
    "duration": 27,
    "start_time": "2023-12-06T20:33:58.787Z"
   },
   {
    "duration": 19,
    "start_time": "2023-12-06T20:33:58.815Z"
   },
   {
    "duration": 28,
    "start_time": "2023-12-06T20:33:58.851Z"
   },
   {
    "duration": 51,
    "start_time": "2023-12-06T20:33:58.880Z"
   },
   {
    "duration": 94,
    "start_time": "2023-12-06T20:33:58.933Z"
   },
   {
    "duration": 48,
    "start_time": "2023-12-06T20:33:59.029Z"
   },
   {
    "duration": 820,
    "start_time": "2023-12-06T20:33:59.080Z"
   },
   {
    "duration": 72,
    "start_time": "2023-12-06T20:33:59.902Z"
   },
   {
    "duration": 278,
    "start_time": "2023-12-06T20:33:59.975Z"
   },
   {
    "duration": 207,
    "start_time": "2023-12-06T20:34:00.254Z"
   },
   {
    "duration": 10,
    "start_time": "2023-12-06T20:34:00.462Z"
   },
   {
    "duration": 96,
    "start_time": "2023-12-06T20:34:00.475Z"
   },
   {
    "duration": 24,
    "start_time": "2023-12-06T20:34:00.572Z"
   },
   {
    "duration": 71,
    "start_time": "2023-12-06T20:34:00.598Z"
   },
   {
    "duration": 3,
    "start_time": "2023-12-06T20:34:00.670Z"
   },
   {
    "duration": 1898,
    "start_time": "2023-12-06T20:34:00.675Z"
   },
   {
    "duration": 6,
    "start_time": "2023-12-06T20:34:19.195Z"
   },
   {
    "duration": 1387,
    "start_time": "2023-12-06T20:36:48.048Z"
   },
   {
    "duration": 402,
    "start_time": "2023-12-06T20:36:49.437Z"
   },
   {
    "duration": 30,
    "start_time": "2023-12-06T20:36:49.840Z"
   },
   {
    "duration": 20,
    "start_time": "2023-12-06T20:36:49.872Z"
   },
   {
    "duration": 19,
    "start_time": "2023-12-06T20:36:49.893Z"
   },
   {
    "duration": 46,
    "start_time": "2023-12-06T20:36:49.913Z"
   },
   {
    "duration": 94,
    "start_time": "2023-12-06T20:36:49.969Z"
   },
   {
    "duration": 28,
    "start_time": "2023-12-06T20:36:50.069Z"
   },
   {
    "duration": 762,
    "start_time": "2023-12-06T20:36:50.098Z"
   },
   {
    "duration": 103,
    "start_time": "2023-12-06T20:36:50.863Z"
   },
   {
    "duration": 196,
    "start_time": "2023-12-06T20:36:50.968Z"
   },
   {
    "duration": 196,
    "start_time": "2023-12-06T20:36:51.166Z"
   },
   {
    "duration": 4,
    "start_time": "2023-12-06T20:36:51.366Z"
   },
   {
    "duration": 93,
    "start_time": "2023-12-06T20:36:51.372Z"
   },
   {
    "duration": 5,
    "start_time": "2023-12-06T20:36:51.469Z"
   },
   {
    "duration": 53,
    "start_time": "2023-12-06T20:36:51.475Z"
   },
   {
    "duration": 3,
    "start_time": "2023-12-06T20:36:51.530Z"
   },
   {
    "duration": 1899,
    "start_time": "2023-12-06T20:36:51.535Z"
   },
   {
    "duration": 5,
    "start_time": "2023-12-06T20:36:53.436Z"
   },
   {
    "duration": 1408,
    "start_time": "2023-12-06T20:38:00.491Z"
   },
   {
    "duration": 417,
    "start_time": "2023-12-06T20:38:01.900Z"
   },
   {
    "duration": 24,
    "start_time": "2023-12-06T20:38:02.319Z"
   },
   {
    "duration": 53,
    "start_time": "2023-12-06T20:38:02.344Z"
   },
   {
    "duration": 61,
    "start_time": "2023-12-06T20:38:02.400Z"
   },
   {
    "duration": 58,
    "start_time": "2023-12-06T20:38:02.466Z"
   },
   {
    "duration": 220,
    "start_time": "2023-12-06T20:38:02.526Z"
   },
   {
    "duration": 162,
    "start_time": "2023-12-06T20:38:02.748Z"
   },
   {
    "duration": 776,
    "start_time": "2023-12-06T20:38:02.912Z"
   },
   {
    "duration": 83,
    "start_time": "2023-12-06T20:38:03.690Z"
   },
   {
    "duration": 202,
    "start_time": "2023-12-06T20:38:03.856Z"
   },
   {
    "duration": 199,
    "start_time": "2023-12-06T20:38:04.060Z"
   },
   {
    "duration": 4,
    "start_time": "2023-12-06T20:38:04.265Z"
   },
   {
    "duration": 88,
    "start_time": "2023-12-06T20:38:04.275Z"
   },
   {
    "duration": 10,
    "start_time": "2023-12-06T20:38:04.365Z"
   },
   {
    "duration": 45,
    "start_time": "2023-12-06T20:38:04.376Z"
   },
   {
    "duration": 3,
    "start_time": "2023-12-06T20:38:04.423Z"
   },
   {
    "duration": 3006,
    "start_time": "2023-12-06T20:38:04.427Z"
   },
   {
    "duration": 5,
    "start_time": "2023-12-06T20:38:07.435Z"
   },
   {
    "duration": 2962,
    "start_time": "2023-12-06T20:43:40.142Z"
   },
   {
    "duration": 2885,
    "start_time": "2023-12-06T20:45:38.104Z"
   },
   {
    "duration": 2898,
    "start_time": "2023-12-06T20:45:53.082Z"
   },
   {
    "duration": 2852,
    "start_time": "2023-12-06T20:46:22.483Z"
   },
   {
    "duration": 2875,
    "start_time": "2023-12-06T20:47:04.794Z"
   },
   {
    "duration": 2887,
    "start_time": "2023-12-06T20:47:22.232Z"
   },
   {
    "duration": 2894,
    "start_time": "2023-12-06T20:47:37.559Z"
   },
   {
    "duration": 2882,
    "start_time": "2023-12-06T20:48:04.457Z"
   },
   {
    "duration": 2832,
    "start_time": "2023-12-06T20:48:53.441Z"
   },
   {
    "duration": 2850,
    "start_time": "2023-12-06T20:49:16.131Z"
   },
   {
    "duration": 2920,
    "start_time": "2023-12-06T20:49:43.683Z"
   },
   {
    "duration": 1359,
    "start_time": "2023-12-06T20:50:47.959Z"
   },
   {
    "duration": 411,
    "start_time": "2023-12-06T20:50:49.320Z"
   },
   {
    "duration": 32,
    "start_time": "2023-12-06T20:50:49.732Z"
   },
   {
    "duration": 20,
    "start_time": "2023-12-06T20:50:49.765Z"
   },
   {
    "duration": 24,
    "start_time": "2023-12-06T20:50:49.787Z"
   },
   {
    "duration": 48,
    "start_time": "2023-12-06T20:50:49.812Z"
   },
   {
    "duration": 93,
    "start_time": "2023-12-06T20:50:49.862Z"
   },
   {
    "duration": 36,
    "start_time": "2023-12-06T20:50:49.957Z"
   },
   {
    "duration": 768,
    "start_time": "2023-12-06T20:50:49.994Z"
   },
   {
    "duration": 99,
    "start_time": "2023-12-06T20:50:50.765Z"
   },
   {
    "duration": 195,
    "start_time": "2023-12-06T20:50:50.866Z"
   },
   {
    "duration": 198,
    "start_time": "2023-12-06T20:50:51.063Z"
   },
   {
    "duration": 3,
    "start_time": "2023-12-06T20:50:51.263Z"
   },
   {
    "duration": 93,
    "start_time": "2023-12-06T20:50:51.269Z"
   },
   {
    "duration": 29,
    "start_time": "2023-12-06T20:50:51.364Z"
   },
   {
    "duration": 49,
    "start_time": "2023-12-06T20:50:51.394Z"
   },
   {
    "duration": 3,
    "start_time": "2023-12-06T20:50:51.445Z"
   },
   {
    "duration": 2873,
    "start_time": "2023-12-06T20:50:51.450Z"
   },
   {
    "duration": 2830,
    "start_time": "2023-12-06T20:50:54.324Z"
   },
   {
    "duration": 2868,
    "start_time": "2023-12-06T20:50:57.156Z"
   },
   {
    "duration": 1592,
    "start_time": "2023-12-07T04:35:59.321Z"
   },
   {
    "duration": 828,
    "start_time": "2023-12-07T04:36:00.915Z"
   },
   {
    "duration": 27,
    "start_time": "2023-12-07T04:36:01.745Z"
   },
   {
    "duration": 45,
    "start_time": "2023-12-07T04:36:01.774Z"
   },
   {
    "duration": 27,
    "start_time": "2023-12-07T04:36:01.820Z"
   },
   {
    "duration": 34,
    "start_time": "2023-12-07T04:36:01.849Z"
   },
   {
    "duration": 104,
    "start_time": "2023-12-07T04:36:01.884Z"
   },
   {
    "duration": 40,
    "start_time": "2023-12-07T04:36:01.990Z"
   },
   {
    "duration": 782,
    "start_time": "2023-12-07T04:36:02.032Z"
   },
   {
    "duration": 152,
    "start_time": "2023-12-07T04:36:02.816Z"
   },
   {
    "duration": 197,
    "start_time": "2023-12-07T04:36:02.970Z"
   },
   {
    "duration": 202,
    "start_time": "2023-12-07T04:36:03.169Z"
   },
   {
    "duration": 92,
    "start_time": "2023-12-07T04:36:03.374Z"
   },
   {
    "duration": 15,
    "start_time": "2023-12-07T04:36:03.468Z"
   },
   {
    "duration": 25,
    "start_time": "2023-12-07T04:36:03.485Z"
   },
   {
    "duration": 55,
    "start_time": "2023-12-07T04:36:03.512Z"
   },
   {
    "duration": 3,
    "start_time": "2023-12-07T04:36:03.569Z"
   },
   {
    "duration": 2906,
    "start_time": "2023-12-07T04:36:03.573Z"
   },
   {
    "duration": 2865,
    "start_time": "2023-12-07T04:36:06.480Z"
   },
   {
    "duration": 2872,
    "start_time": "2023-12-07T04:36:09.347Z"
   },
   {
    "duration": 2842,
    "start_time": "2023-12-07T04:36:27.883Z"
   },
   {
    "duration": 2847,
    "start_time": "2023-12-07T04:36:37.347Z"
   },
   {
    "duration": 1531,
    "start_time": "2023-12-07T05:40:26.687Z"
   },
   {
    "duration": 792,
    "start_time": "2023-12-07T05:40:28.220Z"
   },
   {
    "duration": 25,
    "start_time": "2023-12-07T05:40:29.014Z"
   },
   {
    "duration": 26,
    "start_time": "2023-12-07T05:40:29.041Z"
   },
   {
    "duration": 20,
    "start_time": "2023-12-07T05:40:29.069Z"
   },
   {
    "duration": 22,
    "start_time": "2023-12-07T05:40:29.091Z"
   },
   {
    "duration": 89,
    "start_time": "2023-12-07T05:40:29.115Z"
   },
   {
    "duration": 39,
    "start_time": "2023-12-07T05:40:29.206Z"
   },
   {
    "duration": 753,
    "start_time": "2023-12-07T05:40:29.246Z"
   },
   {
    "duration": 142,
    "start_time": "2023-12-07T05:40:30.001Z"
   },
   {
    "duration": 199,
    "start_time": "2023-12-07T05:40:30.145Z"
   },
   {
    "duration": 299,
    "start_time": "2023-12-07T05:40:30.347Z"
   },
   {
    "duration": 91,
    "start_time": "2023-12-07T05:40:30.652Z"
   },
   {
    "duration": 36,
    "start_time": "2023-12-07T05:40:30.746Z"
   },
   {
    "duration": 36,
    "start_time": "2023-12-07T05:40:30.784Z"
   },
   {
    "duration": 113,
    "start_time": "2023-12-07T05:40:30.821Z"
   },
   {
    "duration": 4,
    "start_time": "2023-12-07T05:40:30.936Z"
   },
   {
    "duration": 3663,
    "start_time": "2023-12-07T05:40:30.942Z"
   },
   {
    "duration": 2882,
    "start_time": "2023-12-07T05:40:34.607Z"
   },
   {
    "duration": 2892,
    "start_time": "2023-12-07T05:40:37.490Z"
   },
   {
    "duration": 1402,
    "start_time": "2023-12-07T05:42:47.796Z"
   },
   {
    "duration": 422,
    "start_time": "2023-12-07T05:42:49.200Z"
   },
   {
    "duration": 27,
    "start_time": "2023-12-07T05:42:49.623Z"
   },
   {
    "duration": 20,
    "start_time": "2023-12-07T05:42:49.652Z"
   },
   {
    "duration": 20,
    "start_time": "2023-12-07T05:42:49.674Z"
   },
   {
    "duration": 19,
    "start_time": "2023-12-07T05:42:49.695Z"
   },
   {
    "duration": 112,
    "start_time": "2023-12-07T05:42:49.716Z"
   },
   {
    "duration": 36,
    "start_time": "2023-12-07T05:42:49.830Z"
   },
   {
    "duration": 755,
    "start_time": "2023-12-07T05:42:49.868Z"
   },
   {
    "duration": 120,
    "start_time": "2023-12-07T05:42:50.625Z"
   },
   {
    "duration": 198,
    "start_time": "2023-12-07T05:42:50.747Z"
   },
   {
    "duration": 196,
    "start_time": "2023-12-07T05:42:50.947Z"
   },
   {
    "duration": 4,
    "start_time": "2023-12-07T05:42:51.145Z"
   },
   {
    "duration": 93,
    "start_time": "2023-12-07T05:42:51.152Z"
   },
   {
    "duration": 8,
    "start_time": "2023-12-07T05:42:51.246Z"
   },
   {
    "duration": 60,
    "start_time": "2023-12-07T05:42:51.255Z"
   },
   {
    "duration": 3,
    "start_time": "2023-12-07T05:42:51.317Z"
   },
   {
    "duration": 2834,
    "start_time": "2023-12-07T05:42:51.321Z"
   },
   {
    "duration": 2780,
    "start_time": "2023-12-07T05:42:54.156Z"
   },
   {
    "duration": 2744,
    "start_time": "2023-12-07T05:42:56.938Z"
   },
   {
    "duration": 1400,
    "start_time": "2023-12-07T05:44:27.777Z"
   },
   {
    "duration": 399,
    "start_time": "2023-12-07T05:44:29.179Z"
   },
   {
    "duration": 24,
    "start_time": "2023-12-07T05:44:29.579Z"
   },
   {
    "duration": 19,
    "start_time": "2023-12-07T05:44:29.604Z"
   },
   {
    "duration": 36,
    "start_time": "2023-12-07T05:44:29.625Z"
   },
   {
    "duration": 19,
    "start_time": "2023-12-07T05:44:29.663Z"
   },
   {
    "duration": 114,
    "start_time": "2023-12-07T05:44:29.683Z"
   },
   {
    "duration": 28,
    "start_time": "2023-12-07T05:44:29.799Z"
   },
   {
    "duration": 755,
    "start_time": "2023-12-07T05:44:29.828Z"
   },
   {
    "duration": 2,
    "start_time": "2023-12-07T05:44:30.585Z"
   },
   {
    "duration": 254,
    "start_time": "2023-12-07T05:44:30.589Z"
   },
   {
    "duration": 103,
    "start_time": "2023-12-07T05:44:30.845Z"
   },
   {
    "duration": 107,
    "start_time": "2023-12-07T05:44:31.044Z"
   },
   {
    "duration": 3,
    "start_time": "2023-12-07T05:44:31.154Z"
   },
   {
    "duration": 33,
    "start_time": "2023-12-07T05:44:31.244Z"
   },
   {
    "duration": 24,
    "start_time": "2023-12-07T05:44:31.278Z"
   },
   {
    "duration": 81,
    "start_time": "2023-12-07T05:44:31.304Z"
   },
   {
    "duration": 4,
    "start_time": "2023-12-07T05:44:31.386Z"
   },
   {
    "duration": 2918,
    "start_time": "2023-12-07T05:44:31.391Z"
   },
   {
    "duration": 2777,
    "start_time": "2023-12-07T05:44:34.310Z"
   },
   {
    "duration": 2850,
    "start_time": "2023-12-07T05:44:37.088Z"
   },
   {
    "duration": 1763,
    "start_time": "2023-12-07T06:01:54.702Z"
   },
   {
    "duration": 1778,
    "start_time": "2023-12-07T06:02:28.759Z"
   },
   {
    "duration": 1875,
    "start_time": "2023-12-07T06:02:34.008Z"
   },
   {
    "duration": 1824,
    "start_time": "2023-12-07T06:02:53.228Z"
   },
   {
    "duration": 1800,
    "start_time": "2023-12-07T06:02:55.166Z"
   },
   {
    "duration": 1795,
    "start_time": "2023-12-07T06:02:57.019Z"
   },
   {
    "duration": 4,
    "start_time": "2023-12-07T06:07:17.672Z"
   },
   {
    "duration": 76,
    "start_time": "2023-12-07T06:16:21.128Z"
   },
   {
    "duration": 6,
    "start_time": "2023-12-07T06:16:25.666Z"
   },
   {
    "duration": 706,
    "start_time": "2023-12-07T06:16:32.065Z"
   },
   {
    "duration": 562,
    "start_time": "2023-12-07T06:17:09.809Z"
   },
   {
    "duration": 1254,
    "start_time": "2023-12-07T06:17:14.065Z"
   },
   {
    "duration": 1283,
    "start_time": "2023-12-07T06:18:45.778Z"
   },
   {
    "duration": 1,
    "start_time": "2023-12-07T06:19:38.524Z"
   },
   {
    "duration": 1429,
    "start_time": "2023-12-07T06:19:40.308Z"
   },
   {
    "duration": 1254,
    "start_time": "2023-12-07T06:19:59.939Z"
   },
   {
    "duration": 454,
    "start_time": "2023-12-07T06:20:06.339Z"
   },
   {
    "duration": 709,
    "start_time": "2023-12-07T06:20:11.398Z"
   },
   {
    "duration": 666,
    "start_time": "2023-12-07T06:20:26.230Z"
   },
   {
    "duration": 689,
    "start_time": "2023-12-07T06:21:40.180Z"
   },
   {
    "duration": 109,
    "start_time": "2023-12-07T06:22:30.409Z"
   },
   {
    "duration": 207,
    "start_time": "2023-12-07T06:22:33.828Z"
   },
   {
    "duration": 681,
    "start_time": "2023-12-07T06:23:04.425Z"
   },
   {
    "duration": 773,
    "start_time": "2023-12-07T06:23:40.897Z"
   },
   {
    "duration": 663,
    "start_time": "2023-12-07T06:23:54.769Z"
   },
   {
    "duration": 678,
    "start_time": "2023-12-07T06:23:59.399Z"
   },
   {
    "duration": 702,
    "start_time": "2023-12-07T06:24:03.538Z"
   },
   {
    "duration": 666,
    "start_time": "2023-12-07T06:24:07.585Z"
   },
   {
    "duration": 684,
    "start_time": "2023-12-07T06:24:13.218Z"
   },
   {
    "duration": 677,
    "start_time": "2023-12-07T06:24:16.376Z"
   },
   {
    "duration": 678,
    "start_time": "2023-12-07T06:24:18.659Z"
   },
   {
    "duration": 700,
    "start_time": "2023-12-07T06:24:21.040Z"
   },
   {
    "duration": 701,
    "start_time": "2023-12-07T06:24:24.801Z"
   },
   {
    "duration": 2098,
    "start_time": "2023-12-07T06:24:28.319Z"
   },
   {
    "duration": 665,
    "start_time": "2023-12-07T06:24:32.815Z"
   },
   {
    "duration": 692,
    "start_time": "2023-12-07T06:24:35.369Z"
   },
   {
    "duration": 795,
    "start_time": "2023-12-07T06:24:37.467Z"
   },
   {
    "duration": 653,
    "start_time": "2023-12-07T06:24:40.049Z"
   },
   {
    "duration": 671,
    "start_time": "2023-12-07T06:24:42.070Z"
   },
   {
    "duration": 681,
    "start_time": "2023-12-07T06:24:44.118Z"
   },
   {
    "duration": 799,
    "start_time": "2023-12-07T06:24:47.519Z"
   },
   {
    "duration": 673,
    "start_time": "2023-12-07T06:24:53.827Z"
   },
   {
    "duration": 775,
    "start_time": "2023-12-07T06:26:11.605Z"
   },
   {
    "duration": 845,
    "start_time": "2023-12-07T06:26:23.011Z"
   },
   {
    "duration": 733,
    "start_time": "2023-12-07T06:26:27.679Z"
   },
   {
    "duration": 799,
    "start_time": "2023-12-07T06:26:31.097Z"
   },
   {
    "duration": 689,
    "start_time": "2023-12-07T06:26:35.038Z"
   },
   {
    "duration": 854,
    "start_time": "2023-12-07T06:26:37.429Z"
   },
   {
    "duration": 688,
    "start_time": "2023-12-07T06:26:39.510Z"
   },
   {
    "duration": 708,
    "start_time": "2023-12-07T06:26:41.399Z"
   },
   {
    "duration": 846,
    "start_time": "2023-12-07T06:26:43.538Z"
   },
   {
    "duration": 708,
    "start_time": "2023-12-07T06:26:46.407Z"
   },
   {
    "duration": 748,
    "start_time": "2023-12-07T06:26:52.579Z"
   },
   {
    "duration": 2090,
    "start_time": "2023-12-07T06:26:57.865Z"
   },
   {
    "duration": 775,
    "start_time": "2023-12-07T06:27:12.610Z"
   },
   {
    "duration": 10,
    "start_time": "2023-12-07T06:28:01.355Z"
   },
   {
    "duration": 7,
    "start_time": "2023-12-07T06:28:05.199Z"
   },
   {
    "duration": 18,
    "start_time": "2023-12-07T06:28:26.064Z"
   },
   {
    "duration": 28,
    "start_time": "2023-12-07T06:28:35.958Z"
   },
   {
    "duration": 18,
    "start_time": "2023-12-07T06:28:45.109Z"
   },
   {
    "duration": 7,
    "start_time": "2023-12-07T06:28:52.029Z"
   },
   {
    "duration": 10,
    "start_time": "2023-12-07T06:29:05.226Z"
   },
   {
    "duration": 6,
    "start_time": "2023-12-07T06:29:09.218Z"
   },
   {
    "duration": 11,
    "start_time": "2023-12-07T06:44:10.845Z"
   },
   {
    "duration": 3538,
    "start_time": "2023-12-07T06:44:24.280Z"
   },
   {
    "duration": 750,
    "start_time": "2023-12-07T06:44:35.120Z"
   },
   {
    "duration": 553,
    "start_time": "2023-12-07T06:46:56.171Z"
   },
   {
    "duration": 603,
    "start_time": "2023-12-07T06:47:04.461Z"
   },
   {
    "duration": 1876,
    "start_time": "2023-12-07T06:47:24.730Z"
   },
   {
    "duration": 2088,
    "start_time": "2023-12-07T06:47:54.621Z"
   },
   {
    "duration": 1896,
    "start_time": "2023-12-07T06:48:15.231Z"
   },
   {
    "duration": 4,
    "start_time": "2023-12-07T07:36:08.344Z"
   },
   {
    "duration": 3,
    "start_time": "2023-12-07T07:36:36.767Z"
   },
   {
    "duration": 4,
    "start_time": "2023-12-07T07:46:54.071Z"
   },
   {
    "duration": 4,
    "start_time": "2023-12-07T07:47:39.460Z"
   },
   {
    "duration": 4,
    "start_time": "2023-12-07T07:50:13.776Z"
   },
   {
    "duration": 4,
    "start_time": "2023-12-07T07:50:22.634Z"
   },
   {
    "duration": 3,
    "start_time": "2023-12-07T07:50:27.254Z"
   },
   {
    "duration": 3,
    "start_time": "2023-12-07T07:50:43.144Z"
   },
   {
    "duration": 3,
    "start_time": "2023-12-07T07:51:13.424Z"
   },
   {
    "duration": 52,
    "start_time": "2023-12-07T07:52:55.338Z"
   },
   {
    "duration": 48,
    "start_time": "2023-12-07T07:53:12.155Z"
   },
   {
    "duration": 33,
    "start_time": "2023-12-07T07:53:31.291Z"
   },
   {
    "duration": 48,
    "start_time": "2023-12-07T07:53:39.989Z"
   },
   {
    "duration": 4,
    "start_time": "2023-12-07T07:54:08.578Z"
   },
   {
    "duration": 3,
    "start_time": "2023-12-07T07:54:13.725Z"
   },
   {
    "duration": 48,
    "start_time": "2023-12-07T07:54:59.858Z"
   },
   {
    "duration": 49,
    "start_time": "2023-12-07T07:55:10.035Z"
   },
   {
    "duration": 3,
    "start_time": "2023-12-07T07:56:24.759Z"
   },
   {
    "duration": 4,
    "start_time": "2023-12-07T07:56:47.799Z"
   },
   {
    "duration": 14,
    "start_time": "2023-12-07T08:00:20.178Z"
   },
   {
    "duration": 9,
    "start_time": "2023-12-07T08:00:33.579Z"
   },
   {
    "duration": 8,
    "start_time": "2023-12-07T08:00:41.691Z"
   },
   {
    "duration": 11,
    "start_time": "2023-12-07T08:01:52.892Z"
   },
   {
    "duration": 9,
    "start_time": "2023-12-07T08:01:59.763Z"
   },
   {
    "duration": 8,
    "start_time": "2023-12-07T08:07:14.015Z"
   },
   {
    "duration": 7,
    "start_time": "2023-12-07T08:07:42.411Z"
   },
   {
    "duration": 9,
    "start_time": "2023-12-07T08:07:47.671Z"
   },
   {
    "duration": 8,
    "start_time": "2023-12-07T08:07:52.282Z"
   },
   {
    "duration": 9,
    "start_time": "2023-12-07T08:08:25.564Z"
   },
   {
    "duration": 35,
    "start_time": "2023-12-07T08:10:48.491Z"
   },
   {
    "duration": 16,
    "start_time": "2023-12-07T08:10:59.294Z"
   },
   {
    "duration": 21,
    "start_time": "2023-12-07T08:12:01.784Z"
   },
   {
    "duration": 19,
    "start_time": "2023-12-07T08:44:39.846Z"
   },
   {
    "duration": 21,
    "start_time": "2023-12-07T08:45:25.749Z"
   },
   {
    "duration": 39,
    "start_time": "2023-12-07T08:46:25.196Z"
   },
   {
    "duration": 18,
    "start_time": "2023-12-07T08:46:44.146Z"
   },
   {
    "duration": 19,
    "start_time": "2023-12-07T08:48:20.671Z"
   },
   {
    "duration": 5,
    "start_time": "2023-12-07T08:49:16.880Z"
   },
   {
    "duration": 4,
    "start_time": "2023-12-07T08:49:30.993Z"
   },
   {
    "duration": 4,
    "start_time": "2023-12-07T08:50:14.963Z"
   },
   {
    "duration": 4,
    "start_time": "2023-12-07T08:51:55.243Z"
   },
   {
    "duration": 4,
    "start_time": "2023-12-07T08:52:09.953Z"
   },
   {
    "duration": 4,
    "start_time": "2023-12-07T08:52:14.856Z"
   },
   {
    "duration": 5,
    "start_time": "2023-12-07T08:52:29.198Z"
   },
   {
    "duration": 5,
    "start_time": "2023-12-07T08:52:45.502Z"
   },
   {
    "duration": 20,
    "start_time": "2023-12-07T09:52:33.206Z"
   },
   {
    "duration": 18,
    "start_time": "2023-12-07T09:52:43.767Z"
   },
   {
    "duration": 4,
    "start_time": "2023-12-07T09:53:35.207Z"
   },
   {
    "duration": 1840,
    "start_time": "2023-12-07T09:57:13.955Z"
   },
   {
    "duration": 1852,
    "start_time": "2023-12-07T09:57:51.316Z"
   },
   {
    "duration": 1804,
    "start_time": "2023-12-07T09:58:06.411Z"
   },
   {
    "duration": 1895,
    "start_time": "2023-12-07T09:58:08.217Z"
   },
   {
    "duration": 825,
    "start_time": "2023-12-07T09:59:29.261Z"
   },
   {
    "duration": 2595,
    "start_time": "2023-12-07T09:59:51.501Z"
   },
   {
    "duration": 2946,
    "start_time": "2023-12-07T10:00:57.787Z"
   },
   {
    "duration": 8,
    "start_time": "2023-12-07T10:01:35.594Z"
   },
   {
    "duration": 10,
    "start_time": "2023-12-07T10:01:50.481Z"
   },
   {
    "duration": 9,
    "start_time": "2023-12-07T10:02:04.740Z"
   },
   {
    "duration": 3083,
    "start_time": "2023-12-07T10:02:23.226Z"
   },
   {
    "duration": 2934,
    "start_time": "2023-12-07T10:02:31.865Z"
   },
   {
    "duration": 3220,
    "start_time": "2023-12-07T10:02:44.192Z"
   },
   {
    "duration": 3007,
    "start_time": "2023-12-07T10:03:54.957Z"
   },
   {
    "duration": 3111,
    "start_time": "2023-12-07T10:04:21.172Z"
   },
   {
    "duration": 2946,
    "start_time": "2023-12-07T10:05:05.604Z"
   },
   {
    "duration": 3068,
    "start_time": "2023-12-07T10:05:37.574Z"
   },
   {
    "duration": 17593,
    "start_time": "2023-12-07T10:07:47.128Z"
   },
   {
    "duration": 4352,
    "start_time": "2023-12-07T10:08:18.311Z"
   },
   {
    "duration": 3155,
    "start_time": "2023-12-07T10:08:24.933Z"
   },
   {
    "duration": 13,
    "start_time": "2023-12-07T10:10:41.568Z"
   },
   {
    "duration": 14,
    "start_time": "2023-12-07T10:10:57.906Z"
   },
   {
    "duration": 836,
    "start_time": "2023-12-07T10:12:34.672Z"
   },
   {
    "duration": 971,
    "start_time": "2023-12-07T10:17:59.601Z"
   },
   {
    "duration": 1063,
    "start_time": "2023-12-07T10:18:12.690Z"
   },
   {
    "duration": 1872,
    "start_time": "2023-12-07T12:11:58.432Z"
   },
   {
    "duration": 1941,
    "start_time": "2023-12-07T12:12:14.112Z"
   },
   {
    "duration": 1873,
    "start_time": "2023-12-07T12:12:17.983Z"
   },
   {
    "duration": 1854,
    "start_time": "2023-12-07T12:12:30.629Z"
   },
   {
    "duration": 3761,
    "start_time": "2023-12-07T13:25:16.934Z"
   },
   {
    "duration": 420,
    "start_time": "2023-12-07T13:25:20.697Z"
   },
   {
    "duration": 28,
    "start_time": "2023-12-07T13:25:21.119Z"
   },
   {
    "duration": 37,
    "start_time": "2023-12-07T13:25:21.149Z"
   },
   {
    "duration": 30,
    "start_time": "2023-12-07T13:25:21.189Z"
   },
   {
    "duration": 40,
    "start_time": "2023-12-07T13:25:21.220Z"
   },
   {
    "duration": 90,
    "start_time": "2023-12-07T13:25:21.262Z"
   },
   {
    "duration": 28,
    "start_time": "2023-12-07T13:25:21.354Z"
   },
   {
    "duration": 2815,
    "start_time": "2023-12-07T13:25:21.384Z"
   },
   {
    "duration": 943,
    "start_time": "2023-12-07T13:25:24.203Z"
   },
   {
    "duration": 1042,
    "start_time": "2023-12-07T13:25:25.148Z"
   },
   {
    "duration": 6,
    "start_time": "2023-12-07T13:25:26.192Z"
   },
   {
    "duration": 1901,
    "start_time": "2023-12-07T13:25:26.199Z"
   },
   {
    "duration": 2,
    "start_time": "2023-12-07T13:25:28.102Z"
   },
   {
    "duration": 237,
    "start_time": "2023-12-07T13:25:28.106Z"
   },
   {
    "duration": 299,
    "start_time": "2023-12-07T13:25:28.344Z"
   },
   {
    "duration": 198,
    "start_time": "2023-12-07T13:25:28.645Z"
   },
   {
    "duration": 4,
    "start_time": "2023-12-07T13:25:28.846Z"
   },
   {
    "duration": 108,
    "start_time": "2023-12-07T13:25:28.853Z"
   },
   {
    "duration": 39,
    "start_time": "2023-12-07T13:25:28.963Z"
   },
   {
    "duration": 139,
    "start_time": "2023-12-07T13:25:29.003Z"
   },
   {
    "duration": 0,
    "start_time": "2023-12-07T13:25:29.144Z"
   },
   {
    "duration": 0,
    "start_time": "2023-12-07T13:25:29.145Z"
   },
   {
    "duration": 0,
    "start_time": "2023-12-07T13:25:29.146Z"
   },
   {
    "duration": 0,
    "start_time": "2023-12-07T13:25:29.147Z"
   },
   {
    "duration": 0,
    "start_time": "2023-12-07T13:25:29.148Z"
   },
   {
    "duration": 0,
    "start_time": "2023-12-07T13:25:29.150Z"
   },
   {
    "duration": 3892,
    "start_time": "2023-12-07T13:26:29.414Z"
   },
   {
    "duration": 414,
    "start_time": "2023-12-07T13:26:33.308Z"
   },
   {
    "duration": 27,
    "start_time": "2023-12-07T13:26:33.724Z"
   },
   {
    "duration": 25,
    "start_time": "2023-12-07T13:26:33.753Z"
   },
   {
    "duration": 23,
    "start_time": "2023-12-07T13:26:33.780Z"
   },
   {
    "duration": 46,
    "start_time": "2023-12-07T13:26:33.805Z"
   },
   {
    "duration": 99,
    "start_time": "2023-12-07T13:26:33.852Z"
   },
   {
    "duration": 31,
    "start_time": "2023-12-07T13:26:33.953Z"
   },
   {
    "duration": 2883,
    "start_time": "2023-12-07T13:26:33.986Z"
   },
   {
    "duration": 926,
    "start_time": "2023-12-07T13:26:36.871Z"
   },
   {
    "duration": 1038,
    "start_time": "2023-12-07T13:26:37.799Z"
   },
   {
    "duration": 11,
    "start_time": "2023-12-07T13:26:38.838Z"
   },
   {
    "duration": 1972,
    "start_time": "2023-12-07T13:26:38.851Z"
   },
   {
    "duration": 3,
    "start_time": "2023-12-07T13:26:40.826Z"
   },
   {
    "duration": 107,
    "start_time": "2023-12-07T13:26:40.841Z"
   },
   {
    "duration": 310,
    "start_time": "2023-12-07T13:26:40.950Z"
   },
   {
    "duration": 202,
    "start_time": "2023-12-07T13:26:41.344Z"
   },
   {
    "duration": 94,
    "start_time": "2023-12-07T13:26:41.550Z"
   },
   {
    "duration": 16,
    "start_time": "2023-12-07T13:26:41.646Z"
   },
   {
    "duration": 14,
    "start_time": "2023-12-07T13:26:41.669Z"
   },
   {
    "duration": 135,
    "start_time": "2023-12-07T13:26:41.684Z"
   },
   {
    "duration": 0,
    "start_time": "2023-12-07T13:26:41.820Z"
   },
   {
    "duration": 0,
    "start_time": "2023-12-07T13:26:41.822Z"
   },
   {
    "duration": 0,
    "start_time": "2023-12-07T13:26:41.823Z"
   },
   {
    "duration": 0,
    "start_time": "2023-12-07T13:26:41.824Z"
   },
   {
    "duration": 0,
    "start_time": "2023-12-07T13:26:41.825Z"
   },
   {
    "duration": 0,
    "start_time": "2023-12-07T13:26:41.826Z"
   },
   {
    "duration": 10,
    "start_time": "2023-12-07T13:26:48.272Z"
   },
   {
    "duration": 15,
    "start_time": "2023-12-07T13:26:53.885Z"
   },
   {
    "duration": 2,
    "start_time": "2023-12-07T13:26:59.307Z"
   },
   {
    "duration": 1919,
    "start_time": "2023-12-07T13:27:01.067Z"
   },
   {
    "duration": 1836,
    "start_time": "2023-12-07T13:27:07.853Z"
   },
   {
    "duration": 22,
    "start_time": "2023-12-07T13:27:15.760Z"
   },
   {
    "duration": 19,
    "start_time": "2023-12-07T13:28:20.955Z"
   },
   {
    "duration": 19,
    "start_time": "2023-12-07T13:29:19.655Z"
   },
   {
    "duration": 22,
    "start_time": "2023-12-07T13:29:23.753Z"
   },
   {
    "duration": 49,
    "start_time": "2023-12-07T13:29:57.910Z"
   },
   {
    "duration": 3716,
    "start_time": "2023-12-07T13:30:27.037Z"
   },
   {
    "duration": 412,
    "start_time": "2023-12-07T13:30:30.755Z"
   },
   {
    "duration": 29,
    "start_time": "2023-12-07T13:30:31.168Z"
   },
   {
    "duration": 32,
    "start_time": "2023-12-07T13:30:31.198Z"
   },
   {
    "duration": 27,
    "start_time": "2023-12-07T13:30:31.232Z"
   },
   {
    "duration": 21,
    "start_time": "2023-12-07T13:30:31.261Z"
   },
   {
    "duration": 94,
    "start_time": "2023-12-07T13:30:31.284Z"
   },
   {
    "duration": 31,
    "start_time": "2023-12-07T13:30:31.380Z"
   },
   {
    "duration": 2859,
    "start_time": "2023-12-07T13:30:31.412Z"
   },
   {
    "duration": 932,
    "start_time": "2023-12-07T13:30:34.273Z"
   },
   {
    "duration": 1006,
    "start_time": "2023-12-07T13:30:35.207Z"
   },
   {
    "duration": 7,
    "start_time": "2023-12-07T13:30:36.214Z"
   },
   {
    "duration": 1940,
    "start_time": "2023-12-07T13:30:36.223Z"
   },
   {
    "duration": 3,
    "start_time": "2023-12-07T13:30:38.166Z"
   },
   {
    "duration": 81,
    "start_time": "2023-12-07T13:30:38.170Z"
   },
   {
    "duration": 301,
    "start_time": "2023-12-07T13:30:38.343Z"
   },
   {
    "duration": 298,
    "start_time": "2023-12-07T13:30:38.646Z"
   },
   {
    "duration": 93,
    "start_time": "2023-12-07T13:30:38.950Z"
   },
   {
    "duration": 19,
    "start_time": "2023-12-07T13:30:39.044Z"
   },
   {
    "duration": 27,
    "start_time": "2023-12-07T13:30:39.064Z"
   },
   {
    "duration": 37,
    "start_time": "2023-12-07T13:30:39.093Z"
   },
   {
    "duration": 17,
    "start_time": "2023-12-07T13:30:39.131Z"
   },
   {
    "duration": 4,
    "start_time": "2023-12-07T13:30:39.149Z"
   },
   {
    "duration": 7,
    "start_time": "2023-12-07T13:30:39.155Z"
   },
   {
    "duration": 1848,
    "start_time": "2023-12-07T13:30:39.163Z"
   },
   {
    "duration": 1767,
    "start_time": "2023-12-07T13:30:41.013Z"
   },
   {
    "duration": 1825,
    "start_time": "2023-12-07T13:30:42.781Z"
   },
   {
    "duration": 3793,
    "start_time": "2023-12-07T13:34:45.177Z"
   },
   {
    "duration": 393,
    "start_time": "2023-12-07T13:34:48.972Z"
   },
   {
    "duration": 26,
    "start_time": "2023-12-07T13:34:49.366Z"
   },
   {
    "duration": 22,
    "start_time": "2023-12-07T13:34:49.393Z"
   },
   {
    "duration": 47,
    "start_time": "2023-12-07T13:34:49.418Z"
   },
   {
    "duration": 18,
    "start_time": "2023-12-07T13:34:49.467Z"
   },
   {
    "duration": 92,
    "start_time": "2023-12-07T13:34:49.486Z"
   },
   {
    "duration": 29,
    "start_time": "2023-12-07T13:34:49.579Z"
   },
   {
    "duration": 2845,
    "start_time": "2023-12-07T13:34:49.610Z"
   },
   {
    "duration": 1006,
    "start_time": "2023-12-07T13:34:52.457Z"
   },
   {
    "duration": 1068,
    "start_time": "2023-12-07T13:34:53.464Z"
   },
   {
    "duration": 12,
    "start_time": "2023-12-07T13:34:54.534Z"
   },
   {
    "duration": 2005,
    "start_time": "2023-12-07T13:34:54.548Z"
   },
   {
    "duration": 3,
    "start_time": "2023-12-07T13:34:56.556Z"
   },
   {
    "duration": 288,
    "start_time": "2023-12-07T13:34:56.560Z"
   },
   {
    "duration": 294,
    "start_time": "2023-12-07T13:34:56.849Z"
   },
   {
    "duration": 298,
    "start_time": "2023-12-07T13:34:57.146Z"
   },
   {
    "duration": 4,
    "start_time": "2023-12-07T13:34:57.447Z"
   },
   {
    "duration": 99,
    "start_time": "2023-12-07T13:34:57.453Z"
   },
   {
    "duration": 6,
    "start_time": "2023-12-07T13:34:57.554Z"
   },
   {
    "duration": 20,
    "start_time": "2023-12-07T13:34:57.561Z"
   },
   {
    "duration": 18,
    "start_time": "2023-12-07T13:34:57.583Z"
   },
   {
    "duration": 6,
    "start_time": "2023-12-07T13:34:57.602Z"
   },
   {
    "duration": 4,
    "start_time": "2023-12-07T13:34:57.610Z"
   },
   {
    "duration": 1891,
    "start_time": "2023-12-07T13:34:57.643Z"
   },
   {
    "duration": 1888,
    "start_time": "2023-12-07T13:34:59.535Z"
   },
   {
    "duration": 1892,
    "start_time": "2023-12-07T13:35:01.425Z"
   },
   {
    "duration": 72,
    "start_time": "2023-12-07T14:04:30.917Z"
   },
   {
    "duration": 4886,
    "start_time": "2023-12-07T14:57:02.561Z"
   },
   {
    "duration": 1701,
    "start_time": "2023-12-07T14:57:07.449Z"
   },
   {
    "duration": 28,
    "start_time": "2023-12-07T14:57:09.152Z"
   },
   {
    "duration": 21,
    "start_time": "2023-12-07T14:57:09.182Z"
   },
   {
    "duration": 19,
    "start_time": "2023-12-07T14:57:09.214Z"
   },
   {
    "duration": 17,
    "start_time": "2023-12-07T14:57:09.235Z"
   },
   {
    "duration": 100,
    "start_time": "2023-12-07T14:57:09.253Z"
   },
   {
    "duration": 32,
    "start_time": "2023-12-07T14:57:09.355Z"
   },
   {
    "duration": 2785,
    "start_time": "2023-12-07T14:57:09.388Z"
   },
   {
    "duration": 907,
    "start_time": "2023-12-07T14:57:12.175Z"
   },
   {
    "duration": 987,
    "start_time": "2023-12-07T14:57:13.084Z"
   },
   {
    "duration": 6,
    "start_time": "2023-12-07T14:57:14.072Z"
   },
   {
    "duration": 1958,
    "start_time": "2023-12-07T14:57:14.079Z"
   },
   {
    "duration": 3,
    "start_time": "2023-12-07T14:57:16.040Z"
   },
   {
    "duration": 272,
    "start_time": "2023-12-07T14:57:16.044Z"
   },
   {
    "duration": 297,
    "start_time": "2023-12-07T14:57:16.319Z"
   },
   {
    "duration": 196,
    "start_time": "2023-12-07T14:57:16.621Z"
   },
   {
    "duration": 4,
    "start_time": "2023-12-07T14:57:16.819Z"
   },
   {
    "duration": 93,
    "start_time": "2023-12-07T14:57:16.824Z"
   },
   {
    "duration": 6,
    "start_time": "2023-12-07T14:57:16.919Z"
   },
   {
    "duration": 18,
    "start_time": "2023-12-07T14:57:16.927Z"
   },
   {
    "duration": 16,
    "start_time": "2023-12-07T14:57:16.947Z"
   },
   {
    "duration": 4,
    "start_time": "2023-12-07T14:57:16.965Z"
   },
   {
    "duration": 5,
    "start_time": "2023-12-07T14:57:16.970Z"
   },
   {
    "duration": 1834,
    "start_time": "2023-12-07T14:57:16.976Z"
   },
   {
    "duration": 1778,
    "start_time": "2023-12-07T14:57:18.812Z"
   },
   {
    "duration": 1765,
    "start_time": "2023-12-07T14:57:20.592Z"
   },
   {
    "duration": 3,
    "start_time": "2023-12-07T15:12:23.887Z"
   },
   {
    "duration": 1775,
    "start_time": "2023-12-07T15:14:14.474Z"
   },
   {
    "duration": 3669,
    "start_time": "2023-12-07T15:14:23.913Z"
   },
   {
    "duration": 399,
    "start_time": "2023-12-07T15:14:27.584Z"
   },
   {
    "duration": 25,
    "start_time": "2023-12-07T15:14:27.985Z"
   },
   {
    "duration": 19,
    "start_time": "2023-12-07T15:14:28.015Z"
   },
   {
    "duration": 20,
    "start_time": "2023-12-07T15:14:28.036Z"
   },
   {
    "duration": 18,
    "start_time": "2023-12-07T15:14:28.057Z"
   },
   {
    "duration": 109,
    "start_time": "2023-12-07T15:14:28.077Z"
   },
   {
    "duration": 37,
    "start_time": "2023-12-07T15:14:28.188Z"
   },
   {
    "duration": 3335,
    "start_time": "2023-12-07T15:14:28.226Z"
   },
   {
    "duration": 1022,
    "start_time": "2023-12-07T15:14:31.614Z"
   },
   {
    "duration": 1005,
    "start_time": "2023-12-07T15:14:32.638Z"
   },
   {
    "duration": 6,
    "start_time": "2023-12-07T15:14:33.645Z"
   },
   {
    "duration": 1928,
    "start_time": "2023-12-07T15:14:33.653Z"
   },
   {
    "duration": 3,
    "start_time": "2023-12-07T15:14:35.583Z"
   },
   {
    "duration": 229,
    "start_time": "2023-12-07T15:14:35.587Z"
   },
   {
    "duration": 298,
    "start_time": "2023-12-07T15:14:35.818Z"
   },
   {
    "duration": 201,
    "start_time": "2023-12-07T15:14:36.118Z"
   },
   {
    "duration": 92,
    "start_time": "2023-12-07T15:14:36.324Z"
   },
   {
    "duration": 7,
    "start_time": "2023-12-07T15:14:36.418Z"
   },
   {
    "duration": 7,
    "start_time": "2023-12-07T15:14:36.426Z"
   },
   {
    "duration": 17,
    "start_time": "2023-12-07T15:14:36.434Z"
   },
   {
    "duration": 17,
    "start_time": "2023-12-07T15:14:36.452Z"
   },
   {
    "duration": 5,
    "start_time": "2023-12-07T15:14:36.470Z"
   },
   {
    "duration": 7,
    "start_time": "2023-12-07T15:14:36.477Z"
   },
   {
    "duration": 1725,
    "start_time": "2023-12-07T15:14:36.485Z"
   },
   {
    "duration": 1749,
    "start_time": "2023-12-07T15:14:38.215Z"
   },
   {
    "duration": 1751,
    "start_time": "2023-12-07T15:14:39.966Z"
   },
   {
    "duration": 4,
    "start_time": "2023-12-07T15:20:23.223Z"
   },
   {
    "duration": 78,
    "start_time": "2023-12-07T15:20:47.944Z"
   },
   {
    "duration": 4354,
    "start_time": "2023-12-07T15:23:14.766Z"
   },
   {
    "duration": 410,
    "start_time": "2023-12-07T15:23:19.122Z"
   },
   {
    "duration": 28,
    "start_time": "2023-12-07T15:23:19.533Z"
   },
   {
    "duration": 18,
    "start_time": "2023-12-07T15:23:19.563Z"
   },
   {
    "duration": 40,
    "start_time": "2023-12-07T15:23:19.583Z"
   },
   {
    "duration": 18,
    "start_time": "2023-12-07T15:23:19.624Z"
   },
   {
    "duration": 95,
    "start_time": "2023-12-07T15:23:19.644Z"
   },
   {
    "duration": 28,
    "start_time": "2023-12-07T15:23:19.740Z"
   },
   {
    "duration": 2730,
    "start_time": "2023-12-07T15:23:19.770Z"
   },
   {
    "duration": 904,
    "start_time": "2023-12-07T15:23:22.502Z"
   },
   {
    "duration": 992,
    "start_time": "2023-12-07T15:23:23.407Z"
   },
   {
    "duration": 18,
    "start_time": "2023-12-07T15:23:24.400Z"
   },
   {
    "duration": 1859,
    "start_time": "2023-12-07T15:23:24.419Z"
   },
   {
    "duration": 4,
    "start_time": "2023-12-07T15:23:26.281Z"
   },
   {
    "duration": 136,
    "start_time": "2023-12-07T15:23:26.286Z"
   },
   {
    "duration": 193,
    "start_time": "2023-12-07T15:23:26.424Z"
   },
   {
    "duration": 304,
    "start_time": "2023-12-07T15:23:26.620Z"
   },
   {
    "duration": 4,
    "start_time": "2023-12-07T15:23:27.016Z"
   },
   {
    "duration": 7,
    "start_time": "2023-12-07T15:23:27.021Z"
   },
   {
    "duration": 4,
    "start_time": "2023-12-07T15:23:27.029Z"
   },
   {
    "duration": 19,
    "start_time": "2023-12-07T15:23:27.035Z"
   },
   {
    "duration": 18,
    "start_time": "2023-12-07T15:23:27.114Z"
   },
   {
    "duration": 4,
    "start_time": "2023-12-07T15:23:27.133Z"
   },
   {
    "duration": 11,
    "start_time": "2023-12-07T15:23:27.138Z"
   },
   {
    "duration": 1803,
    "start_time": "2023-12-07T15:23:27.151Z"
   },
   {
    "duration": 1799,
    "start_time": "2023-12-07T15:23:28.955Z"
   },
   {
    "duration": 1750,
    "start_time": "2023-12-07T15:23:30.756Z"
   },
   {
    "duration": 3693,
    "start_time": "2023-12-07T15:27:06.359Z"
   },
   {
    "duration": 414,
    "start_time": "2023-12-07T15:27:10.054Z"
   },
   {
    "duration": 26,
    "start_time": "2023-12-07T15:27:10.469Z"
   },
   {
    "duration": 31,
    "start_time": "2023-12-07T15:27:10.497Z"
   },
   {
    "duration": 23,
    "start_time": "2023-12-07T15:27:10.531Z"
   },
   {
    "duration": 22,
    "start_time": "2023-12-07T15:27:10.556Z"
   },
   {
    "duration": 111,
    "start_time": "2023-12-07T15:27:10.580Z"
   },
   {
    "duration": 45,
    "start_time": "2023-12-07T15:27:10.693Z"
   },
   {
    "duration": 2799,
    "start_time": "2023-12-07T15:27:10.740Z"
   },
   {
    "duration": 937,
    "start_time": "2023-12-07T15:27:13.541Z"
   },
   {
    "duration": 1027,
    "start_time": "2023-12-07T15:27:14.480Z"
   },
   {
    "duration": 10,
    "start_time": "2023-12-07T15:27:15.509Z"
   },
   {
    "duration": 1883,
    "start_time": "2023-12-07T15:27:15.521Z"
   },
   {
    "duration": 9,
    "start_time": "2023-12-07T15:27:17.407Z"
   },
   {
    "duration": 199,
    "start_time": "2023-12-07T15:27:17.417Z"
   },
   {
    "duration": 204,
    "start_time": "2023-12-07T15:27:17.618Z"
   },
   {
    "duration": 195,
    "start_time": "2023-12-07T15:27:17.824Z"
   },
   {
    "duration": 93,
    "start_time": "2023-12-07T15:27:18.022Z"
   },
   {
    "duration": 18,
    "start_time": "2023-12-07T15:27:18.117Z"
   },
   {
    "duration": 146,
    "start_time": "2023-12-07T15:27:18.139Z"
   },
   {
    "duration": 51,
    "start_time": "2023-12-07T15:27:18.286Z"
   },
   {
    "duration": 27,
    "start_time": "2023-12-07T15:27:18.338Z"
   },
   {
    "duration": 17,
    "start_time": "2023-12-07T15:27:18.367Z"
   },
   {
    "duration": 24,
    "start_time": "2023-12-07T15:27:18.385Z"
   },
   {
    "duration": 1799,
    "start_time": "2023-12-07T15:27:18.410Z"
   },
   {
    "duration": 1813,
    "start_time": "2023-12-07T15:27:20.214Z"
   },
   {
    "duration": 1775,
    "start_time": "2023-12-07T15:27:22.029Z"
   },
   {
    "duration": 1757,
    "start_time": "2023-12-07T15:28:46.672Z"
   },
   {
    "duration": 6,
    "start_time": "2023-12-07T15:30:09.412Z"
   },
   {
    "duration": 4,
    "start_time": "2023-12-07T15:30:18.274Z"
   },
   {
    "duration": 4,
    "start_time": "2023-12-07T15:30:30.302Z"
   },
   {
    "duration": 5,
    "start_time": "2023-12-07T15:30:32.992Z"
   },
   {
    "duration": 4,
    "start_time": "2023-12-07T15:34:42.069Z"
   },
   {
    "duration": 53,
    "start_time": "2023-12-07T15:36:41.839Z"
   },
   {
    "duration": 4,
    "start_time": "2023-12-07T15:37:00.773Z"
   },
   {
    "duration": 5,
    "start_time": "2023-12-07T15:37:40.816Z"
   },
   {
    "duration": 1793,
    "start_time": "2023-12-07T15:38:01.070Z"
   },
   {
    "duration": 1747,
    "start_time": "2023-12-07T15:39:03.101Z"
   },
   {
    "duration": 1776,
    "start_time": "2023-12-07T15:39:10.145Z"
   },
   {
    "duration": 3661,
    "start_time": "2023-12-07T15:39:16.691Z"
   },
   {
    "duration": 412,
    "start_time": "2023-12-07T15:39:20.355Z"
   },
   {
    "duration": 25,
    "start_time": "2023-12-07T15:39:20.769Z"
   },
   {
    "duration": 29,
    "start_time": "2023-12-07T15:39:20.795Z"
   },
   {
    "duration": 21,
    "start_time": "2023-12-07T15:39:20.826Z"
   },
   {
    "duration": 17,
    "start_time": "2023-12-07T15:39:20.849Z"
   },
   {
    "duration": 96,
    "start_time": "2023-12-07T15:39:20.868Z"
   },
   {
    "duration": 31,
    "start_time": "2023-12-07T15:39:20.966Z"
   },
   {
    "duration": 2723,
    "start_time": "2023-12-07T15:39:21.015Z"
   },
   {
    "duration": 903,
    "start_time": "2023-12-07T15:39:23.741Z"
   },
   {
    "duration": 991,
    "start_time": "2023-12-07T15:39:24.646Z"
   },
   {
    "duration": 7,
    "start_time": "2023-12-07T15:39:25.639Z"
   },
   {
    "duration": 1919,
    "start_time": "2023-12-07T15:39:25.647Z"
   },
   {
    "duration": 3,
    "start_time": "2023-12-07T15:39:27.569Z"
   },
   {
    "duration": 147,
    "start_time": "2023-12-07T15:39:27.574Z"
   },
   {
    "duration": 198,
    "start_time": "2023-12-07T15:39:27.723Z"
   },
   {
    "duration": 299,
    "start_time": "2023-12-07T15:39:27.924Z"
   },
   {
    "duration": 3,
    "start_time": "2023-12-07T15:39:28.317Z"
   },
   {
    "duration": 94,
    "start_time": "2023-12-07T15:39:28.325Z"
   },
   {
    "duration": 5,
    "start_time": "2023-12-07T15:39:28.420Z"
   },
   {
    "duration": 17,
    "start_time": "2023-12-07T15:39:28.426Z"
   },
   {
    "duration": 16,
    "start_time": "2023-12-07T15:39:28.445Z"
   },
   {
    "duration": 4,
    "start_time": "2023-12-07T15:39:28.463Z"
   },
   {
    "duration": 10,
    "start_time": "2023-12-07T15:39:28.469Z"
   },
   {
    "duration": 5,
    "start_time": "2023-12-07T15:39:28.480Z"
   },
   {
    "duration": 1818,
    "start_time": "2023-12-07T15:39:28.486Z"
   },
   {
    "duration": 1774,
    "start_time": "2023-12-07T15:39:30.305Z"
   },
   {
    "duration": 1732,
    "start_time": "2023-12-07T15:39:32.080Z"
   },
   {
    "duration": 3703,
    "start_time": "2023-12-07T15:40:17.514Z"
   },
   {
    "duration": 403,
    "start_time": "2023-12-07T15:40:21.220Z"
   },
   {
    "duration": 25,
    "start_time": "2023-12-07T15:40:21.625Z"
   },
   {
    "duration": 20,
    "start_time": "2023-12-07T15:40:21.651Z"
   },
   {
    "duration": 42,
    "start_time": "2023-12-07T15:40:21.673Z"
   },
   {
    "duration": 19,
    "start_time": "2023-12-07T15:40:21.717Z"
   },
   {
    "duration": 93,
    "start_time": "2023-12-07T15:40:21.737Z"
   },
   {
    "duration": 31,
    "start_time": "2023-12-07T15:40:21.831Z"
   },
   {
    "duration": 2777,
    "start_time": "2023-12-07T15:40:21.865Z"
   },
   {
    "duration": 944,
    "start_time": "2023-12-07T15:40:24.644Z"
   },
   {
    "duration": 957,
    "start_time": "2023-12-07T15:40:25.589Z"
   },
   {
    "duration": 6,
    "start_time": "2023-12-07T15:40:26.547Z"
   },
   {
    "duration": 1929,
    "start_time": "2023-12-07T15:40:26.555Z"
   },
   {
    "duration": 4,
    "start_time": "2023-12-07T15:40:28.487Z"
   },
   {
    "duration": 227,
    "start_time": "2023-12-07T15:40:28.492Z"
   },
   {
    "duration": 204,
    "start_time": "2023-12-07T15:40:28.720Z"
   },
   {
    "duration": 291,
    "start_time": "2023-12-07T15:40:28.926Z"
   },
   {
    "duration": 2,
    "start_time": "2023-12-07T15:40:29.220Z"
   },
   {
    "duration": 198,
    "start_time": "2023-12-07T15:40:29.224Z"
   },
   {
    "duration": 13,
    "start_time": "2023-12-07T15:40:29.424Z"
   },
   {
    "duration": 59,
    "start_time": "2023-12-07T15:40:29.438Z"
   },
   {
    "duration": 16,
    "start_time": "2023-12-07T15:40:29.498Z"
   },
   {
    "duration": 4,
    "start_time": "2023-12-07T15:40:29.516Z"
   },
   {
    "duration": 6,
    "start_time": "2023-12-07T15:40:29.522Z"
   },
   {
    "duration": 14,
    "start_time": "2023-12-07T15:40:29.529Z"
   },
   {
    "duration": 1807,
    "start_time": "2023-12-07T15:40:29.545Z"
   },
   {
    "duration": 1721,
    "start_time": "2023-12-07T15:40:31.354Z"
   },
   {
    "duration": 1793,
    "start_time": "2023-12-07T15:40:33.077Z"
   },
   {
    "duration": 13,
    "start_time": "2023-12-08T05:14:21.732Z"
   },
   {
    "duration": 4814,
    "start_time": "2023-12-08T05:14:45.812Z"
   },
   {
    "duration": 748,
    "start_time": "2023-12-08T05:14:50.628Z"
   },
   {
    "duration": 25,
    "start_time": "2023-12-08T05:14:51.377Z"
   },
   {
    "duration": 20,
    "start_time": "2023-12-08T05:14:51.403Z"
   },
   {
    "duration": 21,
    "start_time": "2023-12-08T05:14:51.425Z"
   },
   {
    "duration": 18,
    "start_time": "2023-12-08T05:14:51.447Z"
   },
   {
    "duration": 106,
    "start_time": "2023-12-08T05:14:51.466Z"
   },
   {
    "duration": 43,
    "start_time": "2023-12-08T05:14:51.573Z"
   },
   {
    "duration": 2693,
    "start_time": "2023-12-08T05:14:51.618Z"
   },
   {
    "duration": 893,
    "start_time": "2023-12-08T05:14:54.313Z"
   },
   {
    "duration": 953,
    "start_time": "2023-12-08T05:14:55.210Z"
   },
   {
    "duration": 6,
    "start_time": "2023-12-08T05:14:56.165Z"
   },
   {
    "duration": 1863,
    "start_time": "2023-12-08T05:14:56.172Z"
   },
   {
    "duration": 4,
    "start_time": "2023-12-08T05:14:58.038Z"
   },
   {
    "duration": 170,
    "start_time": "2023-12-08T05:14:58.043Z"
   },
   {
    "duration": 201,
    "start_time": "2023-12-08T05:14:58.214Z"
   },
   {
    "duration": 302,
    "start_time": "2023-12-08T05:14:58.420Z"
   },
   {
    "duration": 88,
    "start_time": "2023-12-08T05:14:58.724Z"
   },
   {
    "duration": 7,
    "start_time": "2023-12-08T05:14:58.814Z"
   },
   {
    "duration": 4,
    "start_time": "2023-12-08T05:14:58.912Z"
   },
   {
    "duration": 19,
    "start_time": "2023-12-08T05:14:58.917Z"
   },
   {
    "duration": 17,
    "start_time": "2023-12-08T05:14:58.938Z"
   },
   {
    "duration": 5,
    "start_time": "2023-12-08T05:14:58.956Z"
   },
   {
    "duration": 8,
    "start_time": "2023-12-08T05:14:58.962Z"
   },
   {
    "duration": 5,
    "start_time": "2023-12-08T05:14:58.972Z"
   },
   {
    "duration": 1747,
    "start_time": "2023-12-08T05:14:58.978Z"
   },
   {
    "duration": 3,
    "start_time": "2023-12-08T05:15:00.726Z"
   },
   {
    "duration": 1834,
    "start_time": "2023-12-08T05:15:00.731Z"
   },
   {
    "duration": 1771,
    "start_time": "2023-12-08T05:15:02.567Z"
   },
   {
    "duration": 6,
    "start_time": "2023-12-08T05:16:34.622Z"
   },
   {
    "duration": 2135,
    "start_time": "2023-12-08T05:16:36.225Z"
   },
   {
    "duration": 2157,
    "start_time": "2023-12-08T05:16:54.035Z"
   },
   {
    "duration": 5,
    "start_time": "2023-12-08T05:17:10.311Z"
   },
   {
    "duration": 6,
    "start_time": "2023-12-08T05:21:06.107Z"
   },
   {
    "duration": 2301,
    "start_time": "2023-12-08T05:21:07.716Z"
   },
   {
    "duration": 6,
    "start_time": "2023-12-08T05:21:46.270Z"
   },
   {
    "duration": 2236,
    "start_time": "2023-12-08T05:21:47.706Z"
   },
   {
    "duration": 6,
    "start_time": "2023-12-08T05:22:27.876Z"
   },
   {
    "duration": 1762,
    "start_time": "2023-12-08T05:22:29.226Z"
   },
   {
    "duration": 5,
    "start_time": "2023-12-08T05:24:24.076Z"
   },
   {
    "duration": 1745,
    "start_time": "2023-12-08T05:24:25.176Z"
   },
   {
    "duration": 5,
    "start_time": "2023-12-08T05:24:36.996Z"
   },
   {
    "duration": 1771,
    "start_time": "2023-12-08T05:24:38.224Z"
   },
   {
    "duration": 3712,
    "start_time": "2023-12-08T05:25:34.595Z"
   },
   {
    "duration": 414,
    "start_time": "2023-12-08T05:25:38.309Z"
   },
   {
    "duration": 27,
    "start_time": "2023-12-08T05:25:38.724Z"
   },
   {
    "duration": 22,
    "start_time": "2023-12-08T05:25:38.753Z"
   },
   {
    "duration": 50,
    "start_time": "2023-12-08T05:25:38.778Z"
   },
   {
    "duration": 18,
    "start_time": "2023-12-08T05:25:38.830Z"
   },
   {
    "duration": 95,
    "start_time": "2023-12-08T05:25:38.849Z"
   },
   {
    "duration": 29,
    "start_time": "2023-12-08T05:25:38.946Z"
   },
   {
    "duration": 2735,
    "start_time": "2023-12-08T05:25:38.976Z"
   },
   {
    "duration": 932,
    "start_time": "2023-12-08T05:25:41.713Z"
   },
   {
    "duration": 958,
    "start_time": "2023-12-08T05:25:42.646Z"
   },
   {
    "duration": 6,
    "start_time": "2023-12-08T05:25:43.606Z"
   },
   {
    "duration": 1948,
    "start_time": "2023-12-08T05:25:43.613Z"
   },
   {
    "duration": 4,
    "start_time": "2023-12-08T05:25:45.563Z"
   },
   {
    "duration": 145,
    "start_time": "2023-12-08T05:25:45.569Z"
   },
   {
    "duration": 202,
    "start_time": "2023-12-08T05:25:45.716Z"
   },
   {
    "duration": 293,
    "start_time": "2023-12-08T05:25:45.920Z"
   },
   {
    "duration": 5,
    "start_time": "2023-12-08T05:25:46.216Z"
   },
   {
    "duration": 90,
    "start_time": "2023-12-08T05:25:46.223Z"
   },
   {
    "duration": 6,
    "start_time": "2023-12-08T05:25:46.315Z"
   },
   {
    "duration": 103,
    "start_time": "2023-12-08T05:25:46.323Z"
   },
   {
    "duration": 23,
    "start_time": "2023-12-08T05:25:46.428Z"
   },
   {
    "duration": 29,
    "start_time": "2023-12-08T05:25:46.453Z"
   },
   {
    "duration": 41,
    "start_time": "2023-12-08T05:25:46.483Z"
   },
   {
    "duration": 54,
    "start_time": "2023-12-08T05:25:46.526Z"
   },
   {
    "duration": 137,
    "start_time": "2023-12-08T05:25:46.583Z"
   },
   {
    "duration": 0,
    "start_time": "2023-12-08T05:25:46.722Z"
   },
   {
    "duration": 0,
    "start_time": "2023-12-08T05:25:46.723Z"
   },
   {
    "duration": 0,
    "start_time": "2023-12-08T05:25:46.725Z"
   },
   {
    "duration": 0,
    "start_time": "2023-12-08T05:25:46.726Z"
   },
   {
    "duration": 6,
    "start_time": "2023-12-08T05:26:03.247Z"
   },
   {
    "duration": 14,
    "start_time": "2023-12-08T05:26:04.856Z"
   },
   {
    "duration": 8,
    "start_time": "2023-12-08T05:26:44.524Z"
   },
   {
    "duration": 3669,
    "start_time": "2023-12-08T05:26:52.168Z"
   },
   {
    "duration": 392,
    "start_time": "2023-12-08T05:26:55.840Z"
   },
   {
    "duration": 25,
    "start_time": "2023-12-08T05:26:56.234Z"
   },
   {
    "duration": 19,
    "start_time": "2023-12-08T05:26:56.260Z"
   },
   {
    "duration": 35,
    "start_time": "2023-12-08T05:26:56.281Z"
   },
   {
    "duration": 17,
    "start_time": "2023-12-08T05:26:56.317Z"
   },
   {
    "duration": 91,
    "start_time": "2023-12-08T05:26:56.336Z"
   },
   {
    "duration": 28,
    "start_time": "2023-12-08T05:26:56.428Z"
   },
   {
    "duration": 2759,
    "start_time": "2023-12-08T05:26:56.458Z"
   },
   {
    "duration": 892,
    "start_time": "2023-12-08T05:26:59.219Z"
   },
   {
    "duration": 945,
    "start_time": "2023-12-08T05:27:00.113Z"
   },
   {
    "duration": 7,
    "start_time": "2023-12-08T05:27:01.059Z"
   },
   {
    "duration": 1910,
    "start_time": "2023-12-08T05:27:01.067Z"
   },
   {
    "duration": 4,
    "start_time": "2023-12-08T05:27:02.980Z"
   },
   {
    "duration": 234,
    "start_time": "2023-12-08T05:27:02.985Z"
   },
   {
    "duration": 198,
    "start_time": "2023-12-08T05:27:03.221Z"
   },
   {
    "duration": 304,
    "start_time": "2023-12-08T05:27:03.421Z"
   },
   {
    "duration": 86,
    "start_time": "2023-12-08T05:27:03.727Z"
   },
   {
    "duration": 96,
    "start_time": "2023-12-08T05:27:03.816Z"
   },
   {
    "duration": 5,
    "start_time": "2023-12-08T05:27:03.914Z"
   },
   {
    "duration": 19,
    "start_time": "2023-12-08T05:27:03.920Z"
   },
   {
    "duration": 15,
    "start_time": "2023-12-08T05:27:03.941Z"
   },
   {
    "duration": 4,
    "start_time": "2023-12-08T05:27:03.958Z"
   },
   {
    "duration": 5,
    "start_time": "2023-12-08T05:27:03.964Z"
   },
   {
    "duration": 142,
    "start_time": "2023-12-08T05:27:03.970Z"
   },
   {
    "duration": 0,
    "start_time": "2023-12-08T05:27:04.113Z"
   },
   {
    "duration": 0,
    "start_time": "2023-12-08T05:27:04.114Z"
   },
   {
    "duration": 0,
    "start_time": "2023-12-08T05:27:04.115Z"
   },
   {
    "duration": 0,
    "start_time": "2023-12-08T05:27:04.116Z"
   },
   {
    "duration": 0,
    "start_time": "2023-12-08T05:27:04.117Z"
   },
   {
    "duration": 1,
    "start_time": "2023-12-08T05:27:04.118Z"
   },
   {
    "duration": 6,
    "start_time": "2023-12-08T05:27:14.497Z"
   },
   {
    "duration": 2266,
    "start_time": "2023-12-08T05:27:16.758Z"
   },
   {
    "duration": 6,
    "start_time": "2023-12-08T05:27:37.195Z"
   },
   {
    "duration": 1781,
    "start_time": "2023-12-08T05:27:38.773Z"
   },
   {
    "duration": 8,
    "start_time": "2023-12-08T05:28:03.527Z"
   },
   {
    "duration": 3,
    "start_time": "2023-12-08T05:28:10.997Z"
   },
   {
    "duration": 6,
    "start_time": "2023-12-08T05:28:52.297Z"
   },
   {
    "duration": 1787,
    "start_time": "2023-12-08T05:28:53.675Z"
   },
   {
    "duration": 6,
    "start_time": "2023-12-08T05:29:09.239Z"
   },
   {
    "duration": 1754,
    "start_time": "2023-12-08T05:29:19.528Z"
   },
   {
    "duration": 6,
    "start_time": "2023-12-08T05:29:46.169Z"
   },
   {
    "duration": 1782,
    "start_time": "2023-12-08T05:29:47.258Z"
   },
   {
    "duration": 6,
    "start_time": "2023-12-08T05:29:58.961Z"
   },
   {
    "duration": 1867,
    "start_time": "2023-12-08T05:30:00.560Z"
   },
   {
    "duration": 6,
    "start_time": "2023-12-08T05:30:09.732Z"
   },
   {
    "duration": 1721,
    "start_time": "2023-12-08T05:30:12.630Z"
   },
   {
    "duration": 6,
    "start_time": "2023-12-08T05:30:26.789Z"
   },
   {
    "duration": 1763,
    "start_time": "2023-12-08T05:30:29.468Z"
   },
   {
    "duration": 5,
    "start_time": "2023-12-08T05:31:00.433Z"
   },
   {
    "duration": 2184,
    "start_time": "2023-12-08T05:31:01.713Z"
   },
   {
    "duration": 4,
    "start_time": "2023-12-08T05:31:44.361Z"
   },
   {
    "duration": 1748,
    "start_time": "2023-12-08T05:31:46.083Z"
   },
   {
    "duration": 3,
    "start_time": "2023-12-08T05:31:55.442Z"
   },
   {
    "duration": 5,
    "start_time": "2023-12-08T05:31:57.016Z"
   },
   {
    "duration": 2269,
    "start_time": "2023-12-08T05:31:58.502Z"
   },
   {
    "duration": 6,
    "start_time": "2023-12-08T05:32:59.662Z"
   },
   {
    "duration": 19,
    "start_time": "2023-12-08T05:33:01.242Z"
   },
   {
    "duration": 6,
    "start_time": "2023-12-08T05:33:27.602Z"
   },
   {
    "duration": 2272,
    "start_time": "2023-12-08T05:33:28.941Z"
   },
   {
    "duration": 2,
    "start_time": "2023-12-08T05:35:24.644Z"
   },
   {
    "duration": 5,
    "start_time": "2023-12-08T05:35:25.874Z"
   },
   {
    "duration": 1763,
    "start_time": "2023-12-08T05:35:27.493Z"
   },
   {
    "duration": 3691,
    "start_time": "2023-12-08T05:35:34.175Z"
   },
   {
    "duration": 400,
    "start_time": "2023-12-08T05:35:37.869Z"
   },
   {
    "duration": 26,
    "start_time": "2023-12-08T05:35:38.271Z"
   },
   {
    "duration": 28,
    "start_time": "2023-12-08T05:35:38.298Z"
   },
   {
    "duration": 20,
    "start_time": "2023-12-08T05:35:38.328Z"
   },
   {
    "duration": 19,
    "start_time": "2023-12-08T05:35:38.350Z"
   },
   {
    "duration": 118,
    "start_time": "2023-12-08T05:35:38.371Z"
   },
   {
    "duration": 36,
    "start_time": "2023-12-08T05:35:38.490Z"
   },
   {
    "duration": 2754,
    "start_time": "2023-12-08T05:35:38.528Z"
   },
   {
    "duration": 936,
    "start_time": "2023-12-08T05:35:41.284Z"
   },
   {
    "duration": 991,
    "start_time": "2023-12-08T05:35:42.222Z"
   },
   {
    "duration": 7,
    "start_time": "2023-12-08T05:35:43.214Z"
   },
   {
    "duration": 1925,
    "start_time": "2023-12-08T05:35:43.222Z"
   },
   {
    "duration": 3,
    "start_time": "2023-12-08T05:35:45.150Z"
   },
   {
    "duration": 164,
    "start_time": "2023-12-08T05:35:45.155Z"
   },
   {
    "duration": 193,
    "start_time": "2023-12-08T05:35:45.321Z"
   },
   {
    "duration": 203,
    "start_time": "2023-12-08T05:35:45.516Z"
   },
   {
    "duration": 2,
    "start_time": "2023-12-08T05:35:45.812Z"
   },
   {
    "duration": 18,
    "start_time": "2023-12-08T05:35:45.816Z"
   },
   {
    "duration": 154,
    "start_time": "2023-12-08T05:35:45.836Z"
   },
   {
    "duration": 29,
    "start_time": "2023-12-08T05:35:45.992Z"
   },
   {
    "duration": 17,
    "start_time": "2023-12-08T05:35:46.023Z"
   },
   {
    "duration": 5,
    "start_time": "2023-12-08T05:35:46.041Z"
   },
   {
    "duration": 6,
    "start_time": "2023-12-08T05:35:46.047Z"
   },
   {
    "duration": 5,
    "start_time": "2023-12-08T05:35:46.055Z"
   },
   {
    "duration": 1849,
    "start_time": "2023-12-08T05:35:46.062Z"
   },
   {
    "duration": 1807,
    "start_time": "2023-12-08T05:35:47.913Z"
   },
   {
    "duration": 1719,
    "start_time": "2023-12-08T05:35:49.722Z"
   },
   {
    "duration": 22751,
    "start_time": "2023-12-08T05:39:05.184Z"
   },
   {
    "duration": 4749,
    "start_time": "2023-12-08T05:40:38.837Z"
   },
   {
    "duration": 106,
    "start_time": "2023-12-08T05:41:19.022Z"
   },
   {
    "duration": 2886,
    "start_time": "2023-12-08T05:41:38.235Z"
   },
   {
    "duration": 106,
    "start_time": "2023-12-08T05:42:28.047Z"
   },
   {
    "duration": 2934,
    "start_time": "2023-12-08T05:42:36.316Z"
   },
   {
    "duration": 4,
    "start_time": "2023-12-08T05:42:44.366Z"
   },
   {
    "duration": 294,
    "start_time": "2023-12-08T05:43:52.564Z"
   },
   {
    "duration": 2833,
    "start_time": "2023-12-08T05:46:06.985Z"
   },
   {
    "duration": 108,
    "start_time": "2023-12-08T05:46:10.833Z"
   },
   {
    "duration": 4019,
    "start_time": "2023-12-08T05:52:09.976Z"
   },
   {
    "duration": 158,
    "start_time": "2023-12-08T05:52:18.331Z"
   }
  ],
  "kernelspec": {
   "display_name": "Python 3 (ipykernel)",
   "language": "python",
   "name": "python3"
  },
  "language_info": {
   "codemirror_mode": {
    "name": "ipython",
    "version": 3
   },
   "file_extension": ".py",
   "mimetype": "text/x-python",
   "name": "python",
   "nbconvert_exporter": "python",
   "pygments_lexer": "ipython3",
   "version": "3.9.17"
  },
  "toc": {
   "base_numbering": 1,
   "nav_menu": {},
   "number_sections": true,
   "sideBar": true,
   "skip_h1_title": true,
   "title_cell": "Table of Contents",
   "title_sidebar": "Contents",
   "toc_cell": false,
   "toc_position": {
    "height": "calc(100% - 180px)",
    "left": "10px",
    "top": "150px",
    "width": "371px"
   },
   "toc_section_display": true,
   "toc_window_display": true
  }
 },
 "nbformat": 4,
 "nbformat_minor": 4
}
